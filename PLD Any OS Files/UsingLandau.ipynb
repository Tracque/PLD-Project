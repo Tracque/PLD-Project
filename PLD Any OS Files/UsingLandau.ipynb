{
 "cells": [
  {
   "cell_type": "markdown",
   "id": "ae120ec0",
   "metadata": {},
   "source": [
    "**Self Teaching how to use PLD/Landau**\n",
    "\n",
    "Will test my understanding by trying to reproduce the results in the paper for Fig 1.(d). "
   ]
  },
  {
   "cell_type": "markdown",
   "id": "470fafe0",
   "metadata": {},
   "source": [
    "**IMPORTANT NOTE TO SELF: To my understanding, PLD.jl has much more utility when looking at specific processes (where we know certain internal or external masses), whilst Landau.jl has more utility when trying to analyse a more general *class* of diagrams**\n",
    "\n",
    "PLD use case: looking at particular diagrams, e.g. dbox with outer massive loop.\n",
    "\n",
    "Landau use case: looking at a class of diagrams e.g all dbox diagrams "
   ]
  },
  {
   "cell_type": "markdown",
   "id": "23465270",
   "metadata": {},
   "source": [
    "This activates the environment and makes sure we are using the most recent versions of packages"
   ]
  },
  {
   "cell_type": "code",
   "execution_count": 10,
   "id": "914479ad",
   "metadata": {},
   "outputs": [
    {
     "name": "stderr",
     "output_type": "stream",
     "text": [
      "\u001b[32m\u001b[1m  Activating\u001b[22m\u001b[39m project at `C:\\Users\\tristan\\.julia\\environments\\v1.10`\n"
     ]
    }
   ],
   "source": [
    "push!(LOAD_PATH,string(pwd() * \"/src\"))\n",
    "using Pkg; Pkg.activate()"
   ]
  },
  {
   "cell_type": "markdown",
   "id": "3b64f0ef",
   "metadata": {},
   "source": [
    "Now we import the Landau.jl package"
   ]
  },
  {
   "cell_type": "code",
   "execution_count": 11,
   "id": "85611c3e",
   "metadata": {},
   "outputs": [],
   "source": [
    "using Landau"
   ]
  },
  {
   "cell_type": "markdown",
   "id": "64495d0c",
   "metadata": {},
   "source": [
    "Now we define the edges and nodes of the Feynman diagram. Each edge is a 2-tuple, whilst the list of nodes is a list of which vertices have external legs attached (repeated if multiple legs are attached)"
   ]
  },
  {
   "cell_type": "code",
   "execution_count": 26,
   "id": "156d87a0-2a89-4efc-9d75-695aa0dce35c",
   "metadata": {},
   "outputs": [],
   "source": [
    "edges = [[1,2],[1,5], [5,4], [6,5], [2,6], [6,3], [3,4]];\n",
    "nodes = [1,2,3,4];"
   ]
  },
  {
   "cell_type": "markdown",
   "id": "b229fb55",
   "metadata": {},
   "source": [
    "Now compute the Symanzik polynomials"
   ]
  },
  {
   "cell_type": "code",
   "execution_count": 27,
   "id": "a953b5a0",
   "metadata": {},
   "outputs": [
    {
     "name": "stdout",
     "output_type": "stream",
     "text": [
      "F = -(α₁*mm₁ + α₂*mm₂ + α₃*mm₃ + α₄*mm₄ + α₅*mm₅ + α₆*mm₆ + α₇*mm₇)*(α₁*α₃ + α₁*α₄ + α₁*α₆ + α₁*α₇ + α₂*α₄ + α₂*α₆ + α₂*α₇ + α₃*α₂ + α₃*α₄ + α₃*α₅ + α₄*α₆ + α₄*α₇ + α₅*α₄ + α₅*α₆ + α₅*α₇) - (α₁*α₂*α₄ + α₁*α₂*α₆ + α₁*α₂*α₇ + α₁*α₃*α₂ + α₁*α₃*α₄ + α₁*α₃*α₅ + α₁*α₄*α₆ + α₁*α₄*α₇ + α₁*α₅*α₄ + α₁*α₅*α₆ + α₁*α₅*α₇)*p₁₋₂ - (α₁*α₃*α₇ + α₁*α₄*α₇ + α₁*α₇*α₆ + α₂*α₄*α₇ + α₂*α₇*α₆ + α₃*α₂*α₇ + α₃*α₄*α₇ + α₃*α₅*α₇ + α₄*α₇*α₆ + α₅*α₄*α₇ + α₅*α₇*α₆)*p₃₋₄ - (α₁*α₂*α₄ + α₁*α₂*α₆ + α₁*α₂*α₇ + α₁*α₃*α₂ + α₁*α₃*α₄ + α₁*α₃*α₆ + α₁*α₃*α₇ + α₂*α₄*α₆ + α₂*α₄*α₇ + α₂*α₅*α₄ + α₂*α₅*α₆ + α₂*α₅*α₇ + α₃*α₂*α₅ + α₃*α₂*α₆ + α₃*α₂*α₇ + α₃*α₄*α₆ + α₃*α₄*α₇ + α₃*α₅*α₄ + α₃*α₅*α₆ + α₃*α₅*α₇)*p₁₋₄ - (α₁*α₃*α₅ + α₁*α₃*α₆ + α₁*α₄*α₆ + α₁*α₅*α₄ + α₁*α₅*α₆ + α₁*α₅*α₇ + α₁*α₇*α₆ + α₂*α₄*α₆ + α₂*α₅*α₄ + α₂*α₅*α₆ + α₂*α₅*α₇ + α₂*α₇*α₆ + α₃*α₂*α₅ + α₃*α₂*α₆ + α₃*α₄*α₆ + α₃*α₅*α₄ + α₃*α₅*α₆ + α₄*α₇*α₆ + α₅*α₄*α₇ + α₅*α₇*α₆)*p₂₋₃ - (α₁*α₃*α₅ + α₁*α₃*α₆ + α₁*α₃*α₇ + α₁*α₄*α₆ + α₁*α₄*α₇ + α₁*α₅*α₄ + α₁*α₅*α₆ + α₁*α₅*α₇ + α₂*α₄*α₆ + α₂*α₄*α₇ + α₂*α₅*α₄ + α₂*α₅*α₆ + α₂*α₅*α₇ + α₃*α₂*α₅ + α₃*α₂*α₆ + α₃*α₂*α₇ + α₃*α₄*α₆ + α₃*α₄*α₇ + α₃*α₅*α₄ + α₃*α₅*α₆ + α₃*α₅*α₇)*p₂₋₄ - (α₁*α₂*α₄ + α₁*α₂*α₆ + α₁*α₂*α₇ + α₁*α₃*α₂ + α₁*α₃*α₄ + α₁*α₃*α₆ + α₁*α₄*α₇ + α₁*α₇*α₆ + α₂*α₄*α₆ + α₂*α₅*α₄ + α₂*α₅*α₆ + α₂*α₅*α₇ + α₂*α₇*α₆ + α₃*α₂*α₅ + α₃*α₂*α₆ + α₃*α₄*α₆ + α₃*α₅*α₄ + α₃*α₅*α₆ + α₄*α₇*α₆ + α₅*α₄*α₇ + α₅*α₇*α₆)*p₁₋₃\n",
      "--------------\n",
      "U = α₁*α₃ + α₁*α₄ + α₁*α₆ + α₁*α₇ + α₂*α₄ + α₂*α₆ + α₂*α₇ + α₃*α₂ + α₃*α₄ + α₃*α₅ + α₄*α₆ + α₄*α₇ + α₅*α₄ + α₅*α₆ + α₅*α₇\n",
      "--------------\n",
      "mm = Variable[mm₁, mm₂, mm₃, mm₄, mm₅, mm₆, mm₇]\n"
     ]
    }
   ],
   "source": [
    "F, U, α, p, mm = getF(edges, nodes);\n",
    "println(\"F = $F\")\n",
    "println(\"--------------\")\n",
    "println(\"U = $U\")\n",
    "println(\"--------------\")\n",
    "\n",
    "println(\"mm = $mm\")"
   ]
  },
  {
   "cell_type": "markdown",
   "id": "5706f505",
   "metadata": {},
   "source": [
    "Next, use the appropriate substitute function to get this in terms of the masses and Mandelstam invariants"
   ]
  },
  {
   "cell_type": "code",
   "execution_count": 18,
   "id": "af8db7d2",
   "metadata": {},
   "outputs": [
    {
     "name": "stdout",
     "output_type": "stream",
     "text": [
      "F_genericmass = (-1/2)*(-M₁ - M₂ + s)*(α₁*α₃*α₂ + α₁*α₃*α₄ + α₁*α₃*α₅ + α₁*α₃*α₇ + α₃*α₂*α₄ + α₃*α₂*α₆ + α₃*α₄*α₆ + α₃*α₄*α₇ + α₃*α₅*α₄ + α₃*α₅*α₆ + α₃*α₇*α₆) + (-1/2)*(-M₃ - M₄ + s)*(α₁*α₂*α₅ + α₁*α₅*α₄ + α₁*α₅*α₇ + α₂*α₅*α₄ + α₂*α₅*α₆ + α₃*α₂*α₅ + α₃*α₅*α₄ + α₃*α₅*α₇ + α₅*α₄*α₆ + α₅*α₄*α₇ + α₅*α₇*α₆) + (-1/2)*(-M₂ - M₃ + t)*(α₁*α₂*α₆ + α₁*α₂*α₇ + α₁*α₄*α₆ + α₁*α₄*α₇ + α₁*α₅*α₆ + α₁*α₅*α₇ + α₁*α₇*α₆ + α₂*α₄*α₆ + α₂*α₄*α₇ + α₂*α₇*α₆ + α₃*α₂*α₆ + α₃*α₂*α₇ + α₃*α₄*α₆ + α₃*α₄*α₇ + α₃*α₅*α₆ + α₃*α₅*α₇ + α₃*α₇*α₆ + α₅*α₄*α₆ + α₅*α₄*α₇ + α₅*α₇*α₆) + (-1/2)*(-M₁ - M₄ + t)*(α₁*α₂*α₅ + α₁*α₂*α₆ + α₁*α₂*α₇ + α₁*α₃*α₂ + α₁*α₃*α₄ + α₁*α₃*α₅ + α₁*α₃*α₇ + α₁*α₄*α₆ + α₁*α₄*α₇ + α₁*α₅*α₄ + α₁*α₅*α₆ + α₁*α₇*α₆ + α₂*α₄*α₆ + α₂*α₄*α₇ + α₂*α₅*α₄ + α₂*α₅*α₆ + α₂*α₇*α₆ + α₃*α₂*α₄ + α₃*α₂*α₅ + α₃*α₂*α₇) + (-1/2)*(M₁ + M₃ - s - t)*(α₁*α₂*α₅ + α₁*α₂*α₆ + α₁*α₂*α₇ + α₁*α₄*α₆ + α₁*α₄*α₇ + α₁*α₅*α₄ + α₁*α₅*α₆ + α₁*α₇*α₆ + α₂*α₄*α₆ + α₂*α₄*α₇ + α₂*α₅*α₄ + α₂*α₅*α₆ + α₂*α₇*α₆ + α₃*α₂*α₅ + α₃*α₂*α₆ + α₃*α₂*α₇ + α₃*α₄*α₆ + α₃*α₄*α₇ + α₃*α₅*α₄ + α₃*α₅*α₆ + α₃*α₇*α₆) + (-1/2)*(M₂ + M₄ - s - t)*(α₁*α₂*α₆ + α₁*α₂*α₇ + α₁*α₃*α₂ + α₁*α₃*α₄ + α₁*α₃*α₅ + α₁*α₃*α₇ + α₁*α₄*α₆ + α₁*α₄*α₇ + α₁*α₅*α₆ + α₁*α₅*α₇ + α₁*α₇*α₆ + α₂*α₄*α₆ + α₂*α₄*α₇ + α₂*α₇*α₆ + α₃*α₂*α₄ + α₃*α₂*α₇ + α₃*α₅*α₄ + α₃*α₅*α₇ + α₅*α₄*α₆ + α₅*α₄*α₇ + α₅*α₇*α₆) - (m₁*α₁ + m₂*α₂ + m₃*α₃ + m₄*α₄ + m₅*α₅ + m₆*α₆ + m₇*α₇)*(α₁*α₂ + α₁*α₄ + α₁*α₅ + α₁*α₇ + α₂*α₄ + α₂*α₆ + α₃*α₂ + α₃*α₄ + α₃*α₅ + α₃*α₇ + α₄*α₆ + α₄*α₇ + α₅*α₄ + α₅*α₆ + α₇*α₆)\n",
      "-----------------------\n",
      "F_equalmass = -(-M + (1/2)*s)*(α₁*α₃*α₂ + α₁*α₃*α₄ + α₁*α₃*α₅ + α₁*α₃*α₇ + α₃*α₂*α₄ + α₃*α₂*α₆ + α₃*α₄*α₆ + α₃*α₄*α₇ + α₃*α₅*α₄ + α₃*α₅*α₆ + α₃*α₇*α₆) - (-M + (1/2)*s)*(α₁*α₂*α₅ + α₁*α₅*α₄ + α₁*α₅*α₇ + α₂*α₅*α₄ + α₂*α₅*α₆ + α₃*α₂*α₅ + α₃*α₅*α₄ + α₃*α₅*α₇ + α₅*α₄*α₆ + α₅*α₄*α₇ + α₅*α₇*α₆) - (-M + (1/2)*t)*(α₁*α₂*α₅ + α₁*α₂*α₆ + α₁*α₂*α₇ + α₁*α₃*α₂ + α₁*α₃*α₄ + α₁*α₃*α₅ + α₁*α₃*α₇ + α₁*α₄*α₆ + α₁*α₄*α₇ + α₁*α₅*α₄ + α₁*α₅*α₆ + α₁*α₇*α₆ + α₂*α₄*α₆ + α₂*α₄*α₇ + α₂*α₅*α₄ + α₂*α₅*α₆ + α₂*α₇*α₆ + α₃*α₂*α₄ + α₃*α₂*α₅ + α₃*α₂*α₇) - (-M + (1/2)*t)*(α₁*α₂*α₆ + α₁*α₂*α₇ + α₁*α₄*α₆ + α₁*α₄*α₇ + α₁*α₅*α₆ + α₁*α₅*α₇ + α₁*α₇*α₆ + α₂*α₄*α₆ + α₂*α₄*α₇ + α₂*α₇*α₆ + α₃*α₂*α₆ + α₃*α₂*α₇ + α₃*α₄*α₆ + α₃*α₄*α₇ + α₃*α₅*α₆ + α₃*α₅*α₇ + α₃*α₇*α₆ + α₅*α₄*α₆ + α₅*α₄*α₇ + α₅*α₇*α₆) - (-M + (1/2)*(4*M - s - t))*(α₁*α₂*α₅ + α₁*α₂*α₆ + α₁*α₂*α₇ + α₁*α₄*α₆ + α₁*α₄*α₇ + α₁*α₅*α₄ + α₁*α₅*α₆ + α₁*α₇*α₆ + α₂*α₄*α₆ + α₂*α₄*α₇ + α₂*α₅*α₄ + α₂*α₅*α₆ + α₂*α₇*α₆ + α₃*α₂*α₅ + α₃*α₂*α₆ + α₃*α₂*α₇ + α₃*α₄*α₆ + α₃*α₄*α₇ + α₃*α₅*α₄ + α₃*α₅*α₆ + α₃*α₇*α₆) - (-M + (1/2)*(4*M - s - t))*(α₁*α₂*α₆ + α₁*α₂*α₇ + α₁*α₃*α₂ + α₁*α₃*α₄ + α₁*α₃*α₅ + α₁*α₃*α₇ + α₁*α₄*α₆ + α₁*α₄*α₇ + α₁*α₅*α₆ + α₁*α₅*α₇ + α₁*α₇*α₆ + α₂*α₄*α₆ + α₂*α₄*α₇ + α₂*α₇*α₆ + α₃*α₂*α₄ + α₃*α₂*α₇ + α₃*α₅*α₄ + α₃*α₅*α₇ + α₅*α₄*α₆ + α₅*α₄*α₇ + α₅*α₇*α₆) - (m*α₁ + m*α₂ + m*α₃ + m*α₄ + m*α₅ + m*α₆ + m*α₇)*(α₁*α₂ + α₁*α₄ + α₁*α₅ + α₁*α₇ + α₂*α₄ + α₂*α₆ + α₃*α₂ + α₃*α₄ + α₃*α₅ + α₃*α₇ + α₄*α₆ + α₄*α₇ + α₅*α₄ + α₅*α₆ + α₇*α₆)\n"
     ]
    }
   ],
   "source": [
    "F_genericmass, s, t, M, m = substitute4legs(F, p, mm);\n",
    "println(\"F_genericmass = $(F_genericmass)\")\n",
    "println(\"-----------------------\")\n",
    "F_equalmass, s, t, M, m = substitute4legs(F, p, mm; equalM = true, equalm = true);\n",
    "println(\"F_equalmass = $(F_equalmass)\")"
   ]
  },
  {
   "cell_type": "markdown",
   "id": "64658831",
   "metadata": {},
   "source": [
    "Load and use the package HomotopyContinuation.jl to represent the critical point equations of F_G as a system"
   ]
  },
  {
   "cell_type": "code",
   "execution_count": 30,
   "id": "8092c74d",
   "metadata": {},
   "outputs": [
    {
     "data": {
      "text/plain": [
       "System of length 7\n",
       " 20 variables: mm₁, mm₂, mm₃, mm₄, mm₅, mm₆, mm₇, p₁₋₂, p₁₋₃, p₂₋₃, p₁₋₄, p₂₋₄, p₃₋₄, α₁, α₂, α₃, α₄, α₅, α₆, α₇\n",
       "\n",
       " -mm₁*(α₁*α₃ + α₁*α₄ + α₁*α₆ + α₁*α₇ + α₂*α₄ + α₂*α₆ + α₂*α₇ + α₃*α₂ + α₃*α₄ + α₃*α₅ + α₄*α₆ + α₄*α₇ + α₅*α₄ + α₅*α₆ + α₅*α₇) - p₁₋₂*(α₂*α₄ + α₂*α₆ + α₂*α₇ + α₃*α₂ + α₃*α₄ + α₃*α₅ + α₄*α₆ + α₄*α₇ + α₅*α₄ + α₅*α₆ + α₅*α₇) - p₁₋₄*(α₂*α₄ + α₂*α₆ + α₂*α₇ + α₃*α₂ + α₃*α₄ + α₃*α₆ + α₃*α₇) - p₂₋₃*(α₃*α₅ + α₃*α₆ + α₄*α₆ + α₅*α₄ + α₅*α₆ + α₅*α₇ + α₇*α₆) - p₃₋₄*(α₃*α₇ + α₄*α₇ + α₇*α₆) - (α₃ + α₄ + α₆ + α₇)*(α₁*mm₁ + α₂*mm₂ + α₃*mm₃ + α₄*mm₄ + α₅*mm₅ + α₆*mm₆ + α₇*mm₇) - (α₃*α₅ + α₃*α₆ + α₃*α₇ + α₄*α₆ + α₄*α₇ + α₅*α₄ + α₅*α₆ + α₅*α₇)*p₂₋₄ - (α₂*α₄ + α₂*α₆ + α₂*α₇ + α₃*α₂ + α₃*α₄ + α₃*α₆ + α₄*α₇ + α₇*α₆)*p₁₋₃\n",
       " -mm₂*(α₁*α₃ + α₁*α₄ + α₁*α₆ + α₁*α₇ + α₂*α₄ + α₂*α₆ + α₂*α₇ + α₃*α₂ + α₃*α₄ + α₃*α₅ + α₄*α₆ + α₄*α₇ + α₅*α₄ + α₅*α₆ + α₅*α₇) - p₁₋₃*(α₁*α₃ + α₁*α₄ + α₁*α₆ + α₁*α₇ + α₃*α₅ + α₃*α₆ + α₄*α₆ + α₅*α₄ + α₅*α₆ + α₅*α₇ + α₇*α₆) - p₂₋₃*(α₃*α₅ + α₃*α₆ + α₄*α₆ + α₅*α₄ + α₅*α₆ + α₅*α₇ + α₇*α₆) - p₃₋₄*(α₃*α₇ + α₄*α₇ + α₇*α₆) - (α₃ + α₄ + α₆ + α₇)*(α₁*mm₁ + α₂*mm₂ + α₃*mm₃ + α₄*mm₄ + α₅*mm₅ + α₆*mm₆ + α₇*mm₇) - (α₁*α₃ + α₁*α₄ + α₁*α₆ + α₁*α₇)*p₁₋₂ - (α₃*α₅ + α₃*α₆ + α₃*α₇ + α₄*α₆ + α₄*α₇ + α₅*α₄ + α₅*α₆ + α₅*α₇)*p₂₋₄ - (α₁*α₃ + α₁*α₄ + α₁*α₆ + α₁*α₇ + α₃*α₅ + α₃*α₆ + α₃*α₇ + α₄*α₆ + α₄*α₇ + α₅*α₄ + α₅*α₆ + α₅*α₇)*p₁₋₄\n",
       " -mm₃*(α₁*α₃ + α₁*α₄ + α₁*α₆ + α₁*α₇ + α₂*α₄ + α₂*α₆ + α₂*α₇ + α₃*α₂ + α₃*α₄ + α₃*α₅ + α₄*α₆ + α₄*α₇ + α₅*α₄ + α₅*α₆ + α₅*α₇) - p₁₋₂*(α₁*α₂ + α₁*α₄ + α₁*α₅) - p₂₋₃*(α₁*α₅ + α₁*α₆ + α₂*α₅ + α₂*α₆ + α₄*α₆ + α₅*α₄ + α₅*α₆) - p₂₋₄*(α₁*α₅ + α₁*α₆ + α₁*α₇ + α₂*α₅ + α₂*α₆ + α₂*α₇ + α₄*α₆ + α₄*α₇ + α₅*α₄ + α₅*α₆ + α₅*α₇) - (α₁ + α₂ + α₄ + α₅)*(α₁*mm₁ + α₂*mm₂ + α₃*mm₃ + α₄*mm₄ + α₅*mm₅ + α₆*mm₆ + α₇*mm₇) - (α₁*α₇ + α₂*α₇ + α₄*α₇ + α₅*α₇)*p₃₋₄ - (α₁*α₂ + α₁*α₄ + α₁*α₆ + α₂*α₅ + α₂*α₆ + α₄*α₆ + α₅*α₄ + α₅*α₆)*p₁₋₃ - (α₁*α₂ + α₁*α₄ + α₁*α₆ + α₁*α₇ + α₂*α₅ + α₂*α₆ + α₂*α₇ + α₄*α₆ + α₄*α₇ + α₅*α₄ + α₅*α₆ + α₅*α₇)*p₁₋₄\n",
       " -mm₄*(α₁*α₃ + α₁*α₄ + α₁*α₆ + α₁*α₇ + α₂*α₄ + α₂*α₆ + α₂*α₇ + α₃*α₂ + α₃*α₄ + α₃*α₅ + α₄*α₆ + α₄*α₇ + α₅*α₄ + α₅*α₆ + α₅*α₇) - p₁₋₂*(α₁*α₂ + α₁*α₃ + α₁*α₅ + α₁*α₆ + α₁*α₇) - p₁₋₃*(α₁*α₂ + α₁*α₃ + α₁*α₇ + α₂*α₅ + α₂*α₆ + α₃*α₅ + α₃*α₆ + α₅*α₇ + α₇*α₆) - p₂₋₄*(α₁*α₅ + α₁*α₆ + α₁*α₇ + α₂*α₅ + α₂*α₆ + α₂*α₇ + α₃*α₅ + α₃*α₆ + α₃*α₇) - p₃₋₄*(α₁*α₇ + α₂*α₇ + α₃*α₇ + α₅*α₇ + α₇*α₆) - (α₁ + α₂ + α₃ + α₅ + α₆ + α₇)*(α₁*mm₁ + α₂*mm₂ + α₃*mm₃ + α₄*mm₄ + α₅*mm₅ + α₆*mm₆ + α₇*mm₇) - (α₁*α₂ + α₁*α₃ + α₂*α₅ + α₂*α₆ + α₂*α₇ + α₃*α₅ + α₃*α₆ + α₃*α₇)*p₁₋₄ - (α₁*α₅ + α₁*α₆ + α₂*α₅ + α₂*α₆ + α₃*α₅ + α₃*α₆ + α₅*α₇ + α₇*α₆)*p₂₋₃\n",
       " -mm₅*(α₁*α₃ + α₁*α₄ + α₁*α₆ + α₁*α₇ + α₂*α₄ + α₂*α₆ + α₂*α₇ + α₃*α₂ + α₃*α₄ + α₃*α₅ + α₄*α₆ + α₄*α₇ + α₅*α₄ + α₅*α₆ + α₅*α₇) - p₁₋₄*(α₂*α₄ + α₂*α₆ + α₂*α₇ + α₃*α₂ + α₃*α₄ + α₃*α₆ + α₃*α₇) - p₂₋₄*(α₁*α₃ + α₁*α₄ + α₁*α₆ + α₁*α₇ + α₂*α₄ + α₂*α₆ + α₂*α₇ + α₃*α₂ + α₃*α₄ + α₃*α₆ + α₃*α₇) - p₃₋₄*(α₃*α₇ + α₄*α₇ + α₇*α₆) - (α₃ + α₄ + α₆ + α₇)*(α₁*mm₁ + α₂*mm₂ + α₃*mm₃ + α₄*mm₄ + α₅*mm₅ + α₆*mm₆ + α₇*mm₇) - (α₁*α₃ + α₁*α₄ + α₁*α₆ + α₁*α₇)*p₁₋₂ - (α₂*α₄ + α₂*α₆ + α₂*α₇ + α₃*α₂ + α₃*α₄ + α₃*α₆ + α₄*α₇ + α₇*α₆)*p₁₋₃ - (α₁*α₃ + α₁*α₄ + α₁*α₆ + α₁*α₇ + α₂*α₄ + α₂*α₆ + α₂*α₇ + α₃*α₂ + α₃*α₄ + α₃*α₆ + α₄*α₇ + α₇*α₆)*p₂₋₃\n",
       " -mm₆*(α₁*α₃ + α₁*α₄ + α₁*α₆ + α₁*α₇ + α₂*α₄ + α₂*α₆ + α₂*α₇ + α₃*α₂ + α₃*α₄ + α₃*α₅ + α₄*α₆ + α₄*α₇ + α₅*α₄ + α₅*α₆ + α₅*α₇) - p₁₋₂*(α₁*α₂ + α₁*α₄ + α₁*α₅) - p₁₋₃*(α₁*α₂ + α₁*α₃ + α₁*α₇ + α₂*α₄ + α₂*α₅ + α₂*α₇ + α₃*α₂ + α₃*α₄ + α₃*α₅ + α₄*α₇ + α₅*α₇) - p₁₋₄*(α₁*α₂ + α₁*α₃ + α₂*α₄ + α₂*α₅ + α₃*α₂ + α₃*α₄ + α₃*α₅) - (α₁ + α₂ + α₄ + α₅)*(α₁*mm₁ + α₂*mm₂ + α₃*mm₃ + α₄*mm₄ + α₅*mm₅ + α₆*mm₆ + α₇*mm₇) - (α₁*α₇ + α₂*α₇ + α₄*α₇ + α₅*α₇)*p₃₋₄ - (α₁*α₃ + α₁*α₄ + α₁*α₅ + α₂*α₄ + α₂*α₅ + α₃*α₂ + α₃*α₄ + α₃*α₅)*p₂₋₄ - (α₁*α₃ + α₁*α₄ + α₁*α₅ + α₁*α₇ + α₂*α₄ + α₂*α₅ + α₂*α₇ + α₃*α₂ + α₃*α₄ + α₃*α₅ + α₄*α₇ + α₅*α₇)*p₂₋₃\n",
       " -mm₇*(α₁*α₃ + α₁*α₄ + α₁*α₆ + α₁*α₇ + α₂*α₄ + α₂*α₆ + α₂*α₇ + α₃*α₂ + α₃*α₄ + α₃*α₅ + α₄*α₆ + α₄*α₇ + α₅*α₄ + α₅*α₆ + α₅*α₇) - p₁₋₂*(α₁*α₂ + α₁*α₄ + α₁*α₅) - p₁₋₄*(α₁*α₂ + α₁*α₃ + α₂*α₄ + α₂*α₅ + α₃*α₂ + α₃*α₄ + α₃*α₅) - p₂₋₃*(α₁*α₅ + α₁*α₆ + α₂*α₅ + α₂*α₆ + α₄*α₆ + α₅*α₄ + α₅*α₆) - p₃₋₄*(α₁*α₃ + α₁*α₄ + α₁*α₆ + α₂*α₄ + α₂*α₆ + α₃*α₂ + α₃*α₄ + α₃*α₅ + α₄*α₆ + α₅*α₄ + α₅*α₆) - (α₁ + α₂ + α₄ + α₅)*(α₁*mm₁ + α₂*mm₂ + α₃*mm₃ + α₄*mm₄ + α₅*mm₅ + α₆*mm₆ + α₇*mm₇) - (α₁*α₃ + α₁*α₄ + α₁*α₅ + α₂*α₄ + α₂*α₅ + α₃*α₂ + α₃*α₄ + α₃*α₅)*p₂₋₄ - (α₁*α₂ + α₁*α₄ + α₁*α₆ + α₂*α₅ + α₂*α₆ + α₄*α₆ + α₅*α₄ + α₅*α₆)*p₁₋₃"
      ]
     },
     "metadata": {},
     "output_type": "display_data"
    }
   ],
   "source": [
    "LE, α, p, mm = LandauEquations(edges, nodes);\n",
    "using HomotopyContinuation\n",
    "System(LE)"
   ]
  },
  {
   "cell_type": "markdown",
   "id": "7fda662a",
   "metadata": {},
   "source": [
    "Next we find the affine version of these equations"
   ]
  },
  {
   "cell_type": "code",
   "execution_count": 20,
   "id": "5b078979",
   "metadata": {},
   "outputs": [
    {
     "name": "stdout",
     "output_type": "stream",
     "text": [
      "variables: Variable[M₁, M₂, M₃, M₄, m₁, m₂, m₃, m₄, m₅, m₆, m₇, s, t, y, α₁, α₂, α₃, α₄, α₅, α₆]\n",
      "last eq.: -1 + y*α₁*α₃*α₂*α₅*α₄*α₆*(1.0*α₁ + 1.0*α₃ + 1.0*α₄ + 1.0*α₆ + α₁*α₂ + α₁*α₄ + α₁*α₅ + α₂*α₄ + α₂*α₆ + α₃*α₂ + α₃*α₄ + α₃*α₅ + α₄*α₆ + α₅*α₄ + α₅*α₆)\n"
     ]
    }
   ],
   "source": [
    "LE, y, α, p, mm = affineLandauEquations(edges,nodes);\n",
    "LE, s, t, M, m = substitute4legs(LE, p, mm); \n",
    "println(\"variables: $(variables(LE))\")\n",
    "println(\"last eq.: $(LE[end])\")\n"
   ]
  },
  {
   "cell_type": "markdown",
   "id": "78e0c715",
   "metadata": {},
   "source": []
  },
  {
   "cell_type": "code",
   "execution_count": 22,
   "id": "f2f5bbdb",
   "metadata": {},
   "outputs": [
    {
     "name": "stderr",
     "output_type": "stream",
     "text": [
      "\r\u001b[32mComputing mixed cells... 9    Time: 0:00:00\u001b[39m\u001b[K\r\n",
      "\u001b[34m  mixed_volume:  22\u001b[39m\u001b[K\r\u001b[A"
     ]
    },
    {
     "name": "stderr",
     "output_type": "stream",
     "text": [
      "\n",
      "\r\u001b[K\u001b[A\r\u001b[32mComputing mixed cells... 30    Time: 0:00:00\u001b[39m\u001b[K\r\n",
      "\u001b[34m  mixed_volume:  76\u001b[39m\u001b[K\r\u001b[A"
     ]
    },
    {
     "name": "stderr",
     "output_type": "stream",
     "text": [
      "\n",
      "\r\u001b[K\u001b[A\r\u001b[32mComputing mixed cells... 48    Time: 0:00:01\u001b[39m\u001b[K\r\n",
      "\u001b[34m  mixed_volume:  124\u001b[39m\u001b[K\r\u001b[A"
     ]
    },
    {
     "name": "stderr",
     "output_type": "stream",
     "text": [
      "\n",
      "\r\u001b[K\u001b[A\r\u001b[32mComputing mixed cells... 119    Time: 0:00:01\u001b[39m\u001b[K\r\n",
      "\u001b[34m  mixed_volume:  330\u001b[39m\u001b[K\r\u001b[A"
     ]
    },
    {
     "name": "stderr",
     "output_type": "stream",
     "text": [
      "\n",
      "\r\u001b[K\u001b[A\r\u001b[32mComputing mixed cells... 166    Time: 0:00:02\u001b[39m\u001b[K\r\n",
      "\u001b[34m  mixed_volume:  436\u001b[39m\u001b[K\n"
     ]
    },
    {
     "name": "stdout",
     "output_type": "stream",
     "text": [
      "\r\u001b[32mTracking 436 paths...   0%|█                            |  ETA: 1:14:45\u001b[39m\u001b[K\r\n",
      "\u001b[34m  # paths tracked:                  2\u001b[39m\u001b[K\r\n",
      "\u001b[34m  # non-singular solutions (real):  0 (0)\u001b[39m\u001b[K\r\n",
      "\u001b[34m  # singular endpoints (real):      0 (0)\u001b[39m\u001b[K\r\n",
      "\u001b[34m  # total solutions (real):         0 (0)\u001b[39m\u001b[K\r\u001b[A\r\u001b[A\r\u001b[A\r\u001b[A"
     ]
    },
    {
     "name": "stdout",
     "output_type": "stream",
     "text": [
      "\n",
      "\n",
      "\n",
      "\n",
      "\r\u001b[K\u001b[A\r\u001b[K\u001b[A\r\u001b[K\u001b[A\r\u001b[K\u001b[A\r\u001b[32mTracking 436 paths...   3%|█                            |  ETA: 0:11:44\u001b[39m\u001b[K\r\n",
      "\u001b[34m  # paths tracked:                  13\u001b[39m\u001b[K\r\n",
      "\u001b[34m  # non-singular solutions (real):  0 (0)\u001b[39m\u001b[K\r\n",
      "\u001b[34m  # singular endpoints (real):      0 (0)\u001b[39m\u001b[K\r\n",
      "\u001b[34m  # total solutions (real):         0 (0)\u001b[39m\u001b[K\r\u001b[A\r\u001b[A\r\u001b[A\r\u001b[A"
     ]
    },
    {
     "name": "stdout",
     "output_type": "stream",
     "text": [
      "\n",
      "\n",
      "\n",
      "\n",
      "\r\u001b[K\u001b[A\r\u001b[K\u001b[A\r\u001b[K\u001b[A\r\u001b[K\u001b[A\r\u001b[32mTracking 436 paths...   4%|██                           |  ETA: 0:09:33\u001b[39m\u001b[K\r\n",
      "\u001b[34m  # paths tracked:                  16\u001b[39m\u001b[K\r\n",
      "\u001b[34m  # non-singular solutions (real):  0 (0)\u001b[39m\u001b[K\r\n",
      "\u001b[34m  # singular endpoints (real):      0 (0)\u001b[39m\u001b[K\r\n",
      "\u001b[34m  # total solutions (real):         0 (0)\u001b[39m\u001b[K\r\u001b[A\r\u001b[A\r\u001b[A\r\u001b[A"
     ]
    },
    {
     "name": "stdout",
     "output_type": "stream",
     "text": [
      "\n",
      "\n",
      "\n",
      "\n",
      "\r\u001b[K\u001b[A\r\u001b[K\u001b[A\r\u001b[K\u001b[A\r\u001b[K\u001b[A\r\u001b[32mTracking 436 paths...   5%|██                           |  ETA: 0:07:39\u001b[39m\u001b[K\r\n",
      "\u001b[34m  # paths tracked:                  20\u001b[39m\u001b[K\r\n",
      "\u001b[34m  # non-singular solutions (real):  0 (0)\u001b[39m\u001b[K\r\n",
      "\u001b[34m  # singular endpoints (real):      0 (0)\u001b[39m\u001b[K\r\n",
      "\u001b[34m  # total solutions (real):         0 (0)\u001b[39m\u001b[K\r\u001b[A\r\u001b[A\r\u001b[A\r\u001b[A"
     ]
    },
    {
     "name": "stdout",
     "output_type": "stream",
     "text": [
      "\n",
      "\n",
      "\n",
      "\n",
      "\r\u001b[K\u001b[A\r\u001b[K\u001b[A\r\u001b[K\u001b[A\r\u001b[K\u001b[A\r\u001b[32mTracking 436 paths...   6%|██                           |  ETA: 0:06:23\u001b[39m\u001b[K\r\n",
      "\u001b[34m  # paths tracked:                  24\u001b[39m\u001b[K\r\n",
      "\u001b[34m  # non-singular solutions (real):  0 (0)\u001b[39m\u001b[K\r\n",
      "\u001b[34m  # singular endpoints (real):      0 (0)\u001b[39m\u001b[K\r\n",
      "\u001b[34m  # total solutions (real):         0 (0)\u001b[39m\u001b[K\r\u001b[A\r\u001b[A\r\u001b[A\r\u001b[A"
     ]
    },
    {
     "name": "stdout",
     "output_type": "stream",
     "text": [
      "\n",
      "\n",
      "\n",
      "\n",
      "\r\u001b[K\u001b[A\r\u001b[K\u001b[A\r\u001b[K\u001b[A\r\u001b[K\u001b[A\r\u001b[32mTracking 436 paths...   7%|██                           |  ETA: 0:05:07\u001b[39m\u001b[K\r\n",
      "\u001b[34m  # paths tracked:                  30\u001b[39m\u001b[K\r\n",
      "\u001b[34m  # non-singular solutions (real):  0 (0)\u001b[39m\u001b[K\r\n",
      "\u001b[34m  # singular endpoints (real):      0 (0)\u001b[39m\u001b[K\r\n",
      "\u001b[34m  # total solutions (real):         0 (0)\u001b[39m\u001b[K\r\u001b[A\r\u001b[A\r\u001b[A\r\u001b[A"
     ]
    },
    {
     "name": "stdout",
     "output_type": "stream",
     "text": [
      "\n",
      "\n",
      "\n",
      "\n",
      "\r\u001b[K\u001b[A\r\u001b[K\u001b[A\r\u001b[K\u001b[A\r\u001b[K\u001b[A\r\u001b[32mTracking 436 paths...   8%|███                          |  ETA: 0:04:15\u001b[39m\u001b[K\r\n",
      "\u001b[34m  # paths tracked:                  36\u001b[39m\u001b[K\r\n",
      "\u001b[34m  # non-singular solutions (real):  0 (0)\u001b[39m\u001b[K\r\n",
      "\u001b[34m  # singular endpoints (real):      0 (0)\u001b[39m\u001b[K\r\n",
      "\u001b[34m  # total solutions (real):         0 (0)\u001b[39m\u001b[K\r\u001b[A\r\u001b[A\r\u001b[A\r\u001b[A"
     ]
    },
    {
     "name": "stdout",
     "output_type": "stream",
     "text": [
      "\n",
      "\n",
      "\n",
      "\n",
      "\r\u001b[K\u001b[A\r\u001b[K\u001b[A\r\u001b[K\u001b[A\r\u001b[K\u001b[A\r\u001b[32mTracking 436 paths...   9%|███                          |  ETA: 0:03:49\u001b[39m\u001b[K\r\n",
      "\u001b[34m  # paths tracked:                  40\u001b[39m\u001b[K\r\n",
      "\u001b[34m  # non-singular solutions (real):  0 (0)\u001b[39m\u001b[K\r\n",
      "\u001b[34m  # singular endpoints (real):      0 (0)\u001b[39m\u001b[K\r\n",
      "\u001b[34m  # total solutions (real):         0 (0)\u001b[39m\u001b[K\r\u001b[A\r\u001b[A\r\u001b[A\r\u001b[A"
     ]
    },
    {
     "name": "stdout",
     "output_type": "stream",
     "text": [
      "\n",
      "\n",
      "\n",
      "\n",
      "\r\u001b[K\u001b[A\r\u001b[K\u001b[A\r\u001b[K\u001b[A\r\u001b[K\u001b[A\r\u001b[32mTracking 436 paths...  10%|███                          |  ETA: 0:03:28\u001b[39m\u001b[K\r\n",
      "\u001b[34m  # paths tracked:                  44\u001b[39m\u001b[K\r\n",
      "\u001b[34m  # non-singular solutions (real):  0 (0)\u001b[39m\u001b[K\r\n",
      "\u001b[34m  # singular endpoints (real):      0 (0)\u001b[39m\u001b[K\r\n",
      "\u001b[34m  # total solutions (real):         0 (0)\u001b[39m\u001b[K\r\u001b[A\r\u001b[A\r\u001b[A\r\u001b[A"
     ]
    },
    {
     "name": "stdout",
     "output_type": "stream",
     "text": [
      "\n",
      "\n",
      "\n",
      "\n",
      "\r\u001b[K\u001b[A\r\u001b[K\u001b[A\r\u001b[K\u001b[A\r\u001b[K\u001b[A\r\u001b[32mTracking 436 paths...  11%|████                         |  ETA: 0:03:06\u001b[39m\u001b[K\r\n",
      "\u001b[34m  # paths tracked:                  49\u001b[39m\u001b[K\r\n",
      "\u001b[34m  # non-singular solutions (real):  0 (0)\u001b[39m\u001b[K\r\n",
      "\u001b[34m  # singular endpoints (real):      0 (0)\u001b[39m\u001b[K\r\n",
      "\u001b[34m  # total solutions (real):         0 (0)\u001b[39m\u001b[K\r\u001b[A\r\u001b[A\r\u001b[A\r\u001b[A"
     ]
    },
    {
     "name": "stdout",
     "output_type": "stream",
     "text": [
      "\n",
      "\n",
      "\n",
      "\n",
      "\r\u001b[K\u001b[A\r\u001b[K\u001b[A\r\u001b[K\u001b[A\r\u001b[K\u001b[A\r\u001b[32mTracking 436 paths...  13%|████                         |  ETA: 0:02:46\u001b[39m\u001b[K\r\n",
      "\u001b[34m  # paths tracked:                  55\u001b[39m\u001b[K\r\n",
      "\u001b[34m  # non-singular solutions (real):  0 (0)\u001b[39m\u001b[K\r\n",
      "\u001b[34m  # singular endpoints (real):      0 (0)\u001b[39m\u001b[K\r\n",
      "\u001b[34m  # total solutions (real):         0 (0)\u001b[39m\u001b[K"
     ]
    },
    {
     "name": "stdout",
     "output_type": "stream",
     "text": [
      "\r\u001b[A\r\u001b[A\r\u001b[A\r\u001b[A\n",
      "\n",
      "\n",
      "\n",
      "\r\u001b[K\u001b[A\r\u001b[K\u001b[A\r\u001b[K\u001b[A\r\u001b[K\u001b[A\r\u001b[32mTracking 436 paths...  14%|████                         |  ETA: 0:02:31\u001b[39m\u001b[K\r\n",
      "\u001b[34m  # paths tracked:                  60\u001b[39m\u001b[K\r\n",
      "\u001b[34m  # non-singular solutions (real):  0 (0)\u001b[39m\u001b[K\r\n",
      "\u001b[34m  # singular endpoints (real):      0 (0)\u001b[39m\u001b[K\r\n",
      "\u001b[34m  # total solutions (real):         0 (0)\u001b[39m\u001b[K\r\u001b[A\r\u001b[A\r\u001b[A\r\u001b[A"
     ]
    },
    {
     "name": "stdout",
     "output_type": "stream",
     "text": [
      "\n",
      "\n",
      "\n",
      "\n",
      "\r\u001b[K\u001b[A\r\u001b[K\u001b[A\r\u001b[K\u001b[A\r\u001b[K\u001b[A\r\u001b[32mTracking 436 paths...  15%|█████                        |  ETA: 0:02:17\u001b[39m\u001b[K\r\n",
      "\u001b[34m  # paths tracked:                  66\u001b[39m\u001b[K\r\n",
      "\u001b[34m  # non-singular solutions (real):  0 (0)\u001b[39m\u001b[K\r\n",
      "\u001b[34m  # singular endpoints (real):      0 (0)\u001b[39m\u001b[K\r\n",
      "\u001b[34m  # total solutions (real):         0 (0)\u001b[39m\u001b[K\r\u001b[A\r\u001b[A\r\u001b[A\r\u001b[A"
     ]
    },
    {
     "name": "stdout",
     "output_type": "stream",
     "text": [
      "\n",
      "\n",
      "\n",
      "\n",
      "\r\u001b[K\u001b[A\r\u001b[K\u001b[A\r\u001b[K\u001b[A\r\u001b[K\u001b[A\r\u001b[32mTracking 436 paths...  16%|█████                        |  ETA: 0:02:07\u001b[39m\u001b[K\r\n",
      "\u001b[34m  # paths tracked:                  71\u001b[39m\u001b[K\r\n",
      "\u001b[34m  # non-singular solutions (real):  1 (0)\u001b[39m\u001b[K\r\n",
      "\u001b[34m  # singular endpoints (real):      0 (0)\u001b[39m\u001b[K\r\n",
      "\u001b[34m  # total solutions (real):         1 (0)\u001b[39m\u001b[K\r\u001b[A\r\u001b[A\r\u001b[A\r\u001b[A"
     ]
    },
    {
     "name": "stdout",
     "output_type": "stream",
     "text": [
      "\n",
      "\n",
      "\n",
      "\n",
      "\r\u001b[K\u001b[A\r\u001b[K\u001b[A\r\u001b[K\u001b[A\r\u001b[K\u001b[A\r\u001b[32mTracking 436 paths...  17%|█████                        |  ETA: 0:02:00\u001b[39m\u001b[K\r\n",
      "\u001b[34m  # paths tracked:                  75\u001b[39m\u001b[K\r\n",
      "\u001b[34m  # non-singular solutions (real):  1 (0)\u001b[39m\u001b[K\r\n",
      "\u001b[34m  # singular endpoints (real):      0 (0)\u001b[39m\u001b[K\r\n",
      "\u001b[34m  # total solutions (real):         1 (0)\u001b[39m\u001b[K\r\u001b[A\r\u001b[A\r\u001b[A\r\u001b[A"
     ]
    },
    {
     "name": "stdout",
     "output_type": "stream",
     "text": [
      "\n",
      "\n",
      "\n",
      "\n",
      "\r\u001b[K\u001b[A\r\u001b[K\u001b[A\r\u001b[K\u001b[A\r\u001b[K\u001b[A\r\u001b[32mTracking 436 paths...  18%|██████                       |  ETA: 0:01:56\u001b[39m\u001b[K\r\n",
      "\u001b[34m  # paths tracked:                  78\u001b[39m\u001b[K\r\n",
      "\u001b[34m  # non-singular solutions (real):  2 (0)\u001b[39m\u001b[K\r\n",
      "\u001b[34m  # singular endpoints (real):      0 (0)\u001b[39m\u001b[K\r\n",
      "\u001b[34m  # total solutions (real):         2 (0)\u001b[39m\u001b[K\r\u001b[A\r\u001b[A\r\u001b[A\r\u001b[A"
     ]
    },
    {
     "name": "stdout",
     "output_type": "stream",
     "text": [
      "\n",
      "\n",
      "\n",
      "\n",
      "\r\u001b[K\u001b[A\r\u001b[K\u001b[A\r\u001b[K\u001b[A\r\u001b[K\u001b[A\r\u001b[32mTracking 436 paths...  19%|██████                       |  ETA: 0:01:47\u001b[39m\u001b[K\r\n",
      "\u001b[34m  # paths tracked:                  84\u001b[39m\u001b[K\r\n",
      "\u001b[34m  # non-singular solutions (real):  2 (0)\u001b[39m\u001b[K\r\n",
      "\u001b[34m  # singular endpoints (real):      0 (0)\u001b[39m\u001b[K\r\n",
      "\u001b[34m  # total solutions (real):         2 (0)\u001b[39m\u001b[K\r\u001b[A\r\u001b[A\r\u001b[A\r\u001b[A"
     ]
    },
    {
     "name": "stdout",
     "output_type": "stream",
     "text": [
      "\n",
      "\n",
      "\n",
      "\n",
      "\r\u001b[K\u001b[A\r\u001b[K\u001b[A\r\u001b[K\u001b[A\r\u001b[K\u001b[A\r\u001b[32mTracking 436 paths...  21%|██████                       |  ETA: 0:01:39\u001b[39m\u001b[K\r\n",
      "\u001b[34m  # paths tracked:                  90\u001b[39m\u001b[K\r\n",
      "\u001b[34m  # non-singular solutions (real):  2 (0)\u001b[39m\u001b[K\r\n",
      "\u001b[34m  # singular endpoints (real):      0 (0)\u001b[39m\u001b[K\r\n",
      "\u001b[34m  # total solutions (real):         2 (0)\u001b[39m\u001b[K\r\u001b[A\r\u001b[A\r\u001b[A\r\u001b[A"
     ]
    },
    {
     "name": "stdout",
     "output_type": "stream",
     "text": [
      "\n",
      "\n",
      "\n",
      "\n",
      "\r\u001b[K\u001b[A\r\u001b[K\u001b[A\r\u001b[K\u001b[A\r\u001b[K\u001b[A\r\u001b[32mTracking 436 paths...  22%|███████                      |  ETA: 0:01:33\u001b[39m\u001b[K\r\n",
      "\u001b[34m  # paths tracked:                  95\u001b[39m\u001b[K\r\n",
      "\u001b[34m  # non-singular solutions (real):  3 (0)\u001b[39m\u001b[K\r\n",
      "\u001b[34m  # singular endpoints (real):      0 (0)\u001b[39m\u001b[K\r\n",
      "\u001b[34m  # total solutions (real):         3 (0)\u001b[39m\u001b[K\r\u001b[A\r\u001b[A\r\u001b[A\r\u001b[A"
     ]
    },
    {
     "name": "stdout",
     "output_type": "stream",
     "text": [
      "\n",
      "\n",
      "\n",
      "\n",
      "\r\u001b[K\u001b[A\r\u001b[K\u001b[A\r\u001b[K\u001b[A\r\u001b[K\u001b[A\r\u001b[32mTracking 436 paths...  23%|███████                      |  ETA: 0:01:26\u001b[39m\u001b[K\r\n",
      "\u001b[34m  # paths tracked:                  102\u001b[39m\u001b[K\r\n",
      "\u001b[34m  # non-singular solutions (real):  4 (0)\u001b[39m\u001b[K\r\n",
      "\u001b[34m  # singular endpoints (real):      0 (0)\u001b[39m\u001b[K\r\n",
      "\u001b[34m  # total solutions (real):         4 (0)\u001b[39m\u001b[K\r\u001b[A\r\u001b[A\r\u001b[A\r\u001b[A"
     ]
    },
    {
     "name": "stdout",
     "output_type": "stream",
     "text": [
      "\n",
      "\n",
      "\n",
      "\n",
      "\r\u001b[K\u001b[A\r\u001b[K\u001b[A\r\u001b[K\u001b[A\r\u001b[K\u001b[A\r\u001b[32mTracking 436 paths...  25%|████████                     |  ETA: 0:01:22\u001b[39m\u001b[K\r\n",
      "\u001b[34m  # paths tracked:                  107\u001b[39m\u001b[K\r\n",
      "\u001b[34m  # non-singular solutions (real):  4 (0)\u001b[39m\u001b[K\r\n",
      "\u001b[34m  # singular endpoints (real):      0 (0)\u001b[39m\u001b[K\r\n",
      "\u001b[34m  # total solutions (real):         4 (0)\u001b[39m\u001b[K\r\u001b[A\r\u001b[A\r\u001b[A\r\u001b[A"
     ]
    },
    {
     "name": "stdout",
     "output_type": "stream",
     "text": [
      "\n",
      "\n",
      "\n",
      "\n",
      "\r\u001b[K\u001b[A\r\u001b[K\u001b[A\r\u001b[K\u001b[A\r\u001b[K\u001b[A\r\u001b[32mTracking 436 paths...  26%|████████                     |  ETA: 0:01:17\u001b[39m\u001b[K\r\n",
      "\u001b[34m  # paths tracked:                  112\u001b[39m\u001b[K\r\n",
      "\u001b[34m  # non-singular solutions (real):  4 (0)\u001b[39m\u001b[K\r\n",
      "\u001b[34m  # singular endpoints (real):      0 (0)\u001b[39m\u001b[K\r\n",
      "\u001b[34m  # total solutions (real):         4 (0)\u001b[39m\u001b[K\r\u001b[A\r\u001b[A\r\u001b[A\r\u001b[A"
     ]
    },
    {
     "name": "stdout",
     "output_type": "stream",
     "text": [
      "\n",
      "\n",
      "\n",
      "\n",
      "\r\u001b[K\u001b[A\r\u001b[K\u001b[A\r\u001b[K\u001b[A\r\u001b[K\u001b[A\r\u001b[32mTracking 436 paths...  27%|████████                     |  ETA: 0:01:15\u001b[39m\u001b[K\r\n",
      "\u001b[34m  # paths tracked:                  116\u001b[39m\u001b[K\r\n",
      "\u001b[34m  # non-singular solutions (real):  4 (0)\u001b[39m\u001b[K\r\n",
      "\u001b[34m  # singular endpoints (real):      0 (0)\u001b[39m\u001b[K\r\n",
      "\u001b[34m  # total solutions (real):         4 (0)\u001b[39m\u001b[K\r\u001b[A\r\u001b[A\r\u001b[A\r\u001b[A"
     ]
    },
    {
     "name": "stdout",
     "output_type": "stream",
     "text": [
      "\n",
      "\n",
      "\n",
      "\n",
      "\r\u001b[K\u001b[A\r\u001b[K\u001b[A\r\u001b[K\u001b[A\r\u001b[K\u001b[A\r\u001b[32mTracking 436 paths...  28%|█████████                    |  ETA: 0:01:11\u001b[39m\u001b[K\r\n",
      "\u001b[34m  # paths tracked:                  121\u001b[39m\u001b[K\r\n",
      "\u001b[34m  # non-singular solutions (real):  4 (0)\u001b[39m\u001b[K\r\n",
      "\u001b[34m  # singular endpoints (real):      0 (0)\u001b[39m\u001b[K\r\n",
      "\u001b[34m  # total solutions (real):         4 (0)\u001b[39m\u001b[K\r\u001b[A\r\u001b[A\r\u001b[A\r\u001b[A"
     ]
    },
    {
     "name": "stdout",
     "output_type": "stream",
     "text": [
      "\n",
      "\n",
      "\n",
      "\n",
      "\r\u001b[K\u001b[A\r\u001b[K\u001b[A\r\u001b[K\u001b[A\r\u001b[K\u001b[A\r\u001b[32mTracking 436 paths...  29%|█████████                    |  ETA: 0:01:07\u001b[39m\u001b[K\r\n",
      "\u001b[34m  # paths tracked:                  128\u001b[39m\u001b[K\r\n",
      "\u001b[34m  # non-singular solutions (real):  4 (0)\u001b[39m\u001b[K\r\n",
      "\u001b[34m  # singular endpoints (real):      0 (0)\u001b[39m\u001b[K\r\n",
      "\u001b[34m  # total solutions (real):         4 (0)\u001b[39m\u001b[K\r\u001b[A\r\u001b[A\r\u001b[A\r\u001b[A"
     ]
    },
    {
     "name": "stdout",
     "output_type": "stream",
     "text": [
      "\n",
      "\n",
      "\n",
      "\n",
      "\r\u001b[K\u001b[A\r\u001b[K\u001b[A\r\u001b[K\u001b[A\r\u001b[K\u001b[A\r\u001b[32mTracking 436 paths...  31%|█████████                    |  ETA: 0:01:03\u001b[39m\u001b[K\r\n",
      "\u001b[34m  # paths tracked:                  134\u001b[39m\u001b[K\r\n",
      "\u001b[34m  # non-singular solutions (real):  5 (0)\u001b[39m\u001b[K\r\n",
      "\u001b[34m  # singular endpoints (real):      0 (0)\u001b[39m\u001b[K\r\n",
      "\u001b[34m  # total solutions (real):         5 (0)\u001b[39m\u001b[K\r\u001b[A\r\u001b[A\r\u001b[A\r\u001b[A"
     ]
    },
    {
     "name": "stdout",
     "output_type": "stream",
     "text": [
      "\n",
      "\n",
      "\n",
      "\n",
      "\r\u001b[K\u001b[A\r\u001b[K\u001b[A\r\u001b[K\u001b[A\r\u001b[K\u001b[A\r\u001b[32mTracking 436 paths...  32%|██████████                   |  ETA: 0:01:00\u001b[39m\u001b[K\r\n",
      "\u001b[34m  # paths tracked:                  140\u001b[39m\u001b[K\r\n",
      "\u001b[34m  # non-singular solutions (real):  5 (0)\u001b[39m\u001b[K\r\n",
      "\u001b[34m  # singular endpoints (real):      0 (0)\u001b[39m\u001b[K\r\n",
      "\u001b[34m  # total solutions (real):         5 (0)\u001b[39m\u001b[K\r\u001b[A\r\u001b[A\r\u001b[A\r\u001b[A"
     ]
    },
    {
     "name": "stdout",
     "output_type": "stream",
     "text": [
      "\n",
      "\n",
      "\n",
      "\n",
      "\r\u001b[K\u001b[A\r\u001b[K\u001b[A\r\u001b[K\u001b[A\r\u001b[K\u001b[A\r\u001b[32mTracking 436 paths...  33%|██████████                   |  ETA: 0:00:57\u001b[39m\u001b[K\r\n",
      "\u001b[34m  # paths tracked:                  145\u001b[39m\u001b[K\r\n",
      "\u001b[34m  # non-singular solutions (real):  5 (0)\u001b[39m\u001b[K\r\n",
      "\u001b[34m  # singular endpoints (real):      0 (0)\u001b[39m\u001b[K\r\n",
      "\u001b[34m  # total solutions (real):         5 (0)\u001b[39m\u001b[K\r\u001b[A\r\u001b[A\r\u001b[A\r\u001b[A"
     ]
    },
    {
     "name": "stdout",
     "output_type": "stream",
     "text": [
      "\n",
      "\n",
      "\n",
      "\n",
      "\r\u001b[K\u001b[A\r\u001b[K\u001b[A\r\u001b[K\u001b[A\r\u001b[K\u001b[A\r\u001b[32mTracking 436 paths...  35%|███████████                  |  ETA: 0:00:54\u001b[39m\u001b[K\r\n",
      "\u001b[34m  # paths tracked:                  151\u001b[39m\u001b[K\r\n",
      "\u001b[34m  # non-singular solutions (real):  5 (0)\u001b[39m\u001b[K\r\n",
      "\u001b[34m  # singular endpoints (real):      0 (0)\u001b[39m\u001b[K\r\n",
      "\u001b[34m  # total solutions (real):         5 (0)\u001b[39m\u001b[K\r\u001b[A\r\u001b[A\r\u001b[A\r\u001b[A"
     ]
    },
    {
     "name": "stdout",
     "output_type": "stream",
     "text": [
      "\n",
      "\n",
      "\n",
      "\n",
      "\r\u001b[K\u001b[A\r\u001b[K\u001b[A\r\u001b[K\u001b[A\r\u001b[K\u001b[A\r\u001b[32mTracking 436 paths...  36%|███████████                  |  ETA: 0:00:52\u001b[39m\u001b[K\r\n",
      "\u001b[34m  # paths tracked:                  156\u001b[39m\u001b[K\r\n",
      "\u001b[34m  # non-singular solutions (real):  5 (0)\u001b[39m\u001b[K\r\n",
      "\u001b[34m  # singular endpoints (real):      0 (0)\u001b[39m\u001b[K\r\n",
      "\u001b[34m  # total solutions (real):         5 (0)\u001b[39m\u001b[K\r\u001b[A\r\u001b[A\r\u001b[A\r\u001b[A"
     ]
    },
    {
     "name": "stdout",
     "output_type": "stream",
     "text": [
      "\n",
      "\n",
      "\n",
      "\n",
      "\r\u001b[K\u001b[A\r\u001b[K\u001b[A\r\u001b[K\u001b[A\r\u001b[K\u001b[A\r\u001b[32mTracking 436 paths...  37%|███████████                  |  ETA: 0:00:49\u001b[39m\u001b[K\r\n",
      "\u001b[34m  # paths tracked:                  162\u001b[39m\u001b[K\r\n",
      "\u001b[34m  # non-singular solutions (real):  5 (0)\u001b[39m\u001b[K\r\n",
      "\u001b[34m  # singular endpoints (real):      0 (0)\u001b[39m\u001b[K\r\n",
      "\u001b[34m  # total solutions (real):         5 (0)\u001b[39m\u001b[K\r\u001b[A\r\u001b[A\r\u001b[A\r\u001b[A"
     ]
    },
    {
     "name": "stdout",
     "output_type": "stream",
     "text": [
      "\n",
      "\n",
      "\n",
      "\n",
      "\r\u001b[K\u001b[A\r\u001b[K\u001b[A\r\u001b[K\u001b[A\r\u001b[K\u001b[A\r\u001b[32mTracking 436 paths...  38%|████████████                 |  ETA: 0:00:47\u001b[39m\u001b[K\r\n",
      "\u001b[34m  # paths tracked:                  167\u001b[39m\u001b[K\r\n",
      "\u001b[34m  # non-singular solutions (real):  5 (0)\u001b[39m\u001b[K\r\n",
      "\u001b[34m  # singular endpoints (real):      0 (0)\u001b[39m\u001b[K\r\n",
      "\u001b[34m  # total solutions (real):         5 (0)\u001b[39m\u001b[K\r\u001b[A\r\u001b[A\r\u001b[A\r\u001b[A"
     ]
    },
    {
     "name": "stdout",
     "output_type": "stream",
     "text": [
      "\n",
      "\n",
      "\n",
      "\n",
      "\r\u001b[K\u001b[A\r\u001b[K\u001b[A\r\u001b[K\u001b[A\r\u001b[K\u001b[A\r\u001b[32mTracking 436 paths...  39%|████████████                 |  ETA: 0:00:46\u001b[39m\u001b[K\r\n",
      "\u001b[34m  # paths tracked:                  172\u001b[39m\u001b[K\r\n",
      "\u001b[34m  # non-singular solutions (real):  6 (0)\u001b[39m\u001b[K\r\n",
      "\u001b[34m  # singular endpoints (real):      0 (0)\u001b[39m\u001b[K\r\n",
      "\u001b[34m  # total solutions (real):         6 (0)\u001b[39m\u001b[K\r\u001b[A\r\u001b[A\r\u001b[A\r\u001b[A"
     ]
    },
    {
     "name": "stdout",
     "output_type": "stream",
     "text": [
      "\n",
      "\n",
      "\n",
      "\n",
      "\r\u001b[K\u001b[A\r\u001b[K\u001b[A\r\u001b[K\u001b[A\r\u001b[K\u001b[A\r\u001b[32mTracking 436 paths...  41%|████████████                 |  ETA: 0:00:44\u001b[39m\u001b[K\r\n",
      "\u001b[34m  # paths tracked:                  177\u001b[39m\u001b[K\r\n",
      "\u001b[34m  # non-singular solutions (real):  6 (0)\u001b[39m\u001b[K\r\n",
      "\u001b[34m  # singular endpoints (real):      0 (0)\u001b[39m\u001b[K\r\n",
      "\u001b[34m  # total solutions (real):         6 (0)\u001b[39m\u001b[K\r\u001b[A\r\u001b[A\r\u001b[A\r\u001b[A"
     ]
    },
    {
     "name": "stdout",
     "output_type": "stream",
     "text": [
      "\n",
      "\n",
      "\n",
      "\n",
      "\r\u001b[K\u001b[A\r\u001b[K\u001b[A\r\u001b[K\u001b[A\r\u001b[K\u001b[A\r\u001b[32mTracking 436 paths...  42%|█████████████                |  ETA: 0:00:42\u001b[39m\u001b[K\r\n",
      "\u001b[34m  # paths tracked:                  184\u001b[39m\u001b[K\r\n",
      "\u001b[34m  # non-singular solutions (real):  6 (0)\u001b[39m\u001b[K\r\n",
      "\u001b[34m  # singular endpoints (real):      0 (0)\u001b[39m\u001b[K\r\n",
      "\u001b[34m  # total solutions (real):         6 (0)\u001b[39m\u001b[K\r\u001b[A\r\u001b[A\r\u001b[A\r\u001b[A"
     ]
    },
    {
     "name": "stdout",
     "output_type": "stream",
     "text": [
      "\n",
      "\n",
      "\n",
      "\n",
      "\r\u001b[K\u001b[A\r\u001b[K\u001b[A\r\u001b[K\u001b[A\r\u001b[K\u001b[A\r\u001b[32mTracking 436 paths...  44%|█████████████                |  ETA: 0:00:40\u001b[39m\u001b[K\r\n",
      "\u001b[34m  # paths tracked:                  190\u001b[39m\u001b[K\r\n",
      "\u001b[34m  # non-singular solutions (real):  6 (0)\u001b[39m\u001b[K\r\n",
      "\u001b[34m  # singular endpoints (real):      0 (0)\u001b[39m\u001b[K\r\n",
      "\u001b[34m  # total solutions (real):         6 (0)\u001b[39m\u001b[K\r\u001b[A\r\u001b[A\r\u001b[A\r\u001b[A"
     ]
    },
    {
     "name": "stdout",
     "output_type": "stream",
     "text": [
      "\n",
      "\n",
      "\n",
      "\n",
      "\r\u001b[K\u001b[A\r\u001b[K\u001b[A\r\u001b[K\u001b[A\r\u001b[K\u001b[A\r\u001b[32mTracking 436 paths...  45%|█████████████                |  ETA: 0:00:38\u001b[39m\u001b[K\r\n",
      "\u001b[34m  # paths tracked:                  195\u001b[39m\u001b[K\r\n",
      "\u001b[34m  # non-singular solutions (real):  6 (0)\u001b[39m\u001b[K\r\n",
      "\u001b[34m  # singular endpoints (real):      0 (0)\u001b[39m\u001b[K\r\n",
      "\u001b[34m  # total solutions (real):         6 (0)\u001b[39m\u001b[K\r\u001b[A\r\u001b[A\r\u001b[A\r\u001b[A"
     ]
    },
    {
     "name": "stdout",
     "output_type": "stream",
     "text": [
      "\n",
      "\n",
      "\n",
      "\n",
      "\r\u001b[K\u001b[A\r\u001b[K\u001b[A\r\u001b[K\u001b[A\r\u001b[K\u001b[A\r\u001b[32mTracking 436 paths...  46%|██████████████               |  ETA: 0:00:37\u001b[39m\u001b[K\r\n",
      "\u001b[34m  # paths tracked:                  200\u001b[39m\u001b[K\r\n",
      "\u001b[34m  # non-singular solutions (real):  8 (0)\u001b[39m\u001b[K\r\n",
      "\u001b[34m  # singular endpoints (real):      0 (0)\u001b[39m\u001b[K\r\n",
      "\u001b[34m  # total solutions (real):         8 (0)\u001b[39m\u001b[K\r\u001b[A\r\u001b[A\r\u001b[A\r\u001b[A"
     ]
    },
    {
     "name": "stdout",
     "output_type": "stream",
     "text": [
      "\n",
      "\n",
      "\n",
      "\n",
      "\r\u001b[K\u001b[A\r\u001b[K\u001b[A\r\u001b[K\u001b[A\r\u001b[K\u001b[A\r\u001b[32mTracking 436 paths...  47%|██████████████               |  ETA: 0:00:35\u001b[39m\u001b[K\r\n",
      "\u001b[34m  # paths tracked:                  206\u001b[39m\u001b[K\r\n",
      "\u001b[34m  # non-singular solutions (real):  8 (0)\u001b[39m\u001b[K\r\n",
      "\u001b[34m  # singular endpoints (real):      0 (0)\u001b[39m\u001b[K\r\n",
      "\u001b[34m  # total solutions (real):         8 (0)\u001b[39m\u001b[K\r\u001b[A\r\u001b[A\r\u001b[A\r\u001b[A"
     ]
    },
    {
     "name": "stdout",
     "output_type": "stream",
     "text": [
      "\n",
      "\n",
      "\n",
      "\n",
      "\r\u001b[K\u001b[A\r\u001b[K\u001b[A\r\u001b[K\u001b[A\r\u001b[K\u001b[A\r\u001b[32mTracking 436 paths...  48%|██████████████               |  ETA: 0:00:34\u001b[39m\u001b[K\r\n",
      "\u001b[34m  # paths tracked:                  210\u001b[39m\u001b[K\r\n",
      "\u001b[34m  # non-singular solutions (real):  8 (0)\u001b[39m\u001b[K\r\n",
      "\u001b[34m  # singular endpoints (real):      0 (0)\u001b[39m\u001b[K\r\n",
      "\u001b[34m  # total solutions (real):         8 (0)\u001b[39m\u001b[K\r\u001b[A\r\u001b[A\r\u001b[A\r\u001b[A"
     ]
    },
    {
     "name": "stdout",
     "output_type": "stream",
     "text": [
      "\n",
      "\n",
      "\n",
      "\n",
      "\r\u001b[K\u001b[A\r\u001b[K\u001b[A\r\u001b[K\u001b[A\r\u001b[K\u001b[A\r\u001b[32mTracking 436 paths...  49%|███████████████              |  ETA: 0:00:33\u001b[39m\u001b[K\r\n",
      "\u001b[34m  # paths tracked:                  215\u001b[39m\u001b[K\r\n",
      "\u001b[34m  # non-singular solutions (real):  8 (0)\u001b[39m\u001b[K\r\n",
      "\u001b[34m  # singular endpoints (real):      0 (0)\u001b[39m\u001b[K\r\n",
      "\u001b[34m  # total solutions (real):         8 (0)\u001b[39m\u001b[K\r\u001b[A\r\u001b[A\r\u001b[A\r\u001b[A"
     ]
    },
    {
     "name": "stdout",
     "output_type": "stream",
     "text": [
      "\n",
      "\n",
      "\n",
      "\n",
      "\r\u001b[K\u001b[A\r\u001b[K\u001b[A\r\u001b[K\u001b[A\r\u001b[K\u001b[A\r\u001b[32mTracking 436 paths...  50%|███████████████              |  ETA: 0:00:32\u001b[39m\u001b[K\r\n",
      "\u001b[34m  # paths tracked:                  220\u001b[39m\u001b[K\r\n",
      "\u001b[34m  # non-singular solutions (real):  8 (0)\u001b[39m\u001b[K\r\n",
      "\u001b[34m  # singular endpoints (real):      0 (0)\u001b[39m\u001b[K\r\n",
      "\u001b[34m  # total solutions (real):         8 (0)\u001b[39m\u001b[K\r\u001b[A\r\u001b[A\r\u001b[A\r\u001b[A"
     ]
    },
    {
     "name": "stdout",
     "output_type": "stream",
     "text": [
      "\n",
      "\n",
      "\n",
      "\n",
      "\r\u001b[K\u001b[A\r\u001b[K\u001b[A\r\u001b[K\u001b[A\r\u001b[K\u001b[A\r\u001b[32mTracking 436 paths...  52%|███████████████              |  ETA: 0:00:30\u001b[39m\u001b[K\r\n",
      "\u001b[34m  # paths tracked:                  225\u001b[39m\u001b[K\r\n",
      "\u001b[34m  # non-singular solutions (real):  8 (0)\u001b[39m\u001b[K\r\n",
      "\u001b[34m  # singular endpoints (real):      0 (0)\u001b[39m\u001b[K\r\n",
      "\u001b[34m  # total solutions (real):         8 (0)\u001b[39m\u001b[K\r\u001b[A\r\u001b[A\r\u001b[A\r\u001b[A"
     ]
    },
    {
     "name": "stdout",
     "output_type": "stream",
     "text": [
      "\n",
      "\n",
      "\n",
      "\n",
      "\r\u001b[K\u001b[A\r\u001b[K\u001b[A\r\u001b[K\u001b[A\r\u001b[K\u001b[A\r\u001b[32mTracking 436 paths...  53%|████████████████             |  ETA: 0:00:29\u001b[39m\u001b[K\r\n",
      "\u001b[34m  # paths tracked:                  230\u001b[39m\u001b[K\r\n",
      "\u001b[34m  # non-singular solutions (real):  8 (0)\u001b[39m\u001b[K\r\n",
      "\u001b[34m  # singular endpoints (real):      0 (0)\u001b[39m\u001b[K\r\n",
      "\u001b[34m  # total solutions (real):         8 (0)\u001b[39m\u001b[K\r\u001b[A\r\u001b[A\r\u001b[A\r\u001b[A"
     ]
    },
    {
     "name": "stdout",
     "output_type": "stream",
     "text": [
      "\n",
      "\n",
      "\n",
      "\n",
      "\r\u001b[K\u001b[A\r\u001b[K\u001b[A\r\u001b[K\u001b[A\r\u001b[K\u001b[A\r\u001b[32mTracking 436 paths...  53%|████████████████             |  ETA: 0:00:29\u001b[39m\u001b[K\r\n",
      "\u001b[34m  # paths tracked:                  233\u001b[39m\u001b[K\r\n",
      "\u001b[34m  # non-singular solutions (real):  8 (0)\u001b[39m\u001b[K\r\n",
      "\u001b[34m  # singular endpoints (real):      0 (0)\u001b[39m\u001b[K\r\n",
      "\u001b[34m  # total solutions (real):         8 (0)\u001b[39m\u001b[K\r\u001b[A\r\u001b[A\r\u001b[A\r\u001b[A"
     ]
    },
    {
     "name": "stdout",
     "output_type": "stream",
     "text": [
      "\n",
      "\n",
      "\n",
      "\n",
      "\r\u001b[K\u001b[A\r\u001b[K\u001b[A\r\u001b[K\u001b[A\r\u001b[K\u001b[A\r\u001b[32mTracking 436 paths...  54%|████████████████             |  ETA: 0:00:28\u001b[39m\u001b[K\r\n",
      "\u001b[34m  # paths tracked:                  236\u001b[39m\u001b[K\r\n",
      "\u001b[34m  # non-singular solutions (real):  8 (0)\u001b[39m\u001b[K\r\n",
      "\u001b[34m  # singular endpoints (real):      0 (0)\u001b[39m\u001b[K\r\n",
      "\u001b[34m  # total solutions (real):         8 (0)\u001b[39m\u001b[K\r\u001b[A\r\u001b[A\r\u001b[A\r\u001b[A"
     ]
    },
    {
     "name": "stdout",
     "output_type": "stream",
     "text": [
      "\n",
      "\n",
      "\n",
      "\n",
      "\r\u001b[K\u001b[A\r\u001b[K\u001b[A\r\u001b[K\u001b[A\r\u001b[K\u001b[A\r\u001b[32mTracking 436 paths...  55%|████████████████             |  ETA: 0:00:27\u001b[39m\u001b[K\r\n",
      "\u001b[34m  # paths tracked:                  240\u001b[39m\u001b[K\r\n",
      "\u001b[34m  # non-singular solutions (real):  8 (0)\u001b[39m\u001b[K\r\n",
      "\u001b[34m  # singular endpoints (real):      0 (0)\u001b[39m\u001b[K\r\n",
      "\u001b[34m  # total solutions (real):         8 (0)\u001b[39m\u001b[K\r\u001b[A\r\u001b[A\r\u001b[A\r\u001b[A"
     ]
    },
    {
     "name": "stdout",
     "output_type": "stream",
     "text": [
      "\n",
      "\n",
      "\n",
      "\n",
      "\r\u001b[K\u001b[A\r\u001b[K\u001b[A\r\u001b[K\u001b[A\r\u001b[K\u001b[A\r\u001b[32mTracking 436 paths...  56%|█████████████████            |  ETA: 0:00:26\u001b[39m\u001b[K\r\n",
      "\u001b[34m  # paths tracked:                  246\u001b[39m\u001b[K\r\n",
      "\u001b[34m  # non-singular solutions (real):  8 (0)\u001b[39m\u001b[K\r\n",
      "\u001b[34m  # singular endpoints (real):      0 (0)\u001b[39m\u001b[K\r\n",
      "\u001b[34m  # total solutions (real):         8 (0)\u001b[39m\u001b[K\r\u001b[A\r\u001b[A\r\u001b[A\r\u001b[A"
     ]
    },
    {
     "name": "stdout",
     "output_type": "stream",
     "text": [
      "\n",
      "\n",
      "\n",
      "\n",
      "\r\u001b[K\u001b[A\r\u001b[K\u001b[A\r\u001b[K\u001b[A\r\u001b[K\u001b[A\r\u001b[32mTracking 436 paths...  58%|█████████████████            |  ETA: 0:00:25\u001b[39m\u001b[K\r\n",
      "\u001b[34m  # paths tracked:                  251\u001b[39m\u001b[K\r\n",
      "\u001b[34m  # non-singular solutions (real):  8 (0)\u001b[39m\u001b[K\r\n",
      "\u001b[34m  # singular endpoints (real):      0 (0)\u001b[39m\u001b[K\r\n",
      "\u001b[34m  # total solutions (real):         8 (0)\u001b[39m\u001b[K\r\u001b[A\r\u001b[A\r\u001b[A\r\u001b[A"
     ]
    },
    {
     "name": "stdout",
     "output_type": "stream",
     "text": [
      "\n",
      "\n",
      "\n",
      "\n",
      "\r\u001b[K\u001b[A\r\u001b[K\u001b[A\r\u001b[K\u001b[A\r\u001b[K\u001b[A\r\u001b[32mTracking 436 paths...  59%|██████████████████           |  ETA: 0:00:24\u001b[39m\u001b[K\r\n",
      "\u001b[34m  # paths tracked:                  256\u001b[39m\u001b[K\r\n",
      "\u001b[34m  # non-singular solutions (real):  8 (0)\u001b[39m\u001b[K\r\n",
      "\u001b[34m  # singular endpoints (real):      0 (0)\u001b[39m\u001b[K\r\n",
      "\u001b[34m  # total solutions (real):         8 (0)\u001b[39m\u001b[K\r\u001b[A\r\u001b[A\r\u001b[A\r\u001b[A"
     ]
    },
    {
     "name": "stdout",
     "output_type": "stream",
     "text": [
      "\n",
      "\n",
      "\n",
      "\n",
      "\r\u001b[K\u001b[A\r\u001b[K\u001b[A\r\u001b[K\u001b[A\r\u001b[K\u001b[A\r\u001b[32mTracking 436 paths...  60%|██████████████████           |  ETA: 0:00:23\u001b[39m\u001b[K\r\n",
      "\u001b[34m  # paths tracked:                  261\u001b[39m\u001b[K\r\n",
      "\u001b[34m  # non-singular solutions (real):  8 (0)\u001b[39m\u001b[K\r\n",
      "\u001b[34m  # singular endpoints (real):      0 (0)\u001b[39m\u001b[K\r\n",
      "\u001b[34m  # total solutions (real):         8 (0)\u001b[39m\u001b[K\r\u001b[A\r\u001b[A\r\u001b[A\r\u001b[A"
     ]
    },
    {
     "name": "stdout",
     "output_type": "stream",
     "text": [
      "\n",
      "\n",
      "\n",
      "\n",
      "\r\u001b[K\u001b[A\r\u001b[K\u001b[A\r\u001b[K\u001b[A\r\u001b[K\u001b[A\r\u001b[32mTracking 436 paths...  61%|██████████████████           |  ETA: 0:00:22\u001b[39m\u001b[K\r\n",
      "\u001b[34m  # paths tracked:                  267\u001b[39m\u001b[K\r\n",
      "\u001b[34m  # non-singular solutions (real):  9 (0)\u001b[39m\u001b[K\r\n",
      "\u001b[34m  # singular endpoints (real):      0 (0)\u001b[39m\u001b[K\r\n",
      "\u001b[34m  # total solutions (real):         9 (0)\u001b[39m\u001b[K\r\u001b[A\r\u001b[A\r\u001b[A\r\u001b[A"
     ]
    },
    {
     "name": "stdout",
     "output_type": "stream",
     "text": [
      "\n",
      "\n",
      "\n",
      "\n",
      "\r\u001b[K\u001b[A\r\u001b[K\u001b[A\r\u001b[K\u001b[A\r\u001b[K\u001b[A\r\u001b[32mTracking 436 paths...  62%|███████████████████          |  ETA: 0:00:21\u001b[39m\u001b[K\r\n",
      "\u001b[34m  # paths tracked:                  272\u001b[39m\u001b[K\r\n",
      "\u001b[34m  # non-singular solutions (real):  9 (0)\u001b[39m\u001b[K\r\n",
      "\u001b[34m  # singular endpoints (real):      0 (0)\u001b[39m\u001b[K\r\n",
      "\u001b[34m  # total solutions (real):         9 (0)\u001b[39m\u001b[K\r\u001b[A\r\u001b[A\r\u001b[A\r\u001b[A"
     ]
    },
    {
     "name": "stdout",
     "output_type": "stream",
     "text": [
      "\n",
      "\n",
      "\n",
      "\n",
      "\r\u001b[K\u001b[A\r\u001b[K\u001b[A\r\u001b[K\u001b[A\r\u001b[K\u001b[A\r\u001b[32mTracking 436 paths...  64%|███████████████████          |  ETA: 0:00:20\u001b[39m\u001b[K\r\n",
      "\u001b[34m  # paths tracked:                  278\u001b[39m\u001b[K\r\n",
      "\u001b[34m  # non-singular solutions (real):  9 (0)\u001b[39m\u001b[K\r\n",
      "\u001b[34m  # singular endpoints (real):      0 (0)\u001b[39m\u001b[K\r\n",
      "\u001b[34m  # total solutions (real):         9 (0)\u001b[39m\u001b[K\r\u001b[A\r\u001b[A\r\u001b[A\r\u001b[A"
     ]
    },
    {
     "name": "stdout",
     "output_type": "stream",
     "text": [
      "\n",
      "\n",
      "\n",
      "\n",
      "\r\u001b[K\u001b[A\r\u001b[K\u001b[A\r\u001b[K\u001b[A\r\u001b[K\u001b[A\r\u001b[32mTracking 436 paths...  65%|███████████████████          |  ETA: 0:00:19\u001b[39m\u001b[K\r\n",
      "\u001b[34m  # paths tracked:                  284\u001b[39m\u001b[K\r\n",
      "\u001b[34m  # non-singular solutions (real):  9 (0)\u001b[39m\u001b[K\r\n",
      "\u001b[34m  # singular endpoints (real):      0 (0)\u001b[39m\u001b[K\r\n",
      "\u001b[34m  # total solutions (real):         9 (0)\u001b[39m\u001b[K\r\u001b[A\r\u001b[A\r\u001b[A\r\u001b[A"
     ]
    },
    {
     "name": "stdout",
     "output_type": "stream",
     "text": [
      "\n",
      "\n",
      "\n",
      "\n",
      "\r\u001b[K\u001b[A\r\u001b[K\u001b[A\r\u001b[K\u001b[A\r\u001b[K\u001b[A\r\u001b[32mTracking 436 paths...  66%|████████████████████         |  ETA: 0:00:18\u001b[39m\u001b[K\r\n",
      "\u001b[34m  # paths tracked:                  289\u001b[39m\u001b[K\r\n",
      "\u001b[34m  # non-singular solutions (real):  9 (0)\u001b[39m\u001b[K\r\n",
      "\u001b[34m  # singular endpoints (real):      0 (0)\u001b[39m\u001b[K\r\n",
      "\u001b[34m  # total solutions (real):         9 (0)\u001b[39m\u001b[K\r\u001b[A\r\u001b[A\r\u001b[A\r\u001b[A"
     ]
    },
    {
     "name": "stdout",
     "output_type": "stream",
     "text": [
      "\n",
      "\n",
      "\n",
      "\n",
      "\r\u001b[K\u001b[A\r\u001b[K\u001b[A\r\u001b[K\u001b[A\r\u001b[K\u001b[A\r\u001b[32mTracking 436 paths...  67%|████████████████████         |  ETA: 0:00:17\u001b[39m\u001b[K\r\n",
      "\u001b[34m  # paths tracked:                  294\u001b[39m\u001b[K\r\n",
      "\u001b[34m  # non-singular solutions (real):  9 (0)\u001b[39m\u001b[K\r\n",
      "\u001b[34m  # singular endpoints (real):      0 (0)\u001b[39m\u001b[K\r\n",
      "\u001b[34m  # total solutions (real):         9 (0)\u001b[39m\u001b[K\r\u001b[A\r\u001b[A\r\u001b[A\r\u001b[A"
     ]
    },
    {
     "name": "stdout",
     "output_type": "stream",
     "text": [
      "\n",
      "\n",
      "\n",
      "\n",
      "\r\u001b[K\u001b[A\r\u001b[K\u001b[A\r\u001b[K\u001b[A\r\u001b[K\u001b[A\r\u001b[32mTracking 436 paths...  69%|████████████████████         |  ETA: 0:00:17\u001b[39m\u001b[K\r\n",
      "\u001b[34m  # paths tracked:                  300\u001b[39m\u001b[K\r\n",
      "\u001b[34m  # non-singular solutions (real):  9 (0)\u001b[39m\u001b[K\r\n",
      "\u001b[34m  # singular endpoints (real):      0 (0)\u001b[39m\u001b[K\r\n",
      "\u001b[34m  # total solutions (real):         9 (0)\u001b[39m\u001b[K\r\u001b[A\r\u001b[A\r\u001b[A\r\u001b[A"
     ]
    },
    {
     "name": "stdout",
     "output_type": "stream",
     "text": [
      "\n",
      "\n",
      "\n",
      "\n",
      "\r\u001b[K\u001b[A\r\u001b[K\u001b[A\r\u001b[K\u001b[A\r\u001b[K\u001b[A\r\u001b[32mTracking 436 paths...  70%|█████████████████████        |  ETA: 0:00:16\u001b[39m\u001b[K\r\n",
      "\u001b[34m  # paths tracked:                  305\u001b[39m\u001b[K\r\n",
      "\u001b[34m  # non-singular solutions (real):  9 (0)\u001b[39m\u001b[K\r\n",
      "\u001b[34m  # singular endpoints (real):      0 (0)\u001b[39m\u001b[K\r\n",
      "\u001b[34m  # total solutions (real):         9 (0)\u001b[39m\u001b[K\r\u001b[A\r\u001b[A\r\u001b[A\r\u001b[A"
     ]
    },
    {
     "name": "stdout",
     "output_type": "stream",
     "text": [
      "\n",
      "\n",
      "\n",
      "\n",
      "\r\u001b[K\u001b[A\r\u001b[K\u001b[A\r\u001b[K\u001b[A\r\u001b[K\u001b[A\r\u001b[32mTracking 436 paths...  71%|█████████████████████        |  ETA: 0:00:15\u001b[39m\u001b[K\r\n",
      "\u001b[34m  # paths tracked:                  311\u001b[39m\u001b[K\r\n",
      "\u001b[34m  # non-singular solutions (real):  9 (0)\u001b[39m\u001b[K\r\n",
      "\u001b[34m  # singular endpoints (real):      0 (0)\u001b[39m\u001b[K\r\n",
      "\u001b[34m  # total solutions (real):         9 (0)\u001b[39m\u001b[K\r\u001b[A\r\u001b[A\r\u001b[A\r\u001b[A"
     ]
    },
    {
     "name": "stdout",
     "output_type": "stream",
     "text": [
      "\n",
      "\n",
      "\n",
      "\n",
      "\r\u001b[K\u001b[A\r\u001b[K\u001b[A\r\u001b[K\u001b[A\r\u001b[K\u001b[A\r\u001b[32mTracking 436 paths...  72%|██████████████████████       |  ETA: 0:00:14\u001b[39m\u001b[K\r\n",
      "\u001b[34m  # paths tracked:                  316\u001b[39m\u001b[K\r\n",
      "\u001b[34m  # non-singular solutions (real):  9 (0)\u001b[39m\u001b[K\r\n",
      "\u001b[34m  # singular endpoints (real):      0 (0)\u001b[39m\u001b[K\r\n",
      "\u001b[34m  # total solutions (real):         9 (0)\u001b[39m\u001b[K\r\u001b[A\r\u001b[A\r\u001b[A\r\u001b[A"
     ]
    },
    {
     "name": "stdout",
     "output_type": "stream",
     "text": [
      "\n",
      "\n",
      "\n",
      "\n",
      "\r\u001b[K\u001b[A\r\u001b[K\u001b[A\r\u001b[K\u001b[A\r\u001b[K\u001b[A\r\u001b[32mTracking 436 paths...  74%|██████████████████████       |  ETA: 0:00:13\u001b[39m\u001b[K\r\n",
      "\u001b[34m  # paths tracked:                  323\u001b[39m\u001b[K\r\n",
      "\u001b[34m  # non-singular solutions (real):  9 (0)\u001b[39m\u001b[K\r\n",
      "\u001b[34m  # singular endpoints (real):      0 (0)\u001b[39m\u001b[K\r\n",
      "\u001b[34m  # total solutions (real):         9 (0)\u001b[39m\u001b[K\r\u001b[A\r\u001b[A\r\u001b[A\r\u001b[A"
     ]
    },
    {
     "name": "stdout",
     "output_type": "stream",
     "text": [
      "\n",
      "\n",
      "\n",
      "\n",
      "\r\u001b[K\u001b[A\r\u001b[K\u001b[A\r\u001b[K\u001b[A\r\u001b[K\u001b[A\r\u001b[32mTracking 436 paths...  75%|██████████████████████       |  ETA: 0:00:12\u001b[39m\u001b[K\r\n",
      "\u001b[34m  # paths tracked:                  328\u001b[39m\u001b[K\r\n",
      "\u001b[34m  # non-singular solutions (real):  9 (0)\u001b[39m\u001b[K\r\n",
      "\u001b[34m  # singular endpoints (real):      0 (0)\u001b[39m\u001b[K\r\n",
      "\u001b[34m  # total solutions (real):         9 (0)\u001b[39m\u001b[K\r\u001b[A\r\u001b[A\r\u001b[A\r\u001b[A"
     ]
    },
    {
     "name": "stdout",
     "output_type": "stream",
     "text": [
      "\n",
      "\n",
      "\n",
      "\n",
      "\r\u001b[K\u001b[A\r\u001b[K\u001b[A\r\u001b[K\u001b[A\r\u001b[K\u001b[A\r\u001b[32mTracking 436 paths...  76%|███████████████████████      |  ETA: 0:00:12\u001b[39m\u001b[K\r\n",
      "\u001b[34m  # paths tracked:                  333\u001b[39m\u001b[K\r\n",
      "\u001b[34m  # non-singular solutions (real):  9 (0)\u001b[39m\u001b[K\r\n",
      "\u001b[34m  # singular endpoints (real):      0 (0)\u001b[39m\u001b[K\r\n",
      "\u001b[34m  # total solutions (real):         9 (0)\u001b[39m\u001b[K\r\u001b[A\r\u001b[A\r\u001b[A\r\u001b[A"
     ]
    },
    {
     "name": "stdout",
     "output_type": "stream",
     "text": [
      "\n",
      "\n",
      "\n",
      "\n",
      "\r\u001b[K\u001b[A\r\u001b[K\u001b[A\r\u001b[K\u001b[A\r\u001b[K\u001b[A\r\u001b[32mTracking 436 paths...  78%|███████████████████████      |  ETA: 0:00:11\u001b[39m\u001b[K\r\n",
      "\u001b[34m  # paths tracked:                  338\u001b[39m\u001b[K\r\n",
      "\u001b[34m  # non-singular solutions (real):  9 (0)\u001b[39m\u001b[K\r\n",
      "\u001b[34m  # singular endpoints (real):      0 (0)\u001b[39m\u001b[K\r\n",
      "\u001b[34m  # total solutions (real):         9 (0)\u001b[39m\u001b[K\r\u001b[A\r\u001b[A\r\u001b[A\r\u001b[A"
     ]
    },
    {
     "name": "stdout",
     "output_type": "stream",
     "text": [
      "\n",
      "\n",
      "\n",
      "\n",
      "\r\u001b[K\u001b[A\r\u001b[K\u001b[A\r\u001b[K\u001b[A\r\u001b[K\u001b[A\r\u001b[32mTracking 436 paths...  79%|███████████████████████      |  ETA: 0:00:10\u001b[39m\u001b[K\r\n",
      "\u001b[34m  # paths tracked:                  343\u001b[39m\u001b[K\r\n",
      "\u001b[34m  # non-singular solutions (real):  10 (0)\u001b[39m\u001b[K\r\n",
      "\u001b[34m  # singular endpoints (real):      0 (0)\u001b[39m\u001b[K\r\n",
      "\u001b[34m  # total solutions (real):         10 (0)\u001b[39m\u001b[K\r\u001b[A\r\u001b[A\r\u001b[A\r\u001b[A"
     ]
    },
    {
     "name": "stdout",
     "output_type": "stream",
     "text": [
      "\n",
      "\n",
      "\n",
      "\n",
      "\r\u001b[K\u001b[A\r\u001b[K\u001b[A\r\u001b[K\u001b[A\r\u001b[K\u001b[A\r\u001b[32mTracking 436 paths...  80%|████████████████████████     |  ETA: 0:00:10\u001b[39m\u001b[K\r\n",
      "\u001b[34m  # paths tracked:                  348\u001b[39m\u001b[K\r\n",
      "\u001b[34m  # non-singular solutions (real):  10 (0)\u001b[39m\u001b[K\r\n",
      "\u001b[34m  # singular endpoints (real):      0 (0)\u001b[39m\u001b[K\r\n",
      "\u001b[34m  # total solutions (real):         10 (0)\u001b[39m\u001b[K\r\u001b[A\r\u001b[A\r\u001b[A\r\u001b[A"
     ]
    },
    {
     "name": "stdout",
     "output_type": "stream",
     "text": [
      "\n",
      "\n",
      "\n",
      "\n",
      "\r\u001b[K\u001b[A\r\u001b[K\u001b[A\r\u001b[K\u001b[A\r\u001b[K\u001b[A\r\u001b[32mTracking 436 paths...  81%|████████████████████████     |  ETA: 0:00:09\u001b[39m\u001b[K\r\n",
      "\u001b[34m  # paths tracked:                  353\u001b[39m\u001b[K\r\n",
      "\u001b[34m  # non-singular solutions (real):  10 (0)\u001b[39m\u001b[K\r\n",
      "\u001b[34m  # singular endpoints (real):      0 (0)\u001b[39m\u001b[K\r\n",
      "\u001b[34m  # total solutions (real):         10 (0)\u001b[39m\u001b[K\r\u001b[A\r\u001b[A\r\u001b[A\r\u001b[A"
     ]
    },
    {
     "name": "stdout",
     "output_type": "stream",
     "text": [
      "\n",
      "\n",
      "\n",
      "\n",
      "\r\u001b[K\u001b[A\r\u001b[K\u001b[A\r\u001b[K\u001b[A\r\u001b[K\u001b[A\r\u001b[32mTracking 436 paths...  82%|████████████████████████     |  ETA: 0:00:09\u001b[39m\u001b[K\r\n",
      "\u001b[34m  # paths tracked:                  357\u001b[39m\u001b[K\r\n",
      "\u001b[34m  # non-singular solutions (real):  10 (0)\u001b[39m\u001b[K\r\n",
      "\u001b[34m  # singular endpoints (real):      0 (0)\u001b[39m\u001b[K\r\n",
      "\u001b[34m  # total solutions (real):         10 (0)\u001b[39m\u001b[K\r\u001b[A\r\u001b[A\r\u001b[A\r\u001b[A"
     ]
    },
    {
     "name": "stdout",
     "output_type": "stream",
     "text": [
      "\n",
      "\n",
      "\n",
      "\n",
      "\r\u001b[K\u001b[A\r\u001b[K\u001b[A\r\u001b[K\u001b[A\r\u001b[K\u001b[A\r\u001b[32mTracking 436 paths...  83%|█████████████████████████    |  ETA: 0:00:08\u001b[39m\u001b[K\r\n",
      "\u001b[34m  # paths tracked:                  362\u001b[39m\u001b[K\r\n",
      "\u001b[34m  # non-singular solutions (real):  10 (0)\u001b[39m\u001b[K\r\n",
      "\u001b[34m  # singular endpoints (real):      0 (0)\u001b[39m\u001b[K\r\n",
      "\u001b[34m  # total solutions (real):         10 (0)\u001b[39m\u001b[K\r\u001b[A\r\u001b[A\r\u001b[A\r\u001b[A"
     ]
    },
    {
     "name": "stdout",
     "output_type": "stream",
     "text": [
      "\n",
      "\n",
      "\n",
      "\n",
      "\r\u001b[K\u001b[A\r\u001b[K\u001b[A\r\u001b[K\u001b[A\r\u001b[K\u001b[A\r\u001b[32mTracking 436 paths...  84%|█████████████████████████    |  ETA: 0:00:07\u001b[39m\u001b[K\r\n",
      "\u001b[34m  # paths tracked:                  367\u001b[39m\u001b[K\r\n",
      "\u001b[34m  # non-singular solutions (real):  10 (0)\u001b[39m\u001b[K\r\n",
      "\u001b[34m  # singular endpoints (real):      0 (0)\u001b[39m\u001b[K\r\n",
      "\u001b[34m  # total solutions (real):         10 (0)\u001b[39m\u001b[K\r\u001b[A\r\u001b[A\r\u001b[A\r\u001b[A"
     ]
    },
    {
     "name": "stdout",
     "output_type": "stream",
     "text": [
      "\n",
      "\n",
      "\n",
      "\n",
      "\r\u001b[K\u001b[A\r\u001b[K\u001b[A\r\u001b[K\u001b[A\r\u001b[K\u001b[A\r\u001b[32mTracking 436 paths...  85%|█████████████████████████    |  ETA: 0:00:07\u001b[39m\u001b[K\r\n",
      "\u001b[34m  # paths tracked:                  372\u001b[39m\u001b[K\r\n",
      "\u001b[34m  # non-singular solutions (real):  11 (0)\u001b[39m\u001b[K\r\n",
      "\u001b[34m  # singular endpoints (real):      0 (0)\u001b[39m\u001b[K\r\n",
      "\u001b[34m  # total solutions (real):         11 (0)\u001b[39m\u001b[K\r\u001b[A\r\u001b[A\r\u001b[A\r\u001b[A"
     ]
    },
    {
     "name": "stdout",
     "output_type": "stream",
     "text": [
      "\n",
      "\n",
      "\n",
      "\n",
      "\r\u001b[K\u001b[A\r\u001b[K\u001b[A\r\u001b[K\u001b[A\r\u001b[K\u001b[A\r\u001b[32mTracking 436 paths...  86%|██████████████████████████   |  ETA: 0:00:06\u001b[39m\u001b[K\r\n",
      "\u001b[34m  # paths tracked:                  377\u001b[39m\u001b[K\r\n",
      "\u001b[34m  # non-singular solutions (real):  11 (0)\u001b[39m\u001b[K\r\n",
      "\u001b[34m  # singular endpoints (real):      0 (0)\u001b[39m\u001b[K\r\n",
      "\u001b[34m  # total solutions (real):         11 (0)\u001b[39m\u001b[K\r\u001b[A\r\u001b[A\r\u001b[A\r\u001b[A"
     ]
    },
    {
     "name": "stdout",
     "output_type": "stream",
     "text": [
      "\n",
      "\n",
      "\n",
      "\n",
      "\r\u001b[K\u001b[A\r\u001b[K\u001b[A\r\u001b[K\u001b[A\r\u001b[K\u001b[A\r\u001b[32mTracking 436 paths...  88%|██████████████████████████   |  ETA: 0:00:06\u001b[39m\u001b[K\r\n",
      "\u001b[34m  # paths tracked:                  383\u001b[39m\u001b[K\r\n",
      "\u001b[34m  # non-singular solutions (real):  11 (0)\u001b[39m\u001b[K\r\n",
      "\u001b[34m  # singular endpoints (real):      0 (0)\u001b[39m\u001b[K\r\n",
      "\u001b[34m  # total solutions (real):         11 (0)\u001b[39m\u001b[K\r\u001b[A\r\u001b[A\r\u001b[A\r\u001b[A"
     ]
    },
    {
     "name": "stdout",
     "output_type": "stream",
     "text": [
      "\n",
      "\n",
      "\n",
      "\n",
      "\r\u001b[K\u001b[A\r\u001b[K\u001b[A\r\u001b[K\u001b[A\r\u001b[K\u001b[A\r\u001b[32mTracking 436 paths...  89%|██████████████████████████   |  ETA: 0:00:05\u001b[39m\u001b[K\r\n",
      "\u001b[34m  # paths tracked:                  388\u001b[39m\u001b[K\r\n",
      "\u001b[34m  # non-singular solutions (real):  11 (0)\u001b[39m\u001b[K\r\n",
      "\u001b[34m  # singular endpoints (real):      0 (0)\u001b[39m\u001b[K\r\n",
      "\u001b[34m  # total solutions (real):         11 (0)\u001b[39m\u001b[K\r\u001b[A\r\u001b[A\r\u001b[A\r\u001b[A"
     ]
    },
    {
     "name": "stdout",
     "output_type": "stream",
     "text": [
      "\n",
      "\n",
      "\n",
      "\n",
      "\r\u001b[K\u001b[A\r\u001b[K\u001b[A\r\u001b[K\u001b[A\r\u001b[K\u001b[A\r\u001b[32mTracking 436 paths...  91%|███████████████████████████  |  ETA: 0:00:04\u001b[39m\u001b[K\r\n",
      "\u001b[34m  # paths tracked:                  396\u001b[39m\u001b[K\r\n",
      "\u001b[34m  # non-singular solutions (real):  11 (0)\u001b[39m\u001b[K\r\n",
      "\u001b[34m  # singular endpoints (real):      0 (0)\u001b[39m\u001b[K\r\n",
      "\u001b[34m  # total solutions (real):         11 (0)\u001b[39m\u001b[K\r\u001b[A\r\u001b[A\r\u001b[A\r\u001b[A"
     ]
    },
    {
     "name": "stdout",
     "output_type": "stream",
     "text": [
      "\n",
      "\n",
      "\n",
      "\n",
      "\r\u001b[K\u001b[A\r\u001b[K\u001b[A\r\u001b[K\u001b[A\r\u001b[K\u001b[A\r\u001b[32mTracking 436 paths...  92%|███████████████████████████  |  ETA: 0:00:04\u001b[39m\u001b[K\r\n",
      "\u001b[34m  # paths tracked:                  401\u001b[39m\u001b[K\r\n",
      "\u001b[34m  # non-singular solutions (real):  11 (0)\u001b[39m\u001b[K\r\n",
      "\u001b[34m  # singular endpoints (real):      0 (0)\u001b[39m\u001b[K\r\n",
      "\u001b[34m  # total solutions (real):         11 (0)\u001b[39m\u001b[K\r\u001b[A\r\u001b[A\r\u001b[A\r\u001b[A"
     ]
    },
    {
     "name": "stdout",
     "output_type": "stream",
     "text": [
      "\n",
      "\n",
      "\n",
      "\n",
      "\r\u001b[K\u001b[A\r\u001b[K\u001b[A\r\u001b[K\u001b[A\r\u001b[K\u001b[A\r\u001b[32mTracking 436 paths...  94%|████████████████████████████ |  ETA: 0:00:03\u001b[39m\u001b[K\r\n",
      "\u001b[34m  # paths tracked:                  408\u001b[39m\u001b[K\r\n",
      "\u001b[34m  # non-singular solutions (real):  11 (0)\u001b[39m\u001b[K\r\n",
      "\u001b[34m  # singular endpoints (real):      0 (0)\u001b[39m\u001b[K\r\n",
      "\u001b[34m  # total solutions (real):         11 (0)\u001b[39m\u001b[K\r\u001b[A\r\u001b[A\r\u001b[A\r\u001b[A"
     ]
    },
    {
     "name": "stdout",
     "output_type": "stream",
     "text": [
      "\n",
      "\n",
      "\n",
      "\n",
      "\r\u001b[K\u001b[A\r\u001b[K\u001b[A\r\u001b[K\u001b[A\r\u001b[K\u001b[A\r\u001b[32mTracking 436 paths...  95%|████████████████████████████ |  ETA: 0:00:02\u001b[39m\u001b[K\r\n",
      "\u001b[34m  # paths tracked:                  413\u001b[39m\u001b[K\r\n",
      "\u001b[34m  # non-singular solutions (real):  12 (0)\u001b[39m\u001b[K\r\n",
      "\u001b[34m  # singular endpoints (real):      0 (0)\u001b[39m\u001b[K\r\n",
      "\u001b[34m  # total solutions (real):         12 (0)\u001b[39m\u001b[K\r\u001b[A\r\u001b[A\r\u001b[A\r\u001b[A"
     ]
    },
    {
     "name": "stdout",
     "output_type": "stream",
     "text": [
      "\n",
      "\n",
      "\n",
      "\n",
      "\r\u001b[K\u001b[A\r\u001b[K\u001b[A\r\u001b[K\u001b[A\r\u001b[K\u001b[A\r\u001b[32mTracking 436 paths...  96%|████████████████████████████ |  ETA: 0:00:02\u001b[39m\u001b[K\r\n",
      "\u001b[34m  # paths tracked:                  418\u001b[39m\u001b[K\r\n",
      "\u001b[34m  # non-singular solutions (real):  12 (0)\u001b[39m\u001b[K\r\n",
      "\u001b[34m  # singular endpoints (real):      0 (0)\u001b[39m\u001b[K\r\n",
      "\u001b[34m  # total solutions (real):         12 (0)\u001b[39m\u001b[K\r\u001b[A\r\u001b[A\r\u001b[A\r\u001b[A"
     ]
    },
    {
     "name": "stdout",
     "output_type": "stream",
     "text": [
      "\n",
      "\n",
      "\n",
      "\n",
      "\r\u001b[K\u001b[A\r\u001b[K\u001b[A\r\u001b[K\u001b[A\r\u001b[K\u001b[A\r\u001b[32mTracking 436 paths...  97%|█████████████████████████████|  ETA: 0:00:01\u001b[39m\u001b[K\r\n",
      "\u001b[34m  # paths tracked:                  424\u001b[39m\u001b[K\r\n",
      "\u001b[34m  # non-singular solutions (real):  12 (0)\u001b[39m\u001b[K\r\n",
      "\u001b[34m  # singular endpoints (real):      0 (0)\u001b[39m\u001b[K\r\n",
      "\u001b[34m  # total solutions (real):         12 (0)\u001b[39m\u001b[K\r\u001b[A\r\u001b[A\r\u001b[A\r\u001b[A"
     ]
    },
    {
     "name": "stdout",
     "output_type": "stream",
     "text": [
      "\n",
      "\n",
      "\n",
      "\n",
      "\r\u001b[K\u001b[A\r\u001b[K\u001b[A\r\u001b[K\u001b[A\r\u001b[K\u001b[A\r\u001b[32mTracking 436 paths...  99%|█████████████████████████████|  ETA: 0:00:01\u001b[39m\u001b[K\r\n",
      "\u001b[34m  # paths tracked:                  430\u001b[39m\u001b[K\r\n",
      "\u001b[34m  # non-singular solutions (real):  12 (0)\u001b[39m\u001b[K\r\n",
      "\u001b[34m  # singular endpoints (real):      0 (0)\u001b[39m\u001b[K\r\n",
      "\u001b[34m  # total solutions (real):         12 (0)\u001b[39m\u001b[K\r\u001b[A\r\u001b[A\r\u001b[A\r\u001b[A"
     ]
    },
    {
     "name": "stdout",
     "output_type": "stream",
     "text": [
      "\n",
      "\n",
      "\n",
      "\n",
      "\r\u001b[K\u001b[A\r\u001b[K\u001b[A\r\u001b[K\u001b[A\r\u001b[K\u001b[A\r\u001b[32mTracking 436 paths... 100%|█████████████████████████████|  ETA: 0:00:00\u001b[39m\u001b[K\r\n",
      "\u001b[34m  # paths tracked:                  435\u001b[39m\u001b[K\r\n",
      "\u001b[34m  # non-singular solutions (real):  12 (0)\u001b[39m\u001b[K\r\n",
      "\u001b[34m  # singular endpoints (real):      0 (0)\u001b[39m\u001b[K\r\n",
      "\u001b[34m  # total solutions (real):         12 (0)\u001b[39m\u001b[K\r\u001b[A\r\u001b[A\r\u001b[A\r\u001b[A"
     ]
    },
    {
     "name": "stdout",
     "output_type": "stream",
     "text": [
      "\n",
      "\n",
      "\n",
      "\n",
      "\r\u001b[K\u001b[A\r\u001b[K\u001b[A\r\u001b[K\u001b[A\r\u001b[K\u001b[A\r\u001b[32mTracking 436 paths... 100%|█████████████████████████████| Time: 0:00:43\u001b[39m\u001b[K\r\n",
      "\u001b[34m  # paths tracked:                  436\u001b[39m\u001b[K\r\n",
      "\u001b[34m  # non-singular solutions (real):  12 (0)\u001b[39m\u001b[K\r\n",
      "\u001b[34m  # singular endpoints (real):      0 (0)\u001b[39m\u001b[K\r\n",
      "\u001b[34m  # total solutions (real):         12 (0)\u001b[39m\u001b[K\n"
     ]
    },
    {
     "name": "stdout",
     "output_type": "stream",
     "text": [
      "degree = 12\n"
     ]
    }
   ],
   "source": [
    "dproj = degreeProjection(LE, [α[1:end-1];y], [s;t;M;m]);\n",
    "println(\"degree = $dproj\")"
   ]
  },
  {
   "cell_type": "markdown",
   "id": "2119d23b",
   "metadata": {},
   "source": [
    "One can check this is the projection "
   ]
  },
  {
   "cell_type": "code",
   "execution_count": 23,
   "id": "7a7d2c11",
   "metadata": {},
   "outputs": [
    {
     "name": "stdout",
     "output_type": "stream",
     "text": [
      "\r\u001b[32mSolutions found: 154    Time: 0:00:00\u001b[39m\u001b[K\r\n",
      "\u001b[34m  tracked loops (queued):            193 (115)\u001b[39m\u001b[K\r\n",
      "\u001b[34m  solutions in current (last) loop:  117 (36)\u001b[39m\u001b[K\r\n",
      "\u001b[34m  generated loops (no change):       2 (0)\u001b[39m\u001b[K\r\u001b[A\r\u001b[A\r\u001b[A"
     ]
    },
    {
     "name": "stdout",
     "output_type": "stream",
     "text": [
      "\n",
      "\n",
      "\n",
      "\r\u001b[K\u001b[A\r\u001b[K\u001b[A\r\u001b[K\u001b[A\r\u001b[32mSolutions found: 212    Time: 0:00:01\u001b[39m\u001b[K\r\n",
      "\u001b[34m  tracked loops (queued):            333 (91)\u001b[39m\u001b[K\r\n",
      "\u001b[34m  solutions in current (last) loop:  175 (36)\u001b[39m\u001b[K\r\n",
      "\u001b[34m  generated loops (no change):       2 (0)\u001b[39m\u001b[K\r\u001b[A\r\u001b[A\r\u001b[A"
     ]
    },
    {
     "name": "stdout",
     "output_type": "stream",
     "text": [
      "\n",
      "\n",
      "\n",
      "\r\u001b[K\u001b[A\r\u001b[K\u001b[A\r\u001b[K\u001b[A\r\u001b[32mSolutions found: 227    Time: 0:00:01\u001b[39m\u001b[K\r\n",
      "\u001b[34m  tracked loops (queued):            479 (202)\u001b[39m\u001b[K\r\n",
      "\u001b[34m  solutions in current (last) loop:  0 (190)\u001b[39m\u001b[K\r\n",
      "\u001b[34m  generated loops (no change):       3 (0)\u001b[39m\u001b[K\r\u001b[A\r\u001b[A\r\u001b[A"
     ]
    },
    {
     "name": "stdout",
     "output_type": "stream",
     "text": [
      "\n",
      "\n",
      "\n",
      "\r\u001b[K\u001b[A\r\u001b[K\u001b[A\r\u001b[K\u001b[A\r\u001b[32mSolutions found: 227    Time: 0:00:01\u001b[39m\u001b[K\r\n",
      "\u001b[34m  tracked loops (queued):            628 (53)\u001b[39m\u001b[K\r\n",
      "\u001b[34m  solutions in current (last) loop:  0 (190)\u001b[39m\u001b[K\r\n",
      "\u001b[34m  generated loops (no change):       3 (0)\u001b[39m\u001b[K\r\u001b[A\r\u001b[A\r\u001b[A"
     ]
    },
    {
     "name": "stdout",
     "output_type": "stream",
     "text": [
      "\n",
      "\n",
      "\n",
      "\r\u001b[K\u001b[A\r\u001b[K\u001b[A\r\u001b[K\u001b[A\r\u001b[32mSolutions found: 227    Time: 0:00:02\u001b[39m\u001b[K\r\n",
      "\u001b[34m  tracked loops (queued):            798 (110)\u001b[39m\u001b[K\r\n",
      "\u001b[34m  solutions in current (last) loop:  0 (0)\u001b[39m\u001b[K\r\n",
      "\u001b[34m  generated loops (no change):       4 (1)\u001b[39m\u001b[K\r\u001b[A\r\u001b[A\r\u001b[A"
     ]
    },
    {
     "name": "stdout",
     "output_type": "stream",
     "text": [
      "\n",
      "\n",
      "\n",
      "\r\u001b[K\u001b[A\r\u001b[K\u001b[A\r\u001b[K\u001b[A\r\u001b[32mSolutions found: 227    Time: 0:00:03\u001b[39m\u001b[K\r\n",
      "\u001b[34m  tracked loops (queued):            917 (217)\u001b[39m\u001b[K\r\n",
      "\u001b[34m  solutions in current (last) loop:  0 (0)\u001b[39m\u001b[K\r\n",
      "\u001b[34m  generated loops (no change):       5 (2)\u001b[39m\u001b[K\r\u001b[A\r\u001b[A\r\u001b[A"
     ]
    },
    {
     "name": "stdout",
     "output_type": "stream",
     "text": [
      "\n",
      "\n",
      "\n",
      "\r\u001b[K\u001b[A\r\u001b[K\u001b[A\r\u001b[K\u001b[A\r\u001b[32mSolutions found: 227    Time: 0:00:03\u001b[39m\u001b[K\r\n",
      "\u001b[34m  tracked loops (queued):            1049 (84)\u001b[39m\u001b[K\r\n",
      "\u001b[34m  solutions in current (last) loop:  0 (0)\u001b[39m\u001b[K\r\n",
      "\u001b[34m  generated loops (no change):       5 (2)\u001b[39m\u001b[K\r\u001b[A\r\u001b[A\r\u001b[A"
     ]
    },
    {
     "name": "stdout",
     "output_type": "stream",
     "text": [
      "\n",
      "\n",
      "\n",
      "\r\u001b[K\u001b[A\r\u001b[K\u001b[A\r\u001b[K\u001b[A\r\u001b[32mSolutions found: 227    Time: 0:00:04\u001b[39m\u001b[K\r\n",
      "\u001b[34m  tracked loops (queued):            1169 (191)\u001b[39m\u001b[K\r\n",
      "\u001b[34m  solutions in current (last) loop:  0 (0)\u001b[39m\u001b[K\r\n",
      "\u001b[34m  generated loops (no change):       6 (3)\u001b[39m\u001b[K\r\u001b[A\r\u001b[A\r\u001b[A"
     ]
    },
    {
     "name": "stdout",
     "output_type": "stream",
     "text": [
      "\n",
      "\n",
      "\n",
      "\r\u001b[K\u001b[A\r\u001b[K\u001b[A\r\u001b[K\u001b[A\r\u001b[32mSolutions found: 227    Time: 0:00:04\u001b[39m\u001b[K\r\n",
      "\u001b[34m  tracked loops (queued):            1295 (65)\u001b[39m\u001b[K\r\n",
      "\u001b[34m  solutions in current (last) loop:  0 (0)\u001b[39m\u001b[K\r\n",
      "\u001b[34m  generated loops (no change):       6 (3)\u001b[39m\u001b[K\r\u001b[A\r\u001b[A\r\u001b[A"
     ]
    },
    {
     "name": "stdout",
     "output_type": "stream",
     "text": [
      "\n",
      "\n",
      "\n",
      "\r\u001b[K\u001b[A\r\u001b[K\u001b[A\r\u001b[K\u001b[A\r\u001b[32mSolutions found: 227    Time: 0:00:04\u001b[39m\u001b[K\r\n",
      "\u001b[34m  tracked loops (queued):            1388 (199)\u001b[39m\u001b[K\r\n",
      "\u001b[34m  solutions in current (last) loop:  0 (0)\u001b[39m\u001b[K\r\n",
      "\u001b[34m  generated loops (no change):       7 (4)\u001b[39m\u001b[K\r\u001b[A\r\u001b[A\r\u001b[A"
     ]
    },
    {
     "name": "stdout",
     "output_type": "stream",
     "text": [
      "\n",
      "\n",
      "\n",
      "\r\u001b[K\u001b[A\r\u001b[K\u001b[A\r\u001b[K\u001b[A\r\u001b[32mSolutions found: 227    Time: 0:00:05\u001b[39m\u001b[K\r\n",
      "\u001b[34m  tracked loops (queued):            1539 (48)\u001b[39m\u001b[K\r\n",
      "\u001b[34m  solutions in current (last) loop:  0 (0)\u001b[39m\u001b[K\r\n",
      "\u001b[34m  generated loops (no change):       7 (4)\u001b[39m\u001b[K\r\u001b[A\r\u001b[A\r\u001b[A"
     ]
    },
    {
     "name": "stdout",
     "output_type": "stream",
     "text": [
      "\n",
      "\n",
      "\n",
      "\r\u001b[K\u001b[A\r\u001b[K\u001b[A\r\u001b[K\u001b[A\r\u001b[32mSolutions found: 227    Time: 0:00:05\u001b[39m\u001b[K\r\n",
      "\u001b[34m  tracked loops (queued):            1587 (0)\u001b[39m\u001b[K\r\n",
      "\u001b[34m  solutions in current (last) loop:  0 (0)\u001b[39m\u001b[K\r\n",
      "\u001b[34m  generated loops (no change):       7 (5)\u001b[39m\u001b[K\n"
     ]
    },
    {
     "name": "stdout",
     "output_type": "stream",
     "text": [
      "\r\u001b[32mCertifying 227 solutions...   1%|█                      |  ETA: 0:02:12\u001b[39m\u001b[K\r\n",
      "\u001b[34m  # processed:         2\u001b[39m\u001b[K\r\n",
      "\u001b[34m  # certified (real):  2 (0)\u001b[39m\u001b[K\r\n",
      "\u001b[34m  # distinct (real):   2 (0)\u001b[39m\u001b[K\r\u001b[A\r\u001b[A\r\u001b[A"
     ]
    },
    {
     "name": "stdout",
     "output_type": "stream",
     "text": [
      "\n",
      "\n",
      "\n",
      "\r\u001b[K\u001b[A\r\u001b[K\u001b[A\r\u001b[K\u001b[A\r\u001b[32mCertifying 227 solutions... 100%|███████████████████████| Time: 0:00:01\u001b[39m\u001b[K\r\n",
      "\u001b[34m  # processed:         227\u001b[39m\u001b[K\r\n",
      "\u001b[34m  # certified (real):  227 (0)\u001b[39m\u001b[K\r\n",
      "\u001b[34m  # distinct (real):   227 (0)\u001b[39m\u001b[K\n"
     ]
    },
    {
     "data": {
      "text/plain": [
       "227"
      ]
     },
     "metadata": {},
     "output_type": "display_data"
    }
   ],
   "source": [
    "Landau.χ(edges,nodes)"
   ]
  },
  {
   "cell_type": "markdown",
   "id": "c2f75139",
   "metadata": {},
   "source": [
    "Using PLD to look at bhabba dbox"
   ]
  },
  {
   "cell_type": "code",
   "execution_count": 5,
   "id": "706f8615",
   "metadata": {},
   "outputs": [
    {
     "name": "stderr",
     "output_type": "stream",
     "text": [
      "\u001b[91m\u001b[1mERROR: \u001b[22m\u001b[39mLoadError: "
     ]
    },
    {
     "name": "stderr",
     "output_type": "stream",
     "text": [
      "InitError: "
     ]
    },
    {
     "name": "stderr",
     "output_type": "stream",
     "text": [
      "Artifact \"OpenBLAS32\" was not found by looking in the paths:\n",
      "  C:\\Users\\tristan\\.julia\\artifacts\\a97c68e84f8d803b96763aa872ed49381fb9cb7e\n",
      "  C:\\Users\\tristan\\.julia\\juliaup\\julia-1.10.0+0.x64.w64.mingw32\\local\\share\\julia\\artifacts\\a97c68e84f8d803b96763aa872ed49381fb9cb7e\n",
      "  C:\\Users\\tristan\\.julia\\juliaup\\julia-1.10.0+0.x64.w64.mingw32\\share\\julia\\artifacts\\a97c68e84f8d803b96763aa872ed49381fb9cb7e\n",
      "Try `using Pkg; Pkg.instantiate()` to re-install all missing resources if the artifact is part of a package or call `Pkg.ensure_artifact_installed` (https://pkgdocs.julialang.org/v1/api/#Pkg.Artifacts.ensure_artifact_installed) if not.\n",
      "Stacktrace:\n",
      "  [1] \u001b[0m\u001b[1merror\u001b[22m\u001b[0m\u001b[1m(\u001b[22m\u001b[90ms\u001b[39m::\u001b[0mString\u001b[0m\u001b[1m)\u001b[22m\n",
      "\u001b[90m    @\u001b[39m \u001b[90mBase\u001b[39m \u001b[90m.\\\u001b[39m\u001b[90m\u001b[4merror.jl:35\u001b[24m\u001b[39m\n",
      "  [2] \u001b[0m\u001b[1m_artifact_str\u001b[22m\u001b[0m\u001b[1m(\u001b[22m\u001b[90m__module__\u001b[39m::\u001b[0mModule, \u001b[90martifacts_toml\u001b[39m::\u001b[0mString, \u001b[90mname\u001b[39m::\u001b[0mSubString\u001b[90m{String}\u001b[39m, \u001b[90mpath_tail\u001b[39m::\u001b[0mString, \u001b[90martifact_dict\u001b[39m::\u001b[0mDict\u001b[90m{String, Any}\u001b[39m, \u001b[90mhash\u001b[39m::\u001b[0mBase.SHA1, \u001b[90mplatform\u001b[39m::\u001b[0mBase.BinaryPlatforms.Platform, \u001b[90mlazyartifacts\u001b[39m::\u001b[0mAny\u001b[0m\u001b[1m)\u001b[22m\n",
      "\u001b[90m    @\u001b[39m \u001b[35mArtifacts\u001b[39m \u001b[90mC:\\Users\\tristan\\.julia\\juliaup\\julia-1.10.0+0.x64.w64.mingw32\\share\\julia\\stdlib\\v1.10\\Artifacts\\src\\\u001b[39m\u001b[90m\u001b[4mArtifacts.jl:569\u001b[24m\u001b[39m\n",
      "  [3] "
     ]
    },
    {
     "name": "stderr",
     "output_type": "stream",
     "text": [
      "\u001b[0m\u001b[1minvokelatest\u001b[22m\u001b[0m\u001b[1m(\u001b[22m::\u001b[0mAny, ::\u001b[0mAny, ::\u001b[0mVararg\u001b[90m{Any}\u001b[39m; \u001b[90mkwargs\u001b[39m::\u001b[0m@Kwargs\u001b[90m{}\u001b[39m\u001b[0m\u001b[1m)\u001b[22m\n",
      "\u001b[90m    @\u001b[39m \u001b[90mBase\u001b[39m \u001b[90m.\\\u001b[39m\u001b[90m\u001b[4messentials.jl:887\u001b[24m\u001b[39m\n",
      "  [4] \u001b[0m\u001b[1minvokelatest\u001b[22m\u001b[0m\u001b[1m(\u001b[22m::\u001b[0mAny, ::\u001b[0mAny, ::\u001b[0mVararg\u001b[90m{Any}\u001b[39m\u001b[0m\u001b[1m)\u001b[22m\n",
      "\u001b[90m    @\u001b[39m \u001b[90mBase\u001b[39m \u001b[90m.\\\u001b[39m\u001b[90m\u001b[4messentials.jl:884\u001b[24m\u001b[39m\n",
      "  [5] \u001b[0m\u001b[1mmacro expansion\u001b[22m\n",
      "\u001b[90m    @\u001b[39m \u001b[90mC:\\Users\\tristan\\.julia\\juliaup\\julia-1.10.0+0.x64.w64.mingw32\\share\\julia\\stdlib\\v1.10\\Artifacts\\src\\\u001b[39m\u001b[90m\u001b[4mArtifacts.jl:698\u001b[24m\u001b[39m\u001b[90m [inlined]\u001b[39m\n",
      "  [6] \u001b[0m\u001b[1mfind_artifact_dir\u001b[22m\u001b[0m\u001b[1m(\u001b[22m\u001b[0m\u001b[1m)\u001b[22m\n",
      "\u001b[90m    @\u001b[39m \u001b[36mOpenBLAS32_jll\u001b[39m \u001b[90mC:\\Users\\tristan\\.julia\\packages\\JLLWrappers\\QpMQW\\src\\\u001b[39m\u001b[90m\u001b[4mwrapper_generators.jl:17\u001b[24m\u001b[39m\n",
      "  [7] \u001b[0m\u001b[1m__init__\u001b[22m\u001b[0m\u001b[1m(\u001b[22m\u001b[0m\u001b[1m)\u001b[22m\n",
      "\u001b[90m    @\u001b[39m \u001b[36mOpenBLAS32_jll\u001b[39m \u001b[90mC:\\Users\\tristan\\.julia\\packages\\OpenBLAS32_jll\\uqAt9\\src\\wrappers\\\u001b[39m\u001b[90m\u001b[4mx86_64-w64-mingw32-libgfortran5.jl:8\u001b[24m\u001b[39m\n",
      "  [8] \u001b[0m\u001b[1mrun_module_init\u001b[22m\u001b[0m\u001b[1m(\u001b[22m\u001b[90mmod\u001b[39m::\u001b[0mModule, \u001b[90mi\u001b[39m::\u001b[0mInt64\u001b[0m\u001b[1m)\u001b[22m\n",
      "\u001b[90m    @\u001b[39m \u001b[90mBase\u001b[39m \u001b[90m.\\\u001b[39m\u001b[90m\u001b[4mloading.jl:1128\u001b[24m\u001b[39m\n",
      "  [9] \u001b[0m\u001b[1mregister_restored_modules\u001b[22m\u001b[0m\u001b[1m(\u001b[22m\u001b[90msv\u001b[39m::\u001b[0mCore.SimpleVector, \u001b[90mpkg\u001b[39m::\u001b[0mBase.PkgId, \u001b[90mpath\u001b[39m::\u001b[0mString\u001b[0m\u001b[1m)\u001b[22m\n",
      "\u001b[90m    @\u001b[39m \u001b[90mBase\u001b[39m \u001b[90m.\\\u001b[39m\u001b[90m\u001b[4mloading.jl:1116\u001b[24m\u001b[39m\n",
      " [10] \u001b[0m\u001b[1m_include_from_serialized\u001b[22m\u001b[0m\u001b[1m(\u001b[22m\u001b[90mpkg\u001b[39m::\u001b[0mBase.PkgId, \u001b[90mpath\u001b[39m::\u001b[0mString, \u001b[90mocachepath\u001b[39m::\u001b[0mString, \u001b[90mdepmods\u001b[39m::\u001b[0mVector\u001b[90m{Any}\u001b[39m\u001b[0m\u001b[1m)\u001b[22m\n",
      "\u001b[90m    @\u001b[39m \u001b[90mBase\u001b[39m \u001b[90m.\\\u001b[39m\u001b[90m\u001b[4mloading.jl:1061\u001b[24m\u001b[39m\n",
      " [11] \u001b[0m\u001b[1m_require_search_from_serialized\u001b[22m\u001b[0m\u001b[1m(\u001b[22m\u001b[90mpkg\u001b[39m::\u001b[0mBase.PkgId, \u001b[90msourcepath\u001b[39m::\u001b[0mString, \u001b[90mbuild_id\u001b[39m::\u001b[0mUInt128\u001b[0m\u001b[1m)\u001b[22m\n",
      "\u001b[90m    @\u001b[39m \u001b[90mBase\u001b[39m \u001b[90m.\\\u001b[39m\u001b[90m\u001b[4mloading.jl:1575\u001b[24m\u001b[39m\n",
      " [12] \u001b[0m\u001b[1m_require\u001b[22m\u001b[0m\u001b[1m(\u001b[22m\u001b[90mpkg\u001b[39m::\u001b[0mBase.PkgId, \u001b[90menv\u001b[39m::\u001b[0mString\u001b[0m\u001b[1m)\u001b[22m\n",
      "\u001b[90m    @\u001b[39m \u001b[90mBase\u001b[39m \u001b[90m.\\\u001b[39m\u001b[90m\u001b[4mloading.jl:1932\u001b[24m\u001b[39m\n",
      " [13] \u001b[0m\u001b[1m__require_prelocked\u001b[22m\u001b[0m\u001b[1m(\u001b[22m\u001b[90muuidkey\u001b[39m::\u001b[0mBase.PkgId, \u001b[90menv\u001b[39m::\u001b[0mString\u001b[0m\u001b[1m)\u001b[22m\n",
      "\u001b[90m    @\u001b[39m \u001b[90mBase\u001b[39m \u001b[90m.\\\u001b[39m\u001b[90m\u001b[4mloading.jl:1806\u001b[24m\u001b[39m\n",
      " [14] \u001b[0m\u001b[1m#invoke_in_world#3\u001b[22m\n",
      "\u001b[90m    @\u001b[39m \u001b[90mBase\u001b[39m \u001b[90m.\\\u001b[39m\u001b[90m\u001b[4messentials.jl:921\u001b[24m\u001b[39m\u001b[90m [inlined]\u001b[39m\n",
      " [15] \u001b[0m\u001b[1minvoke_in_world\u001b[22m\n",
      "\u001b[90m    @\u001b[39m \u001b[90mBase\u001b[39m \u001b[90m.\\\u001b[39m\u001b[90m\u001b[4messentials.jl:918\u001b[24m\u001b[39m\u001b[90m [inlined]\u001b[39m\n",
      " [16] \u001b[0m\u001b[1m_require_prelocked\u001b[22m\u001b[0m\u001b[1m(\u001b[22m\u001b[90muuidkey\u001b[39m::\u001b[0mBase.PkgId, \u001b[90menv\u001b[39m::\u001b[0mString\u001b[0m\u001b[1m)\u001b[22m\n",
      "\u001b[90m    @\u001b[39m \u001b[90mBase\u001b[39m \u001b[90m.\\\u001b[39m\u001b[90m\u001b[4mloading.jl:1797\u001b[24m\u001b[39m\n",
      " [17] \u001b[0m\u001b[1mmacro expansion\u001b[22m\n",
      "\u001b[90m    @\u001b[39m \u001b[90mBase\u001b[39m \u001b[90m.\\\u001b[39m\u001b[90m\u001b[4mloading.jl:1784\u001b[24m\u001b[39m\u001b[90m [inlined]\u001b[39m\n",
      " [18] \u001b[0m\u001b[1mmacro expansion\u001b[22m\n",
      "\u001b[90m    @\u001b[39m \u001b[90mBase\u001b[39m \u001b[90m.\\\u001b[39m\u001b[90m\u001b[4mlock.jl:267\u001b[24m\u001b[39m\u001b[90m [inlined]\u001b[39m\n",
      " [19] \u001b[0m\u001b[1m__require\u001b[22m\u001b[0m\u001b[1m(\u001b[22m\u001b[90minto\u001b[39m::\u001b[0mModule, \u001b[90mmod\u001b[39m::\u001b[0mSymbol\u001b[0m\u001b[1m)\u001b[22m\n",
      "\u001b[90m    @\u001b[39m \u001b[90mBase\u001b[39m \u001b[90m.\\\u001b[39m\u001b[90m\u001b[4mloading.jl:1747\u001b[24m\u001b[39m\n",
      " [20] \u001b[0m\u001b[1m#invoke_in_world#3\u001b[22m\n",
      "\u001b[90m    @\u001b[39m \u001b[90mBase\u001b[39m \u001b[90m.\\\u001b[39m\u001b[90m\u001b[4messentials.jl:921\u001b[24m\u001b[39m\u001b[90m [inlined]\u001b[39m\n",
      " [21] \u001b[0m\u001b[1minvoke_in_world\u001b[22m\n",
      "\u001b[90m    @\u001b[39m \u001b[90mBase\u001b[39m \u001b[90m.\\\u001b[39m\u001b[90m\u001b[4messentials.jl:918\u001b[24m\u001b[39m\u001b[90m [inlined]\u001b[39m\n",
      " [22] \u001b[0m\u001b[1mrequire\u001b[22m\u001b[0m\u001b[1m(\u001b[22m\u001b[90minto\u001b[39m::\u001b[0mModule, \u001b[90mmod\u001b[39m::\u001b[0mSymbol\u001b[0m\u001b[1m)\u001b[22m\n",
      "\u001b[90m    @\u001b[39m \u001b[90mBase\u001b[39m \u001b[90m.\\\u001b[39m\u001b[90m\u001b[4mloading.jl:1740\u001b[24m\u001b[39m\n",
      " [23] \u001b[0m\u001b[1minclude\u001b[22m\u001b[0m\u001b[1m(\u001b[22m\u001b[90mmod\u001b[39m::\u001b[0mModule, \u001b[90m_path\u001b[39m::\u001b[0mString\u001b[0m\u001b[1m)\u001b[22m\n",
      "\u001b[90m    @\u001b[39m \u001b[90mBase\u001b[39m \u001b[90m.\\\u001b[39m\u001b[90m\u001b[4mBase.jl:495\u001b[24m\u001b[39m\n",
      " [24] top-level scope\n",
      "\u001b[90m    @\u001b[39m \u001b[90mC:\\Users\\tristan\\.julia\\packages\\JLLWrappers\\QpMQW\\src\\\u001b[39m\u001b[90m\u001b[4mtoplevel_generators.jl:188\u001b[24m\u001b[39m\n",
      " [25] \u001b[0m\u001b[1minclude\u001b[22m\n",
      "\u001b[90m    @\u001b[39m \u001b[90mBase\u001b[39m \u001b[90m.\\\u001b[39m\u001b[90m\u001b[4mBase.jl:495\u001b[24m\u001b[39m\u001b[90m [inlined]\u001b[39m\n",
      " [26] \u001b[0m\u001b[1minclude_package_for_output\u001b[22m\u001b[0m\u001b[1m(\u001b[22m\u001b[90mpkg\u001b[39m::\u001b[0mBase.PkgId, \u001b[90minput\u001b[39m::\u001b[0mString, \u001b[90mdepot_path\u001b[39m::\u001b[0mVector\u001b[90m{String}\u001b[39m, \u001b[90mdl_load_path\u001b[39m::\u001b[0mVector\u001b[90m{String}\u001b[39m, \u001b[90mload_path\u001b[39m::\u001b[0mVector\u001b[90m{String}\u001b[39m, \u001b[90mconcrete_deps\u001b[39m::\u001b[0mVector\u001b[90m{Pair{Base.PkgId, UInt128}}\u001b[39m, \u001b[90msource\u001b[39m::\u001b[0mString\u001b[0m\u001b[1m)\u001b[22m\n",
      "\u001b[90m    @\u001b[39m \u001b[90mBase\u001b[39m \u001b[90m.\\\u001b[39m\u001b[90m\u001b[4mloading.jl:2216\u001b[24m\u001b[39m\n",
      " [27] top-level scope\n",
      "\u001b[90m    @\u001b[39m \u001b[90m\u001b[4mstdin:3\u001b[24m\u001b[39m\n",
      "during initialization of module OpenBLAS32_jll\n",
      "in expression starting at C:\\Users\\tristan\\.julia\\packages\\FLINT_jll\\lOnfC\\src\\wrappers\\x86_64-w64-mingw32.jl:6\n",
      "in expression starting at C:\\Users\\tristan\\.julia\\packages\\FLINT_jll\\lOnfC\\src\\FLINT_jll.jl:2\n",
      "in expression starting at stdin:3\n"
     ]
    },
    {
     "name": "stderr",
     "output_type": "stream",
     "text": [
      "\u001b[91m\u001b[1mERROR: \u001b[22m\u001b[39mLoadError: "
     ]
    },
    {
     "name": "stderr",
     "output_type": "stream",
     "text": [
      "Failed to precompile FLINT_jll [e134572f-a0d5-539d-bddf-3cad8db41a82] to \"C:\\\\Users\\\\tristan\\\\.julia\\\\compiled\\\\v1.10\\\\FLINT_jll\\\\jl_DC2D.tmp\"."
     ]
    },
    {
     "name": "stderr",
     "output_type": "stream",
     "text": [
      "\n",
      "Stacktrace:\n",
      "  [1] \u001b[0m\u001b[1merror\u001b[22m\u001b[0m\u001b[1m(\u001b[22m\u001b[90ms\u001b[39m::\u001b[0mString\u001b[0m\u001b[1m)\u001b[22m\n",
      "\u001b[90m    @\u001b[39m \u001b[90mBase\u001b[39m \u001b[90m.\\\u001b[39m\u001b[90m\u001b[4merror.jl:35\u001b[24m\u001b[39m\n",
      "  [2] \u001b[0m\u001b[1mcompilecache\u001b[22m\u001b[0m\u001b[1m(\u001b[22m\u001b[90mpkg\u001b[39m::\u001b[0mBase.PkgId, \u001b[90mpath\u001b[39m::\u001b[0mString, \u001b[90minternal_stderr\u001b[39m::\u001b[0mIO, \u001b[90minternal_stdout\u001b[39m::\u001b[0mIO, \u001b[90mkeep_loaded_modules\u001b[39m::\u001b[0mBool\u001b[0m\u001b[1m)\u001b[22m\n",
      "\u001b[90m    @\u001b[39m \u001b[90mBase\u001b[39m \u001b[90m.\\\u001b[39m\u001b[90m\u001b[4mloading.jl:2462\u001b[24m\u001b[39m\n",
      "  [3] \u001b[0m\u001b[1mcompilecache\u001b[22m\n",
      "\u001b[90m    @\u001b[39m \u001b[90mBase\u001b[39m \u001b[90m.\\\u001b[39m\u001b[90m\u001b[4mloading.jl:2334\u001b[24m\u001b[39m\u001b[90m [inlined]\u001b[39m\n",
      "  [4] \u001b[0m\u001b[1m(::Base.var\"#968#969\"{Base.PkgId})\u001b[22m\u001b[0m\u001b[1m(\u001b[22m\u001b[0m\u001b[1m)\u001b[22m\n",
      "\u001b[90m    @\u001b[39m \u001b[90mBase\u001b[39m \u001b[90m.\\\u001b[39m\u001b[90m\u001b[4mloading.jl:1968\u001b[24m\u001b[39m\n",
      "  [5] \u001b[0m\u001b[1mmkpidlock\u001b[22m\u001b[0m\u001b[1m(\u001b[22m\u001b[90mf\u001b[39m::\u001b[0mBase.var\"#968#969\"\u001b[90m{Base.PkgId}\u001b[39m, \u001b[90mat\u001b[39m::\u001b[0mString, \u001b[90mpid\u001b[39m::\u001b[0mInt32; \u001b[90mkwopts\u001b[39m::\u001b[0m@Kwargs\u001b[90m{stale_age::Int64, wait::Bool}\u001b[39m\u001b[0m\u001b[1m)\u001b[22m\n",
      "\u001b[90m    @\u001b[39m \u001b[35mFileWatching.Pidfile\u001b[39m \u001b[90mC:\\Users\\tristan\\.julia\\juliaup\\julia-1.10.0+0.x64.w64.mingw32\\share\\julia\\stdlib\\v1.10\\FileWatching\\src\\\u001b[39m\u001b[90m\u001b[4mpidfile.jl:93\u001b[24m\u001b[39m\n",
      "  [6] \u001b[0m\u001b[1m#mkpidlock#6\u001b[22m\n",
      "\u001b[90m    @\u001b[39m \u001b[35mFileWatching.Pidfile\u001b[39m \u001b[90mC:\\Users\\tristan\\.julia\\juliaup\\julia-1.10.0+0.x64.w64.mingw32\\share\\julia\\stdlib\\v1.10\\FileWatching\\src\\\u001b[39m\u001b[90m\u001b[4mpidfile.jl:88\u001b[24m\u001b[39m\u001b[90m [inlined]\u001b[39m\n",
      "  [7] \u001b[0m\u001b[1mtrymkpidlock\u001b[22m\u001b[0m\u001b[1m(\u001b[22m::\u001b[0mFunction, ::\u001b[0mVararg\u001b[90m{Any}\u001b[39m; \u001b[90mkwargs\u001b[39m::\u001b[0m@Kwargs\u001b[90m{stale_age::Int64}\u001b[39m\u001b[0m\u001b[1m)\u001b[22m\n",
      "\u001b[90m    @\u001b[39m \u001b[35mFileWatching.Pidfile\u001b[39m \u001b[90mC:\\Users\\tristan\\.julia\\juliaup\\julia-1.10.0+0.x64.w64.mingw32\\share\\julia\\stdlib\\v1.10\\FileWatching\\src\\\u001b[39m\u001b[90m\u001b[4mpidfile.jl:111\u001b[24m\u001b[39m\n",
      "  [8] \u001b[0m\u001b[1m#invokelatest#2\u001b[22m\n",
      "\u001b[90m    @\u001b[39m \u001b[90mBase\u001b[39m \u001b[90m.\\\u001b[39m\u001b[90m\u001b[4messentials.jl:889\u001b[24m\u001b[39m\u001b[90m [inlined]\u001b[39m\n",
      "  [9] \u001b[0m\u001b[1minvokelatest\u001b[22m\n",
      "\u001b[90m    @\u001b[39m \u001b[90mBase\u001b[39m \u001b[90m.\\\u001b[39m\u001b[90m\u001b[4messentials.jl:884\u001b[24m\u001b[39m\u001b[90m [inlined]\u001b[39m\n",
      " [10] \u001b[0m\u001b[1mmaybe_cachefile_lock\u001b[22m\u001b[0m\u001b[1m(\u001b[22m\u001b[90mf\u001b[39m::\u001b[0mBase.var\"#968#969\"\u001b[90m{Base.PkgId}\u001b[39m, \u001b[90mpkg\u001b[39m::\u001b[0mBase.PkgId, \u001b[90msrcpath\u001b[39m::\u001b[0mString; \u001b[90mstale_age\u001b[39m::\u001b[0mInt64\u001b[0m\u001b[1m)\u001b[22m\n",
      "\u001b[90m    @\u001b[39m \u001b[90mBase\u001b[39m \u001b[90m.\\\u001b[39m\u001b[90m\u001b[4mloading.jl:2977\u001b[24m\u001b[39m\n",
      " [11] \u001b[0m\u001b[1mmaybe_cachefile_lock\u001b[22m\n",
      "\u001b[90m    @\u001b[39m \u001b[90mBase\u001b[39m \u001b[90m.\\\u001b[39m\u001b[90m\u001b[4mloading.jl:2974\u001b[24m\u001b[39m\u001b[90m [inlined]\u001b[39m\n",
      " [12] \u001b[0m\u001b[1m_require\u001b[22m\u001b[0m\u001b[1m(\u001b[22m\u001b[90mpkg\u001b[39m::\u001b[0mBase.PkgId, \u001b[90menv\u001b[39m::\u001b[0mString\u001b[0m\u001b[1m)\u001b[22m\n",
      "\u001b[90m    @\u001b[39m \u001b[90mBase\u001b[39m \u001b[90m.\\\u001b[39m\u001b[90m\u001b[4mloading.jl:1964\u001b[24m\u001b[39m\n",
      " [13]"
     ]
    },
    {
     "name": "stderr",
     "output_type": "stream",
     "text": [
      " \u001b[0m\u001b[1m__require_prelocked\u001b[22m\u001b[0m\u001b[1m(\u001b[22m\u001b[90muuidkey\u001b[39m::\u001b[0mBase.PkgId, \u001b[90menv\u001b[39m::\u001b[0mString\u001b[0m\u001b[1m)\u001b[22m\n",
      "\u001b[90m    @\u001b[39m \u001b[90mBase\u001b[39m \u001b[90m.\\\u001b[39m\u001b[90m\u001b[4mloading.jl:1806\u001b[24m\u001b[39m\n",
      " [14] \u001b[0m\u001b[1m#invoke_in_world#3\u001b[22m\n",
      "\u001b[90m    @\u001b[39m \u001b[90mBase\u001b[39m \u001b[90m.\\\u001b[39m\u001b[90m\u001b[4messentials.jl:921\u001b[24m\u001b[39m\u001b[90m [inlined]\u001b[39m\n",
      " [15] \u001b[0m\u001b[1minvoke_in_world\u001b[22m\n",
      "\u001b[90m    @\u001b[39m \u001b[90mBase\u001b[39m \u001b[90m.\\\u001b[39m\u001b[90m\u001b[4messentials.jl:918\u001b[24m\u001b[39m\u001b[90m [inlined]\u001b[39m\n",
      " [16] \u001b[0m\u001b[1m_require_prelocked\u001b[22m\u001b[0m\u001b[1m(\u001b[22m\u001b[90muuidkey\u001b[39m::\u001b[0mBase.PkgId, \u001b[90menv\u001b[39m::\u001b[0mString\u001b[0m\u001b[1m)\u001b[22m\n",
      "\u001b[90m    @\u001b[39m \u001b[90mBase\u001b[39m \u001b[90m.\\\u001b[39m\u001b[90m\u001b[4mloading.jl:1797\u001b[24m\u001b[39m\n",
      " [17] \u001b[0m\u001b[1mmacro expansion\u001b[22m\n",
      "\u001b[90m    @\u001b[39m \u001b[90mBase\u001b[39m \u001b[90m.\\\u001b[39m\u001b[90m\u001b[4mloading.jl:1784\u001b[24m\u001b[39m\u001b[90m [inlined]\u001b[39m\n",
      " [18] \u001b[0m\u001b[1mmacro expansion\u001b[22m\n",
      "\u001b[90m    @\u001b[39m \u001b[90mBase\u001b[39m \u001b[90m.\\\u001b[39m\u001b[90m\u001b[4mlock.jl:267\u001b[24m\u001b[39m\u001b[90m [inlined]\u001b[39m\n",
      " [19] \u001b[0m\u001b[1m__require\u001b[22m\u001b[0m\u001b[1m(\u001b[22m\u001b[90minto\u001b[39m::\u001b[0mModule, \u001b[90mmod\u001b[39m::\u001b[0mSymbol\u001b[0m\u001b[1m)\u001b[22m\n",
      "\u001b[90m    @\u001b[39m \u001b[90mBase\u001b[39m \u001b[90m.\\\u001b[39m\u001b[90m\u001b[4mloading.jl:1747\u001b[24m\u001b[39m\n",
      " [20] \u001b[0m\u001b[1m#invoke_in_world#3\u001b[22m\n",
      "\u001b[90m    @\u001b[39m \u001b[90mBase\u001b[39m \u001b[90m.\\\u001b[39m\u001b[90m\u001b[4messentials.jl:921\u001b[24m\u001b[39m\u001b[90m [inlined]\u001b[39m\n",
      " [21] \u001b[0m\u001b[1minvoke_in_world\u001b[22m\n",
      "\u001b[90m    @\u001b[39m \u001b[90mBase\u001b[39m \u001b[90m.\\\u001b[39m\u001b[90m\u001b[4messentials.jl:918\u001b[24m\u001b[39m\u001b[90m [inlined]\u001b[39m\n",
      " [22] \u001b[0m\u001b[1mrequire\u001b[22m\u001b[0m\u001b[1m(\u001b[22m\u001b[90minto\u001b[39m::\u001b[0mModule, \u001b[90mmod\u001b[39m::\u001b[0mSymbol\u001b[0m\u001b[1m)\u001b[22m\n",
      "\u001b[90m    @\u001b[39m \u001b[90mBase\u001b[39m \u001b[90m.\\\u001b[39m\u001b[90m\u001b[4mloading.jl:1740\u001b[24m\u001b[39m\n",
      " [23] \u001b[0m\u001b[1minclude\u001b[22m\u001b[0m\u001b[1m(\u001b[22m\u001b[90mmod\u001b[39m::\u001b[0mModule, \u001b[90m_path\u001b[39m::\u001b[0mString\u001b[0m\u001b[1m)\u001b[22m\n",
      "\u001b[90m    @\u001b[39m \u001b[90mBase\u001b[39m \u001b[90m.\\\u001b[39m\u001b[90m\u001b[4mBase.jl:495\u001b[24m\u001b[39m\n",
      " [24] top-level scope\n",
      "\u001b[90m    @\u001b[39m \u001b[90mC:\\Users\\tristan\\.julia\\packages\\JLLWrappers\\QpMQW\\src\\\u001b[39m\u001b[90m\u001b[4mtoplevel_generators.jl:188\u001b[24m\u001b[39m\n",
      " [25] \u001b[0m\u001b[1minclude\u001b[22m\n",
      "\u001b[90m    @\u001b[39m \u001b[90mBase\u001b[39m \u001b[90m.\\\u001b[39m\u001b[90m\u001b[4mBase.jl:495\u001b[24m\u001b[39m\u001b[90m [inlined]\u001b[39m\n",
      " [26] \u001b[0m\u001b[1minclude_package_for_output\u001b[22m\u001b[0m\u001b[1m(\u001b[22m\u001b[90mpkg\u001b[39m::\u001b[0mBase.PkgId, \u001b[90minput\u001b[39m::\u001b[0mString, \u001b[90mdepot_path\u001b[39m::\u001b[0mVector\u001b[90m{String}\u001b[39m, \u001b[90mdl_load_path\u001b[39m::\u001b[0mVector\u001b[90m{String}\u001b[39m, \u001b[90mload_path\u001b[39m::\u001b[0mVector\u001b[90m{String}\u001b[39m, \u001b[90mconcrete_deps\u001b[39m::\u001b[0mVector\u001b[90m{Pair{Base.PkgId, UInt128}}\u001b[39m, \u001b[90msource\u001b[39m::\u001b[0mString\u001b[0m\u001b[1m)\u001b[22m\n",
      "\u001b[90m    @\u001b[39m \u001b[90mBase\u001b[39m \u001b[90m.\\\u001b[39m\u001b[90m\u001b[4mloading.jl:2216\u001b[24m\u001b[39m\n",
      " [27] top-level scope\n",
      "\u001b[90m    @\u001b[39m \u001b[90m\u001b[4mstdin:3\u001b[24m\u001b[39m\n",
      "in expression starting at C:\\Users\\tristan\\.julia\\packages\\Arb_jll\\JqgMf\\src\\wrappers\\x86_64-w64-mingw32.jl:4\n",
      "in expression starting at C:\\Users\\tristan\\.julia\\packages\\Arb_jll\\JqgMf\\src\\Arb_jll.jl:2\n",
      "in expression starting at stdin:3\n"
     ]
    },
    {
     "name": "stderr",
     "output_type": "stream",
     "text": [
      "\u001b[91m\u001b[1mERROR: \u001b[22m\u001b[39mLoadError: "
     ]
    },
    {
     "name": "stderr",
     "output_type": "stream",
     "text": [
      "Failed to precompile Arb_jll [d9960996-1013-53c9-9ba4-74a4155039c3] to \"C:\\\\Users\\\\tristan\\\\.julia\\\\compiled\\\\v1.10\\\\Arb_jll\\\\jl_D8C2.tmp\".\n",
      "Stacktrace:\n",
      "  [1] \u001b[0m\u001b[1merror\u001b[22m\u001b[0m\u001b[1m(\u001b[22m\u001b[90ms\u001b[39m::\u001b[0mString\u001b[0m\u001b[1m)\u001b[22m\n",
      "\u001b[90m    @\u001b[39m \u001b[90mBase\u001b[39m \u001b[90m.\\\u001b[39m\u001b[90m\u001b[4merror.jl:35\u001b[24m\u001b[39m\n",
      "  [2] \u001b[0m\u001b[1mcompilecache\u001b[22m\u001b[0m\u001b[1m(\u001b[22m\u001b[90mpkg\u001b[39m::\u001b[0mBase.PkgId, \u001b[90mpath\u001b[39m::\u001b[0mString, \u001b[90minternal_stderr\u001b[39m::\u001b[0mIO, \u001b[90minternal_stdout\u001b[39m::\u001b[0mIO, \u001b[90mkeep_loaded_modules\u001b[39m::\u001b[0mBool\u001b[0m\u001b[1m)\u001b[22m\n",
      "\u001b[90m    @\u001b[39m \u001b[90mBase\u001b[39m \u001b[90m.\\\u001b[39m\u001b[90m\u001b[4mloading.jl:2462\u001b[24m\u001b[39m\n",
      "  [3] \u001b[0m\u001b[1mcompilecache\u001b[22m\n",
      "\u001b[90m    @\u001b[39m \u001b[90mBase\u001b[39m \u001b[90m.\\\u001b[39m\u001b[90m\u001b[4mloading.jl:2334\u001b[24m\u001b[39m\u001b[90m [inlined]\u001b[39m\n",
      "  [4] \u001b[0m\u001b[1m(::Base.var\"#968#969\"{Base.PkgId})\u001b[22m\u001b[0m\u001b[1m(\u001b[22m\u001b[0m\u001b[1m)\u001b[22m\n",
      "\u001b[90m    @\u001b[39m \u001b[90mBase\u001b[39m \u001b[90m.\\\u001b[39m\u001b[90m\u001b[4mloading.jl:1968\u001b[24m\u001b[39m\n",
      "  [5] \u001b[0m\u001b[1mmkpidlock\u001b[22m\u001b[0m\u001b[1m(\u001b[22m\u001b[90mf\u001b[39m::\u001b[0mBase.var\"#968#969\"\u001b[90m{Base.PkgId}\u001b[39m, \u001b[90mat\u001b[39m::\u001b[0mString, \u001b[90mpid\u001b[39m::\u001b[0mInt32; \u001b[90mkwopts\u001b[39m::\u001b[0m@Kwargs\u001b[90m{stale_age::Int64, wait::Bool}\u001b[39m\u001b[0m\u001b[1m)\u001b[22m\n",
      "\u001b[90m    @\u001b[39m \u001b[35mFileWatching.Pidfile\u001b[39m \u001b[90mC:\\Users\\tristan\\.julia\\juliaup\\julia-1.10.0+0.x64.w64.mingw32\\share\\julia\\stdlib\\v1.10\\FileWatching\\src\\\u001b[39m\u001b[90m\u001b[4mpidfile.jl:93\u001b[24m\u001b[39m\n",
      "  [6] \u001b[0m\u001b[1m#mkpidlock#6\u001b[22m\n",
      "\u001b[90m    @\u001b[39m \u001b[35mFileWatching.Pidfile\u001b[39m \u001b[90mC:\\Users\\tristan\\.julia\\juliaup\\julia-1.10.0+0.x64.w64.mingw32\\share\\julia\\stdlib\\v1.10\\FileWatching\\src\\\u001b[39m\u001b[90m\u001b[4mpidfile.jl:88\u001b[24m\u001b[39m\u001b[90m [inlined]\u001b[39m\n",
      "  [7] \u001b[0m\u001b[1mtrymkpidlock\u001b[22m\u001b[0m\u001b[1m(\u001b[22m::\u001b[0mFunction, ::\u001b[0mVararg\u001b[90m{Any}\u001b[39m; \u001b[90mkwargs\u001b[39m::\u001b[0m@Kwargs\u001b[90m{stale_age::Int64}\u001b[39m\u001b[0m\u001b[1m)\u001b[22m\n",
      "\u001b[90m    @\u001b[39m \u001b[35mFileWatching.Pidfile\u001b[39m \u001b[90mC:\\Users\\tristan\\.julia\\juliaup\\julia-1.10.0+0.x64.w64.mingw32\\share\\julia\\stdlib\\v1.10\\FileWatching\\src\\\u001b[39m\u001b[90m\u001b[4mpidfile.jl:111\u001b[24m\u001b[39m\n",
      "  [8] \u001b[0m\u001b[1m#invokelatest#2\u001b[22m\n",
      "\u001b[90m    @\u001b[39m \u001b[90mBase\u001b[39m \u001b[90m.\\\u001b[39m\u001b[90m\u001b[4messentials.jl:889\u001b[24m\u001b[39m\u001b[90m [inlined]\u001b[39m\n",
      "  [9] \u001b[0m\u001b[1minvokelatest\u001b[22m\n",
      "\u001b[90m    @\u001b[39m \u001b[90mBase\u001b[39m \u001b[90m.\\\u001b[39m\u001b[90m\u001b[4messentials.jl:884\u001b[24m\u001b[39m\u001b[90m [inlined]\u001b[39m\n",
      " [10] \u001b[0m\u001b[1mmaybe_cachefile_lock\u001b[22m\u001b[0m\u001b[1m(\u001b[22m\u001b[90mf\u001b[39m::\u001b[0mBase.var\"#968#969\"\u001b[90m{Base.PkgId}\u001b[39m, \u001b[90mpkg\u001b[39m::\u001b[0mBase.PkgId, \u001b[90msrcpath\u001b[39m::\u001b[0mString; \u001b[90mstale_age\u001b[39m::\u001b[0mInt64\u001b[0m\u001b[1m)\u001b[22m\n",
      "\u001b[90m    @\u001b[39m \u001b[90mBase\u001b[39m \u001b[90m.\\\u001b[39m\u001b[90m\u001b[4mloading.jl:2977\u001b[24m\u001b[39m\n",
      " [11] \u001b[0m\u001b[1mmaybe_cachefile_lock\u001b[22m\n",
      "\u001b[90m    @\u001b[39m \u001b[90mBase\u001b[39m \u001b[90m.\\\u001b[39m\u001b[90m\u001b[4mloading.jl:2974\u001b[24m\u001b[39m\u001b[90m [inlined]\u001b[39m\n",
      " [12] \u001b[0m\u001b[1m_require\u001b[22m\u001b[0m\u001b[1m(\u001b[22m\u001b[90mpkg\u001b[39m::\u001b[0mBase.PkgId, \u001b[90menv\u001b[39m::\u001b[0mString\u001b[0m\u001b[1m)\u001b[22m\n",
      "\u001b[90m    @\u001b[39m \u001b[90mBase\u001b[39m \u001b[90m.\\\u001b[39m\u001b[90m\u001b[4mloading.jl:1964\u001b[24m\u001b[39m\n",
      " [13] \u001b[0m\u001b[1m__require_prelocked\u001b[22m\u001b[0m\u001b[1m(\u001b[22m\u001b[90muuidkey\u001b[39m::\u001b[0mBase.PkgId, \u001b[90menv\u001b[39m::\u001b[0mString\u001b[0m\u001b[1m)\u001b[22m\n",
      "\u001b[90m    @\u001b[39m \u001b[90mBase\u001b[39m \u001b[90m.\\\u001b[39m\u001b[90m\u001b[4mloading.jl:1806\u001b[24m\u001b[39m\n",
      " [14] \u001b[0m\u001b[1m#invoke_in_world#3\u001b[22m\n",
      "\u001b[90m    @\u001b[39m \u001b[90mBase\u001b[39m \u001b[90m.\\\u001b[39m\u001b[90m\u001b[4messentials.jl:921\u001b[24m\u001b[39m\u001b[90m [inlined]\u001b[39m\n",
      " [15] \u001b[0m\u001b[1minvoke_in_world\u001b[22m\n",
      "\u001b[90m    @\u001b[39m \u001b[90mBase\u001b[39m \u001b[90m.\\\u001b[39m\u001b[90m\u001b[4messentials.jl:918\u001b[24m\u001b[39m\u001b[90m [inlined]\u001b[39m\n",
      " [16] \u001b[0m\u001b[1m_require_prelocked\u001b[22m\u001b[0m\u001b[1m(\u001b[22m\u001b[90muuidkey\u001b[39m::\u001b[0mBase.PkgId, \u001b[90menv\u001b[39m::\u001b[0mString\u001b[0m\u001b[1m)\u001b[22m\n",
      "\u001b[90m    @\u001b[39m \u001b[90mBase\u001b[39m \u001b[90m.\\\u001b[39m\u001b[90m\u001b[4mloading.jl:1797\u001b[24m\u001b[39m\n",
      " [17] \u001b[0m\u001b[1mmacro expansion\u001b[22m\n",
      "\u001b[90m    @\u001b[39m \u001b[90mBase\u001b[39m \u001b[90m.\\\u001b[39m\u001b[90m\u001b[4mloading.jl:1784\u001b[24m\u001b[39m\u001b[90m [inlined]\u001b[39m\n",
      " [18] \u001b[0m\u001b[1mmacro expansion\u001b[22m\n",
      "\u001b[90m    @\u001b[39m \u001b[90mBase\u001b[39m \u001b[90m.\\\u001b[39m\u001b[90m\u001b[4mlock.jl:267\u001b[24m\u001b[39m\u001b[90m [inlined]\u001b[39m\n",
      " [19] \u001b[0m\u001b[1m__require\u001b[22m\u001b[0m\u001b[1m(\u001b[22m\u001b[90minto\u001b[39m::\u001b[0mModule, \u001b[90mmod\u001b[39m::\u001b[0mSymbol\u001b[0m\u001b[1m)\u001b[22m\n",
      "\u001b[90m    @\u001b[39m \u001b[90mBase\u001b[39m \u001b[90m.\\\u001b[39m\u001b[90m\u001b[4mloading.jl:1747\u001b[24m\u001b[39m\n",
      " [20] "
     ]
    },
    {
     "name": "stderr",
     "output_type": "stream",
     "text": [
      "\u001b[0m\u001b[1m#invoke_in_world#3\u001b[22m\n",
      "\u001b[90m    @\u001b[39m \u001b[90mBase\u001b[39m \u001b[90m.\\\u001b[39m\u001b[90m\u001b[4messentials.jl:921\u001b[24m\u001b[39m\u001b[90m [inlined]\u001b[39m\n",
      " [21] \u001b[0m\u001b[1minvoke_in_world\u001b[22m\n",
      "\u001b[90m    @\u001b[39m \u001b[90mBase\u001b[39m \u001b[90m.\\\u001b[39m\u001b[90m\u001b[4messentials.jl:918\u001b[24m\u001b[39m\u001b[90m [inlined]\u001b[39m\n",
      " [22] \u001b[0m\u001b[1mrequire\u001b[22m\u001b[0m\u001b[1m(\u001b[22m\u001b[90minto\u001b[39m::\u001b[0mModule, \u001b[90mmod\u001b[39m::\u001b[0mSymbol\u001b[0m\u001b[1m)\u001b[22m\n",
      "\u001b[90m    @\u001b[39m \u001b[90mBase\u001b[39m \u001b[90m.\\\u001b[39m\u001b[90m\u001b[4mloading.jl:1740\u001b[24m\u001b[39m\n",
      " [23] \u001b[0m\u001b[1minclude\u001b[22m\n",
      "\u001b[90m    @\u001b[39m \u001b[90mBase\u001b[39m \u001b[90m.\\\u001b[39m\u001b[90m\u001b[4mBase.jl:495\u001b[24m\u001b[39m\u001b[90m [inlined]\u001b[39m\n",
      " [24] \u001b[0m\u001b[1minclude_package_for_output\u001b[22m\u001b[0m\u001b[1m(\u001b[22m\u001b[90mpkg\u001b[39m::\u001b[0mBase.PkgId, \u001b[90minput\u001b[39m::\u001b[0mString, \u001b[90mdepot_path\u001b[39m::\u001b[0mVector\u001b[90m{String}\u001b[39m, \u001b[90mdl_load_path\u001b[39m::\u001b[0mVector\u001b[90m{String}\u001b[39m, \u001b[90mload_path\u001b[39m::\u001b[0mVector\u001b[90m{String}\u001b[39m, \u001b[90mconcrete_deps\u001b[39m::\u001b[0mVector\u001b[90m{Pair{Base.PkgId, UInt128}}\u001b[39m, \u001b[90msource\u001b[39m::\u001b[0mString\u001b[0m\u001b[1m)\u001b[22m\n",
      "\u001b[90m    @\u001b[39m \u001b[90mBase\u001b[39m \u001b[90m.\\\u001b[39m\u001b[90m\u001b[4mloading.jl:2216\u001b[24m\u001b[39m\n",
      " [25] top-level scope\n",
      "\u001b[90m    @\u001b[39m \u001b[90m\u001b[4mstdin:3\u001b[24m\u001b[39m\n",
      "in expression starting at C:\\Users\\tristan\\.julia\\packages\\Arblib\\PdCpA\\src\\Arblib.jl:1\n",
      "in expression starting at stdin:3\n"
     ]
    },
    {
     "name": "stderr",
     "output_type": "stream",
     "text": [
      "\u001b[91m\u001b[1mERROR: \u001b[22m\u001b[39mLoadError: "
     ]
    },
    {
     "name": "stderr",
     "output_type": "stream",
     "text": [
      "Failed to precompile Arblib [fb37089c-8514-4489-9461-98f9c8763369] to \"C:\\\\Users\\\\tristan\\\\.julia\\\\compiled\\\\v1.10\\\\Arblib\\\\jl_D74B.tmp\".\n",
      "Stacktrace:\n",
      "  [1] \u001b[0m\u001b[1merror\u001b[22m\u001b[0m\u001b[1m(\u001b[22m\u001b[90ms\u001b[39m::\u001b[0mString\u001b[0m\u001b[1m)\u001b[22m\n",
      "\u001b[90m    @\u001b[39m \u001b[90mBase\u001b[39m \u001b[90m.\\\u001b[39m\u001b[90m\u001b[4merror.jl:35\u001b[24m\u001b[39m\n",
      "  [2] \u001b[0m\u001b[1mcompilecache\u001b[22m\u001b[0m\u001b[1m(\u001b[22m\u001b[90mpkg\u001b[39m::\u001b[0mBase.PkgId, \u001b[90mpath\u001b[39m::\u001b[0mString, \u001b[90minternal_stderr\u001b[39m::\u001b[0mIO, \u001b[90minternal_stdout\u001b[39m::\u001b[0mIO, \u001b[90mkeep_loaded_modules\u001b[39m::\u001b[0mBool\u001b[0m\u001b[1m)\u001b[22m\n",
      "\u001b[90m    @\u001b[39m \u001b[90mBase\u001b[39m \u001b[90m.\\\u001b[39m\u001b[90m\u001b[4mloading.jl:2462\u001b[24m\u001b[39m\n",
      "  [3] \u001b[0m\u001b[1mcompilecache\u001b[22m\n",
      "\u001b[90m    @\u001b[39m \u001b[90mBase\u001b[39m \u001b[90m.\\\u001b[39m\u001b[90m\u001b[4mloading.jl:2334\u001b[24m\u001b[39m\u001b[90m [inlined]\u001b[39m\n",
      "  [4] \u001b[0m\u001b[1m(::Base.var\"#968#969\"{Base.PkgId})\u001b[22m\u001b[0m\u001b[1m(\u001b[22m\u001b[0m\u001b[1m)\u001b[22m\n",
      "\u001b[90m    @\u001b[39m \u001b[90mBase\u001b[39m \u001b[90m.\\\u001b[39m\u001b[90m\u001b[4mloading.jl:1968\u001b[24m\u001b[39m\n",
      "  [5] \u001b[0m\u001b[1mmkpidlock\u001b[22m\u001b[0m\u001b[1m(\u001b[22m\u001b[90mf\u001b[39m::\u001b[0mBase.var\"#968#969\"\u001b[90m{Base.PkgId}\u001b[39m, \u001b[90mat\u001b[39m::\u001b[0mString, \u001b[90mpid\u001b[39m::\u001b[0mInt32; \u001b[90mkwopts\u001b[39m::\u001b[0m@Kwargs\u001b[90m{stale_age::Int64, wait::Bool}\u001b[39m\u001b[0m\u001b[1m)\u001b[22m\n",
      "\u001b[90m    @\u001b[39m \u001b[35mFileWatching.Pidfile\u001b[39m \u001b[90mC:\\Users\\tristan\\.julia\\juliaup\\julia-1.10.0+0.x64.w64.mingw32\\share\\julia\\stdlib\\v1.10\\FileWatching\\src\\\u001b[39m\u001b[90m\u001b[4mpidfile.jl:93\u001b[24m\u001b[39m\n",
      "  [6] \u001b[0m\u001b[1m#mkpidlock#6\u001b[22m\n",
      "\u001b[90m    @\u001b[39m \u001b[35mFileWatching.Pidfile\u001b[39m \u001b[90mC:\\Users\\tristan\\.julia\\juliaup\\julia-1.10.0+0.x64.w64.mingw32\\share\\julia\\stdlib\\v1.10\\FileWatching\\src\\\u001b[39m\u001b[90m\u001b[4mpidfile.jl:88\u001b[24m\u001b[39m\u001b[90m [inlined]\u001b[39m\n",
      "  [7] \u001b[0m\u001b[1mtrymkpidlock\u001b[22m\u001b[0m\u001b[1m(\u001b[22m::\u001b[0mFunction, ::\u001b[0mVararg\u001b[90m{Any}\u001b[39m; \u001b[90mkwargs\u001b[39m::\u001b[0m@Kwargs\u001b[90m{stale_age::Int64}\u001b[39m\u001b[0m\u001b[1m)\u001b[22m\n",
      "\u001b[90m    @\u001b[39m"
     ]
    },
    {
     "name": "stderr",
     "output_type": "stream",
     "text": [
      " \u001b[35mFileWatching.Pidfile\u001b[39m \u001b[90mC:\\Users\\tristan\\.julia\\juliaup\\julia-1.10.0+0.x64.w64.mingw32\\share\\julia\\stdlib\\v1.10\\FileWatching\\src\\\u001b[39m\u001b[90m\u001b[4mpidfile.jl:111\u001b[24m\u001b[39m\n",
      "  [8] \u001b[0m\u001b[1m#invokelatest#2\u001b[22m\n",
      "\u001b[90m    @\u001b[39m \u001b[90mBase\u001b[39m \u001b[90m.\\\u001b[39m\u001b[90m\u001b[4messentials.jl:889\u001b[24m\u001b[39m\u001b[90m [inlined]\u001b[39m\n",
      "  [9] \u001b[0m\u001b[1minvokelatest\u001b[22m\n",
      "\u001b[90m    @\u001b[39m \u001b[90mBase\u001b[39m \u001b[90m.\\\u001b[39m\u001b[90m\u001b[4messentials.jl:884\u001b[24m\u001b[39m\u001b[90m [inlined]\u001b[39m\n",
      " [10] \u001b[0m\u001b[1mmaybe_cachefile_lock\u001b[22m\u001b[0m\u001b[1m(\u001b[22m\u001b[90mf\u001b[39m::\u001b[0mBase.var\"#968#969\"\u001b[90m{Base.PkgId}\u001b[39m, \u001b[90mpkg\u001b[39m::\u001b[0mBase.PkgId, \u001b[90msrcpath\u001b[39m::\u001b[0mString; \u001b[90mstale_age\u001b[39m::\u001b[0mInt64\u001b[0m\u001b[1m)\u001b[22m\n",
      "\u001b[90m    @\u001b[39m \u001b[90mBase\u001b[39m \u001b[90m.\\\u001b[39m\u001b[90m\u001b[4mloading.jl:2977\u001b[24m\u001b[39m\n",
      " [11] \u001b[0m\u001b[1mmaybe_cachefile_lock\u001b[22m\n",
      "\u001b[90m    @\u001b[39m \u001b[90mBase\u001b[39m \u001b[90m.\\\u001b[39m\u001b[90m\u001b[4mloading.jl:2974\u001b[24m\u001b[39m\u001b[90m [inlined]\u001b[39m\n",
      " [12] \u001b[0m\u001b[1m_require\u001b[22m\u001b[0m\u001b[1m(\u001b[22m\u001b[90mpkg\u001b[39m::\u001b[0mBase.PkgId, \u001b[90menv\u001b[39m::\u001b[0mString\u001b[0m\u001b[1m)\u001b[22m\n",
      "\u001b[90m    @\u001b[39m \u001b[90mBase\u001b[39m \u001b[90m.\\\u001b[39m\u001b[90m\u001b[4mloading.jl:1964\u001b[24m\u001b[39m\n",
      " [13] \u001b[0m\u001b[1m__require_prelocked\u001b[22m\u001b[0m\u001b[1m(\u001b[22m\u001b[90muuidkey\u001b[39m::\u001b[0mBase.PkgId, \u001b[90menv\u001b[39m::\u001b[0mString\u001b[0m\u001b[1m)\u001b[22m\n",
      "\u001b[90m    @\u001b[39m \u001b[90mBase\u001b[39m \u001b[90m.\\\u001b[39m\u001b[90m\u001b[4mloading.jl:1806\u001b[24m\u001b[39m\n",
      " [14] \u001b[0m\u001b[1m#invoke_in_world#3\u001b[22m\n",
      "\u001b[90m    @\u001b[39m \u001b[90mBase\u001b[39m \u001b[90m.\\\u001b[39m\u001b[90m\u001b[4messentials.jl:921\u001b[24m\u001b[39m\u001b[90m [inlined]\u001b[39m\n",
      " [15] \u001b[0m\u001b[1minvoke_in_world\u001b[22m\n",
      "\u001b[90m    @\u001b[39m \u001b[90mBase\u001b[39m \u001b[90m.\\\u001b[39m\u001b[90m\u001b[4messentials.jl:918\u001b[24m\u001b[39m\u001b[90m [inlined]\u001b[39m\n",
      " [16] \u001b[0m\u001b[1m_require_prelocked\u001b[22m\u001b[0m\u001b[1m(\u001b[22m\u001b[90muuidkey\u001b[39m::\u001b[0mBase.PkgId, \u001b[90menv\u001b[39m::\u001b[0mString\u001b[0m\u001b[1m)\u001b[22m\n",
      "\u001b[90m    @\u001b[39m \u001b[90mBase\u001b[39m \u001b[90m.\\\u001b[39m\u001b[90m\u001b[4mloading.jl:1797\u001b[24m\u001b[39m\n",
      " [17] \u001b[0m\u001b[1mmacro expansion\u001b[22m\n",
      "\u001b[90m    @\u001b[39m \u001b[90mBase\u001b[39m \u001b[90m.\\\u001b[39m\u001b[90m\u001b[4mloading.jl:1784\u001b[24m\u001b[39m\u001b[90m [inlined]\u001b[39m\n",
      " [18] \u001b[0m\u001b[1mmacro expansion\u001b[22m\n",
      "\u001b[90m    @\u001b[39m \u001b[90mBase\u001b[39m \u001b[90m.\\\u001b[39m\u001b[90m\u001b[4mlock.jl:267\u001b[24m\u001b[39m\u001b[90m [inlined]\u001b[39m\n",
      " [19] \u001b[0m\u001b[1m__require\u001b[22m\u001b[0m\u001b[1m(\u001b[22m\u001b[90minto\u001b[39m::\u001b[0mModule, \u001b[90mmod\u001b[39m::\u001b[0mSymbol\u001b[0m\u001b[1m)\u001b[22m\n",
      "\u001b[90m    @\u001b[39m \u001b[90mBase\u001b[39m \u001b[90m.\\\u001b[39m\u001b[90m\u001b[4mloading.jl:1747\u001b[24m\u001b[39m\n",
      " [20] \u001b[0m\u001b[1m#invoke_in_world#3\u001b[22m\n",
      "\u001b[90m    @\u001b[39m \u001b[90mBase\u001b[39m \u001b[90m.\\\u001b[39m\u001b[90m\u001b[4messentials.jl:921\u001b[24m\u001b[39m\u001b[90m [inlined]\u001b[39m\n",
      " [21] \u001b[0m\u001b[1minvoke_in_world\u001b[22m\n",
      "\u001b[90m    @\u001b[39m \u001b[90mBase\u001b[39m \u001b[90m.\\\u001b[39m\u001b[90m\u001b[4messentials.jl:918\u001b[24m\u001b[39m\u001b[90m [inlined]\u001b[39m\n",
      " [22] \u001b[0m\u001b[1mrequire\u001b[22m\u001b[0m\u001b[1m(\u001b[22m\u001b[90minto\u001b[39m::\u001b[0mModule, \u001b[90mmod\u001b[39m::\u001b[0mSymbol\u001b[0m\u001b[1m)\u001b[22m\n",
      "\u001b[90m    @\u001b[39m \u001b[90mBase\u001b[39m \u001b[90m.\\\u001b[39m\u001b[90m\u001b[4mloading.jl:1740\u001b[24m\u001b[39m\n",
      " [23] \u001b[0m\u001b[1minclude\u001b[22m\n",
      "\u001b[90m    @\u001b[39m \u001b[90mBase\u001b[39m \u001b[90m.\\\u001b[39m\u001b[90m\u001b[4mBase.jl:495\u001b[24m\u001b[39m\u001b[90m [inlined]\u001b[39m\n",
      " [24] \u001b[0m\u001b[1minclude_package_for_output\u001b[22m\u001b[0m\u001b[1m(\u001b[22m\u001b[90mpkg\u001b[39m::\u001b[0mBase.PkgId, \u001b[90minput\u001b[39m::\u001b[0mString, \u001b[90mdepot_path\u001b[39m::\u001b[0mVector\u001b[90m{String}\u001b[39m, \u001b[90mdl_load_path\u001b[39m::\u001b[0mVector\u001b[90m{String}\u001b[39m, \u001b[90mload_path\u001b[39m::\u001b[0mVector\u001b[90m{String}\u001b[39m, \u001b[90mconcrete_deps\u001b[39m::\u001b[0mVector\u001b[90m{Pair{Base.PkgId, UInt128}}\u001b[39m, \u001b[90msource\u001b[39m::\u001b[0mString\u001b[0m\u001b[1m)\u001b[22m\n",
      "\u001b[90m    @\u001b[39m \u001b[90mBase\u001b[39m \u001b[90m.\\\u001b[39m\u001b[90m\u001b[4mloading.jl:2216\u001b[24m\u001b[39m\n",
      " [25] top-level scope\n",
      "\u001b[90m    @\u001b[39m \u001b[90m\u001b[4mstdin:3\u001b[24m\u001b[39m\n",
      "in expression starting at C:\\Users\\tristan\\.julia\\packages\\HomotopyContinuation\\I1faM\\src\\HomotopyContinuation.jl:1\n",
      "in expression starting at stdin:3\n"
     ]
    },
    {
     "name": "stderr",
     "output_type": "stream",
     "text": [
      "\u001b[91m\u001b[1mERROR: \u001b[22m\u001b[39mLoadError: "
     ]
    },
    {
     "name": "stderr",
     "output_type": "stream",
     "text": [
      "Failed to precompile HomotopyContinuation [f213a82b-91d6-5c5d-acf7-10f1c761b327] to \"C:\\\\Users\\\\tristan\\\\.julia\\\\compiled\\\\v1.10\\\\HomotopyContinuation\\\\jl_D595.tmp\".\n",
      "Stacktrace:\n",
      "  [1] \u001b[0m\u001b[1merror\u001b[22m\u001b[0m\u001b[1m(\u001b[22m\u001b[90ms\u001b[39m::\u001b[0mString\u001b[0m\u001b[1m)\u001b[22m\n",
      "\u001b[90m    @\u001b[39m \u001b[90mBase\u001b[39m \u001b[90m.\\\u001b[39m\u001b[90m\u001b[4merror.jl:35\u001b[24m\u001b[39m\n",
      "  [2] \u001b[0m\u001b[1mcompilecache\u001b[22m\u001b[0m\u001b[1m(\u001b[22m\u001b[90mpkg\u001b[39m::\u001b[0mBase.PkgId, \u001b[90mpath\u001b[39m::\u001b[0mString, \u001b[90minternal_stderr\u001b[39m::\u001b[0mIO, \u001b[90minternal_stdout\u001b[39m::\u001b[0mIO, \u001b[90mkeep_loaded_modules\u001b[39m::\u001b[0mBool\u001b[0m\u001b[1m)\u001b[22m\n",
      "\u001b[90m    @\u001b[39m \u001b[90mBase\u001b[39m \u001b[90m.\\\u001b[39m\u001b[90m\u001b[4mloading.jl:2462\u001b[24m\u001b[39m\n",
      "  [3] \u001b[0m\u001b[1mcompilecache\u001b[22m\n",
      "\u001b[90m    @\u001b[39m \u001b[90mBase\u001b[39m \u001b[90m.\\\u001b[39m\u001b[90m\u001b[4mloading.jl:2334\u001b[24m\u001b[39m\u001b[90m [inlined]\u001b[39m\n",
      "  [4] \u001b[0m\u001b[1m(::Base.var\"#968#969\"{Base.PkgId})\u001b[22m\u001b[0m\u001b[1m(\u001b[22m\u001b[0m\u001b[1m)\u001b[22m\n",
      "\u001b[90m    @\u001b[39m \u001b[90mBase\u001b[39m \u001b[90m.\\\u001b[39m\u001b[90m\u001b[4mloading.jl:1968\u001b[24m\u001b[39m\n",
      "  [5] \u001b[0m\u001b[1mmkpidlock\u001b[22m\u001b[0m\u001b[1m(\u001b[22m\u001b[90mf\u001b[39m::\u001b[0mBase.var\"#968#969\"\u001b[90m{Base.PkgId}\u001b[39m, \u001b[90mat\u001b[39m::\u001b[0mString, \u001b[90mpid\u001b[39m::\u001b[0mInt32; \u001b[90mkwopts\u001b[39m::\u001b[0m@Kwargs\u001b[90m{stale_age::Int64, wait::Bool}\u001b[39m\u001b[0m\u001b[1m)\u001b[22m\n",
      "\u001b[90m    @\u001b[39m \u001b[35mFileWatching.Pidfile\u001b[39m \u001b[90mC:\\Users\\tristan\\.julia\\juliaup\\julia-1.10.0+0.x64.w64.mingw32\\share\\julia\\stdlib\\v1.10\\FileWatching\\src\\\u001b[39m\u001b[90m\u001b[4mpidfile.jl:93\u001b[24m\u001b[39m\n",
      "  [6] \u001b[0m\u001b[1m#mkpidlock#6\u001b[22m\n",
      "\u001b[90m    @\u001b[39m \u001b[35mFileWatching.Pidfile\u001b[39m \u001b[90mC:\\Users\\tristan\\.julia\\juliaup\\julia-1.10.0+0.x64.w64.mingw32\\share\\julia\\stdlib\\v1.10\\FileWatching\\src\\\u001b[39m\u001b[90m\u001b[4mpidfile.jl:88\u001b[24m\u001b[39m\u001b[90m [inlined]\u001b[39m\n",
      "  [7] \u001b[0m\u001b[1mtrymkpidlock\u001b[22m\u001b[0m\u001b[1m(\u001b[22m::\u001b[0mFunction, ::\u001b[0mVararg\u001b[90m{Any}\u001b[39m; \u001b[90mkwargs\u001b[39m::\u001b[0m@Kwargs\u001b[90m{stale_age::Int64}\u001b[39m\u001b[0m\u001b[1m)\u001b[22m\n"
     ]
    },
    {
     "name": "stderr",
     "output_type": "stream",
     "text": [
      "\u001b[90m    @\u001b[39m \u001b[35mFileWatching.Pidfile\u001b[39m \u001b[90mC:\\Users\\tristan\\.julia\\juliaup\\julia-1.10.0+0.x64.w64.mingw32\\share\\julia\\stdlib\\v1.10\\FileWatching\\src\\\u001b[39m\u001b[90m\u001b[4mpidfile.jl:111\u001b[24m\u001b[39m\n",
      "  [8] \u001b[0m\u001b[1m#invokelatest#2\u001b[22m\n",
      "\u001b[90m    @\u001b[39m \u001b[90mBase\u001b[39m \u001b[90m.\\\u001b[39m\u001b[90m\u001b[4messentials.jl:889\u001b[24m\u001b[39m\u001b[90m [inlined]\u001b[39m\n",
      "  [9] \u001b[0m\u001b[1minvokelatest\u001b[22m\n",
      "\u001b[90m    @\u001b[39m \u001b[90mBase\u001b[39m \u001b[90m.\\\u001b[39m\u001b[90m\u001b[4messentials.jl:884\u001b[24m\u001b[39m\u001b[90m [inlined]\u001b[39m\n",
      " [10] \u001b[0m\u001b[1mmaybe_cachefile_lock\u001b[22m\u001b[0m\u001b[1m(\u001b[22m\u001b[90mf\u001b[39m::\u001b[0mBase.var\"#968#969\"\u001b[90m{Base.PkgId}\u001b[39m, \u001b[90mpkg\u001b[39m::\u001b[0mBase.PkgId, \u001b[90msrcpath\u001b[39m::\u001b[0mString; \u001b[90mstale_age\u001b[39m::\u001b[0mInt64\u001b[0m\u001b[1m)\u001b[22m\n",
      "\u001b[90m    @\u001b[39m \u001b[90mBase\u001b[39m \u001b[90m.\\\u001b[39m\u001b[90m\u001b[4mloading.jl:2977\u001b[24m\u001b[39m\n",
      " [11] \u001b[0m\u001b[1mmaybe_cachefile_lock\u001b[22m\n",
      "\u001b[90m    @\u001b[39m \u001b[90mBase\u001b[39m \u001b[90m.\\\u001b[39m\u001b[90m\u001b[4mloading.jl:2974\u001b[24m\u001b[39m\u001b[90m [inlined]\u001b[39m\n",
      " [12] \u001b[0m\u001b[1m_require\u001b[22m\u001b[0m\u001b[1m(\u001b[22m\u001b[90mpkg\u001b[39m::\u001b[0mBase.PkgId, \u001b[90menv\u001b[39m::\u001b[0mString\u001b[0m\u001b[1m)\u001b[22m\n",
      "\u001b[90m    @\u001b[39m \u001b[90mBase\u001b[39m \u001b[90m.\\\u001b[39m\u001b[90m\u001b[4mloading.jl:1964\u001b[24m\u001b[39m\n",
      " [13] \u001b[0m\u001b[1m__require_prelocked\u001b[22m\u001b[0m\u001b[1m(\u001b[22m\u001b[90muuidkey\u001b[39m::\u001b[0mBase.PkgId, \u001b[90menv\u001b[39m::\u001b[0mString\u001b[0m\u001b[1m)\u001b[22m\n",
      "\u001b[90m    @\u001b[39m \u001b[90mBase\u001b[39m \u001b[90m.\\\u001b[39m\u001b[90m\u001b[4mloading.jl:1806\u001b[24m\u001b[39m\n",
      " [14] \u001b[0m\u001b[1m#invoke_in_world#3\u001b[22m\n",
      "\u001b[90m    @\u001b[39m \u001b[90mBase\u001b[39m \u001b[90m.\\\u001b[39m\u001b[90m\u001b[4messentials.jl:921\u001b[24m\u001b[39m\u001b[90m [inlined]\u001b[39m\n",
      " [15] \u001b[0m\u001b[1minvoke_in_world\u001b[22m\n",
      "\u001b[90m    @\u001b[39m \u001b[90mBase\u001b[39m \u001b[90m.\\\u001b[39m\u001b[90m\u001b[4messentials.jl:918\u001b[24m\u001b[39m\u001b[90m [inlined]\u001b[39m\n",
      " [16] \u001b[0m\u001b[1m_require_prelocked\u001b[22m\u001b[0m\u001b[1m(\u001b[22m\u001b[90muuidkey\u001b[39m::\u001b[0mBase.PkgId, \u001b[90menv\u001b[39m::\u001b[0mString\u001b[0m\u001b[1m)\u001b[22m\n",
      "\u001b[90m    @\u001b[39m \u001b[90mBase\u001b[39m \u001b[90m.\\\u001b[39m\u001b[90m\u001b[4mloading.jl:1797\u001b[24m\u001b[39m\n",
      " [17] \u001b[0m\u001b[1mmacro expansion\u001b[22m\n",
      "\u001b[90m    @\u001b[39m \u001b[90mBase\u001b[39m \u001b[90m.\\\u001b[39m\u001b[90m\u001b[4mloading.jl:1784\u001b[24m\u001b[39m\u001b[90m [inlined]\u001b[39m\n",
      " [18] \u001b[0m\u001b[1mmacro expansion\u001b[22m\n",
      "\u001b[90m    @\u001b[39m \u001b[90mBase\u001b[39m \u001b[90m.\\\u001b[39m\u001b[90m\u001b[4mlock.jl:267\u001b[24m\u001b[39m\u001b[90m [inlined]\u001b[39m\n",
      " [19] \u001b[0m\u001b[1m__require\u001b[22m\u001b[0m\u001b[1m(\u001b[22m\u001b[90minto\u001b[39m::\u001b[0mModule, \u001b[90mmod\u001b[39m::\u001b[0mSymbol\u001b[0m\u001b[1m)\u001b[22m\n",
      "\u001b[90m    @\u001b[39m \u001b[90mBase\u001b[39m \u001b[90m.\\\u001b[39m\u001b[90m\u001b[4mloading.jl:1747\u001b[24m\u001b[39m\n",
      " [20] \u001b[0m\u001b[1m#invoke_in_world#3\u001b[22m\n",
      "\u001b[90m    @\u001b[39m \u001b[90mBase\u001b[39m \u001b[90m.\\\u001b[39m\u001b[90m\u001b[4messentials.jl:921\u001b[24m\u001b[39m\u001b[90m [inlined]\u001b[39m\n",
      " [21] \u001b[0m\u001b[1minvoke_in_world\u001b[22m\n",
      "\u001b[90m    @\u001b[39m \u001b[90mBase\u001b[39m \u001b[90m.\\\u001b[39m\u001b[90m\u001b[4messentials.jl:918\u001b[24m\u001b[39m\u001b[90m [inlined]\u001b[39m\n",
      " [22] \u001b[0m\u001b[1mrequire\u001b[22m\u001b[0m\u001b[1m(\u001b[22m\u001b[90minto\u001b[39m::\u001b[0mModule, \u001b[90mmod\u001b[39m::\u001b[0mSymbol\u001b[0m\u001b[1m)\u001b[22m\n",
      "\u001b[90m    @\u001b[39m \u001b[90mBase\u001b[39m \u001b[90m.\\\u001b[39m\u001b[90m\u001b[4mloading.jl:1740\u001b[24m\u001b[39m\n",
      " [23] \u001b[0m\u001b[1minclude\u001b[22m\n",
      "\u001b[90m    @\u001b[39m \u001b[90mBase\u001b[39m \u001b[90m.\\\u001b[39m\u001b[90m\u001b[4mBase.jl:495\u001b[24m\u001b[39m\u001b[90m [inlined]\u001b[39m\n",
      " [24] \u001b[0m\u001b[1minclude_package_for_output\u001b[22m\u001b[0m\u001b[1m(\u001b[22m\u001b[90mpkg\u001b[39m::\u001b[0mBase.PkgId, \u001b[90minput\u001b[39m::\u001b[0mString, \u001b[90mdepot_path\u001b[39m::\u001b[0mVector\u001b[90m{String}\u001b[39m, \u001b[90mdl_load_path\u001b[39m::\u001b[0mVector\u001b[90m{String}\u001b[39m, \u001b[90mload_path\u001b[39m::\u001b[0mVector\u001b[90m{String}\u001b[39m, \u001b[90mconcrete_deps\u001b[39m::\u001b[0mVector\u001b[90m{Pair{Base.PkgId, UInt128}}\u001b[39m, \u001b[90msource\u001b[39m::\u001b[0mString\u001b[0m\u001b[1m)\u001b[22m\n",
      "\u001b[90m    @\u001b[39m \u001b[90mBase\u001b[39m \u001b[90m.\\\u001b[39m\u001b[90m\u001b[4mloading.jl:2216\u001b[24m\u001b[39m\n",
      " [25] top-level scope\n",
      "\u001b[90m    @\u001b[39m \u001b[90m\u001b[4mstdin:3\u001b[24m\u001b[39m\n",
      "in expression starting at c:\\Users\\tristan\\Documents\\UniWork\\Projects\\PLD\\src\\PLD.jl:1\n",
      "in expression starting at stdin:3\n"
     ]
    },
    {
     "ename": "ErrorException",
     "evalue": "Failed to precompile PLD [c1d09e2c-3546-4f07-a396-27af1e299779] to \"C:\\\\Users\\\\tristan\\\\.julia\\\\compiled\\\\v1.10\\\\PLD\\\\jl_D419.tmp\".",
     "output_type": "error",
     "traceback": [
      "Failed to precompile PLD [c1d09e2c-3546-4f07-a396-27af1e299779] to \"C:\\\\Users\\\\tristan\\\\.julia\\\\compiled\\\\v1.10\\\\PLD\\\\jl_D419.tmp\".\n",
      "\n",
      "Stacktrace:\n",
      "  [1] error(s::String)\n",
      "    @ Base .\\error.jl:35\n",
      "  [2] compilecache(pkg::Base.PkgId, path::String, internal_stderr::IO, internal_stdout::IO, keep_loaded_modules::Bool)\n",
      "    @ Base .\\loading.jl:2462\n",
      "  [3] compilecache(pkg::Base.PkgId, path::String, internal_stderr::IO, internal_stdout::IO, keep_loaded_modules::Bool)\n",
      "    @ Base .\\loading.jl:2334 [inlined]\n",
      "  [4] (::Base.var\"#968#969\"{Base.PkgId})()\n",
      "    @ Base .\\loading.jl:1968\n",
      "  [5] mkpidlock(f::Base.var\"#968#969\"{Base.PkgId}, at::String, pid::Int32; kwopts::@Kwargs{stale_age::Int64, wait::Bool})\n",
      "    @ FileWatching.Pidfile C:\\Users\\tristan\\.julia\\juliaup\\julia-1.10.0+0.x64.w64.mingw32\\share\\julia\\stdlib\\v1.10\\FileWatching\\src\\pidfile.jl:93\n",
      "  [6] #mkpidlock#6\n",
      "    @ FileWatching.Pidfile C:\\Users\\tristan\\.julia\\juliaup\\julia-1.10.0+0.x64.w64.mingw32\\share\\julia\\stdlib\\v1.10\\FileWatching\\src\\pidfile.jl:88 [inlined]\n",
      "  [7] trymkpidlock(::Function, ::Vararg{Any}; kwargs::@Kwargs{stale_age::Int64})\n",
      "    @ FileWatching.Pidfile C:\\Users\\tristan\\.julia\\juliaup\\julia-1.10.0+0.x64.w64.mingw32\\share\\julia\\stdlib\\v1.10\\FileWatching\\src\\pidfile.jl:111\n",
      "  [8] #invokelatest#2\n",
      "    @ Base .\\essentials.jl:889 [inlined]\n",
      "  [9] invokelatest\n",
      "    @ Base .\\essentials.jl:884 [inlined]\n",
      " [10] maybe_cachefile_lock(f::Base.var\"#968#969\"{Base.PkgId}, pkg::Base.PkgId, srcpath::String; stale_age::Int64)\n",
      "    @ Base .\\loading.jl:2977\n",
      " [11] maybe_cachefile_lock\n",
      "    @ Base .\\loading.jl:2974 [inlined]\n",
      " [12] _require(pkg::Base.PkgId, env::String)\n",
      "    @ Base .\\loading.jl:1964\n",
      " [13] __require_prelocked(uuidkey::Base.PkgId, env::String)\n",
      "    @ Base .\\loading.jl:1806\n",
      " [14] #invoke_in_world#3\n",
      "    @ Base .\\essentials.jl:921 [inlined]\n",
      " [15] invoke_in_world\n",
      "    @ Base .\\essentials.jl:918 [inlined]\n",
      " [16] _require_prelocked(uuidkey::Base.PkgId, env::String)\n",
      "    @ Base .\\loading.jl:1797\n",
      " [17] macro expansion\n",
      "    @ Base .\\loading.jl:1784 [inlined]\n",
      " [18] macro expansion\n",
      "    @ Base .\\lock.jl:267 [inlined]\n",
      " [19] __require(into::Module, mod::Symbol)\n",
      "    @ Base .\\loading.jl:1747\n",
      " [20] #invoke_in_world#3\n",
      "    @ Base .\\essentials.jl:921 [inlined]\n",
      " [21] invoke_in_world\n",
      "    @ Base .\\essentials.jl:918 [inlined]\n",
      " [22] require(into::Module, mod::Symbol)\n",
      "    @ Base .\\loading.jl:1740\n",
      " [23] eval\n",
      "    @ .\\boot.jl:385 [inlined]\n",
      " [24] include_string(mapexpr::typeof(REPL.softscope), mod::Module, code::String, filename::String)\n",
      "    @ Base .\\loading.jl:2070\n",
      " [25] #invokelatest#2\n",
      "    @ .\\essentials.jl:887 [inlined]\n",
      " [26] invokelatest\n",
      "    @ .\\essentials.jl:884 [inlined]\n",
      " [27] (::VSCodeServer.var\"#208#209\"{VSCodeServer.NotebookRunCellArguments, String})()\n",
      "    @ VSCodeServer c:\\Users\\tristan\\.vscode\\extensions\\julialang.language-julia-1.66.2\\scripts\\packages\\VSCodeServer\\src\\serve_notebook.jl:19\n",
      " [28] withpath(f::VSCodeServer.var\"#208#209\"{VSCodeServer.NotebookRunCellArguments, String}, path::String)\n",
      "    @ VSCodeServer c:\\Users\\tristan\\.vscode\\extensions\\julialang.language-julia-1.66.2\\scripts\\packages\\VSCodeServer\\src\\repl.jl:274\n",
      " [29] notebook_runcell_request(conn::VSCodeServer.JSONRPC.JSONRPCEndpoint{Base.PipeEndpoint, Base.PipeEndpoint}, params::VSCodeServer.NotebookRunCellArguments)\n",
      "    @ VSCodeServer c:\\Users\\tristan\\.vscode\\extensions\\julialang.language-julia-1.66.2\\scripts\\packages\\VSCodeServer\\src\\serve_notebook.jl:13\n",
      " [30] dispatch_msg(x::VSCodeServer.JSONRPC.JSONRPCEndpoint{Base.PipeEndpoint, Base.PipeEndpoint}, dispatcher::VSCodeServer.JSONRPC.MsgDispatcher, msg::Dict{String, Any})\n",
      "    @ VSCodeServer.JSONRPC c:\\Users\\tristan\\.vscode\\extensions\\julialang.language-julia-1.66.2\\scripts\\packages\\JSONRPC\\src\\typed.jl:67\n",
      " [31] serve_notebook(pipename::String, outputchannel_logger::Base.CoreLogging.SimpleLogger; crashreporting_pipename::String)\n",
      "    @ VSCodeServer c:\\Users\\tristan\\.vscode\\extensions\\julialang.language-julia-1.66.2\\scripts\\packages\\VSCodeServer\\src\\serve_notebook.jl:139\n",
      " [32] top-level scope\n",
      "    @ c:\\Users\\tristan\\.vscode\\extensions\\julialang.language-julia-1.66.2\\scripts\\notebook\\notebook.jl:32"
     ]
    }
   ],
   "source": [
    "using PLD\n",
    "@var m1\n",
    "@var m2\n",
    "edges = [[1,2],[1,5], [5,4], [6,5], [2,6], [6,3], [3,4]];\n",
    "nodes = [1,2,3,4];\n",
    "internal_masses = [0,m1,m1,0,m2,m2,0]\n",
    "external_masses = [m1,m2,m2,m1]\n",
    "\n",
    "LandauDisc, pars, vars, U , F = getPLD(edges, nodes, internal_masses, external_masses)"
   ]
  }
 ],
 "metadata": {
  "kernelspec": {
   "display_name": "Julia 1.10.0",
   "language": "julia",
   "name": "julia-1.10"
  },
  "language_info": {
   "file_extension": ".jl",
   "mimetype": "application/julia",
   "name": "julia",
   "version": "1.10.0"
  }
 },
 "nbformat": 4,
 "nbformat_minor": 5
}
