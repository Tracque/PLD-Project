{
 "cells": [
  {
   "cell_type": "markdown",
   "metadata": {},
   "source": [
    "**Notebook for verification of 1-loop results**"
   ]
  },
  {
   "cell_type": "code",
   "execution_count": 3,
   "metadata": {},
   "outputs": [
    {
     "data": {
      "text/latex": [
       "$\\displaystyle \\left[ p_{1}, \\  p_{2}, \\  p_{3}, \\  p_{4}\\right]$"
      ]
     },
     "metadata": {},
     "output_type": "display_data"
    },
    {
     "data": {
      "text/latex": [
       "$\\displaystyle \\left[ p_{1}, \\  p_{2}, \\  p_{3}, \\  p_{4}\\right]$"
      ]
     },
     "metadata": {},
     "output_type": "display_data"
    }
   ],
   "source": [
    "import numpy as np\n",
    "import sympy as sym\n",
    "sym.init_printing()\n",
    "from IPython.display import display_latex\n",
    "\n",
    "#Initialise Diagram\n",
    "externals = [sym.Symbol(\"p1\"), sym.Symbol(\"p2\"), sym.Symbol(\"p3\"), sym.Symbol(\"p4\")]\n",
    "internals = [sym.Symbol(\"q1\"), sym.Symbol(\"q2\"), sym.Symbol(\"q3\"), sym.Symbol(\"q4\")]\n",
    "externalmasses = [sym.Symbol(\"m1\"), sym.Symbol(\"m2\"), sym.Symbol(\"m3\"), sym.Symbol(\"m4\")]\n",
    "s = sym.Symbol(\"s\")\n",
    "t = sym.Symbol(\"t\")\n",
    "\n",
    "display_latex(externals)\n",
    "display_latex(externals)"
   ]
  },
  {
   "cell_type": "markdown",
   "metadata": {},
   "source": []
  },
  {
   "cell_type": "code",
   "execution_count": 31,
   "metadata": {},
   "outputs": [
    {
     "data": {
      "text/latex": [
       "$\\displaystyle \\left[ q_{1} - q_{4} = p_{1}, \\  - q_{1} + q_{2} = p_{2}, \\  - q_{2} + q_{3} = p_{3}, \\  - q_{3} + q_{4} = p_{4}\\right]$"
      ]
     },
     "metadata": {},
     "output_type": "display_data"
    },
    {
     "data": {
      "text/latex": [
       "$\\displaystyle \\left( \\left[\\begin{matrix}\\left(q_{1} - q_{4}\\right) \\cdot \\left(q_{1} - q_{4}\\right) & \\left(q_{1} - q_{4}\\right) \\cdot \\left(q_{2} - q_{4}\\right) & \\left(q_{1} - q_{4}\\right) \\cdot \\left(q_{3} - q_{4}\\right)\\\\\\left(q_{1} - q_{4}\\right) \\cdot \\left(q_{2} - q_{4}\\right) & \\left(q_{2} - q_{4}\\right) \\cdot \\left(q_{2} - q_{4}\\right) & \\left(q_{2} - q_{4}\\right) \\cdot \\left(q_{3} - q_{4}\\right)\\\\\\left(q_{1} - q_{4}\\right) \\cdot \\left(q_{3} - q_{4}\\right) & \\left(q_{2} - q_{4}\\right) \\cdot \\left(q_{3} - q_{4}\\right) & \\left(q_{3} - q_{4}\\right) \\cdot \\left(q_{3} - q_{4}\\right)\\end{matrix}\\right], \\  \\left(\\left(q_{1} - q_{4}\\right) \\cdot \\left(q_{1} - q_{4}\\right)\\right) \\left(\\left(q_{2} - q_{4}\\right) \\cdot \\left(q_{2} - q_{4}\\right)\\right) \\left(\\left(q_{3} - q_{4}\\right) \\cdot \\left(q_{3} - q_{4}\\right)\\right) - \\left(\\left(q_{1} - q_{4}\\right) \\cdot \\left(q_{1} - q_{4}\\right)\\right) \\left(\\left(q_{2} - q_{4}\\right) \\cdot \\left(q_{3} - q_{4}\\right)\\right)^{2} + \\left(\\left(q_{1} - q_{4}\\right) \\cdot \\left(q_{2} - q_{4}\\right)\\right) \\left(\\left(q_{2} - q_{4}\\right) \\cdot \\left(q_{3} - q_{4}\\right)\\right) \\left(\\left(q_{1} - q_{4}\\right) \\cdot \\left(q_{3} - q_{4}\\right)\\right) - \\left(\\left(q_{1} - q_{4}\\right) \\cdot \\left(q_{2} - q_{4}\\right)\\right)^{2} \\left(\\left(q_{3} - q_{4}\\right) \\cdot \\left(q_{3} - q_{4}\\right)\\right) + \\left(\\left(q_{1} - q_{4}\\right) \\cdot \\left(q_{3} - q_{4}\\right)\\right) \\left(\\left(q_{1} - q_{4}\\right) \\cdot \\left(q_{2} - q_{4}\\right)\\right) \\left(\\left(q_{2} - q_{4}\\right) \\cdot \\left(q_{3} - q_{4}\\right)\\right) - \\left(\\left(q_{1} - q_{4}\\right) \\cdot \\left(q_{3} - q_{4}\\right)\\right) \\left(\\left(q_{2} - q_{4}\\right) \\cdot \\left(q_{2} - q_{4}\\right)\\right) \\left(\\left(q_{1} - q_{4}\\right) \\cdot \\left(q_{3} - q_{4}\\right)\\right)\\right)$"
      ]
     },
     "metadata": {},
     "output_type": "display_data"
    },
    {
     "name": "stdout",
     "output_type": "stream",
     "text": [
      "Gram Matrix:\n",
      "With externals subbed in:\n"
     ]
    },
    {
     "data": {
      "text/latex": [
       "$\\displaystyle \\left[\\begin{matrix}p_{1} \\cdot p_{1} & p_{1} \\cdot \\left(p_{1} + p_{2}\\right) & p_{1} \\cdot \\left(- p_{4}\\right)\\\\p_{1} \\cdot \\left(p_{1} + p_{2}\\right) & \\left(p_{1} + p_{2}\\right) \\cdot \\left(p_{1} + p_{2}\\right) & \\left(- p_{4}\\right) \\cdot \\left(p_{1} + p_{2}\\right)\\\\p_{1} \\cdot \\left(- p_{4}\\right) & \\left(- p_{4}\\right) \\cdot \\left(p_{1} + p_{2}\\right) & \\left(- p_{4}\\right) \\cdot \\left(- p_{4}\\right)\\end{matrix}\\right]$"
      ]
     },
     "metadata": {},
     "output_type": "display_data"
    },
    {
     "name": "stdout",
     "output_type": "stream",
     "text": [
      "With Mandelstam variables subbed in:\n"
     ]
    },
    {
     "data": {
      "text/latex": [
       "$\\displaystyle \\left[\\begin{matrix}m_{1}^{2} & 0.5 m_{1}^{2} - 0.5 m_{2}^{2} + 0.5 s & 0.5 m_{1}^{2} + 0.5 m_{4}^{2} - 0.5 u\\\\0.5 m_{1}^{2} - 0.5 m_{2}^{2} + 0.5 s & s & 0.5 m_{1}^{2} + 0.5 m_{2}^{2} + 1.0 m_{4}^{2} - 0.5 t - 0.5 u\\\\0.5 m_{1}^{2} + 0.5 m_{4}^{2} - 0.5 u & 0.5 m_{1}^{2} + 0.5 m_{2}^{2} + 1.0 m_{4}^{2} - 0.5 t - 0.5 u & m_{4}^{2}\\end{matrix}\\right]$"
      ]
     },
     "metadata": {},
     "output_type": "display_data"
    },
    {
     "name": "stdout",
     "output_type": "stream",
     "text": [
      "Gram Determinant\n"
     ]
    },
    {
     "data": {
      "text/latex": [
       "$\\displaystyle - 2.0 m_{1}^{4} m_{2}^{2} - 2.0 m_{1}^{4} m_{4}^{2} + m_{1}^{4} t - 2.0 m_{1}^{2} m_{2}^{4} - 4.0 m_{1}^{2} m_{2}^{2} m_{4}^{2} + m_{1}^{2} m_{2}^{2} s + 3.0 m_{1}^{2} m_{2}^{2} t + 3.0 m_{1}^{2} m_{2}^{2} u - 2.0 m_{1}^{2} m_{4}^{4} + 3.0 m_{1}^{2} m_{4}^{2} s + 3.0 m_{1}^{2} m_{4}^{2} t + m_{1}^{2} m_{4}^{2} u - 1.0 m_{1}^{2} s t - 1.0 m_{1}^{2} t^{2} - 1.0 m_{1}^{2} t u - 2.0 m_{2}^{4} m_{4}^{2} + m_{2}^{4} u - 2.0 m_{2}^{2} m_{4}^{4} + 3.0 m_{2}^{2} m_{4}^{2} s + m_{2}^{2} m_{4}^{2} t + 3.0 m_{2}^{2} m_{4}^{2} u - 1.0 m_{2}^{2} s u - 1.0 m_{2}^{2} t u - 1.0 m_{2}^{2} u^{2} + m_{4}^{4} s - 1.0 m_{4}^{2} s^{2} - 1.0 m_{4}^{2} s t - 1.0 m_{4}^{2} s u + s t u$"
      ]
     },
     "metadata": {},
     "output_type": "display_data"
    },
    {
     "name": "stdout",
     "output_type": "stream",
     "text": [
      "Gram Determinant (with u eliminated for ease of comparison with PLD.jl output)\n"
     ]
    },
    {
     "data": {
      "text/latex": [
       "$\\displaystyle - 1.0 m_{1}^{4} m_{4}^{2} + 1.0 m_{1}^{2} m_{2}^{2} m_{3}^{2} + 1.0 m_{1}^{2} m_{2}^{2} m_{4}^{2} - 1.0 m_{1}^{2} m_{2}^{2} s + 1.0 m_{1}^{2} m_{3}^{2} m_{4}^{2} - 1.0 m_{1}^{2} m_{3}^{2} t - 1.0 m_{1}^{2} m_{4}^{4} + 1.0 m_{1}^{2} m_{4}^{2} s + 1.0 m_{1}^{2} m_{4}^{2} t + 1.0 m_{1}^{2} s t - 1.0 m_{2}^{4} m_{3}^{2} - 1.0 m_{2}^{2} m_{3}^{4} + 1.0 m_{2}^{2} m_{3}^{2} m_{4}^{2} + 1.0 m_{2}^{2} m_{3}^{2} s + 1.0 m_{2}^{2} m_{3}^{2} t - 1.0 m_{2}^{2} m_{4}^{2} t + 1.0 m_{2}^{2} s t - 1.0 m_{3}^{2} m_{4}^{2} s + 1.0 m_{3}^{2} s t + 1.0 m_{4}^{2} s t - 1.0 s^{2} t - 1.0 s t^{2}$"
      ]
     },
     "metadata": {},
     "output_type": "display_data"
    },
    {
     "name": "stdout",
     "output_type": "stream",
     "text": [
      "Cayley Matrix:\n"
     ]
    },
    {
     "data": {
      "text/latex": [
       "$\\displaystyle \\left[\\begin{matrix}0 & - 0.5 \\left(\\left(q_{1} - q_{2}\\right) \\cdot \\left(q_{1} - q_{2}\\right)\\right) & - 0.5 \\left(\\left(q_{1} - q_{3}\\right) \\cdot \\left(q_{1} - q_{3}\\right)\\right) & - 0.5 \\left(\\left(q_{1} - q_{4}\\right) \\cdot \\left(q_{1} - q_{4}\\right)\\right)\\\\- 0.5 \\left(\\left(- q_{1} + q_{2}\\right) \\cdot \\left(- q_{1} + q_{2}\\right)\\right) & 0 & - 0.5 \\left(\\left(q_{2} - q_{3}\\right) \\cdot \\left(q_{2} - q_{3}\\right)\\right) & - 0.5 \\left(\\left(q_{2} - q_{4}\\right) \\cdot \\left(q_{2} - q_{4}\\right)\\right)\\\\- 0.5 \\left(\\left(- q_{1} + q_{3}\\right) \\cdot \\left(- q_{1} + q_{3}\\right)\\right) & - 0.5 \\left(\\left(- q_{2} + q_{3}\\right) \\cdot \\left(- q_{2} + q_{3}\\right)\\right) & 0 & - 0.5 \\left(\\left(q_{3} - q_{4}\\right) \\cdot \\left(q_{3} - q_{4}\\right)\\right)\\\\- 0.5 \\left(\\left(- q_{1} + q_{4}\\right) \\cdot \\left(- q_{1} + q_{4}\\right)\\right) & - 0.5 \\left(\\left(- q_{2} + q_{4}\\right) \\cdot \\left(- q_{2} + q_{4}\\right)\\right) & - 0.5 \\left(\\left(- q_{3} + q_{4}\\right) \\cdot \\left(- q_{3} + q_{4}\\right)\\right) & 0\\end{matrix}\\right]$"
      ]
     },
     "metadata": {},
     "output_type": "display_data"
    },
    {
     "name": "stdout",
     "output_type": "stream",
     "text": [
      "Cayley Determinant\n"
     ]
    },
    {
     "data": {
      "text/latex": [
       "$\\displaystyle m_{1}^{4} m_{3}^{4} - 2.0 m_{1}^{2} m_{2}^{2} m_{3}^{2} m_{4}^{2} - 2.0 m_{1}^{2} m_{3}^{2} s t + m_{2}^{4} m_{4}^{4} - 2.0 m_{2}^{2} m_{4}^{2} s t + s^{2} t^{2}$"
      ]
     },
     "metadata": {},
     "output_type": "display_data"
    }
   ],
   "source": [
    "from sympy.vector import Dot\n",
    "\n",
    "def momentumConsConstraints(externals, internals):\n",
    "    constraintEqns = [sym.Eq(internals[0] - internals[-1], externals[0])]\n",
    "    for i in range(len(externals) - 1):\n",
    "        constraintEqns.append(sym.Eq(internals[i+1] - internals[i], externals[i+1]))\n",
    "\n",
    "    return constraintEqns\n",
    "\n",
    "constraints = momentumConsConstraints(externals, internals)\n",
    "\n",
    "display_latex(constraints)\n",
    "\n",
    "def fourDot(vector1, vector2):\n",
    "    #if vector1 == vector2:\n",
    "    #    return vector1 ** 2\n",
    "    #else:\n",
    "        \n",
    "    if vector1 == vector2 and vector1 == 0:\n",
    "        return 0\n",
    "    else:\n",
    "        return Dot(vector1, vector2)\n",
    "\n",
    "def getGramDet(internals):\n",
    "    #Choose to cut always the last momentum\n",
    "    cutInternals = internals[:-1]\n",
    "\n",
    "    tempGramMatrix = []\n",
    "    temp = []\n",
    "\n",
    "    for i in range(len(cutInternals)):\n",
    "        for j in range(len(cutInternals)):\n",
    "            temp.append(fourDot(cutInternals[i] - internals[-1], cutInternals[j] - internals[-1]))\n",
    "            if j == len(cutInternals) - 1:\n",
    "                tempGramMatrix.append(temp)\n",
    "                temp = []\n",
    "\n",
    "    gramMatrix = sym.Matrix(tempGramMatrix)\n",
    "\n",
    "    return gramMatrix, gramMatrix.det()\n",
    "\n",
    "def getCayleyDet(internals, squaredMasses = None):\n",
    "    if squaredMasses == None:\n",
    "        tempCayley = []\n",
    "        temp = []\n",
    "\n",
    "        for i in range(len(internals)):\n",
    "            for j in range(len(internals)):\n",
    "                temp.append(1/2 * (-fourDot(internals[i] - internals[j], internals[i] - internals[j])))\n",
    "                if j == len(internals) - 1:\n",
    "                    tempCayley.append(temp)\n",
    "                    temp = []\n",
    "    else:\n",
    "        tempCayley = []\n",
    "        temp = []\n",
    "\n",
    "        for i in range(len(internals)):\n",
    "            for j in range(len(internals)):\n",
    "                temp.append(1/2 * (-fourDot(internals[i] - internals[j], internals[i] - internals[j]) + squaredMasses[i] + squaredMasses[j]))\n",
    "                if j == len(internals) - 1:\n",
    "                    tempCayley.append(temp)\n",
    "                    temp = []\n",
    "\n",
    "    cayleyMatrix = sym.Matrix(tempCayley)\n",
    "\n",
    "    display_latex(cayleyMatrix)\n",
    "\n",
    "    return cayleyMatrix.det()\n",
    "\n",
    "display_latex(getGramDet(internals))\n",
    "\n",
    "def getMandelstams(externals):\n",
    "\n",
    "    sEqn = sym.Eq((externals[0] + externals[1]) ** 2, sym.Symbol(\"s\"))\n",
    "    tEqn = sym.Eq((externals[0] + externals[3]) ** 2, sym.Symbol(\"t\"))\n",
    "    uEqn = sym.Eq((externals[0] + externals[2]) ** 2, sym.Symbol(\"u\"))\n",
    "\n",
    "    sEqn2 = sym.Eq(Dot(externals[0] + externals[1], externals[0] + externals[1]), sym.Symbol(\"s\"))\n",
    "    tEqn2 = sym.Eq(Dot(externals[0] + externals[3], externals[0] + externals[3]), sym.Symbol(\"t\"))\n",
    "    uEqn2 = sym.Eq(Dot(externals[0] + externals[2], externals[0] + externals[2]), sym.Symbol(\"u\"))\n",
    "\n",
    "    return sEqn, tEqn, uEqn, sEqn2, tEqn2, uEqn2\n",
    "\n",
    "\n",
    "def subForExternals(internalGramDet, internals, externals):\n",
    "\n",
    "    constraintEqns = momentumConsConstraints(externals, internals)\n",
    "    externalGramDet = internalGramDet\n",
    "\n",
    "    #This handles the trivial substitutions q_i - q_(i-1) = p_i\n",
    "    for constraint in constraintEqns:\n",
    "        externalGramDet = externalGramDet.subs(constraint.lhs, constraint.rhs)\n",
    "\n",
    "    #This handles other conditions of the form q_i - q_j = F({p_i})\n",
    "    for i in range(len(internals)):\n",
    "        for j in range(len(internals)):\n",
    "\n",
    "            currentEqn = sym.Eq(constraintEqns[i].lhs + constraintEqns[j].lhs, constraintEqns[i].rhs + constraintEqns[j].rhs)\n",
    "\n",
    "            externalGramDet = externalGramDet.subs(currentEqn.lhs, currentEqn.rhs)\n",
    "\n",
    "    return externalGramDet\n",
    "\n",
    "def finishDotProdsSquare(expression, externals, externalMasses):\n",
    "\n",
    "    for i in range(len(externals)):\n",
    "        #Handle trivial p^2 substitutions\n",
    "        expression = expression.subs(Dot(externals[i],externals[i]), externals[i] ** 2)\n",
    "        expression = expression.subs(Dot(-externals[i],-externals[i]), externals[i] ** 2)\n",
    "        expression = expression.subs(externals[i] ** 2, externalMasses[i] ** 2)\n",
    "\n",
    "        #Handles sums of p_i's \n",
    "        for j in range(len(externals)):\n",
    "            sumij = externals[i] + externals[j]\n",
    "            minussumij = -externals[i] + -externals[j]\n",
    "\n",
    "            expression = expression.subs(Dot(minussumij, minussumij), sumij ** 2)\n",
    "            expression = expression.subs(Dot(sumij, sumij), sumij ** 2)\n",
    "\n",
    "    #The above gets us into a form that's almost there, but with some remaining p_i dot p_j terms\n",
    "\n",
    "    s,u,t,s2,u2,t2 = getMandelstams(externals)\n",
    "\n",
    "    expression = expression.subs(s.lhs, s.rhs)\n",
    "    expression = expression.subs(u.lhs, u.rhs)\n",
    "    expression = expression.subs(t.lhs, t.rhs)\n",
    "\n",
    "    expression = expression.subs(s2.lhs, s2.rhs)\n",
    "    expression = expression.subs(u2.lhs, u2.rhs)\n",
    "    expression = expression.subs(t2.lhs, t2.rhs)\n",
    "\n",
    "    #Handle p_i dot p_j by subbing for Mandelstam invariants\n",
    "\n",
    "    #expression = expression.subs(externals[0] + externals[1], -externals[2] - externals[3])\n",
    "\n",
    "    expression = sym.simplify(expression)\n",
    "\n",
    "    expression = expression.subs(Dot(externals[0], externals[1]), 1/2 * (sym.Symbol(\"s\") - externals[0] ** 2 - externals[1] ** 2))\n",
    "    expression = expression.subs(Dot(externals[0], -externals[3]), -1/2 * (sym.Symbol(\"u\") - externals[0] ** 2 - externals[3] ** 2))\n",
    "    expression = expression.subs(Dot(-externals[3], externals[1]), -1/2 * (sym.Symbol(\"t\") - externals[1] ** 2 - externals[3] ** 2))\n",
    "\n",
    "    # expression = expression.subs(Dot(externals[0], -externals[2]), -1/2 * (sym.Symbol(\"u\") - externals[0] ** 2 - externals[2] ** 2))\n",
    "    # expression = expression.subs(Dot(-externals[2], -externals[3]), 1/2 * (sym.Symbol(\"s\") - externals[2] ** 2 - externals[3] ** 2))\n",
    "\n",
    "    #Commented substitutions are unnecessary\n",
    "\n",
    "    for i in range(len(externals)):\n",
    "        #Handle trivial p^2 substitutions again (order matters)\n",
    "        expression = expression.subs(Dot(externals[i],externals[i]), externals[i] ** 2)\n",
    "        expression = expression.subs(Dot(-externals[i],-externals[i]), externals[i] ** 2)\n",
    "        expression = expression.subs(externals[i] ** 2, externalMasses[i] ** 2)\n",
    "\n",
    "    return expression\n",
    "\n",
    "print(\"Gram Matrix:\")\n",
    "\n",
    "gramMatrix, gramDet = getGramDet(internals)\n",
    "\n",
    "gramMatrix = subForExternals(gramMatrix, internals, externals)\n",
    "\n",
    "print(\"With externals subbed in:\")\n",
    "\n",
    "display_latex(gramMatrix)\n",
    "\n",
    "gramMatrix = finishDotProdsSquare(gramMatrix, externals, externalmasses)\n",
    "\n",
    "print(\"With Mandelstam variables subbed in:\")\n",
    "\n",
    "display_latex(gramMatrix)\n",
    "\n",
    "gramDet = subForExternals(gramDet, internals, externals)\n",
    "\n",
    "print(\"Gram Determinant\")\n",
    "\n",
    "scaledGramDet = 4 * sym.expand(finishDotProdsSquare(gramDet, externals, externalmasses))\n",
    "\n",
    "display_latex(scaledGramDet)\n",
    "\n",
    "s = sym.Symbol(\"s\")\n",
    "t = sym.Symbol(\"t\")\n",
    "u = sym.Symbol(\"u\")\n",
    "\n",
    "scaledGramDet = scaledGramDet.subs(u, (externalmasses[0] ** 2 + externalmasses[1] ** 2 + externalmasses[2] ** 2 + externalmasses[3] ** 2 - s - t))\n",
    "\n",
    "print(\"Gram Determinant (with u eliminated for ease of comparison with PLD.jl output)\")\n",
    "\n",
    "display_latex(sym.simplify(sym.expand(scaledGramDet)))\n",
    "\n",
    "print(\"Cayley Matrix:\")\n",
    "\n",
    "cayleyDet = getCayleyDet(internals)\n",
    "\n",
    "cayleyDet = subForExternals(cayleyDet, internals, externals)\n",
    "\n",
    "print(\"Cayley Determinant\")\n",
    "\n",
    "display_latex(16 * finishDotProdsSquare(cayleyDet, externals, externalmasses))\n",
    "\n",
    "\n",
    "\n",
    "#WORKING FOR SQUARE WITH MASSLESS INTERIOR (consistent with PLD.jl output)\n"
   ]
  },
  {
   "cell_type": "code",
   "execution_count": 64,
   "metadata": {},
   "outputs": [
    {
     "name": "stdout",
     "output_type": "stream",
     "text": [
      "Gram Matrix:\n"
     ]
    },
    {
     "data": {
      "text/latex": [
       "$\\displaystyle \\left[\\begin{matrix}\\left(q_{1} - q_{5}\\right) \\cdot \\left(q_{1} - q_{5}\\right) & \\left(q_{1} - q_{5}\\right) \\cdot \\left(q_{2} - q_{5}\\right) & \\left(q_{1} - q_{5}\\right) \\cdot \\left(q_{3} - q_{5}\\right) & \\left(q_{1} - q_{5}\\right) \\cdot \\left(q_{4} - q_{5}\\right)\\\\\\left(q_{1} - q_{5}\\right) \\cdot \\left(q_{2} - q_{5}\\right) & \\left(q_{2} - q_{5}\\right) \\cdot \\left(q_{2} - q_{5}\\right) & \\left(q_{2} - q_{5}\\right) \\cdot \\left(q_{3} - q_{5}\\right) & \\left(q_{2} - q_{5}\\right) \\cdot \\left(q_{4} - q_{5}\\right)\\\\\\left(q_{1} - q_{5}\\right) \\cdot \\left(q_{3} - q_{5}\\right) & \\left(q_{2} - q_{5}\\right) \\cdot \\left(q_{3} - q_{5}\\right) & \\left(q_{3} - q_{5}\\right) \\cdot \\left(q_{3} - q_{5}\\right) & \\left(q_{3} - q_{5}\\right) \\cdot \\left(q_{4} - q_{5}\\right)\\\\\\left(q_{1} - q_{5}\\right) \\cdot \\left(q_{4} - q_{5}\\right) & \\left(q_{2} - q_{5}\\right) \\cdot \\left(q_{4} - q_{5}\\right) & \\left(q_{3} - q_{5}\\right) \\cdot \\left(q_{4} - q_{5}\\right) & \\left(q_{4} - q_{5}\\right) \\cdot \\left(q_{4} - q_{5}\\right)\\end{matrix}\\right]$"
      ]
     },
     "metadata": {},
     "output_type": "display_data"
    },
    {
     "name": "stdout",
     "output_type": "stream",
     "text": [
      "With externals subbed in:\n"
     ]
    },
    {
     "data": {
      "text/latex": [
       "$\\displaystyle \\left[\\begin{matrix}p_{1} \\cdot p_{1} & p_{1} \\cdot \\left(p_{1} + p_{2}\\right) & p_{1} \\cdot \\left(- p_{4} - p_{5}\\right) & p_{1} \\cdot \\left(- p_{5}\\right)\\\\p_{1} \\cdot \\left(p_{1} + p_{2}\\right) & \\left(p_{1} + p_{2}\\right) \\cdot \\left(p_{1} + p_{2}\\right) & \\left(p_{1} + p_{2}\\right) \\cdot \\left(- p_{4} - p_{5}\\right) & \\left(- p_{5}\\right) \\cdot \\left(p_{1} + p_{2}\\right)\\\\p_{1} \\cdot \\left(- p_{4} - p_{5}\\right) & \\left(p_{1} + p_{2}\\right) \\cdot \\left(- p_{4} - p_{5}\\right) & \\left(- p_{4} - p_{5}\\right) \\cdot \\left(- p_{4} - p_{5}\\right) & \\left(- p_{5}\\right) \\cdot \\left(- p_{4} - p_{5}\\right)\\\\p_{1} \\cdot \\left(- p_{5}\\right) & \\left(- p_{5}\\right) \\cdot \\left(p_{1} + p_{2}\\right) & \\left(- p_{5}\\right) \\cdot \\left(- p_{4} - p_{5}\\right) & \\left(- p_{5}\\right) \\cdot \\left(- p_{5}\\right)\\end{matrix}\\right]$"
      ]
     },
     "metadata": {},
     "output_type": "display_data"
    },
    {
     "data": {
      "text/latex": [
       "$\\displaystyle \\left[ \\left(p_{1} + p_{5}\\right) \\cdot \\left(p_{1} + p_{5}\\right) = s_{15}, \\  \\left(- p_{1} - p_{5}\\right) \\cdot \\left(- p_{1} - p_{5}\\right) = s_{15}, \\  \\left(p_{1} + p_{2}\\right)^{2} = s_{12}, \\  \\left(p_{1} + p_{2}\\right) \\cdot \\left(p_{1} + p_{2}\\right) = s_{12}, \\  \\left(- p_{1} - p_{2}\\right) \\cdot \\left(- p_{1} - p_{2}\\right) = s_{12}, \\  \\left(p_{2} + p_{3}\\right)^{2} = s_{23}, \\  \\left(p_{2} + p_{3}\\right) \\cdot \\left(p_{2} + p_{3}\\right) = s_{23}, \\  \\left(- p_{2} - p_{3}\\right) \\cdot \\left(- p_{2} - p_{3}\\right) = s_{23}, \\  \\left(p_{3} + p_{4}\\right)^{2} = s_{34}, \\  \\left(p_{3} + p_{4}\\right) \\cdot \\left(p_{3} + p_{4}\\right) = s_{34}, \\  \\left(- p_{3} - p_{4}\\right) \\cdot \\left(- p_{3} - p_{4}\\right) = s_{34}, \\  \\left(p_{4} + p_{5}\\right)^{2} = s_{45}, \\  \\left(p_{4} + p_{5}\\right) \\cdot \\left(p_{4} + p_{5}\\right) = s_{45}, \\  \\left(- p_{4} - p_{5}\\right) \\cdot \\left(- p_{4} - p_{5}\\right) = s_{45}\\right]$"
      ]
     },
     "metadata": {},
     "output_type": "display_data"
    },
    {
     "data": {
      "text/latex": [
       "$\\displaystyle \\left[ \\left(p_{1} + p_{5}\\right) \\cdot \\left(p_{1} + p_{5}\\right) = s_{15}, \\  \\left(- p_{1} - p_{5}\\right) \\cdot \\left(- p_{1} - p_{5}\\right) = s_{15}, \\  \\left(p_{1} + p_{2}\\right)^{2} = s_{12}, \\  \\left(p_{1} + p_{2}\\right) \\cdot \\left(p_{1} + p_{2}\\right) = s_{12}, \\  \\left(- p_{1} - p_{2}\\right) \\cdot \\left(- p_{1} - p_{2}\\right) = s_{12}, \\  \\left(p_{2} + p_{3}\\right)^{2} = s_{23}, \\  \\left(p_{2} + p_{3}\\right) \\cdot \\left(p_{2} + p_{3}\\right) = s_{23}, \\  \\left(- p_{2} - p_{3}\\right) \\cdot \\left(- p_{2} - p_{3}\\right) = s_{23}, \\  \\left(p_{3} + p_{4}\\right)^{2} = s_{34}, \\  \\left(p_{3} + p_{4}\\right) \\cdot \\left(p_{3} + p_{4}\\right) = s_{34}, \\  \\left(- p_{3} - p_{4}\\right) \\cdot \\left(- p_{3} - p_{4}\\right) = s_{34}, \\  \\left(p_{4} + p_{5}\\right)^{2} = s_{45}, \\  \\left(p_{4} + p_{5}\\right) \\cdot \\left(p_{4} + p_{5}\\right) = s_{45}, \\  \\left(- p_{4} - p_{5}\\right) \\cdot \\left(- p_{4} - p_{5}\\right) = s_{45}\\right]$"
      ]
     },
     "metadata": {},
     "output_type": "display_data"
    },
    {
     "data": {
      "text/latex": [
       "$\\displaystyle \\left[\\begin{matrix}m_{1}^{2} & 0.5 m_{1}^{2} - 0.5 m_{2}^{2} + 0.5 s_{12} & 1.0 m_{1}^{2} + 0.5 m_{4}^{2} + 0.5 m_{5}^{2} - 0.5 s_{14} - 0.5 s_{15} & 0.5 m_{1}^{2} + 0.5 m_{5}^{2} - 0.5 s_{15}\\\\0.5 m_{1}^{2} - 0.5 m_{2}^{2} + 0.5 s_{12} & s_{12} & 1.0 m_{1}^{2} + 1.0 m_{2}^{2} + 1.0 m_{4}^{2} + 1.0 m_{5}^{2} - 0.5 s_{14} - 0.5 s_{15} - 0.5 s_{24} - 0.5 s_{25} & 0.5 m_{1}^{2} + 0.5 m_{2}^{2} + 1.0 m_{5}^{2} - 0.5 s_{15} - 0.5 s_{25}\\\\1.0 m_{1}^{2} + 0.5 m_{4}^{2} + 0.5 m_{5}^{2} - 0.5 s_{14} - 0.5 s_{15} & 1.0 m_{1}^{2} + 1.0 m_{2}^{2} + 1.0 m_{4}^{2} + 1.0 m_{5}^{2} - 0.5 s_{14} - 0.5 s_{15} - 0.5 s_{24} - 0.5 s_{25} & s_{45} & - 0.5 m_{4}^{2} + 0.5 m_{5}^{2} + 0.5 s_{45}\\\\0.5 m_{1}^{2} + 0.5 m_{5}^{2} - 0.5 s_{15} & 0.5 m_{1}^{2} + 0.5 m_{2}^{2} + 1.0 m_{5}^{2} - 0.5 s_{15} - 0.5 s_{25} & - 0.5 m_{4}^{2} + 0.5 m_{5}^{2} + 0.5 s_{45} & m_{5}^{2}\\end{matrix}\\right]$"
      ]
     },
     "metadata": {},
     "output_type": "display_data"
    },
    {
     "data": {
      "text/latex": [
       "$\\displaystyle \\left[ \\left(p_{1} + p_{5}\\right) \\cdot \\left(p_{1} + p_{5}\\right) = s_{15}, \\  \\left(- p_{1} - p_{5}\\right) \\cdot \\left(- p_{1} - p_{5}\\right) = s_{15}, \\  \\left(p_{1} + p_{2}\\right)^{2} = s_{12}, \\  \\left(p_{1} + p_{2}\\right) \\cdot \\left(p_{1} + p_{2}\\right) = s_{12}, \\  \\left(- p_{1} - p_{2}\\right) \\cdot \\left(- p_{1} - p_{2}\\right) = s_{12}, \\  \\left(p_{2} + p_{3}\\right)^{2} = s_{23}, \\  \\left(p_{2} + p_{3}\\right) \\cdot \\left(p_{2} + p_{3}\\right) = s_{23}, \\  \\left(- p_{2} - p_{3}\\right) \\cdot \\left(- p_{2} - p_{3}\\right) = s_{23}, \\  \\left(p_{3} + p_{4}\\right)^{2} = s_{34}, \\  \\left(p_{3} + p_{4}\\right) \\cdot \\left(p_{3} + p_{4}\\right) = s_{34}, \\  \\left(- p_{3} - p_{4}\\right) \\cdot \\left(- p_{3} - p_{4}\\right) = s_{34}, \\  \\left(p_{4} + p_{5}\\right)^{2} = s_{45}, \\  \\left(p_{4} + p_{5}\\right) \\cdot \\left(p_{4} + p_{5}\\right) = s_{45}, \\  \\left(- p_{4} - p_{5}\\right) \\cdot \\left(- p_{4} - p_{5}\\right) = s_{45}\\right]$"
      ]
     },
     "metadata": {},
     "output_type": "display_data"
    },
    {
     "data": {
      "text/latex": [
       "$\\displaystyle m_{4}^{2} - m_{5}^{2} + 2.0 p_{2}^{2} + 2.0 p_{3}^{2} + 2.0 p_{4}^{2} + 2.0 p_{5}^{2} + s_{15} - 1.0 s_{24} - 1.0 s_{25} - 1.0 s_{34} - 1.0 s_{35} - 2 s_{45}$"
      ]
     },
     "metadata": {},
     "output_type": "display_data"
    }
   ],
   "source": [
    "def getSijs(externals):\n",
    "    diagramSize = len(externals)\n",
    "    Sijs =  [sym.Eq(Dot(externals[0] + externals[-1], externals[0] + externals[-1]), sym.Symbol(\"s1\" + str(diagramSize))), \\\n",
    "             sym.Eq(Dot(-externals[0] - externals[-1], -externals[0] - externals[-1]), sym.Symbol(\"s1\" + str(diagramSize)))]\n",
    "    for i in range(len(externals) -1):\n",
    "        Sijs.append(sym.Eq((externals[i] + externals[i+1]) ** 2, sym.Symbol(\"s\" + str(i+1) + str(i+2))))\n",
    "        Sijs.append(sym.Eq(Dot(externals[i] + externals[i+1],externals[i] + externals[i+1]), sym.Symbol(\"s\" + str(i+1) + str(i+2))))\n",
    "        Sijs.append(sym.Eq(Dot(-externals[i] - externals[i+1], -externals[i] - externals[i+1]), sym.Symbol(\"s\" + str(i+1) + str(i+2))))\n",
    "\n",
    "    display_latex(Sijs)\n",
    "\n",
    "    return Sijs\n",
    "\n",
    "def getSijsSubs(externals):\n",
    "    diagramSize = len(externals)\n",
    "\n",
    "    SijConditions = []\n",
    "    for i in range(diagramSize):\n",
    "        for j in range(diagramSize):\n",
    "            SijConditions.append(sym.Eq(Dot(externals[i], externals[j]), 1/2 * \\\n",
    "                                         (sym.Symbol(\"s\" + str((i % diagramSize) + 1) + str((j % diagramSize) + 1)) - externals[i] ** 2 - externals[j] ** 2)))\n",
    "            SijConditions.append(sym.Eq(Dot(-externals[i], -externals[j]), 1/2 * \\\n",
    "                                         (sym.Symbol(\"s\" + str((i % diagramSize) + 1) + str((j % diagramSize) + 1)) - externals[i] ** 2 - externals[j] ** 2)))\n",
    "            SijConditions.append(sym.Eq(Dot(-externals[i], externals[j]), -1/2 * \\\n",
    "                                         (sym.Symbol(\"s\" + str((i % diagramSize) + 1) + str((j % diagramSize) + 1)) - externals[i] ** 2 - externals[j] ** 2)))\n",
    "            SijConditions.append(sym.Eq(Dot(externals[i], -externals[j]), -1/2 * \\\n",
    "                                         (sym.Symbol(\"s\" + str((i % diagramSize) + 1) + str((j % diagramSize) + 1)) - externals[i] ** 2 - externals[j] ** 2)))\n",
    "            \n",
    "    return SijConditions\n",
    "            \n",
    "def getRedundantSijs(externals):\n",
    "    return None\n",
    "\n",
    "\n",
    "def finishDotProds(expression, externals, externalMasses):\n",
    "\n",
    "    for i in range(len(externals)):\n",
    "        #Handle trivial p^2 substitutions\n",
    "        expression = expression.subs(Dot(externals[i],externals[i]), externals[i] ** 2)\n",
    "        expression = expression.subs(Dot(-externals[i],-externals[i]), externals[i] ** 2)\n",
    "        expression = expression.subs(externals[i] ** 2, externalMasses[i] ** 2)\n",
    "\n",
    "        #Handles sums of p_i's \n",
    "        for j in range(len(externals)):\n",
    "            sumij = externals[i] + externals[j]\n",
    "            minussumij = -externals[i] + -externals[j]\n",
    "\n",
    "            expression = expression.subs(Dot(minussumij, minussumij), sumij ** 2)\n",
    "            expression = expression.subs(Dot(sumij, sumij), sumij ** 2)\n",
    "\n",
    "    #The above gets us into a form that's almost there, but with some remaining p_i dot p_j terms\n",
    "\n",
    "    for i in range(len(externals)):\n",
    "        #Handle trivial p^2 substitutions again (order matters)\n",
    "        expression = expression.subs(Dot(externals[i],externals[i]), externals[i] ** 2)\n",
    "        expression = expression.subs(Dot(-externals[i],-externals[i]), externals[i] ** 2)\n",
    "        expression = expression.subs(externals[i] ** 2, externalMasses[i] ** 2)\n",
    "\n",
    "    #Sub for Sijs directly where possible\n",
    "    Sijs = getSijs(externals)\n",
    "\n",
    "    for condition in Sijs:\n",
    "        expression = expression.subs(condition.lhs, condition.rhs)\n",
    "\n",
    "    expression = sym.simplify(expression)\n",
    "\n",
    "    for i in range(len(externals)):\n",
    "        #Handle trivial p^2 substitutions yet again\n",
    "        expression = expression.subs(Dot(externals[i],externals[i]), externals[i] ** 2)\n",
    "        expression = expression.subs(Dot(-externals[i],-externals[i]), externals[i] ** 2)\n",
    "        expression = expression.subs(externals[i] ** 2, externalMasses[i] ** 2)\n",
    "\n",
    "    SijsConditions = getSijsSubs(externals)\n",
    "\n",
    "    for condition in SijsConditions:\n",
    "        expression = expression.subs(condition.lhs, condition.rhs)\n",
    "\n",
    "    return expression\n",
    "\n",
    "#Initialise Diagram\n",
    "externals = [sym.Symbol(\"p1\"), sym.Symbol(\"p2\"), sym.Symbol(\"p3\"), sym.Symbol(\"p4\"), sym.Symbol(\"p5\")]\n",
    "internals = [sym.Symbol(\"q1\"), sym.Symbol(\"q2\"), sym.Symbol(\"q3\"), sym.Symbol(\"q4\"), sym.Symbol(\"q5\")]\n",
    "externalmasses = [sym.Symbol(\"m1\"), sym.Symbol(\"m2\"), sym.Symbol(\"m3\"), sym.Symbol(\"m4\"), sym.Symbol(\"m5\")]\n",
    "\n",
    "print(\"Gram Matrix:\")\n",
    "\n",
    "gramMatrix, gramDet = getGramDet(internals)\n",
    "\n",
    "display_latex(gramMatrix)\n",
    "\n",
    "gramMatrix = subForExternals(gramMatrix, internals, externals)\n",
    "\n",
    "print(\"With externals subbed in:\")\n",
    "\n",
    "display_latex(gramMatrix)\n",
    "\n",
    "display_latex(finishDotProds(finishDotProds(gramMatrix, externals, externalmasses), externals, externalmasses))\n",
    "\n",
    "testexpr = sym.Symbol(\"s15\") + externals[3] ** 2 - externals[4] ** 2 - 2 * (Dot(externals[1] + externals[2], externals[3] + externals[4]) + sym.Symbol(\"s45\"))\n",
    "display_latex(finishDotProds(testexpr, externals, externalmasses))\n"
   ]
  }
 ],
 "metadata": {
  "kernelspec": {
   "display_name": "base",
   "language": "python",
   "name": "python3"
  },
  "language_info": {
   "codemirror_mode": {
    "name": "ipython",
    "version": 3
   },
   "file_extension": ".py",
   "mimetype": "text/x-python",
   "name": "python",
   "nbconvert_exporter": "python",
   "pygments_lexer": "ipython3",
   "version": "3.11.5"
  }
 },
 "nbformat": 4,
 "nbformat_minor": 2
}
