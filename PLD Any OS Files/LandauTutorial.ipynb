{
 "cells": [
  {
   "cell_type": "markdown",
   "metadata": {},
   "source": [
    "# A Landau.jl tutorial"
   ]
  },
  {
   "cell_type": "markdown",
   "metadata": {},
   "source": [
    "This notebook accompanies the paper \n",
    "\n",
    "[LD] Sebastian Mizera and Simon Telen, *Landau Discriminants*, arXiv: .\n",
    "\n",
    "It illustrates the use of the Julia package Landau.jl for computing Landau discriminants. We start by adding the directory to the path and activating the environment. The latter makes sure that Julia uses the correct package versions for all auxiliary packages. "
   ]
  },
  {
   "cell_type": "code",
   "execution_count": 7,
   "metadata": {},
   "outputs": [
    {
     "name": "stderr",
     "output_type": "stream",
     "text": [
      "\u001b[32m\u001b[1m  Activating\u001b[22m\u001b[39m project at `C:\\Users\\tristan\\.julia\\environments\\v1.10`\n"
     ]
    }
   ],
   "source": [
    "push!(LOAD_PATH,string(pwd() * \"/src\"))\n",
    "using Pkg; Pkg.activate()"
   ]
  },
  {
   "cell_type": "markdown",
   "metadata": {},
   "source": [
    "We are now ready to import the package Landau.jl. This may take a minute."
   ]
  },
  {
   "cell_type": "code",
   "execution_count": 11,
   "metadata": {},
   "outputs": [],
   "source": [
    "using Landau"
   ]
  },
  {
   "cell_type": "markdown",
   "metadata": {},
   "source": [
    "In Landau.jl, a Feynman diagram is represented by a list of edges and a list of nodes. An edge between vertices $i$ and $j$ is represented by a 2-tuple $[i,j]$. The list of nodes indicates to which vertices the external legs are attached. For instance, for the parachute diagram in [LD, Fig. 1], the four external legs are attached to vertex 1, 1, 2 and 3 respectively. "
   ]
  },
  {
   "cell_type": "code",
   "execution_count": 12,
   "metadata": {},
   "outputs": [],
   "source": [
    "edges = [[3,1],[1,2],[2,3],[2,3]];\n",
    "nodes = [1,1,2,3];"
   ]
  },
  {
   "cell_type": "markdown",
   "metadata": {},
   "source": [
    "We can compute the Symanzik polynomials ${\\cal U}_G$ and ${\\cal F}_G$ for this diagram as follows. "
   ]
  },
  {
   "cell_type": "code",
   "execution_count": 13,
   "metadata": {},
   "outputs": [
    {
     "name": "stdout",
     "output_type": "stream",
     "text": [
      "F = -(α₁*α₃*α₄ + α₃*α₂*α₄)*p₃₋₄ - (α₁*α₂*α₄ + α₁*α₃*α₂ + α₁*α₃*α₄)*p₁₋₄ - (α₁*α₂*α₄ + α₁*α₃*α₂ + α₁*α₃*α₄)*p₂₋₄ - (α₁*α₂*α₄ + α₁*α₃*α₂ + α₃*α₂*α₄)*p₁₋₃ - (α₁*α₂*α₄ + α₁*α₃*α₂ + α₃*α₂*α₄)*p₂₋₃ - (α₁*mm₁ + α₂*mm₂ + α₃*mm₃ + α₄*mm₄)*(α₁*α₃ + α₁*α₄ + α₂*α₄ + α₃*α₂ + α₃*α₄)\n",
      "--------------\n",
      "U = α₁*α₃ + α₁*α₄ + α₂*α₄ + α₃*α₂ + α₃*α₄\n"
     ]
    }
   ],
   "source": [
    "F, U, α, p, mm = getF(edges, nodes);\n",
    "println(\"F = $F\")\n",
    "println(\"--------------\")\n",
    "println(\"U = $U\")"
   ]
  },
  {
   "cell_type": "markdown",
   "metadata": {},
   "source": [
    "The matrix p contains $p_i \\cdot p_j$ in its $(i,j)$ entry, where $p_i$ is the momentum vector of the $i$-th particle. To substitute these by the masses and Mandelstam invariants, we implemented the function substitute4legs for diagrams with 4 external particles. Analogously, for diagrams with 5 dangling edges there is a function substitute5legs. These functions also has the option to use equal masses for all internal and external particles."
   ]
  },
  {
   "cell_type": "code",
   "execution_count": 14,
   "metadata": {},
   "outputs": [
    {
     "name": "stdout",
     "output_type": "stream",
     "text": [
      "F_genericmass = (-1/2)*(-M₃ - M₄ + s)*(α₁*α₃*α₄ + α₃*α₂*α₄) + (-1/2)*(-M₂ - M₃ + t)*(α₁*α₂*α₄ + α₁*α₃*α₂ + α₃*α₂*α₄) + (-1/2)*(-M₁ - M₄ + t)*(α₁*α₂*α₄ + α₁*α₃*α₂ + α₁*α₃*α₄) + (-1/2)*(M₁ + M₃ - s - t)*(α₁*α₂*α₄ + α₁*α₃*α₂ + α₁*α₃*α₄) + (-1/2)*(M₂ + M₄ - s - t)*(α₁*α₂*α₄ + α₁*α₃*α₂ + α₃*α₂*α₄) - (m₁*α₁ + m₂*α₂ + m₃*α₃ + m₄*α₄)*(α₁*α₃ + α₁*α₄ + α₂*α₄ + α₃*α₂ + α₃*α₄)\n",
      "-----------------------\n",
      "F_equalmass = -(-M + (1/2)*s)*(α₁*α₃*α₄ + α₃*α₂*α₄) - (-M + (1/2)*t)*(α₁*α₂*α₄ + α₁*α₃*α₂ + α₁*α₃*α₄) - (-M + (1/2)*t)*(α₁*α₂*α₄ + α₁*α₃*α₂ + α₃*α₂*α₄) - (-M + (1/2)*(4*M - s - t))*(α₁*α₂*α₄ + α₁*α₃*α₂ + α₁*α₃*α₄) - (-M + (1/2)*(4*M - s - t))*(α₁*α₂*α₄ + α₁*α₃*α₂ + α₃*α₂*α₄) - (m*α₁ + m*α₂ + m*α₃ + m*α₄)*(α₁*α₃ + α₁*α₄ + α₂*α₄ + α₃*α₂ + α₃*α₄)\n"
     ]
    }
   ],
   "source": [
    "F_genericmass, s, t, M, m = substitute4legs(F, p, mm);\n",
    "println(\"F_genericmass = $(F_genericmass)\")\n",
    "println(\"-----------------------\")\n",
    "F_equalmass, s, t, M, m = substitute4legs(F, p, mm; equalM = true, equalm = true);\n",
    "println(\"F_equalmass = $(F_equalmass)\")"
   ]
  },
  {
   "cell_type": "markdown",
   "metadata": {},
   "source": [
    "Note that the command getF also returns ${\\cal U}_G$. This is computed as a byproduct since the first Symanzik polynomial appears in the definition of the second. If we want to compute just ${\\cal U}_G$, we can use"
   ]
  },
  {
   "cell_type": "code",
   "execution_count": 15,
   "metadata": {},
   "outputs": [
    {
     "name": "stdout",
     "output_type": "stream",
     "text": [
      "U = α₁*α₃ + α₁*α₄ + α₂*α₄ + α₃*α₂ + α₃*α₄\n"
     ]
    }
   ],
   "source": [
    "U, M, α, vtcs = getU(edges);\n",
    "println(\"U = $U\")"
   ]
  },
  {
   "cell_type": "markdown",
   "metadata": {},
   "source": [
    "Here's how to generate the critical point equations of ${\\cal F}_G$. We load HomotopyContinuation.jl to represent these equations as a system."
   ]
  },
  {
   "cell_type": "code",
   "execution_count": 16,
   "metadata": {},
   "outputs": [
    {
     "data": {
      "text/plain": [
       "System of length 4\n",
       " 13 variables: mm₁, mm₂, mm₃, mm₄, p₁₋₃, p₂₋₃, p₁₋₄, p₂₋₄, p₃₋₄, α₁, α₂, α₃, α₄\n",
       "\n",
       " -mm₁*(α₁*α₃ + α₁*α₄ + α₂*α₄ + α₃*α₂ + α₃*α₄) - p₁₋₄*(α₂*α₄ + α₃*α₂ + α₃*α₄) - p₂₋₄*(α₂*α₄ + α₃*α₂ + α₃*α₄) - (α₃ + α₄)*(α₁*mm₁ + α₂*mm₂ + α₃*mm₃ + α₄*mm₄) - (α₂*α₄ + α₃*α₂)*p₁₋₃ - (α₂*α₄ + α₃*α₂)*p₂₋₃ - α₃*α₄*p₃₋₄\n",
       " -mm₂*(α₁*α₃ + α₁*α₄ + α₂*α₄ + α₃*α₂ + α₃*α₄) - p₁₋₃*(α₁*α₃ + α₁*α₄ + α₃*α₄) - p₂₋₃*(α₁*α₃ + α₁*α₄ + α₃*α₄) - (α₃ + α₄)*(α₁*mm₁ + α₂*mm₂ + α₃*mm₃ + α₄*mm₄) - (α₁*α₃ + α₁*α₄)*p₁₋₄ - (α₁*α₃ + α₁*α₄)*p₂₋₄ - α₃*α₄*p₃₋₄\n",
       " -mm₃*(α₁*α₃ + α₁*α₄ + α₂*α₄ + α₃*α₂ + α₃*α₄) - (α₁*α₂ + α₁*α₄)*p₁₋₄ - (α₁*α₂ + α₁*α₄)*p₂₋₄ - (α₁*α₂ + α₂*α₄)*p₁₋₃ - (α₁*α₂ + α₂*α₄)*p₂₋₃ - (α₁*α₄ + α₂*α₄)*p₃₋₄ - (α₁*mm₁ + α₂*mm₂ + α₃*mm₃ + α₄*mm₄)*(α₁ + α₂ + α₄)\n",
       " -mm₄*(α₁*α₃ + α₁*α₄ + α₂*α₄ + α₃*α₂ + α₃*α₄) - (α₁*α₂ + α₁*α₃)*p₁₋₄ - (α₁*α₂ + α₁*α₃)*p₂₋₄ - (α₁*α₂ + α₃*α₂)*p₁₋₃ - (α₁*α₂ + α₃*α₂)*p₂₋₃ - (α₁*α₃ + α₃*α₂)*p₃₋₄ - (α₁*mm₁ + α₂*mm₂ + α₃*mm₃ + α₄*mm₄)*(α₁ + α₂ + α₃)"
      ]
     },
     "metadata": {},
     "output_type": "display_data"
    }
   ],
   "source": [
    "LE, α, p, mm = LandauEquations(edges, nodes);\n",
    "using HomotopyContinuation\n",
    "System(LE)"
   ]
  },
  {
   "cell_type": "markdown",
   "metadata": {},
   "source": [
    "The equations we will eventually solve are an affine version of these equaitons, see [LD, Sec. 3.2]. These affine equations can be computed by the function affineLandauEquations. Notice below that they only contain 3 out of 4 Schwinger parameters ($\\alpha_4$ is set to 1) and the last equation is of the form $yg - 1 = 0$. "
   ]
  },
  {
   "cell_type": "code",
   "execution_count": 17,
   "metadata": {},
   "outputs": [
    {
     "name": "stdout",
     "output_type": "stream",
     "text": [
      "variables: Variable[M₁, M₂, M₃, M₄, m₁, m₂, m₃, m₄, s, t, y, α₁, α₂, α₃]\n",
      "last eq.: -1 + y*α₁*α₃*α₂*(1.0*α₁ + 1.0*α₂ + 1.0*α₃ + α₁*α₃ + α₃*α₂)\n"
     ]
    }
   ],
   "source": [
    "LE, y, α, p, mm = affineLandauEquations(edges,nodes);\n",
    "LE, s, t, M, m = substitute4legs(LE, p, mm); \n",
    "println(\"variables: $(variables(LE))\")\n",
    "println(\"last eq.: $(LE[end])\")"
   ]
  },
  {
   "cell_type": "markdown",
   "metadata": {},
   "source": [
    "The projection of the variety defined by these 4 equations in 14 unknowns onto the space of parameters $s,t,M_i,m_e$ is dense in the Landau discriminant. We can compute the degree of the closure of this projection as follows.  "
   ]
  },
  {
   "cell_type": "code",
   "execution_count": 18,
   "metadata": {},
   "outputs": [
    {
     "name": "stdout",
     "output_type": "stream",
     "text": [
      "\r\u001b[32mTracking 24 paths...   8%|███                           |  ETA: 0:01:52\u001b[39m\u001b[K\r\n",
      "\u001b[34m  # paths tracked:                  2\u001b[39m\u001b[K\r\n",
      "\u001b[34m  # non-singular solutions (real):  1 (0)\u001b[39m\u001b[K\r\n",
      "\u001b[34m  # singular endpoints (real):      0 (0)\u001b[39m\u001b[K\r\n",
      "\u001b[34m  # total solutions (real):         1 (0)\u001b[39m\u001b[K\r\u001b[A\r\u001b[A\r\u001b[A\r\u001b[A"
     ]
    },
    {
     "name": "stdout",
     "output_type": "stream",
     "text": [
      "\n",
      "\n",
      "\n",
      "\n",
      "\r\u001b[K\u001b[A\r\u001b[K\u001b[A\r\u001b[K\u001b[A\r\u001b[K\u001b[A\r\u001b[32mTracking 24 paths... 100%|██████████████████████████████| Time: 0:00:10\u001b[39m\u001b[K\r\n",
      "\u001b[34m  # paths tracked:                  24\u001b[39m\u001b[K\r\n",
      "\u001b[34m  # non-singular solutions (real):  6 (0)\u001b[39m\u001b[K\r\n",
      "\u001b[34m  # singular endpoints (real):      0 (0)\u001b[39m\u001b[K\r\n",
      "\u001b[34m  # total solutions (real):         6 (0)\u001b[39m\u001b[K\n"
     ]
    },
    {
     "name": "stdout",
     "output_type": "stream",
     "text": [
      "degree = 6\n"
     ]
    }
   ],
   "source": [
    "dproj = degreeProjection(LE, [α[1:end-1];y], [s;t;M;m]);\n",
    "println(\"degree = $dproj\")"
   ]
  },
  {
   "cell_type": "markdown",
   "metadata": {},
   "source": [
    "The number 6 can be found in [LD, Table 1]. We can also compute samples on the Landau discriminant using the command sampleProjection, see [LD, Sec. 3.2]. The optional input npoints is a lower bound on the number of samples you would like to compute. The default is 200. "
   ]
  },
  {
   "cell_type": "code",
   "execution_count": 19,
   "metadata": {},
   "outputs": [
    {
     "name": "stdout",
     "output_type": "stream",
     "text": [
      "\r\u001b[32mTracking 6 paths...  33%|███████████                    |  ETA: 0:00:07\u001b[39m\u001b[K\r\n",
      "\u001b[34m  # paths tracked:                  2\u001b[39m\u001b[K\r\n",
      "\u001b[34m  # non-singular solutions (real):  2 (0)\u001b[39m\u001b[K\r\n",
      "\u001b[34m  # singular endpoints (real):      0 (0)\u001b[39m\u001b[K\r\n",
      "\u001b[34m  # total solutions (real):         2 (0)\u001b[39m\u001b[K\r\u001b[A\r\u001b[A\r\u001b[A\r\u001b[A"
     ]
    },
    {
     "name": "stdout",
     "output_type": "stream",
     "text": [
      "\n",
      "\n",
      "\n",
      "\n",
      "\r\u001b[K\u001b[A\r\u001b[K\u001b[A\r\u001b[K\u001b[A\r\u001b[K\u001b[A\r\u001b[32mTracking 6 paths... 100%|███████████████████████████████| Time: 0:00:03\u001b[39m\u001b[K\r\n",
      "\u001b[34m  # paths tracked:                  6\u001b[39m\u001b[K\r\n",
      "\u001b[34m  # non-singular solutions (real):  6 (0)\u001b[39m\u001b[K\r\n",
      "\u001b[34m  # singular endpoints (real):      0 (0)\u001b[39m\u001b[K\r\n",
      "\u001b[34m  # total solutions (real):         6 (0)\u001b[39m\u001b[K\n"
     ]
    },
    {
     "name": "stdout",
     "output_type": "stream",
     "text": [
      "Computed 102 samples\n"
     ]
    }
   ],
   "source": [
    "samples, monres, AA, BB, H, singsamples = sampleProjection(LE,[α[1:end-1];y],[s;t;M;m]; npoints = 100);\n",
    "println(\"Computed $(length(samples)) samples\")"
   ]
  },
  {
   "cell_type": "markdown",
   "metadata": {},
   "source": [
    "We now repeat the steps above, restricting to equal masses for internal and external particles. In degreeProjection and sampleProjection, we use the option findSingular = true, as it turns out that this is an example where the incidence scheme has a non-reduced component (see [LD, Remark 5])."
   ]
  },
  {
   "cell_type": "code",
   "execution_count": 20,
   "metadata": {},
   "outputs": [
    {
     "name": "stdout",
     "output_type": "stream",
     "text": [
      "\r\u001b[32mTracking 24 paths...   8%|███                           |  ETA: 0:00:41\u001b[39m\u001b[K\r\n",
      "\u001b[34m  # paths tracked:                  2\u001b[39m\u001b[K\r\n",
      "\u001b[34m  # non-singular solutions (real):  1 (0)\u001b[39m\u001b[K\r\n",
      "\u001b[34m  # singular endpoints (real):      0 (0)\u001b[39m\u001b[K\r\n",
      "\u001b[34m  # total solutions (real):         1 (0)\u001b[39m\u001b[K\r\u001b[A\r\u001b[A\r\u001b[A\r\u001b[A"
     ]
    },
    {
     "name": "stdout",
     "output_type": "stream",
     "text": [
      "\n",
      "\n",
      "\n",
      "\n",
      "\r\u001b[K\u001b[A\r\u001b[K\u001b[A\r\u001b[K\u001b[A\r\u001b[K\u001b[A\r\u001b[32mTracking 24 paths...  88%|███████████████████████████   |  ETA: 0:00:01\u001b[39m\u001b[K\r\n",
      "\u001b[34m  # paths tracked:                  21\u001b[39m\u001b[K\r\n",
      "\u001b[34m  # non-singular solutions (real):  1 (0)\u001b[39m\u001b[K\r\n",
      "\u001b[34m  # singular endpoints (real):      5 (0)\u001b[39m\u001b[K\r\n",
      "\u001b[34m  # total solutions (real):         6 (0)\u001b[39m\u001b[K\r\u001b[A\r\u001b[A\r\u001b[A\r\u001b[A"
     ]
    },
    {
     "name": "stdout",
     "output_type": "stream",
     "text": [
      "\n",
      "\n",
      "\n",
      "\n",
      "\r\u001b[K\u001b[A\r\u001b[K\u001b[A\r\u001b[K\u001b[A\r\u001b[K\u001b[A\r\u001b[32mTracking 24 paths... 100%|██████████████████████████████| Time: 0:00:03\u001b[39m\u001b[K\r\n",
      "\u001b[34m  # paths tracked:                  24\u001b[39m\u001b[K\r\n",
      "\u001b[34m  # non-singular solutions (real):  2 (0)\u001b[39m\u001b[K\r"
     ]
    },
    {
     "name": "stdout",
     "output_type": "stream",
     "text": [
      "\n",
      "\u001b[34m  # singular endpoints (real):      6 (0)\u001b[39m\u001b[K\r\n",
      "\u001b[34m  # total solutions (real):         8 (0)\u001b[39m\u001b[K\n"
     ]
    },
    {
     "name": "stdout",
     "output_type": "stream",
     "text": [
      "found some singular solutions\n",
      "singular component is estimated to have degree >= 1"
     ]
    },
    {
     "name": "stdout",
     "output_type": "stream",
     "text": [
      "\n",
      "found some singular solutions\n",
      "singular component is estimated to have degree >= 1"
     ]
    },
    {
     "name": "stdout",
     "output_type": "stream",
     "text": [
      "\n",
      "-----------\n",
      "degree = 3\n",
      "Computed 68 samples\n",
      "Computed 34 singular samples\n"
     ]
    }
   ],
   "source": [
    "LE, y, α, p, mm = affineLandauEquations(edges,nodes);\n",
    "LE, s, t, M, m = substitute4legs(LE, p, mm; equalM = true, equalm = true);\n",
    "dproj = degreeProjection(LE,[α[1:end-1];y], [s;t;M;m]; findSingular = true);\n",
    "samples, monres, AA, BB, H, singsamples = sampleProjection(LE,[α[1:end-1];y],[s;t;M;m]; npoints = 100, findSingular = true);\n",
    "println(\"-----------\")\n",
    "println(\"degree = $dproj\")\n",
    "println(\"Computed $(length(samples)) samples\")\n",
    "println(\"Computed $(length(singsamples)) singular samples\")"
   ]
  },
  {
   "cell_type": "markdown",
   "metadata": {},
   "source": [
    "Both degreeProjection and sampleProjection warn that some singular solutions were found. The degree of the discriminant is 3, and from the ratio between regular and singular samples we see that it is a union of surfaces of degree 2 and 1. In particular, it is reducible. To find the equation for the degree 2 surface, we interpolate the regular samples."
   ]
  },
  {
   "cell_type": "code",
   "execution_count": 21,
   "metadata": {},
   "outputs": [
    {
     "data": {
      "text/latex": [
       "$$ (1.0 + -0.0*im)*M*m + (-3.27419185147561e-18 - 5.09919405619472e-16*im)*M*s + (-1.93576802126058e-16 - 8.82834067491234e-16*im)*M*t + (-0.4 - 3.70851482050028e-16*im)*m*s + (1.02134576245855e-15 + 1.58990085709072e-15*im)*m*t + (6.44123721821013e-16 + 4.94067441337399e-16*im)*s*t + (-0.0999999999999999 + 1.09710230106467e-15*im)*M^2 + (-0.899999999999999 - 3.09042901708356e-15*im)*m^2 + (-7.68442166148151e-17 - 1.32778158458167e-16*im)*t^2 $$"
      ],
      "text/plain": [
       "(1.0 + -0.0*im)*M*m + (-3.27419185147561e-18 - 5.09919405619472e-16*im)*M*s + (-1.93576802126058e-16 - 8.82834067491234e-16*im)*M*t + (-0.4 - 3.70851482050028e-16*im)*m*s + (1.02134576245855e-15 + 1.58990085709072e-15*im)*m*t + (6.44123721821013e-16 + 4.94067441337399e-16*im)*s*t + (-0.0999999999999999 + 1.09710230106467e-15*im)*M^2 + (-0.899999999999999 - 3.09042901708356e-15*im)*m^2 + (-7.68442166148151e-17 - 1.32778158458167e-16*im)*t^2"
      ]
     },
     "metadata": {},
     "output_type": "display_data"
    }
   ],
   "source": [
    "pol, N, gap = interpolate_deg(samples,2,[s;t;M;m]);\n",
    "pol"
   ]
  },
  {
   "cell_type": "markdown",
   "metadata": {},
   "source": [
    "This is a polynomial with complex floating point coefficients, whose imaginary part is negligible. We convert this into a polynomial with rational coefficients via the function rat in Landau.jl."
   ]
  },
  {
   "cell_type": "code",
   "execution_count": 22,
   "metadata": {},
   "outputs": [
    {
     "data": {
      "text/latex": [
       "$$ M*m + (-2/5)*m*s + (-1/10)*M^2 + (-9/10)*m^2 $$"
      ],
      "text/plain": [
       "M*m + (-2/5)*m*s + (-1/10)*M^2 + (-9/10)*m^2"
      ]
     },
     "metadata": {},
     "output_type": "display_data"
    }
   ],
   "source": [
    "rat(pol)"
   ]
  },
  {
   "cell_type": "markdown",
   "metadata": {},
   "source": [
    "Similarly, for the singular samples: "
   ]
  },
  {
   "cell_type": "code",
   "execution_count": 23,
   "metadata": {},
   "outputs": [
    {
     "data": {
      "text/latex": [
       "$$ -M + m $$"
      ],
      "text/plain": [
       "-M + m"
      ]
     },
     "metadata": {},
     "output_type": "display_data"
    }
   ],
   "source": [
    "pol, N, gap = interpolate_deg(singsamples,1,[s;t;M;m]);\n",
    "rat(pol)"
   ]
  },
  {
   "cell_type": "markdown",
   "metadata": {},
   "source": [
    "The product of these two polynomials (up to a scalar factor) is found when interpolating all samples simultaneously. "
   ]
  },
  {
   "cell_type": "code",
   "execution_count": 24,
   "metadata": {},
   "outputs": [
    {
     "data": {
      "text/latex": [
       "$$ M*m^2 + (-11/19)*M^2*m + (-4/19)*m^2*s + (4/19)*M*m*s + (1/19)*M^3 + (-9/19)*m^3 $$"
      ],
      "text/plain": [
       "M*m^2 + (-11/19)*M^2*m + (-4/19)*m^2*s + (4/19)*M*m*s + (1/19)*M^3 + (-9/19)*m^3"
      ]
     },
     "metadata": {},
     "output_type": "display_data"
    }
   ],
   "source": [
    "pol, N, gap = interpolate_deg([samples;singsamples],3,[s;t;M;m]);\n",
    "rat(pol)"
   ]
  },
  {
   "cell_type": "markdown",
   "metadata": {},
   "source": [
    "The same result is computed with the blackbox function getLandauDiscriminant, which computes the discriminants directly from the graph using the the steps illustrated above. "
   ]
  },
  {
   "cell_type": "code",
   "execution_count": 25,
   "metadata": {},
   "outputs": [
    {
     "name": "stdout",
     "output_type": "stream",
     "text": [
      "-------------------------------------------\n",
      "Slicing the incidence variety..."
     ]
    },
    {
     "name": "stdout",
     "output_type": "stream",
     "text": [
      "\n",
      "\r\u001b[32mTracking 24 paths...   8%|███                           |  ETA: 0:00:40\u001b[39m\u001b[K\r\n",
      "\u001b[34m  # paths tracked:                  2\u001b[39m\u001b[K\r\n",
      "\u001b[34m  # non-singular solutions (real):  0 (0)\u001b[39m\u001b[K\r\n",
      "\u001b[34m  # singular endpoints (real):      2 (0)\u001b[39m\u001b[K\r\n",
      "\u001b[34m  # total solutions (real):         2 (0)\u001b[39m\u001b[K\r\u001b[A\r\u001b[A\r\u001b[A\r\u001b[A"
     ]
    },
    {
     "name": "stdout",
     "output_type": "stream",
     "text": [
      "\n",
      "\n",
      "\n",
      "\n",
      "\r\u001b[K\u001b[A\r\u001b[K\u001b[A\r\u001b[K\u001b[A\r\u001b[K\u001b[A\r\u001b[32mTracking 24 paths... 100%|██████████████████████████████| Time: 0:00:03\u001b[39m\u001b[K\r\n",
      "\u001b[34m  # paths tracked:                  24\u001b[39m\u001b[K\r\n",
      "\u001b[34m  # non-singular solutions (real):  2 (0)\u001b[39m\u001b[K\r\n",
      "\u001b[34m  # singular endpoints (real):      6 (0)\u001b[39m\u001b[K\r\n",
      "\u001b[34m  # total solutions (real):         8 (0)\u001b[39m\u001b[K\n"
     ]
    },
    {
     "name": "stdout",
     "output_type": "stream",
     "text": [
      "found some singular solutions\n",
      "singular component is estimated to have degree >= 1"
     ]
    },
    {
     "name": "stdout",
     "output_type": "stream",
     "text": [
      "\n",
      "found some singular solutions\n",
      "singular component is estimated to have degree >= 1"
     ]
    },
    {
     "name": "stdout",
     "output_type": "stream",
     "text": [
      "\n",
      "found some singular solutions\n",
      "singular component is estimated to have degree >= 1"
     ]
    },
    {
     "name": "stdout",
     "output_type": "stream",
     "text": [
      "\n",
      "Interpolating 24 samples ...\n"
     ]
    },
    {
     "name": "stdout",
     "output_type": "stream",
     "text": [
      "M*m^2 + (-11/19)*M^2*m + (-4/19)*m^2*s + (4/19)*M*m*s + (1/19)*M^3 + (-9/19)*m^3\n",
      "--------------------\n",
      "the discriminant is:\n"
     ]
    },
    {
     "data": {
      "text/latex": [
       "$$ M*m^2 + (-11/19)*M^2*m + (-4/19)*m^2*s + (4/19)*M*m*s + (1/19)*M^3 + (-9/19)*m^3 $$"
      ],
      "text/plain": [
       "M*m^2 + (-11/19)*M^2*m + (-4/19)*m^2*s + (4/19)*M*m*s + (1/19)*M^3 + (-9/19)*m^3"
      ]
     },
     "metadata": {},
     "output_type": "display_data"
    }
   ],
   "source": [
    "Δ, par = getLandauDiscriminant(edges,nodes);\n",
    "println(\"--------------------\")\n",
    "println(\"the discriminant is:\")\n",
    "Δ[1]"
   ]
  },
  {
   "cell_type": "markdown",
   "metadata": {},
   "source": [
    "If possible, this function returns the individual components of the discriminants. Here is the example of the double box (dbox) diagram. \n"
   ]
  },
  {
   "cell_type": "code",
   "execution_count": 29,
   "metadata": {},
   "outputs": [
    {
     "name": "stdout",
     "output_type": "stream",
     "text": [
      "-------------------------------------------\n",
      "Slicing the incidence variety...\n"
     ]
    },
    {
     "name": "stderr",
     "output_type": "stream",
     "text": [
      "\r\u001b[32mComputing mixed cells... 95    Time: 0:00:00\u001b[39m\u001b[K\r\n",
      "\u001b[34m  mixed_volume:  211\u001b[39m\u001b[K\r\u001b[A"
     ]
    },
    {
     "name": "stderr",
     "output_type": "stream",
     "text": [
      "\n",
      "\r\u001b[K\u001b[A\r\u001b[32mComputing mixed cells... 201    Time: 0:00:00\u001b[39m\u001b[K\r\n",
      "\u001b[34m  mixed_volume:  436\u001b[39m\u001b[K\n"
     ]
    },
    {
     "name": "stdout",
     "output_type": "stream",
     "text": [
      "\r\u001b[32mTracking 436 paths...   0%|█                            |  ETA: 0:32:06\u001b[39m\u001b[K\r\n",
      "\u001b[34m  # paths tracked:                  2\u001b[39m\u001b[K\r\n",
      "\u001b[34m  # non-singular solutions (real):  0 (0)\u001b[39m\u001b[K\r\n",
      "\u001b[34m  # singular endpoints (real):      0 (0)\u001b[39m\u001b[K\r\n",
      "\u001b[34m  # total solutions (real):         0 (0)\u001b[39m\u001b[K\r\u001b[A\r\u001b[A\r\u001b[A\r\u001b[A"
     ]
    },
    {
     "name": "stdout",
     "output_type": "stream",
     "text": [
      "\n",
      "\n",
      "\n",
      "\n",
      "\r\u001b[K\u001b[A\r\u001b[K\u001b[A\r\u001b[K\u001b[A\r\u001b[K\u001b[A\r\u001b[32mTracking 436 paths...   4%|██                           |  ETA: 0:03:45\u001b[39m\u001b[K\r\n",
      "\u001b[34m  # paths tracked:                  17\u001b[39m\u001b[K\r\n",
      "\u001b[34m  # non-singular solutions (real):  1 (0)\u001b[39m\u001b[K\r\n",
      "\u001b[34m  # singular endpoints (real):      0 (0)\u001b[39m\u001b[K\r\n",
      "\u001b[34m  # total solutions (real):         1 (0)\u001b[39m\u001b[K\r\u001b[A\r\u001b[A\r\u001b[A\r\u001b[A"
     ]
    },
    {
     "name": "stdout",
     "output_type": "stream",
     "text": [
      "\n",
      "\n",
      "\n",
      "\n",
      "\r\u001b[K\u001b[A\r\u001b[K\u001b[A\r\u001b[K\u001b[A\r\u001b[K\u001b[A\r\u001b[32mTracking 436 paths...   8%|███                          |  ETA: 0:01:47\u001b[39m\u001b[K\r\n",
      "\u001b[34m  # paths tracked:                  35\u001b[39m\u001b[K\r\n",
      "\u001b[34m  # non-singular solutions (real):  1 (0)\u001b[39m\u001b[K\r\n",
      "\u001b[34m  # singular endpoints (real):      0 (0)\u001b[39m\u001b[K\r\n",
      "\u001b[34m  # total solutions (real):         1 (0)\u001b[39m\u001b[K\r\u001b[A\r\u001b[A\r\u001b[A\r\u001b[A"
     ]
    },
    {
     "name": "stdout",
     "output_type": "stream",
     "text": [
      "\n",
      "\n",
      "\n",
      "\n",
      "\r\u001b[K\u001b[A\r\u001b[K\u001b[A\r\u001b[K\u001b[A\r\u001b[K\u001b[A\r\u001b[32mTracking 436 paths...  13%|████                         |  ETA: 0:01:05\u001b[39m\u001b[K\r\n",
      "\u001b[34m  # paths tracked:                  56\u001b[39m\u001b[K\r\n",
      "\u001b[34m  # non-singular solutions (real):  1 (0)\u001b[39m\u001b[K\r\n",
      "\u001b[34m  # singular endpoints (real):      0 (0)\u001b[39m\u001b[K\r\n",
      "\u001b[34m  # total solutions (real):         1 (0)\u001b[39m\u001b[K\r\u001b[A\r\u001b[A\r\u001b[A\r\u001b[A"
     ]
    },
    {
     "name": "stdout",
     "output_type": "stream",
     "text": [
      "\n",
      "\n",
      "\n",
      "\n",
      "\r\u001b[K\u001b[A\r\u001b[K\u001b[A\r\u001b[K\u001b[A\r\u001b[K\u001b[A\r\u001b[32mTracking 436 paths...  16%|█████                        |  ETA: 0:00:50\u001b[39m\u001b[K\r\n",
      "\u001b[34m  # paths tracked:                  71\u001b[39m\u001b[K\r\n",
      "\u001b[34m  # non-singular solutions (real):  1 (0)\u001b[39m\u001b[K\r\n",
      "\u001b[34m  # singular endpoints (real):      0 (0)\u001b[39m\u001b[K\r\n",
      "\u001b[34m  # total solutions (real):         1 (0)\u001b[39m\u001b[K\r\u001b[A\r\u001b[A\r\u001b[A\r\u001b[A"
     ]
    },
    {
     "name": "stdout",
     "output_type": "stream",
     "text": [
      "\n",
      "\n",
      "\n",
      "\n",
      "\r\u001b[K\u001b[A\r\u001b[K\u001b[A\r\u001b[K\u001b[A\r\u001b[K\u001b[A\r\u001b[32mTracking 436 paths...  20%|██████                       |  ETA: 0:00:40\u001b[39m\u001b[K\r\n",
      "\u001b[34m  # paths tracked:                  87\u001b[39m\u001b[K\r\n",
      "\u001b[34m  # non-singular solutions (real):  2 (0)\u001b[39m\u001b[K\r\n",
      "\u001b[34m  # singular endpoints (real):      0 (0)\u001b[39m\u001b[K\r\n",
      "\u001b[34m  # total solutions (real):         2 (0)\u001b[39m\u001b[K\r\u001b[A\r\u001b[A\r\u001b[A\r\u001b[A"
     ]
    },
    {
     "name": "stdout",
     "output_type": "stream",
     "text": [
      "\n",
      "\n",
      "\n",
      "\n",
      "\r\u001b[K\u001b[A\r\u001b[K\u001b[A\r\u001b[K\u001b[A\r\u001b[K\u001b[A\r\u001b[32mTracking 436 paths...  25%|████████                     |  ETA: 0:00:30\u001b[39m\u001b[K\r\n",
      "\u001b[34m  # paths tracked:                  111\u001b[39m\u001b[K\r\n",
      "\u001b[34m  # non-singular solutions (real):  3 (0)\u001b[39m\u001b[K\r\n",
      "\u001b[34m  # singular endpoints (real):      0 (0)\u001b[39m\u001b[K\r\n",
      "\u001b[34m  # total solutions (real):         3 (0)\u001b[39m\u001b[K\r\u001b[A\r\u001b[A\r\u001b[A\r\u001b[A"
     ]
    },
    {
     "name": "stdout",
     "output_type": "stream",
     "text": [
      "\n",
      "\n",
      "\n",
      "\n",
      "\r\u001b[K\u001b[A\r\u001b[K\u001b[A\r\u001b[K\u001b[A\r\u001b[K\u001b[A\r\u001b[32mTracking 436 paths...  31%|█████████                    |  ETA: 0:00:24\u001b[39m\u001b[K\r\n",
      "\u001b[34m  # paths tracked:                  133\u001b[39m\u001b[K\r\n",
      "\u001b[34m  # non-singular solutions (real):  3 (0)\u001b[39m\u001b[K"
     ]
    },
    {
     "name": "stdout",
     "output_type": "stream",
     "text": [
      "\r\n",
      "\u001b[34m  # singular endpoints (real):      0 (0)\u001b[39m\u001b[K\r\n",
      "\u001b[34m  # total solutions (real):         3 (0)\u001b[39m\u001b[K\r\u001b[A\r\u001b[A\r\u001b[A\r\u001b[A"
     ]
    },
    {
     "name": "stdout",
     "output_type": "stream",
     "text": [
      "\n",
      "\n",
      "\n",
      "\n",
      "\r\u001b[K\u001b[A\r\u001b[K\u001b[A\r\u001b[K\u001b[A\r\u001b[K\u001b[A\r\u001b[32mTracking 436 paths...  37%|███████████                  |  ETA: 0:00:19\u001b[39m\u001b[K\r\n",
      "\u001b[34m  # paths tracked:                  163\u001b[39m\u001b[K\r\n",
      "\u001b[34m  # non-singular solutions (real):  3 (0)\u001b[39m\u001b[K\r\n",
      "\u001b[34m  # singular endpoints (real):      0 (0)\u001b[39m\u001b[K\r\n",
      "\u001b[34m  # total solutions (real):         3 (0)\u001b[39m\u001b[K\r\u001b[A\r\u001b[A\r\u001b[A\r\u001b[A"
     ]
    },
    {
     "name": "stdout",
     "output_type": "stream",
     "text": [
      "\n",
      "\n",
      "\n",
      "\n",
      "\r\u001b[K\u001b[A\r\u001b[K\u001b[A\r\u001b[K\u001b[A\r\u001b[K\u001b[A\r\u001b[32mTracking 436 paths...  42%|█████████████                |  ETA: 0:00:16\u001b[39m\u001b[K\r\n",
      "\u001b[34m  # paths tracked:                  183\u001b[39m\u001b[K\r\n",
      "\u001b[34m  # non-singular solutions (real):  3 (0)\u001b[39m\u001b[K\r\n",
      "\u001b[34m  # singular endpoints (real):      0 (0)\u001b[39m\u001b[K\r\n",
      "\u001b[34m  # total solutions (real):         3 (0)\u001b[39m\u001b[K\r\u001b[A\r\u001b[A\r\u001b[A\r\u001b[A"
     ]
    },
    {
     "name": "stdout",
     "output_type": "stream",
     "text": [
      "\n",
      "\n",
      "\n",
      "\n",
      "\r\u001b[K\u001b[A\r\u001b[K\u001b[A\r\u001b[K\u001b[A\r\u001b[K\u001b[A\r\u001b[32mTracking 436 paths...  46%|██████████████               |  ETA: 0:00:13\u001b[39m\u001b[K\r\n",
      "\u001b[34m  # paths tracked:                  202\u001b[39m\u001b[K\r\n",
      "\u001b[34m  # non-singular solutions (real):  3 (0)\u001b[39m\u001b[K\r\n",
      "\u001b[34m  # singular endpoints (real):      0 (0)\u001b[39m\u001b[K\r\n",
      "\u001b[34m  # total solutions (real):         3 (0)\u001b[39m\u001b[K\r\u001b[A\r\u001b[A\r\u001b[A\r\u001b[A"
     ]
    },
    {
     "name": "stdout",
     "output_type": "stream",
     "text": [
      "\n",
      "\n",
      "\n",
      "\n",
      "\r\u001b[K\u001b[A\r\u001b[K\u001b[A\r\u001b[K\u001b[A\r\u001b[K\u001b[A\r\u001b[32mTracking 436 paths...  50%|███████████████              |  ETA: 0:00:12\u001b[39m\u001b[K\r\n",
      "\u001b[34m  # paths tracked:                  216\u001b[39m\u001b[K\r\n",
      "\u001b[34m  # non-singular solutions (real):  4 (0)\u001b[39m\u001b[K\r\n",
      "\u001b[34m  # singular endpoints (real):      0 (0)\u001b[39m\u001b[K\r\n",
      "\u001b[34m  # total solutions (real):         4 (0)\u001b[39m\u001b[K\r\u001b[A\r\u001b[A\r\u001b[A\r\u001b[A"
     ]
    },
    {
     "name": "stdout",
     "output_type": "stream",
     "text": [
      "\n",
      "\n",
      "\n",
      "\n",
      "\r\u001b[K\u001b[A\r\u001b[K\u001b[A\r\u001b[K\u001b[A\r\u001b[K\u001b[A\r\u001b[32mTracking 436 paths...  54%|████████████████             |  ETA: 0:00:10\u001b[39m\u001b[K\r\n",
      "\u001b[34m  # paths tracked:                  234\u001b[39m\u001b[K\r\n",
      "\u001b[34m  # non-singular solutions (real):  4 (0)\u001b[39m\u001b[K\r\n",
      "\u001b[34m  # singular endpoints (real):      0 (0)\u001b[39m\u001b[K\r\n",
      "\u001b[34m  # total solutions (real):         4 (0)\u001b[39m\u001b[K\r\u001b[A\r\u001b[A\r\u001b[A\r\u001b[A"
     ]
    },
    {
     "name": "stdout",
     "output_type": "stream",
     "text": [
      "\n",
      "\n",
      "\n",
      "\n",
      "\r\u001b[K\u001b[A\r\u001b[K\u001b[A\r\u001b[K\u001b[A\r\u001b[K\u001b[A\r\u001b[32mTracking 436 paths...  58%|█████████████████            |  ETA: 0:00:09\u001b[39m\u001b[K\r\n",
      "\u001b[34m  # paths tracked:                  253\u001b[39m\u001b[K\r\n",
      "\u001b[34m  # non-singular solutions (real):  4 (0)\u001b[39m\u001b[K\r\n",
      "\u001b[34m  # singular endpoints (real):      0 (0)\u001b[39m\u001b[K\r\n",
      "\u001b[34m  # total solutions (real):         4 (0)\u001b[39m\u001b[K\r\u001b[A\r\u001b[A\r\u001b[A\r\u001b[A"
     ]
    },
    {
     "name": "stdout",
     "output_type": "stream",
     "text": [
      "\n",
      "\n",
      "\n",
      "\n",
      "\r\u001b[K\u001b[A\r\u001b[K\u001b[A\r\u001b[K\u001b[A\r\u001b[K\u001b[A\r\u001b[32mTracking 436 paths...  63%|███████████████████          |  ETA: 0:00:08\u001b[39m\u001b[K\r\n",
      "\u001b[34m  # paths tracked:                  275\u001b[39m\u001b[K\r\n",
      "\u001b[34m  # non-singular solutions (real):  4 (0)\u001b[39m\u001b[K\r\n",
      "\u001b[34m  # singular endpoints (real):      0 (0)\u001b[39m\u001b[K\r\n",
      "\u001b[34m  # total solutions (real):         4 (0)\u001b[39m\u001b[K\r\u001b[A\r\u001b[A\r\u001b[A\r\u001b[A"
     ]
    },
    {
     "name": "stdout",
     "output_type": "stream",
     "text": [
      "\n",
      "\n",
      "\n",
      "\n",
      "\r\u001b[K\u001b[A\r\u001b[K\u001b[A\r\u001b[K\u001b[A\r\u001b[K\u001b[A\r\u001b[32mTracking 436 paths...  67%|████████████████████         |  ETA: 0:00:06\u001b[39m\u001b[K\r\n",
      "\u001b[34m  # paths tracked:                  293\u001b[39m\u001b[K\r\n",
      "\u001b[34m  # non-singular solutions (real):  4 (0)\u001b[39m\u001b[K\r\n",
      "\u001b[34m  # singular endpoints (real):      0 (0)\u001b[39m\u001b[K\r\n",
      "\u001b[34m  # total solutions (real):         4 (0)\u001b[39m\u001b[K\r\u001b[A\r\u001b[A\r\u001b[A\r\u001b[A"
     ]
    },
    {
     "name": "stdout",
     "output_type": "stream",
     "text": [
      "\n",
      "\n",
      "\n",
      "\n",
      "\r\u001b[K\u001b[A\r\u001b[K\u001b[A\r\u001b[K\u001b[A\r\u001b[K\u001b[A\r\u001b[32mTracking 436 paths...  71%|█████████████████████        |  ETA: 0:00:05\u001b[39m\u001b[K\r\n",
      "\u001b[34m  # paths tracked:                  309\u001b[39m\u001b[K\r\n",
      "\u001b[34m  # non-singular solutions (real):  5 (0)\u001b[39m\u001b[K\r\n",
      "\u001b[34m  # singular endpoints (real):      0 (0)\u001b[39m\u001b[K\r\n",
      "\u001b[34m  # total solutions (real):         5 (0)\u001b[39m\u001b[K\r\u001b[A\r\u001b[A\r\u001b[A\r\u001b[A"
     ]
    },
    {
     "name": "stdout",
     "output_type": "stream",
     "text": [
      "\n",
      "\n",
      "\n",
      "\n",
      "\r\u001b[K\u001b[A\r\u001b[K\u001b[A\r\u001b[K\u001b[A\r\u001b[K\u001b[A\r\u001b[32mTracking 436 paths...  75%|██████████████████████       |  ETA: 0:00:04\u001b[39m\u001b[K\r\n",
      "\u001b[34m  # paths tracked:                  329\u001b[39m\u001b[K\r\n",
      "\u001b[34m  # non-singular solutions (real):  6 (0)\u001b[39m\u001b[K\r\n",
      "\u001b[34m  # singular endpoints (real):      0 (0)\u001b[39m\u001b[K\r\n",
      "\u001b[34m  # total solutions (real):         6 (0)\u001b[39m\u001b[K\r\u001b[A\r\u001b[A\r\u001b[A\r\u001b[A"
     ]
    },
    {
     "name": "stdout",
     "output_type": "stream",
     "text": [
      "\n",
      "\n",
      "\n",
      "\n",
      "\r\u001b[K\u001b[A\r\u001b[K\u001b[A\r\u001b[K\u001b[A\r\u001b[K\u001b[A\r\u001b[32mTracking 436 paths...  80%|████████████████████████     |  ETA: 0:00:04\u001b[39m\u001b[K\r\n",
      "\u001b[34m  # paths tracked:                  347\u001b[39m\u001b[K\r\n",
      "\u001b[34m  # non-singular solutions (real):  6 (0)\u001b[39m\u001b[K\r\n",
      "\u001b[34m  # singular endpoints (real):      0 (0)\u001b[39m\u001b[K\r\n",
      "\u001b[34m  # total solutions (real):         6 (0)\u001b[39m\u001b[K\r\u001b[A\r\u001b[A\r\u001b[A\r\u001b[A"
     ]
    },
    {
     "name": "stdout",
     "output_type": "stream",
     "text": [
      "\n",
      "\n",
      "\n",
      "\n",
      "\r\u001b[K\u001b[A\r\u001b[K\u001b[A\r\u001b[K\u001b[A\r\u001b[K\u001b[A\r\u001b[32mTracking 436 paths...  84%|█████████████████████████    |  ETA: 0:00:03\u001b[39m\u001b[K\r\n",
      "\u001b[34m  # paths tracked:                  366\u001b[39m\u001b[K\r\n",
      "\u001b[34m  # non-singular solutions (real):  7 (0)\u001b[39m\u001b[K\r\n",
      "\u001b[34m  # singular endpoints (real):      0 (0)\u001b[39m\u001b[K\r\n",
      "\u001b[34m  # total solutions (real):         7 (0)\u001b[39m\u001b[K\r\u001b[A\r\u001b[A\r\u001b[A\r\u001b[A"
     ]
    },
    {
     "name": "stdout",
     "output_type": "stream",
     "text": [
      "\n",
      "\n",
      "\n",
      "\n",
      "\r\u001b[K\u001b[A\r\u001b[K\u001b[A\r\u001b[K\u001b[A\r\u001b[K\u001b[A\r\u001b[32mTracking 436 paths...  89%|██████████████████████████   |  ETA: 0:00:02\u001b[39m\u001b[K\r\n",
      "\u001b[34m  # paths tracked:                  388\u001b[39m\u001b[K\r\n",
      "\u001b[34m  # non-singular solutions (real):  7 (0)\u001b[39m\u001b[K\r\n",
      "\u001b[34m  # singular endpoints (real):      0 (0)\u001b[39m\u001b[K\r\n",
      "\u001b[34m  # total solutions (real):         7 (0)\u001b[39m\u001b[K\r\u001b[A\r\u001b[A\r\u001b[A\r\u001b[A"
     ]
    },
    {
     "name": "stdout",
     "output_type": "stream",
     "text": [
      "\n",
      "\n",
      "\n",
      "\n",
      "\r\u001b[K\u001b[A\r\u001b[K\u001b[A\r\u001b[K\u001b[A\r\u001b[K\u001b[A\r\u001b[32mTracking 436 paths...  93%|████████████████████████████ |  ETA: 0:00:01\u001b[39m\u001b[K\r\n",
      "\u001b[34m  # paths tracked:                  407\u001b[39m\u001b[K\r\n",
      "\u001b[34m  # non-singular solutions (real):  8 (0)\u001b[39m\u001b[K\r\n",
      "\u001b[34m  # singular endpoints (real):      0 (0)\u001b[39m\u001b[K\r\n",
      "\u001b[34m  # total solutions (real):         8 (0)\u001b[39m\u001b[K\r\u001b[A\r\u001b[A\r\u001b[A\r\u001b[A"
     ]
    },
    {
     "name": "stdout",
     "output_type": "stream",
     "text": [
      "\n",
      "\n",
      "\n",
      "\n",
      "\r\u001b[K\u001b[A\r\u001b[K\u001b[A\r\u001b[K\u001b[A\r\u001b[K\u001b[A\r\u001b[32mTracking 436 paths...  98%|█████████████████████████████|  ETA: 0:00:00\u001b[39m\u001b[K\r\n",
      "\u001b[34m  # paths tracked:                  427\u001b[39m\u001b[K\r\n",
      "\u001b[34m  # non-singular solutions (real):  8 (0)\u001b[39m\u001b[K\r\n",
      "\u001b[34m  # singular endpoints (real):      0 (0)\u001b[39m\u001b[K\r\n",
      "\u001b[34m  # total solutions (real):         8 (0)\u001b[39m\u001b[K\r\u001b[A\r\u001b[A\r\u001b[A\r\u001b[A"
     ]
    },
    {
     "name": "stdout",
     "output_type": "stream",
     "text": [
      "\n",
      "\n",
      "\n",
      "\n",
      "\r\u001b[K\u001b[A\r\u001b[K\u001b[A\r\u001b[K\u001b[A\r\u001b[K\u001b[A\r\u001b[32mTracking 436 paths... 100%|█████████████████████████████| Time: 0:00:15\u001b[39m\u001b[K\r\n",
      "\u001b[34m  # paths tracked:                  436\u001b[39m\u001b[K\r\n",
      "\u001b[34m  # non-singular solutions (real):  8 (0)\u001b[39m\u001b[K\r\n",
      "\u001b[34m  # singular endpoints (real):      0 (0)\u001b[39m\u001b[K\r\n",
      "\u001b[34m  # total solutions (real):         8 (0)\u001b[39m\u001b[K\n"
     ]
    },
    {
     "name": "stdout",
     "output_type": "stream",
     "text": [
      "Irreducible decomposition using monodromy..."
     ]
    },
    {
     "name": "stdout",
     "output_type": "stream",
     "text": [
      "\n",
      "Found 2 components. \n",
      "Computing degrees of the components..."
     ]
    },
    {
     "name": "stdout",
     "output_type": "stream",
     "text": [
      "\n",
      "\r\u001b[32mTracking 436 paths...   8%|███                          |  ETA: 0:00:06\u001b[39m\u001b[K\r\n",
      "\u001b[34m  # paths tracked:                  34\u001b[39m\u001b[K\r\n",
      "\u001b[34m  # non-singular solutions (real):  1 (0)\u001b[39m\u001b[K\r\n",
      "\u001b[34m  # singular endpoints (real):      0 (0)\u001b[39m\u001b[K\r\n",
      "\u001b[34m  # total solutions (real):         1 (0)\u001b[39m\u001b[K\r\u001b[A\r\u001b[A\r\u001b[A\r\u001b[A"
     ]
    },
    {
     "name": "stdout",
     "output_type": "stream",
     "text": [
      "\n",
      "\n",
      "\n",
      "\n",
      "\r\u001b[K\u001b[A\r\u001b[K\u001b[A\r\u001b[K\u001b[A\r\u001b[K\u001b[A\r\u001b[32mTracking 436 paths...  13%|████                         |  ETA: 0:00:05\u001b[39m\u001b[K\r\n",
      "\u001b[34m  # paths tracked:                  56\u001b[39m\u001b[K\r\n",
      "\u001b[34m  # non-singular solutions (real):  1 (0)\u001b[39m\u001b[K\r\n",
      "\u001b[34m  # singular endpoints (real):      0 (0)\u001b[39m\u001b[K\r\n",
      "\u001b[34m  # total solutions (real):         1 (0)\u001b[39m\u001b[K\r\u001b[A\r\u001b[A\r\u001b[A\r\u001b[A"
     ]
    },
    {
     "name": "stdout",
     "output_type": "stream",
     "text": [
      "\n",
      "\n",
      "\n",
      "\n",
      "\r\u001b[K\u001b[A\r\u001b[K\u001b[A\r\u001b[K\u001b[A\r\u001b[K\u001b[A\r\u001b[32mTracking 436 paths...  16%|█████                        |  ETA: 0:00:05\u001b[39m\u001b[K\r\n",
      "\u001b[34m  # paths tracked:                  69\u001b[39m\u001b[K\r\n",
      "\u001b[34m  # non-singular solutions (real):  2 (0)\u001b[39m\u001b[K\r\n",
      "\u001b[34m  # singular endpoints (real):      0 (0)\u001b[39m\u001b[K\r\n",
      "\u001b[34m  # total solutions (real):         2 (0)\u001b[39m\u001b[K\r\u001b[A\r\u001b[A\r\u001b[A\r\u001b[A"
     ]
    },
    {
     "name": "stdout",
     "output_type": "stream",
     "text": [
      "\n",
      "\n",
      "\n",
      "\n",
      "\r\u001b[K\u001b[A\r\u001b[K\u001b[A\r\u001b[K\u001b[A\r\u001b[K\u001b[A\r\u001b[32mTracking 436 paths...  18%|██████                       |  ETA: 0:00:06\u001b[39m\u001b[K\r\n",
      "\u001b[34m  # paths tracked:                  80\u001b[39m\u001b[K\r\n",
      "\u001b[34m  # non-singular solutions (real):  2 (0)\u001b[39m\u001b[K\r\n",
      "\u001b[34m  # singular endpoints (real):      0 (0)\u001b[39m\u001b[K\r\n",
      "\u001b[34m  # total solutions (real):         2 (0)\u001b[39m\u001b[K\r\u001b[A\r\u001b[A\r\u001b[A\r\u001b[A"
     ]
    },
    {
     "name": "stdout",
     "output_type": "stream",
     "text": [
      "\n",
      "\n",
      "\n",
      "\n",
      "\r\u001b[K\u001b[A\r\u001b[K\u001b[A\r\u001b[K\u001b[A\r\u001b[K\u001b[A\r\u001b[32mTracking 436 paths...  20%|██████                       |  ETA: 0:00:06\u001b[39m\u001b[K\r\n",
      "\u001b[34m  # paths tracked:                  89\u001b[39m\u001b[K\r\n",
      "\u001b[34m  # non-singular solutions (real):  2 (0)\u001b[39m\u001b[K\r\n",
      "\u001b[34m  # singular endpoints (real):      0 (0)\u001b[39m\u001b[K\r\n",
      "\u001b[34m  # total solutions (real):         2 (0)\u001b[39m\u001b[K\r\u001b[A\r\u001b[A\r\u001b[A\r\u001b[A"
     ]
    },
    {
     "name": "stdout",
     "output_type": "stream",
     "text": [
      "\n",
      "\n",
      "\n",
      "\n",
      "\r\u001b[K\u001b[A\r\u001b[K\u001b[A\r\u001b[K\u001b[A\r\u001b[K\u001b[A\r\u001b[32mTracking 436 paths...  23%|███████                      |  ETA: 0:00:05\u001b[39m\u001b[K\r\n",
      "\u001b[34m  # paths tracked:                  102\u001b[39m\u001b[K\r\n",
      "\u001b[34m  # non-singular solutions (real):  2 (0)\u001b[39m\u001b[K\r\n",
      "\u001b[34m  # singular endpoints (real):      0 (0)\u001b[39m\u001b[K\r\n",
      "\u001b[34m  # total solutions (real):         2 (0)\u001b[39m\u001b[K"
     ]
    },
    {
     "name": "stdout",
     "output_type": "stream",
     "text": [
      "\r\u001b[A\r\u001b[A\r\u001b[A\r\u001b[A\n",
      "\n",
      "\n",
      "\n",
      "\r\u001b[K\u001b[A\r\u001b[K\u001b[A\r\u001b[K\u001b[A\r\u001b[K\u001b[A\r\u001b[32mTracking 436 paths...  25%|████████                     |  ETA: 0:00:06\u001b[39m\u001b[K\r\n",
      "\u001b[34m  # paths tracked:                  111\u001b[39m\u001b[K\r\n",
      "\u001b[34m  # non-singular solutions (real):  2 (0)\u001b[39m\u001b[K\r\n",
      "\u001b[34m  # singular endpoints (real):      0 (0)\u001b[39m\u001b[K\r\n",
      "\u001b[34m  # total solutions (real):         2 (0)\u001b[39m\u001b[K\r\u001b[A\r\u001b[A\r\u001b[A\r\u001b[A"
     ]
    },
    {
     "name": "stdout",
     "output_type": "stream",
     "text": [
      "\n",
      "\n",
      "\n",
      "\n",
      "\r\u001b[K\u001b[A\r\u001b[K\u001b[A\r\u001b[K\u001b[A\r\u001b[K\u001b[A\r\u001b[32mTracking 436 paths...  29%|█████████                    |  ETA: 0:00:05\u001b[39m\u001b[K\r\n",
      "\u001b[34m  # paths tracked:                  127\u001b[39m\u001b[K\r\n",
      "\u001b[34m  # non-singular solutions (real):  2 (0)\u001b[39m\u001b[K\r\n",
      "\u001b[34m  # singular endpoints (real):      0 (0)\u001b[39m\u001b[K\r\n",
      "\u001b[34m  # total solutions (real):         2 (0)\u001b[39m\u001b[K\r\u001b[A\r\u001b[A\r\u001b[A\r\u001b[A"
     ]
    },
    {
     "name": "stdout",
     "output_type": "stream",
     "text": [
      "\n",
      "\n",
      "\n",
      "\n",
      "\r\u001b[K\u001b[A\r\u001b[K\u001b[A\r\u001b[K\u001b[A\r\u001b[K\u001b[A\r\u001b[32mTracking 436 paths...  32%|██████████                   |  ETA: 0:00:05\u001b[39m\u001b[K\r\n",
      "\u001b[34m  # paths tracked:                  139\u001b[39m\u001b[K\r\n",
      "\u001b[34m  # non-singular solutions (real):  2 (0)\u001b[39m\u001b[K\r\n",
      "\u001b[34m  # singular endpoints (real):      0 (0)\u001b[39m\u001b[K\r\n",
      "\u001b[34m  # total solutions (real):         2 (0)\u001b[39m\u001b[K\r\u001b[A\r\u001b[A\r\u001b[A\r\u001b[A"
     ]
    },
    {
     "name": "stdout",
     "output_type": "stream",
     "text": [
      "\n",
      "\n",
      "\n",
      "\n",
      "\r\u001b[K\u001b[A\r\u001b[K\u001b[A\r\u001b[K\u001b[A\r\u001b[K\u001b[A\r\u001b[32mTracking 436 paths...  36%|███████████                  |  ETA: 0:00:05\u001b[39m\u001b[K\r\n",
      "\u001b[34m  # paths tracked:                  155\u001b[39m\u001b[K\r\n",
      "\u001b[34m  # non-singular solutions (real):  2 (0)\u001b[39m\u001b[K\r\n",
      "\u001b[34m  # singular endpoints (real):      0 (0)\u001b[39m\u001b[K\r\n",
      "\u001b[34m  # total solutions (real):         2 (0)\u001b[39m\u001b[K\r\u001b[A\r\u001b[A\r\u001b[A\r\u001b[A"
     ]
    },
    {
     "name": "stdout",
     "output_type": "stream",
     "text": [
      "\n",
      "\n",
      "\n",
      "\n",
      "\r\u001b[K\u001b[A\r\u001b[K\u001b[A\r\u001b[K\u001b[A\r\u001b[K\u001b[A\r\u001b[32mTracking 436 paths...  39%|████████████                 |  ETA: 0:00:05\u001b[39m\u001b[K\r\n",
      "\u001b[34m  # paths tracked:                  168\u001b[39m\u001b[K\r\n",
      "\u001b[34m  # non-singular solutions (real):  2 (0)\u001b[39m\u001b[K\r\n",
      "\u001b[34m  # singular endpoints (real):      0 (0)\u001b[39m\u001b[K\r\n",
      "\u001b[34m  # total solutions (real):         2 (0)\u001b[39m\u001b[K\r\u001b[A\r\u001b[A\r\u001b[A\r\u001b[A"
     ]
    },
    {
     "name": "stdout",
     "output_type": "stream",
     "text": [
      "\n",
      "\n",
      "\n",
      "\n",
      "\r\u001b[K\u001b[A\r\u001b[K\u001b[A\r\u001b[K\u001b[A\r\u001b[K\u001b[A\r\u001b[32mTracking 436 paths...  41%|████████████                 |  ETA: 0:00:05\u001b[39m\u001b[K\r\n",
      "\u001b[34m  # paths tracked:                  180\u001b[39m\u001b[K\r\n",
      "\u001b[34m  # non-singular solutions (real):  4 (0)\u001b[39m\u001b[K\r\n",
      "\u001b[34m  # singular endpoints (real):      0 (0)\u001b[39m\u001b[K\r\n",
      "\u001b[34m  # total solutions (real):         4 (0)\u001b[39m\u001b[K\r\u001b[A\r\u001b[A\r\u001b[A\r\u001b[A"
     ]
    },
    {
     "name": "stdout",
     "output_type": "stream",
     "text": [
      "\n",
      "\n",
      "\n",
      "\n",
      "\r\u001b[K\u001b[A\r\u001b[K\u001b[A\r\u001b[K\u001b[A\r\u001b[K\u001b[A\r\u001b[32mTracking 436 paths...  44%|█████████████                |  ETA: 0:00:04\u001b[39m\u001b[K\r\n",
      "\u001b[34m  # paths tracked:                  193\u001b[39m\u001b[K\r\n",
      "\u001b[34m  # non-singular solutions (real):  4 (0)\u001b[39m\u001b[K\r\n",
      "\u001b[34m  # singular endpoints (real):      0 (0)\u001b[39m\u001b[K\r\n",
      "\u001b[34m  # total solutions (real):         4 (0)\u001b[39m\u001b[K\r\u001b[A\r\u001b[A\r\u001b[A\r\u001b[A"
     ]
    },
    {
     "name": "stdout",
     "output_type": "stream",
     "text": [
      "\n",
      "\n",
      "\n",
      "\n",
      "\r\u001b[K\u001b[A\r\u001b[K\u001b[A\r\u001b[K\u001b[A\r\u001b[K\u001b[A\r\u001b[32mTracking 436 paths...  48%|██████████████               |  ETA: 0:00:04\u001b[39m\u001b[K\r\n",
      "\u001b[34m  # paths tracked:                  208\u001b[39m\u001b[K\r\n",
      "\u001b[34m  # non-singular solutions (real):  4 (0)\u001b[39m\u001b[K\r\n",
      "\u001b[34m  # singular endpoints (real):      0 (0)\u001b[39m\u001b[K\r\n",
      "\u001b[34m  # total solutions (real):         4 (0)\u001b[39m\u001b[K"
     ]
    },
    {
     "name": "stdout",
     "output_type": "stream",
     "text": [
      "\r\u001b[A\r\u001b[A\r\u001b[A\r\u001b[A\n",
      "\n",
      "\n",
      "\n",
      "\r\u001b[K\u001b[A\r\u001b[K\u001b[A\r\u001b[K\u001b[A\r\u001b[K\u001b[A\r\u001b[32mTracking 436 paths...  51%|███████████████              |  ETA: 0:00:04\u001b[39m\u001b[K\r\n",
      "\u001b[34m  # paths tracked:                  224\u001b[39m\u001b[K\r\n",
      "\u001b[34m  # non-singular solutions (real):  5 (0)\u001b[39m\u001b[K\r\n",
      "\u001b[34m  # singular endpoints (real):      0 (0)\u001b[39m\u001b[K\r\n",
      "\u001b[34m  # total solutions (real):         5 (0)\u001b[39m\u001b[K\r\u001b[A\r\u001b[A\r\u001b[A\r\u001b[A"
     ]
    },
    {
     "name": "stdout",
     "output_type": "stream",
     "text": [
      "\n",
      "\n",
      "\n",
      "\n",
      "\r\u001b[K\u001b[A\r\u001b[K\u001b[A\r\u001b[K\u001b[A\r\u001b[K\u001b[A\r\u001b[32mTracking 436 paths...  55%|█████████████████            |  ETA: 0:00:03\u001b[39m\u001b[K\r\n",
      "\u001b[34m  # paths tracked:                  241\u001b[39m\u001b[K\r\n",
      "\u001b[34m  # non-singular solutions (real):  5 (0)\u001b[39m\u001b[K\r\n",
      "\u001b[34m  # singular endpoints (real):      0 (0)\u001b[39m\u001b[K\r\n",
      "\u001b[34m  # total solutions (real):         5 (0)\u001b[39m\u001b[K\r\u001b[A\r\u001b[A\r\u001b[A\r\u001b[A"
     ]
    },
    {
     "name": "stdout",
     "output_type": "stream",
     "text": [
      "\n",
      "\n",
      "\n",
      "\n",
      "\r\u001b[K\u001b[A\r\u001b[K\u001b[A\r\u001b[K\u001b[A\r\u001b[K\u001b[A\r\u001b[32mTracking 436 paths...  58%|█████████████████            |  ETA: 0:00:03\u001b[39m\u001b[K\r\n",
      "\u001b[34m  # paths tracked:                  253\u001b[39m\u001b[K\r\n",
      "\u001b[34m  # non-singular solutions (real):  5 (0)\u001b[39m\u001b[K\r\n",
      "\u001b[34m  # singular endpoints (real):      0 (0)\u001b[39m\u001b[K\r\n",
      "\u001b[34m  # total solutions (real):         5 (0)\u001b[39m\u001b[K\r\u001b[A\r\u001b[A\r\u001b[A\r\u001b[A"
     ]
    },
    {
     "name": "stdout",
     "output_type": "stream",
     "text": [
      "\n",
      "\n",
      "\n",
      "\n",
      "\r\u001b[K\u001b[A\r\u001b[K\u001b[A\r\u001b[K\u001b[A\r\u001b[K\u001b[A\r\u001b[32mTracking 436 paths...  61%|██████████████████           |  ETA: 0:00:03\u001b[39m\u001b[K\r\n",
      "\u001b[34m  # paths tracked:                  265\u001b[39m\u001b[K\r\n",
      "\u001b[34m  # non-singular solutions (real):  5 (0)\u001b[39m\u001b[K\r\n",
      "\u001b[34m  # singular endpoints (real):      0 (0)\u001b[39m\u001b[K\r\n",
      "\u001b[34m  # total solutions (real):         5 (0)\u001b[39m\u001b[K\r\u001b[A\r\u001b[A\r\u001b[A\r\u001b[A"
     ]
    },
    {
     "name": "stdout",
     "output_type": "stream",
     "text": [
      "\n",
      "\n",
      "\n",
      "\n",
      "\r\u001b[K\u001b[A\r\u001b[K\u001b[A\r\u001b[K\u001b[A\r\u001b[K\u001b[A\r\u001b[32mTracking 436 paths...  64%|███████████████████          |  ETA: 0:00:03\u001b[39m\u001b[K\r\n",
      "\u001b[34m  # paths tracked:                  277\u001b[39m\u001b[K\r\n",
      "\u001b[34m  # non-singular solutions (real):  5 (0)\u001b[39m\u001b[K\r\n",
      "\u001b[34m  # singular endpoints (real):      0 (0)\u001b[39m\u001b[K\r\n",
      "\u001b[34m  # total solutions (real):         5 (0)\u001b[39m\u001b[K\r\u001b[A\r\u001b[A\r\u001b[A\r\u001b[A"
     ]
    },
    {
     "name": "stdout",
     "output_type": "stream",
     "text": [
      "\n",
      "\n",
      "\n",
      "\n",
      "\r\u001b[K\u001b[A\r\u001b[K\u001b[A\r\u001b[K\u001b[A\r\u001b[K\u001b[A\r\u001b[32mTracking 436 paths...  66%|████████████████████         |  ETA: 0:00:03\u001b[39m\u001b[K\r\n",
      "\u001b[34m  # paths tracked:                  288\u001b[39m\u001b[K\r\n",
      "\u001b[34m  # non-singular solutions (real):  5 (0)\u001b[39m\u001b[K\r\n",
      "\u001b[34m  # singular endpoints (real):      0 (0)\u001b[39m\u001b[K\r\n",
      "\u001b[34m  # total solutions (real):         5 (0)\u001b[39m\u001b[K\r\u001b[A\r\u001b[A\r\u001b[A\r\u001b[A"
     ]
    },
    {
     "name": "stdout",
     "output_type": "stream",
     "text": [
      "\n",
      "\n",
      "\n",
      "\n",
      "\r\u001b[K\u001b[A\r\u001b[K\u001b[A\r\u001b[K\u001b[A\r\u001b[K\u001b[A\r\u001b[32mTracking 436 paths...  68%|████████████████████         |  ETA: 0:00:03\u001b[39m\u001b[K\r\n",
      "\u001b[34m  # paths tracked:                  296\u001b[39m\u001b[K\r\n",
      "\u001b[34m  # non-singular solutions (real):  5 (0)\u001b[39m\u001b[K\r\n",
      "\u001b[34m  # singular endpoints (real):      0 (0)\u001b[39m\u001b[K\r\n",
      "\u001b[34m  # total solutions (real):         5 (0)\u001b[39m\u001b[K\r\u001b[A\r\u001b[A\r\u001b[A\r\u001b[A"
     ]
    },
    {
     "name": "stdout",
     "output_type": "stream",
     "text": [
      "\n",
      "\n",
      "\n",
      "\n",
      "\r\u001b[K\u001b[A\r\u001b[K\u001b[A\r\u001b[K\u001b[A\r\u001b[K\u001b[A\r\u001b[32mTracking 436 paths...  71%|█████████████████████        |  ETA: 0:00:02\u001b[39m\u001b[K\r\n",
      "\u001b[34m  # paths tracked:                  311\u001b[39m\u001b[K\r\n",
      "\u001b[34m  # non-singular solutions (real):  5 (0)\u001b[39m\u001b[K\r\n",
      "\u001b[34m  # singular endpoints (real):      0 (0)\u001b[39m\u001b[K\r\n",
      "\u001b[34m  # total solutions (real):         5 (0)\u001b[39m\u001b[K\r\u001b[A\r\u001b[A\r\u001b[A\r\u001b[A"
     ]
    },
    {
     "name": "stdout",
     "output_type": "stream",
     "text": [
      "\n",
      "\n",
      "\n",
      "\n",
      "\r\u001b[K\u001b[A\r\u001b[K\u001b[A\r\u001b[K\u001b[A\r\u001b[K\u001b[A\r\u001b[32mTracking 436 paths...  75%|██████████████████████       |  ETA: 0:00:02\u001b[39m\u001b[K\r\n",
      "\u001b[34m  # paths tracked:                  326\u001b[39m\u001b[K\r\n",
      "\u001b[34m  # non-singular solutions (real):  5 (0)\u001b[39m\u001b[K\r\n",
      "\u001b[34m  # singular endpoints (real):      0 (0)\u001b[39m\u001b[K\r\n",
      "\u001b[34m  # total solutions (real):         5 (0)\u001b[39m\u001b[K\r\u001b[A\r\u001b[A\r\u001b[A\r\u001b[A"
     ]
    },
    {
     "name": "stdout",
     "output_type": "stream",
     "text": [
      "\n",
      "\n",
      "\n",
      "\n",
      "\r\u001b[K\u001b[A\r\u001b[K\u001b[A\r\u001b[K\u001b[A\r\u001b[K\u001b[A\r\u001b[32mTracking 436 paths...  77%|███████████████████████      |  ETA: 0:00:02\u001b[39m\u001b[K\r\n",
      "\u001b[34m  # paths tracked:                  336\u001b[39m\u001b[K\r\n",
      "\u001b[34m  # non-singular solutions (real):  5 (0)\u001b[39m\u001b[K\r\n",
      "\u001b[34m  # singular endpoints (real):      0 (0)\u001b[39m\u001b[K\r\n",
      "\u001b[34m  # total solutions (real):         5 (0)\u001b[39m\u001b[K\r\u001b[A\r\u001b[A\r\u001b[A\r\u001b[A"
     ]
    },
    {
     "name": "stdout",
     "output_type": "stream",
     "text": [
      "\n",
      "\n",
      "\n",
      "\n",
      "\r\u001b[K\u001b[A\r\u001b[K\u001b[A\r\u001b[K\u001b[A\r\u001b[K\u001b[A\r\u001b[32mTracking 436 paths...  82%|████████████████████████     |  ETA: 0:00:01\u001b[39m\u001b[K\r\n",
      "\u001b[34m  # paths tracked:                  356\u001b[39m\u001b[K\r\n",
      "\u001b[34m  # non-singular solutions (real):  6 (0)\u001b[39m\u001b[K\r\n",
      "\u001b[34m  # singular endpoints (real):      0 (0)\u001b[39m\u001b[K\r\n",
      "\u001b[34m  # total solutions (real):         6 (0)\u001b[39m\u001b[K\r\u001b[A\r\u001b[A\r\u001b[A\r\u001b[A"
     ]
    },
    {
     "name": "stdout",
     "output_type": "stream",
     "text": [
      "\n",
      "\n",
      "\n",
      "\n",
      "\r\u001b[K\u001b[A\r\u001b[K\u001b[A\r\u001b[K\u001b[A\r\u001b[K\u001b[A\r\u001b[32mTracking 436 paths...  84%|█████████████████████████    |  ETA: 0:00:01\u001b[39m\u001b[K\r\n",
      "\u001b[34m  # paths tracked:                  366\u001b[39m\u001b[K\r\n",
      "\u001b[34m  # non-singular solutions (real):  6 (0)\u001b[39m\u001b[K\r\n",
      "\u001b[34m  # singular endpoints (real):      0 (0)\u001b[39m\u001b[K\r\n",
      "\u001b[34m  # total solutions (real):         6 (0)\u001b[39m\u001b[K\r\u001b[A\r\u001b[A\r\u001b[A\r\u001b[A"
     ]
    },
    {
     "name": "stdout",
     "output_type": "stream",
     "text": [
      "\n",
      "\n",
      "\n",
      "\n",
      "\r\u001b[K\u001b[A\r\u001b[K\u001b[A\r\u001b[K\u001b[A\r\u001b[K\u001b[A\r\u001b[32mTracking 436 paths...  85%|█████████████████████████    |  ETA: 0:00:01\u001b[39m\u001b[K\r\n",
      "\u001b[34m  # paths tracked:                  372\u001b[39m\u001b[K\r\n",
      "\u001b[34m  # non-singular solutions (real):  6 (0)\u001b[39m\u001b[K\r\n",
      "\u001b[34m  # singular endpoints (real):      0 (0)\u001b[39m\u001b[K\r\n",
      "\u001b[34m  # total solutions (real):         6 (0)\u001b[39m\u001b[K\r\u001b[A\r\u001b[A\r\u001b[A\r\u001b[A"
     ]
    },
    {
     "name": "stdout",
     "output_type": "stream",
     "text": [
      "\n",
      "\n",
      "\n",
      "\n",
      "\r\u001b[K\u001b[A\r\u001b[K\u001b[A\r\u001b[K\u001b[A\r\u001b[K\u001b[A\r\u001b[32mTracking 436 paths...  87%|██████████████████████████   |  ETA: 0:00:01\u001b[39m\u001b[K\r\n",
      "\u001b[34m  # paths tracked:                  381\u001b[39m\u001b[K\r\n",
      "\u001b[34m  # non-singular solutions (real):  6 (0)\u001b[39m\u001b[K\r\n",
      "\u001b[34m  # singular endpoints (real):      0 (0)\u001b[39m\u001b[K\r\n",
      "\u001b[34m  # total solutions (real):         6 (0)\u001b[39m\u001b[K\r\u001b[A\r\u001b[A\r\u001b[A\r\u001b[A"
     ]
    },
    {
     "name": "stdout",
     "output_type": "stream",
     "text": [
      "\n",
      "\n",
      "\n",
      "\n",
      "\r\u001b[K\u001b[A\r\u001b[K\u001b[A\r\u001b[K\u001b[A\r\u001b[K\u001b[A\r\u001b[32mTracking 436 paths...  90%|███████████████████████████  |  ETA: 0:00:01\u001b[39m\u001b[K\r\n",
      "\u001b[34m  # paths tracked:                  392\u001b[39m\u001b[K\r\n",
      "\u001b[34m  # non-singular solutions (real):  6 (0)\u001b[39m\u001b[K\r\n",
      "\u001b[34m  # singular endpoints (real):      0 (0)\u001b[39m\u001b[K\r\n",
      "\u001b[34m  # total solutions (real):         6 (0)\u001b[39m\u001b[K\r\u001b[A\r\u001b[A\r\u001b[A\r\u001b[A"
     ]
    },
    {
     "name": "stdout",
     "output_type": "stream",
     "text": [
      "\n",
      "\n",
      "\n",
      "\n",
      "\r\u001b[K\u001b[A\r\u001b[K\u001b[A\r\u001b[K\u001b[A\r\u001b[K\u001b[A\r\u001b[32mTracking 436 paths...  92%|███████████████████████████  |  ETA: 0:00:01\u001b[39m\u001b[K\r\n",
      "\u001b[34m  # paths tracked:                  400\u001b[39m\u001b[K\r\n",
      "\u001b[34m  # non-singular solutions (real):  7 (0)\u001b[39m\u001b[K\r\n",
      "\u001b[34m  # singular endpoints (real):      0 (0)\u001b[39m\u001b[K\r\n",
      "\u001b[34m  # total solutions (real):         7 (0)\u001b[39m\u001b[K\r\u001b[A\r\u001b[A\r\u001b[A\r\u001b[A"
     ]
    },
    {
     "name": "stdout",
     "output_type": "stream",
     "text": [
      "\n",
      "\n",
      "\n",
      "\n",
      "\r\u001b[K\u001b[A\r\u001b[K\u001b[A\r\u001b[K\u001b[A\r\u001b[K\u001b[A\r\u001b[32mTracking 436 paths...  94%|████████████████████████████ |  ETA: 0:00:01\u001b[39m\u001b[K\r\n",
      "\u001b[34m  # paths tracked:                  410\u001b[39m\u001b[K\r\n",
      "\u001b[34m  # non-singular solutions (real):  8 (0)\u001b[39m\u001b[K\r\n",
      "\u001b[34m  # singular endpoints (real):      0 (0)\u001b[39m\u001b[K\r\n",
      "\u001b[34m  # total solutions (real):         8 (0)\u001b[39m\u001b[K\r\u001b[A\r\u001b[A\r\u001b[A\r\u001b[A"
     ]
    },
    {
     "name": "stdout",
     "output_type": "stream",
     "text": [
      "\n",
      "\n",
      "\n",
      "\n",
      "\r\u001b[K\u001b[A\r\u001b[K\u001b[A\r\u001b[K\u001b[A\r\u001b[K\u001b[A\r\u001b[32mTracking 436 paths...  97%|█████████████████████████████|  ETA: 0:00:00\u001b[39m\u001b[K\r\n",
      "\u001b[34m  # paths tracked:                  422\u001b[39m\u001b[K\r\n",
      "\u001b[34m  # non-singular solutions (real):  8 (0)\u001b[39m\u001b[K\r\n",
      "\u001b[34m  # singular endpoints (real):      0 (0)\u001b[39m\u001b[K\r\n",
      "\u001b[34m  # total solutions (real):         8 (0)\u001b[39m\u001b[K\r\u001b[A\r\u001b[A\r\u001b[A\r\u001b[A"
     ]
    },
    {
     "name": "stdout",
     "output_type": "stream",
     "text": [
      "\n",
      "\n",
      "\n",
      "\n",
      "\r\u001b[K\u001b[A\r\u001b[K\u001b[A\r\u001b[K\u001b[A\r\u001b[K\u001b[A\r\u001b[32mTracking 436 paths... 100%|█████████████████████████████| Time: 0:00:08\u001b[39m\u001b[K\r\n",
      "\u001b[34m  # paths tracked:                  436\u001b[39m\u001b[K\r\n",
      "\u001b[34m  # non-singular solutions (real):  8 (0)\u001b[39m\u001b[K\r\n",
      "\u001b[34m  # singular endpoints (real):      0 (0)\u001b[39m\u001b[K\r\n",
      "\u001b[34m  # total solutions (real):         8 (0)\u001b[39m\u001b[K\n"
     ]
    },
    {
     "name": "stdout",
     "output_type": "stream",
     "text": [
      "Components have degrees [2, 4], total estimated degree is 6.\n",
      "-------------------------------------------\n",
      "Sampling component 1 ..."
     ]
    },
    {
     "name": "stdout",
     "output_type": "stream",
     "text": [
      "\n",
      "Interpolating 12 samples ...\n",
      "M*m + (-1/4)*m*s - m*t + (1/4)*s*t\n",
      "-------------------------------------------\n",
      "Sampling component 2 ..."
     ]
    },
    {
     "name": "stdout",
     "output_type": "stream",
     "text": [
      "\n",
      "Interpolating 44 samples ...\n",
      "M^2*m^2 + (-2/3)*M^3*m + (1/16)*m^2*s^2 + (1/9)*m^2*t^2 + (1/144)*s^2*t^2 + (-1/2)*M*m^2*s + (-2/3)*M*m^2*t + (1/6)*M^2*m*s + (1/9)*M^2*m*t + (-1/18)*M^2*s*t + (-1/18)*m*s*t^2 + (-5/72)*m*s^2*t + (1/6)*m^2*s*t + (5/18)*M*m*s*t + (1/9)*M^4\n"
     ]
    }
   ],
   "source": [
    "edges = [[1,2],[2,3],[3,4],[4,5],[5,6],[6,1],[3,6]]\n",
    "nodes = [1,2,4,5]\n",
    "Δ, par = getLandauDiscriminant(edges,nodes);"
   ]
  },
  {
   "cell_type": "code",
   "execution_count": 30,
   "metadata": {},
   "outputs": [
    {
     "data": {
      "text/latex": [
       "$$ M*m + (-1/4)*m*s - m*t + (1/4)*s*t $$"
      ],
      "text/plain": [
       "M*m + (-1/4)*m*s - m*t + (1/4)*s*t"
      ]
     },
     "metadata": {},
     "output_type": "display_data"
    }
   ],
   "source": [
    "Δ[1]"
   ]
  },
  {
   "cell_type": "code",
   "execution_count": 31,
   "metadata": {},
   "outputs": [
    {
     "data": {
      "text/latex": [
       "$$ M^2*m^2 + (-2/3)*M^3*m + (1/16)*m^2*s^2 + (1/9)*m^2*t^2 + (1/144)*s^2*t^2 + (-1/2)*M*m^2*s + (-2/3)*M*m^2*t + (1/6)*M^2*m*s + (1/9)*M^2*m*t + (-1/18)*M^2*s*t + (-1/18)*m*s*t^2 + (-5/72)*m*s^2*t + (1/6)*m^2*s*t + (5/18)*M*m*s*t + (1/9)*M^4 $$"
      ],
      "text/plain": [
       "M^2*m^2 + (-2/3)*M^3*m + (1/16)*m^2*s^2 + (1/9)*m^2*t^2 + (1/144)*s^2*t^2 + (-1/2)*M*m^2*s + (-2/3)*M*m^2*t + (1/6)*M^2*m*s + (1/9)*M^2*m*t + (-1/18)*M^2*s*t + (-1/18)*m*s*t^2 + (-5/72)*m*s^2*t + (1/6)*m^2*s*t + (5/18)*M*m*s*t + (1/9)*M^4"
      ]
     },
     "metadata": {},
     "output_type": "display_data"
    }
   ],
   "source": [
    "Δ[2]"
   ]
  },
  {
   "cell_type": "markdown",
   "metadata": {},
   "source": [
    "Finally, we show how to compute the number of master integrals of the double box diagram. The function $\\chi$ implements exactly the code snippet shown in [LD, Sec. 5.2]."
   ]
  },
  {
   "cell_type": "code",
   "execution_count": 32,
   "metadata": {},
   "outputs": [
    {
     "name": "stdout",
     "output_type": "stream",
     "text": [
      "\r\u001b[32mSolutions found: 199    Time: 0:00:00\u001b[39m\u001b[K\r\n",
      "\u001b[34m  tracked loops (queued):            288 (110)\u001b[39m\u001b[K\r\n",
      "\u001b[34m  solutions in current (last) loop:  189 (9)\u001b[39m\u001b[K\r\n",
      "\u001b[34m  generated loops (no change):       2 (0)\u001b[39m\u001b[K\r\u001b[A\r\u001b[A\r\u001b[A"
     ]
    },
    {
     "name": "stdout",
     "output_type": "stream",
     "text": [
      "\n",
      "\n",
      "\n",
      "\r\u001b[K\u001b[A\r\u001b[K\u001b[A\r\u001b[K\u001b[A\r\u001b[32mSolutions found: 227    Time: 0:00:01\u001b[39m\u001b[K\r\n",
      "\u001b[34m  tracked loops (queued):            449 (5)\u001b[39m\u001b[K\r\n",
      "\u001b[34m  solutions in current (last) loop:  217 (9)\u001b[39m\u001b[K\r\n",
      "\u001b[34m  generated loops (no change):       2 (0)\u001b[39m\u001b[K\r\u001b[A\r\u001b[A\r\u001b[A"
     ]
    },
    {
     "name": "stdout",
     "output_type": "stream",
     "text": [
      "\n",
      "\n",
      "\n",
      "\r\u001b[K\u001b[A\r\u001b[K\u001b[A\r\u001b[K\u001b[A\r\u001b[32mSolutions found: 227    Time: 0:00:01\u001b[39m\u001b[K\r\n",
      "\u001b[34m  tracked loops (queued):            540 (141)\u001b[39m\u001b[K\r\n",
      "\u001b[34m  solutions in current (last) loop:  0 (217)\u001b[39m\u001b[K\r\n",
      "\u001b[34m  generated loops (no change):       3 (0)\u001b[39m\u001b[K\r\u001b[A\r\u001b[A\r\u001b[A"
     ]
    },
    {
     "name": "stdout",
     "output_type": "stream",
     "text": [
      "\n",
      "\n",
      "\n",
      "\r\u001b[K\u001b[A\r\u001b[K\u001b[A\r\u001b[K\u001b[A\r\u001b[32mSolutions found: 227    Time: 0:00:01\u001b[39m\u001b[K\r\n",
      "\u001b[34m  tracked loops (queued):            649 (32)\u001b[39m\u001b[K\r\n",
      "\u001b[34m  solutions in current (last) loop:  0 (217)\u001b[39m\u001b[K\r\n",
      "\u001b[34m  generated loops (no change):       3 (0)\u001b[39m\u001b[K\r\u001b[A\r\u001b[A\r\u001b[A"
     ]
    },
    {
     "name": "stdout",
     "output_type": "stream",
     "text": [
      "\n",
      "\n",
      "\n",
      "\r\u001b[K\u001b[A\r\u001b[K\u001b[A\r\u001b[K\u001b[A\r\u001b[32mSolutions found: 227    Time: 0:00:02\u001b[39m\u001b[K\r\n",
      "\u001b[34m  tracked loops (queued):            784 (124)\u001b[39m\u001b[K\r\n",
      "\u001b[34m  solutions in current (last) loop:  0 (0)\u001b[39m\u001b[K\r\n",
      "\u001b[34m  generated loops (no change):       4 (1)\u001b[39m\u001b[K\r\u001b[A\r\u001b[A\r\u001b[A"
     ]
    },
    {
     "name": "stdout",
     "output_type": "stream",
     "text": [
      "\n",
      "\n",
      "\n",
      "\r\u001b[K\u001b[A\r\u001b[K\u001b[A\r\u001b[K\u001b[A\r\u001b[32mSolutions found: 227    Time: 0:00:02\u001b[39m\u001b[K\r\n",
      "\u001b[34m  tracked loops (queued):            940 (195)\u001b[39m\u001b[K\r\n",
      "\u001b[34m  solutions in current (last) loop:  0 (0)\u001b[39m\u001b[K\r\n",
      "\u001b[34m  generated loops (no change):       5 (2)\u001b[39m\u001b[K\r\u001b[A\r\u001b[A\r\u001b[A"
     ]
    },
    {
     "name": "stdout",
     "output_type": "stream",
     "text": [
      "\n",
      "\n",
      "\n",
      "\r\u001b[K\u001b[A\r\u001b[K\u001b[A\r\u001b[K\u001b[A\r\u001b[32mSolutions found: 227    Time: 0:00:03\u001b[39m\u001b[K\r\n",
      "\u001b[34m  tracked loops (queued):            1108 (27)\u001b[39m\u001b[K\r\n",
      "\u001b[34m  solutions in current (last) loop:  0 (0)\u001b[39m\u001b[K\r\n",
      "\u001b[34m  generated loops (no change):       5 (2)\u001b[39m\u001b[K\r\u001b[A\r\u001b[A\r\u001b[A"
     ]
    },
    {
     "name": "stdout",
     "output_type": "stream",
     "text": [
      "\n",
      "\n",
      "\n",
      "\r\u001b[K\u001b[A\r\u001b[K\u001b[A\r\u001b[K\u001b[A\r\u001b[32mSolutions found: 227    Time: 0:00:03\u001b[39m\u001b[K\r\n",
      "\u001b[34m  tracked loops (queued):            1156 (205)\u001b[39m\u001b[K\r\n",
      "\u001b[34m  solutions in current (last) loop:  0 (0)\u001b[39m\u001b[K\r\n",
      "\u001b[34m  generated loops (no change):       6 (3)\u001b[39m\u001b[K\r\u001b[A\r\u001b[A\r\u001b[A"
     ]
    },
    {
     "name": "stdout",
     "output_type": "stream",
     "text": [
      "\n",
      "\n",
      "\n",
      "\r\u001b[K\u001b[A\r\u001b[K\u001b[A\r\u001b[K\u001b[A\r\u001b[32mSolutions found: 227    Time: 0:00:03\u001b[39m\u001b[K\r\n",
      "\u001b[34m  tracked loops (queued):            1183 (177)\u001b[39m\u001b[K\r\n",
      "\u001b[34m  solutions in current (last) loop:  0 (0)\u001b[39m\u001b[K\r\n",
      "\u001b[34m  generated loops (no change):       6 (3)\u001b[39m\u001b[K\r\u001b[A\r\u001b[A\r\u001b[A"
     ]
    },
    {
     "name": "stdout",
     "output_type": "stream",
     "text": [
      "\n",
      "\n",
      "\n",
      "\r\u001b[K\u001b[A\r\u001b[K\u001b[A\r\u001b[K\u001b[A\r\u001b[32mSolutions found: 227    Time: 0:00:04\u001b[39m\u001b[K\r\n",
      "\u001b[34m  tracked loops (queued):            1227 (132)\u001b[39m\u001b[K\r\n",
      "\u001b[34m  solutions in current (last) loop:  0 (0)\u001b[39m\u001b[K\r\n",
      "\u001b[34m  generated loops (no change):       6 (3)\u001b[39m\u001b[K\r\u001b[A\r\u001b[A\r\u001b[A"
     ]
    },
    {
     "name": "stdout",
     "output_type": "stream",
     "text": [
      "\n",
      "\n",
      "\n",
      "\r\u001b[K\u001b[A\r\u001b[K\u001b[A\r\u001b[K\u001b[A\r\u001b[32mSolutions found: 227    Time: 0:00:04\u001b[39m\u001b[K\r\n",
      "\u001b[34m  tracked loops (queued):            1259 (99)\u001b[39m\u001b[K\r\n",
      "\u001b[34m  solutions in current (last) loop:  0 (0)\u001b[39m\u001b[K\r\n",
      "\u001b[34m  generated loops (no change):       6 (3)\u001b[39m\u001b[K\r\u001b[A\r\u001b[A\r\u001b[A"
     ]
    },
    {
     "name": "stdout",
     "output_type": "stream",
     "text": [
      "\n",
      "\n",
      "\n",
      "\r\u001b[K\u001b[A\r\u001b[K\u001b[A\r\u001b[K\u001b[A\r\u001b[32mSolutions found: 227    Time: 0:00:05\u001b[39m\u001b[K\r\n",
      "\u001b[34m  tracked loops (queued):            1338 (18)\u001b[39m\u001b[K\r\n",
      "\u001b[34m  solutions in current (last) loop:  0 (0)\u001b[39m\u001b[K\r\n",
      "\u001b[34m  generated loops (no change):       6 (3)\u001b[39m\u001b[K\r\u001b[A\r\u001b[A\r\u001b[A"
     ]
    },
    {
     "name": "stdout",
     "output_type": "stream",
     "text": [
      "\n",
      "\n",
      "\n",
      "\r\u001b[K\u001b[A\r\u001b[K\u001b[A\r\u001b[K\u001b[A\r\u001b[32mSolutions found: 227    Time: 0:00:05\u001b[39m\u001b[K\r\n",
      "\u001b[34m  tracked loops (queued):            1394 (188)\u001b[39m\u001b[K\r\n",
      "\u001b[34m  solutions in current (last) loop:  0 (0)\u001b[39m\u001b[K\r\n",
      "\u001b[34m  generated loops (no change):       7 (4)\u001b[39m\u001b[K\r\u001b[A\r\u001b[A\r\u001b[A"
     ]
    },
    {
     "name": "stdout",
     "output_type": "stream",
     "text": [
      "\n",
      "\n",
      "\n",
      "\r\u001b[K\u001b[A\r\u001b[K\u001b[A\r\u001b[K\u001b[A\r\u001b[32mSolutions found: 227    Time: 0:00:06\u001b[39m\u001b[K\r\n",
      "\u001b[34m  tracked loops (queued):            1582 (0)\u001b[39m\u001b[K\r\n",
      "\u001b[34m  solutions in current (last) loop:  0 (0)\u001b[39m\u001b[K\r\n",
      "\u001b[34m  generated loops (no change):       7 (5)\u001b[39m\u001b[K\n"
     ]
    },
    {
     "name": "stdout",
     "output_type": "stream",
     "text": [
      "\r\u001b[32mCertifying 227 solutions...   1%|█                      |  ETA: 0:02:12\u001b[39m\u001b[K\r\n",
      "\u001b[34m  # processed:         2\u001b[39m\u001b[K\r\n",
      "\u001b[34m  # certified (real):  2 (0)\u001b[39m\u001b[K\r\n",
      "\u001b[34m  # distinct (real):   2 (0)\u001b[39m\u001b[K"
     ]
    },
    {
     "name": "stdout",
     "output_type": "stream",
     "text": [
      "\r\u001b[A\r\u001b[A\r\u001b[A"
     ]
    },
    {
     "name": "stdout",
     "output_type": "stream",
     "text": [
      "\n",
      "\n",
      "\n",
      "\r\u001b[K\u001b[A\r\u001b[K\u001b[A\r\u001b[K\u001b[A\r\u001b[32mCertifying 227 solutions... 100%|███████████████████████| Time: 0:00:01\u001b[39m\u001b[K\r\n",
      "\u001b[34m  # processed:         227\u001b[39m\u001b[K\r\n",
      "\u001b[34m  # certified (real):  227 (0)\u001b[39m\u001b[K\r\n",
      "\u001b[34m  # distinct (real):   227 (0)\u001b[39m\u001b[K\n"
     ]
    },
    {
     "data": {
      "text/plain": [
       "227"
      ]
     },
     "metadata": {},
     "output_type": "display_data"
    }
   ],
   "source": [
    "Landau.χ(edges,nodes)"
   ]
  },
  {
   "cell_type": "markdown",
   "metadata": {},
   "source": [
    "The number 227 can be found in [LD, Tab. 3]."
   ]
  },
  {
   "cell_type": "code",
   "execution_count": null,
   "metadata": {},
   "outputs": [],
   "source": []
  }
 ],
 "metadata": {
  "kernelspec": {
   "display_name": "Julia 1.10.0",
   "language": "julia",
   "name": "julia-1.10"
  },
  "language_info": {
   "file_extension": ".jl",
   "mimetype": "application/julia",
   "name": "julia",
   "version": "1.10.0"
  }
 },
 "nbformat": 4,
 "nbformat_minor": 4
}
