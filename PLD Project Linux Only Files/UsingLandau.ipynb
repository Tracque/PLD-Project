{
 "cells": [
  {
   "cell_type": "markdown",
   "id": "ae120ec0",
   "metadata": {},
   "source": [
    "**Self Teaching how to use PLD/Landau**\n",
    "\n",
    "Will test my understanding by trying to reproduce the results in the paper for Fig 1.(d). "
   ]
  },
  {
   "cell_type": "markdown",
   "id": "470fafe0",
   "metadata": {},
   "source": [
    "**IMPORTANT NOTE TO SELF: To my understanding, PLD.jl has much more utility when looking at specific processes (where we know certain internal or external masses), whilst Landau.jl has more utility when trying to analyse a more general *class* of diagrams**\n",
    "\n",
    "PLD use case: looking at particular diagrams, e.g. dbox with outer massive loop.\n",
    "\n",
    "Landau use case: looking at a class of diagrams e.g all dbox diagrams "
   ]
  },
  {
   "cell_type": "markdown",
   "id": "23465270",
   "metadata": {},
   "source": [
    "This activates the environment and makes sure we are using the most recent versions of packages"
   ]
  },
  {
   "cell_type": "code",
   "execution_count": 1,
   "id": "914479ad",
   "metadata": {},
   "outputs": [
    {
     "name": "stderr",
     "output_type": "stream",
     "text": [
      "\u001b[32m\u001b[1m  Activating\u001b[22m\u001b[39m project at `~/.julia/environments/v1.10`\n"
     ]
    }
   ],
   "source": [
    "push!(LOAD_PATH,string(pwd() * \"/src\"))\n",
    "using Pkg; Pkg.activate()"
   ]
  },
  {
   "cell_type": "markdown",
   "id": "3b64f0ef",
   "metadata": {},
   "source": [
    "Now we import the Landau.jl package"
   ]
  },
  {
   "cell_type": "code",
   "execution_count": 2,
   "id": "85611c3e",
   "metadata": {},
   "outputs": [
    {
     "name": "stderr",
     "output_type": "stream",
     "text": [
      "\u001b[36m\u001b[1m[ \u001b[22m\u001b[39m\u001b[36m\u001b[1mInfo: \u001b[22m\u001b[39mPrecompiling Landau [top-level]\n"
     ]
    }
   ],
   "source": [
    "using Landau"
   ]
  },
  {
   "cell_type": "markdown",
   "id": "64495d0c",
   "metadata": {},
   "source": [
    "Now we define the edges and nodes of the Feynman diagram. Each edge is a 2-tuple, whilst the list of nodes is a list of which vertices have external legs attached (repeated if multiple legs are attached)"
   ]
  },
  {
   "cell_type": "code",
   "execution_count": 3,
   "id": "156d87a0-2a89-4efc-9d75-695aa0dce35c",
   "metadata": {},
   "outputs": [],
   "source": [
    "edges = [[1,2],[1,5], [5,4], [6,5], [2,6], [6,3], [3,4]];\n",
    "nodes = [1,2,3,4];"
   ]
  },
  {
   "cell_type": "markdown",
   "id": "b229fb55",
   "metadata": {},
   "source": [
    "Now compute the Symanzik polynomials"
   ]
  },
  {
   "cell_type": "code",
   "execution_count": 4,
   "id": "a953b5a0",
   "metadata": {},
   "outputs": [
    {
     "name": "stdout",
     "output_type": "stream",
     "text": [
      "F = -(α₁*mm₁ + α₂*mm₂ + α₃*mm₃ + α₄*mm₄ + α₅*mm₅ + α₆*mm₆ + α₇*mm₇)*(α₁*α₃ + α₁*α₄ + α₁*α₆ + α₁*α₇ + α₂*α₄ + α₂*α₆ + α₂*α₇ + α₃*α₂ + α₃*α₄ + α₃*α₅ + α₄*α₆ + α₄*α₇ + α₅*α₄ + α₅*α₆ + α₅*α₇) - (α₁*α₂*α₄ + α₁*α₂*α₆ + α₁*α₂*α₇ + α₁*α₃*α₂ + α₁*α₃*α₄ + α₁*α₃*α₅ + α₁*α₄*α₆ + α₁*α₄*α₇ + α₁*α₅*α₄ + α₁*α₅*α₆ + α₁*α₅*α₇)*p₁₋₂ - (α₁*α₃*α₇ + α₁*α₄*α₇ + α₁*α₇*α₆ + α₂*α₄*α₇ + α₂*α₇*α₆ + α₃*α₂*α₇ + α₃*α₄*α₇ + α₃*α₅*α₇ + α₄*α₇*α₆ + α₅*α₄*α₇ + α₅*α₇*α₆)*p₃₋₄ - (α₁*α₂*α₄ + α₁*α₂*α₆ + α₁*α₂*α₇ + α₁*α₃*α₂ + α₁*α₃*α₄ + α₁*α₃*α₆ + α₁*α₃*α₇ + α₂*α₄*α₆ + α₂*α₄*α₇ + α₂*α₅*α₄ + α₂*α₅*α₆ + α₂*α₅*α₇ + α₃*α₂*α₅ + α₃*α₂*α₆ + α₃*α₂*α₇ + α₃*α₄*α₆ + α₃*α₄*α₇ + α₃*α₅*α₄ + α₃*α₅*α₆ + α₃*α₅*α₇)*p₁₋₄ - (α₁*α₃*α₅ + α₁*α₃*α₆ + α₁*α₄*α₆ + α₁*α₅*α₄ + α₁*α₅*α₆ + α₁*α₅*α₇ + α₁*α₇*α₆ + α₂*α₄*α₆ + α₂*α₅*α₄ + α₂*α₅*α₆ + α₂*α₅*α₇ + α₂*α₇*α₆ + α₃*α₂*α₅ + α₃*α₂*α₆ + α₃*α₄*α₆ + α₃*α₅*α₄ + α₃*α₅*α₆ + α₄*α₇*α₆ + α₅*α₄*α₇ + α₅*α₇*α₆)*p₂₋₃ - (α₁*α₃*α₅ + α₁*α₃*α₆ + α₁*α₃*α₇ + α₁*α₄*α₆ + α₁*α₄*α₇ + α₁*α₅*α₄ + α₁*α₅*α₆ + α₁*α₅*α₇ + α₂*α₄*α₆ + α₂*α₄*α₇ + α₂*α₅*α₄ + α₂*α₅*α₆ + α₂*α₅*α₇ + α₃*α₂*α₅ + α₃*α₂*α₆ + α₃*α₂*α₇ + α₃*α₄*α₆ + α₃*α₄*α₇ + α₃*α₅*α₄ + α₃*α₅*α₆ + α₃*α₅*α₇)*p₂₋₄ - (α₁*α₂*α₄ + α₁*α₂*α₆ + α₁*α₂*α₇ + α₁*α₃*α₂ + α₁*α₃*α₄ + α₁*α₃*α₆ + α₁*α₄*α₇ + α₁*α₇*α₆ + α₂*α₄*α₆ + α₂*α₅*α₄ + α₂*α₅*α₆ + α₂*α₅*α₇ + α₂*α₇*α₆ + α₃*α₂*α₅ + α₃*α₂*α₆ + α₃*α₄*α₆ + α₃*α₅*α₄ + α₃*α₅*α₆ + α₄*α₇*α₆ + α₅*α₄*α₇ + α₅*α₇*α₆)*p₁₋₃\n",
      "--------------\n",
      "U = α₁*α₃ + α₁*α₄ + α₁*α₆ + α₁*α₇ + α₂*α₄ + α₂*α₆ + α₂*α₇ + α₃*α₂ + α₃*α₄ + α₃*α₅ + α₄*α₆ + α₄*α₇ + α₅*α₄ + α₅*α₆ + α₅*α₇\n",
      "--------------\n",
      "mm = HomotopyContinuation.ModelKit.Variable[mm₁, mm₂, mm₃, mm₄, mm₅, mm₆, mm₇]\n",
      "pp = HomotopyContinuation.ModelKit.Variable[p₁₋₁ p₁₋₂ p₁₋₃ p₁₋₄; p₂₋₁ p₂₋₂ p₂₋₃ p₂₋₄; p₃₋₁ p₃₋₂ p₃₋₃ p₃₋₄; p₄₋₁ p₄₋₂ p₄₋₃ p₄₋₄]\n"
     ]
    }
   ],
   "source": [
    "F, U, α, p, mm = getF(edges, nodes);\n",
    "println(\"F = $F\")\n",
    "println(\"--------------\")\n",
    "println(\"U = $U\")\n",
    "println(\"--------------\")\n",
    "\n",
    "println(\"mm = $mm\")\n",
    "println(\"pp = $p\")"
   ]
  },
  {
   "cell_type": "markdown",
   "id": "5706f505",
   "metadata": {},
   "source": [
    "Next, use the appropriate substitute function to get this in terms of the masses and Mandelstam invariants"
   ]
  },
  {
   "cell_type": "code",
   "execution_count": 18,
   "id": "af8db7d2",
   "metadata": {},
   "outputs": [
    {
     "name": "stdout",
     "output_type": "stream",
     "text": [
      "F_genericmass = (-1/2)*(-M₁ - M₂ + s)*(α₁*α₃*α₂ + α₁*α₃*α₄ + α₁*α₃*α₅ + α₁*α₃*α₇ + α₃*α₂*α₄ + α₃*α₂*α₆ + α₃*α₄*α₆ + α₃*α₄*α₇ + α₃*α₅*α₄ + α₃*α₅*α₆ + α₃*α₇*α₆) + (-1/2)*(-M₃ - M₄ + s)*(α₁*α₂*α₅ + α₁*α₅*α₄ + α₁*α₅*α₇ + α₂*α₅*α₄ + α₂*α₅*α₆ + α₃*α₂*α₅ + α₃*α₅*α₄ + α₃*α₅*α₇ + α₅*α₄*α₆ + α₅*α₄*α₇ + α₅*α₇*α₆) + (-1/2)*(-M₂ - M₃ + t)*(α₁*α₂*α₆ + α₁*α₂*α₇ + α₁*α₄*α₆ + α₁*α₄*α₇ + α₁*α₅*α₆ + α₁*α₅*α₇ + α₁*α₇*α₆ + α₂*α₄*α₆ + α₂*α₄*α₇ + α₂*α₇*α₆ + α₃*α₂*α₆ + α₃*α₂*α₇ + α₃*α₄*α₆ + α₃*α₄*α₇ + α₃*α₅*α₆ + α₃*α₅*α₇ + α₃*α₇*α₆ + α₅*α₄*α₆ + α₅*α₄*α₇ + α₅*α₇*α₆) + (-1/2)*(-M₁ - M₄ + t)*(α₁*α₂*α₅ + α₁*α₂*α₆ + α₁*α₂*α₇ + α₁*α₃*α₂ + α₁*α₃*α₄ + α₁*α₃*α₅ + α₁*α₃*α₇ + α₁*α₄*α₆ + α₁*α₄*α₇ + α₁*α₅*α₄ + α₁*α₅*α₆ + α₁*α₇*α₆ + α₂*α₄*α₆ + α₂*α₄*α₇ + α₂*α₅*α₄ + α₂*α₅*α₆ + α₂*α₇*α₆ + α₃*α₂*α₄ + α₃*α₂*α₅ + α₃*α₂*α₇) + (-1/2)*(M₁ + M₃ - s - t)*(α₁*α₂*α₅ + α₁*α₂*α₆ + α₁*α₂*α₇ + α₁*α₄*α₆ + α₁*α₄*α₇ + α₁*α₅*α₄ + α₁*α₅*α₆ + α₁*α₇*α₆ + α₂*α₄*α₆ + α₂*α₄*α₇ + α₂*α₅*α₄ + α₂*α₅*α₆ + α₂*α₇*α₆ + α₃*α₂*α₅ + α₃*α₂*α₆ + α₃*α₂*α₇ + α₃*α₄*α₆ + α₃*α₄*α₇ + α₃*α₅*α₄ + α₃*α₅*α₆ + α₃*α₇*α₆) + (-1/2)*(M₂ + M₄ - s - t)*(α₁*α₂*α₆ + α₁*α₂*α₇ + α₁*α₃*α₂ + α₁*α₃*α₄ + α₁*α₃*α₅ + α₁*α₃*α₇ + α₁*α₄*α₆ + α₁*α₄*α₇ + α₁*α₅*α₆ + α₁*α₅*α₇ + α₁*α₇*α₆ + α₂*α₄*α₆ + α₂*α₄*α₇ + α₂*α₇*α₆ + α₃*α₂*α₄ + α₃*α₂*α₇ + α₃*α₅*α₄ + α₃*α₅*α₇ + α₅*α₄*α₆ + α₅*α₄*α₇ + α₅*α₇*α₆) - (m₁*α₁ + m₂*α₂ + m₃*α₃ + m₄*α₄ + m₅*α₅ + m₆*α₆ + m₇*α₇)*(α₁*α₂ + α₁*α₄ + α₁*α₅ + α₁*α₇ + α₂*α₄ + α₂*α₆ + α₃*α₂ + α₃*α₄ + α₃*α₅ + α₃*α₇ + α₄*α₆ + α₄*α₇ + α₅*α₄ + α₅*α₆ + α₇*α₆)\n",
      "-----------------------\n",
      "F_equalmass = -(-M + (1/2)*s)*(α₁*α₃*α₂ + α₁*α₃*α₄ + α₁*α₃*α₅ + α₁*α₃*α₇ + α₃*α₂*α₄ + α₃*α₂*α₆ + α₃*α₄*α₆ + α₃*α₄*α₇ + α₃*α₅*α₄ + α₃*α₅*α₆ + α₃*α₇*α₆) - (-M + (1/2)*s)*(α₁*α₂*α₅ + α₁*α₅*α₄ + α₁*α₅*α₇ + α₂*α₅*α₄ + α₂*α₅*α₆ + α₃*α₂*α₅ + α₃*α₅*α₄ + α₃*α₅*α₇ + α₅*α₄*α₆ + α₅*α₄*α₇ + α₅*α₇*α₆) - (-M + (1/2)*t)*(α₁*α₂*α₅ + α₁*α₂*α₆ + α₁*α₂*α₇ + α₁*α₃*α₂ + α₁*α₃*α₄ + α₁*α₃*α₅ + α₁*α₃*α₇ + α₁*α₄*α₆ + α₁*α₄*α₇ + α₁*α₅*α₄ + α₁*α₅*α₆ + α₁*α₇*α₆ + α₂*α₄*α₆ + α₂*α₄*α₇ + α₂*α₅*α₄ + α₂*α₅*α₆ + α₂*α₇*α₆ + α₃*α₂*α₄ + α₃*α₂*α₅ + α₃*α₂*α₇) - (-M + (1/2)*t)*(α₁*α₂*α₆ + α₁*α₂*α₇ + α₁*α₄*α₆ + α₁*α₄*α₇ + α₁*α₅*α₆ + α₁*α₅*α₇ + α₁*α₇*α₆ + α₂*α₄*α₆ + α₂*α₄*α₇ + α₂*α₇*α₆ + α₃*α₂*α₆ + α₃*α₂*α₇ + α₃*α₄*α₆ + α₃*α₄*α₇ + α₃*α₅*α₆ + α₃*α₅*α₇ + α₃*α₇*α₆ + α₅*α₄*α₆ + α₅*α₄*α₇ + α₅*α₇*α₆) - (-M + (1/2)*(4*M - s - t))*(α₁*α₂*α₅ + α₁*α₂*α₆ + α₁*α₂*α₇ + α₁*α₄*α₆ + α₁*α₄*α₇ + α₁*α₅*α₄ + α₁*α₅*α₆ + α₁*α₇*α₆ + α₂*α₄*α₆ + α₂*α₄*α₇ + α₂*α₅*α₄ + α₂*α₅*α₆ + α₂*α₇*α₆ + α₃*α₂*α₅ + α₃*α₂*α₆ + α₃*α₂*α₇ + α₃*α₄*α₆ + α₃*α₄*α₇ + α₃*α₅*α₄ + α₃*α₅*α₆ + α₃*α₇*α₆) - (-M + (1/2)*(4*M - s - t))*(α₁*α₂*α₆ + α₁*α₂*α₇ + α₁*α₃*α₂ + α₁*α₃*α₄ + α₁*α₃*α₅ + α₁*α₃*α₇ + α₁*α₄*α₆ + α₁*α₄*α₇ + α₁*α₅*α₆ + α₁*α₅*α₇ + α₁*α₇*α₆ + α₂*α₄*α₆ + α₂*α₄*α₇ + α₂*α₇*α₆ + α₃*α₂*α₄ + α₃*α₂*α₇ + α₃*α₅*α₄ + α₃*α₅*α₇ + α₅*α₄*α₆ + α₅*α₄*α₇ + α₅*α₇*α₆) - (m*α₁ + m*α₂ + m*α₃ + m*α₄ + m*α₅ + m*α₆ + m*α₇)*(α₁*α₂ + α₁*α₄ + α₁*α₅ + α₁*α₇ + α₂*α₄ + α₂*α₆ + α₃*α₂ + α₃*α₄ + α₃*α₅ + α₃*α₇ + α₄*α₆ + α₄*α₇ + α₅*α₄ + α₅*α₆ + α₇*α₆)\n"
     ]
    }
   ],
   "source": [
    "F_genericmass, s, t, M, m = substitute4legs(F, p, mm);\n",
    "println(\"F_genericmass = $(F_genericmass)\")\n",
    "println(\"-----------------------\")\n",
    "F_equalmass, s, t, M, m = substitute4legs(F, p, mm; equalM = true, equalm = true);\n",
    "println(\"F_equalmass = $(F_equalmass)\")"
   ]
  },
  {
   "cell_type": "markdown",
   "id": "64658831",
   "metadata": {},
   "source": [
    "Load and use the package HomotopyContinuation.jl to represent the critical point equations of F_G as a system"
   ]
  },
  {
   "cell_type": "code",
   "execution_count": 30,
   "id": "8092c74d",
   "metadata": {},
   "outputs": [
    {
     "data": {
      "text/plain": [
       "System of length 7\n",
       " 20 variables: mm₁, mm₂, mm₃, mm₄, mm₅, mm₆, mm₇, p₁₋₂, p₁₋₃, p₂₋₃, p₁₋₄, p₂₋₄, p₃₋₄, α₁, α₂, α₃, α₄, α₅, α₆, α₇\n",
       "\n",
       " -mm₁*(α₁*α₃ + α₁*α₄ + α₁*α₆ + α₁*α₇ + α₂*α₄ + α₂*α₆ + α₂*α₇ + α₃*α₂ + α₃*α₄ + α₃*α₅ + α₄*α₆ + α₄*α₇ + α₅*α₄ + α₅*α₆ + α₅*α₇) - p₁₋₂*(α₂*α₄ + α₂*α₆ + α₂*α₇ + α₃*α₂ + α₃*α₄ + α₃*α₅ + α₄*α₆ + α₄*α₇ + α₅*α₄ + α₅*α₆ + α₅*α₇) - p₁₋₄*(α₂*α₄ + α₂*α₆ + α₂*α₇ + α₃*α₂ + α₃*α₄ + α₃*α₆ + α₃*α₇) - p₂₋₃*(α₃*α₅ + α₃*α₆ + α₄*α₆ + α₅*α₄ + α₅*α₆ + α₅*α₇ + α₇*α₆) - p₃₋₄*(α₃*α₇ + α₄*α₇ + α₇*α₆) - (α₃ + α₄ + α₆ + α₇)*(α₁*mm₁ + α₂*mm₂ + α₃*mm₃ + α₄*mm₄ + α₅*mm₅ + α₆*mm₆ + α₇*mm₇) - (α₃*α₅ + α₃*α₆ + α₃*α₇ + α₄*α₆ + α₄*α₇ + α₅*α₄ + α₅*α₆ + α₅*α₇)*p₂₋₄ - (α₂*α₄ + α₂*α₆ + α₂*α₇ + α₃*α₂ + α₃*α₄ + α₃*α₆ + α₄*α₇ + α₇*α₆)*p₁₋₃\n",
       " -mm₂*(α₁*α₃ + α₁*α₄ + α₁*α₆ + α₁*α₇ + α₂*α₄ + α₂*α₆ + α₂*α₇ + α₃*α₂ + α₃*α₄ + α₃*α₅ + α₄*α₆ + α₄*α₇ + α₅*α₄ + α₅*α₆ + α₅*α₇) - p₁₋₃*(α₁*α₃ + α₁*α₄ + α₁*α₆ + α₁*α₇ + α₃*α₅ + α₃*α₆ + α₄*α₆ + α₅*α₄ + α₅*α₆ + α₅*α₇ + α₇*α₆) - p₂₋₃*(α₃*α₅ + α₃*α₆ + α₄*α₆ + α₅*α₄ + α₅*α₆ + α₅*α₇ + α₇*α₆) - p₃₋₄*(α₃*α₇ + α₄*α₇ + α₇*α₆) - (α₃ + α₄ + α₆ + α₇)*(α₁*mm₁ + α₂*mm₂ + α₃*mm₃ + α₄*mm₄ + α₅*mm₅ + α₆*mm₆ + α₇*mm₇) - (α₁*α₃ + α₁*α₄ + α₁*α₆ + α₁*α₇)*p₁₋₂ - (α₃*α₅ + α₃*α₆ + α₃*α₇ + α₄*α₆ + α₄*α₇ + α₅*α₄ + α₅*α₆ + α₅*α₇)*p₂₋₄ - (α₁*α₃ + α₁*α₄ + α₁*α₆ + α₁*α₇ + α₃*α₅ + α₃*α₆ + α₃*α₇ + α₄*α₆ + α₄*α₇ + α₅*α₄ + α₅*α₆ + α₅*α₇)*p₁₋₄\n",
       " -mm₃*(α₁*α₃ + α₁*α₄ + α₁*α₆ + α₁*α₇ + α₂*α₄ + α₂*α₆ + α₂*α₇ + α₃*α₂ + α₃*α₄ + α₃*α₅ + α₄*α₆ + α₄*α₇ + α₅*α₄ + α₅*α₆ + α₅*α₇) - p₁₋₂*(α₁*α₂ + α₁*α₄ + α₁*α₅) - p₂₋₃*(α₁*α₅ + α₁*α₆ + α₂*α₅ + α₂*α₆ + α₄*α₆ + α₅*α₄ + α₅*α₆) - p₂₋₄*(α₁*α₅ + α₁*α₆ + α₁*α₇ + α₂*α₅ + α₂*α₆ + α₂*α₇ + α₄*α₆ + α₄*α₇ + α₅*α₄ + α₅*α₆ + α₅*α₇) - (α₁ + α₂ + α₄ + α₅)*(α₁*mm₁ + α₂*mm₂ + α₃*mm₃ + α₄*mm₄ + α₅*mm₅ + α₆*mm₆ + α₇*mm₇) - (α₁*α₇ + α₂*α₇ + α₄*α₇ + α₅*α₇)*p₃₋₄ - (α₁*α₂ + α₁*α₄ + α₁*α₆ + α₂*α₅ + α₂*α₆ + α₄*α₆ + α₅*α₄ + α₅*α₆)*p₁₋₃ - (α₁*α₂ + α₁*α₄ + α₁*α₆ + α₁*α₇ + α₂*α₅ + α₂*α₆ + α₂*α₇ + α₄*α₆ + α₄*α₇ + α₅*α₄ + α₅*α₆ + α₅*α₇)*p₁₋₄\n",
       " -mm₄*(α₁*α₃ + α₁*α₄ + α₁*α₆ + α₁*α₇ + α₂*α₄ + α₂*α₆ + α₂*α₇ + α₃*α₂ + α₃*α₄ + α₃*α₅ + α₄*α₆ + α₄*α₇ + α₅*α₄ + α₅*α₆ + α₅*α₇) - p₁₋₂*(α₁*α₂ + α₁*α₃ + α₁*α₅ + α₁*α₆ + α₁*α₇) - p₁₋₃*(α₁*α₂ + α₁*α₃ + α₁*α₇ + α₂*α₅ + α₂*α₆ + α₃*α₅ + α₃*α₆ + α₅*α₇ + α₇*α₆) - p₂₋₄*(α₁*α₅ + α₁*α₆ + α₁*α₇ + α₂*α₅ + α₂*α₆ + α₂*α₇ + α₃*α₅ + α₃*α₆ + α₃*α₇) - p₃₋₄*(α₁*α₇ + α₂*α₇ + α₃*α₇ + α₅*α₇ + α₇*α₆) - (α₁ + α₂ + α₃ + α₅ + α₆ + α₇)*(α₁*mm₁ + α₂*mm₂ + α₃*mm₃ + α₄*mm₄ + α₅*mm₅ + α₆*mm₆ + α₇*mm₇) - (α₁*α₂ + α₁*α₃ + α₂*α₅ + α₂*α₆ + α₂*α₇ + α₃*α₅ + α₃*α₆ + α₃*α₇)*p₁₋₄ - (α₁*α₅ + α₁*α₆ + α₂*α₅ + α₂*α₆ + α₃*α₅ + α₃*α₆ + α₅*α₇ + α₇*α₆)*p₂₋₃\n",
       " -mm₅*(α₁*α₃ + α₁*α₄ + α₁*α₆ + α₁*α₇ + α₂*α₄ + α₂*α₆ + α₂*α₇ + α₃*α₂ + α₃*α₄ + α₃*α₅ + α₄*α₆ + α₄*α₇ + α₅*α₄ + α₅*α₆ + α₅*α₇) - p₁₋₄*(α₂*α₄ + α₂*α₆ + α₂*α₇ + α₃*α₂ + α₃*α₄ + α₃*α₆ + α₃*α₇) - p₂₋₄*(α₁*α₃ + α₁*α₄ + α₁*α₆ + α₁*α₇ + α₂*α₄ + α₂*α₆ + α₂*α₇ + α₃*α₂ + α₃*α₄ + α₃*α₆ + α₃*α₇) - p₃₋₄*(α₃*α₇ + α₄*α₇ + α₇*α₆) - (α₃ + α₄ + α₆ + α₇)*(α₁*mm₁ + α₂*mm₂ + α₃*mm₃ + α₄*mm₄ + α₅*mm₅ + α₆*mm₆ + α₇*mm₇) - (α₁*α₃ + α₁*α₄ + α₁*α₆ + α₁*α₇)*p₁₋₂ - (α₂*α₄ + α₂*α₆ + α₂*α₇ + α₃*α₂ + α₃*α₄ + α₃*α₆ + α₄*α₇ + α₇*α₆)*p₁₋₃ - (α₁*α₃ + α₁*α₄ + α₁*α₆ + α₁*α₇ + α₂*α₄ + α₂*α₆ + α₂*α₇ + α₃*α₂ + α₃*α₄ + α₃*α₆ + α₄*α₇ + α₇*α₆)*p₂₋₃\n",
       " -mm₆*(α₁*α₃ + α₁*α₄ + α₁*α₆ + α₁*α₇ + α₂*α₄ + α₂*α₆ + α₂*α₇ + α₃*α₂ + α₃*α₄ + α₃*α₅ + α₄*α₆ + α₄*α₇ + α₅*α₄ + α₅*α₆ + α₅*α₇) - p₁₋₂*(α₁*α₂ + α₁*α₄ + α₁*α₅) - p₁₋₃*(α₁*α₂ + α₁*α₃ + α₁*α₇ + α₂*α₄ + α₂*α₅ + α₂*α₇ + α₃*α₂ + α₃*α₄ + α₃*α₅ + α₄*α₇ + α₅*α₇) - p₁₋₄*(α₁*α₂ + α₁*α₃ + α₂*α₄ + α₂*α₅ + α₃*α₂ + α₃*α₄ + α₃*α₅) - (α₁ + α₂ + α₄ + α₅)*(α₁*mm₁ + α₂*mm₂ + α₃*mm₃ + α₄*mm₄ + α₅*mm₅ + α₆*mm₆ + α₇*mm₇) - (α₁*α₇ + α₂*α₇ + α₄*α₇ + α₅*α₇)*p₃₋₄ - (α₁*α₃ + α₁*α₄ + α₁*α₅ + α₂*α₄ + α₂*α₅ + α₃*α₂ + α₃*α₄ + α₃*α₅)*p₂₋₄ - (α₁*α₃ + α₁*α₄ + α₁*α₅ + α₁*α₇ + α₂*α₄ + α₂*α₅ + α₂*α₇ + α₃*α₂ + α₃*α₄ + α₃*α₅ + α₄*α₇ + α₅*α₇)*p₂₋₃\n",
       " -mm₇*(α₁*α₃ + α₁*α₄ + α₁*α₆ + α₁*α₇ + α₂*α₄ + α₂*α₆ + α₂*α₇ + α₃*α₂ + α₃*α₄ + α₃*α₅ + α₄*α₆ + α₄*α₇ + α₅*α₄ + α₅*α₆ + α₅*α₇) - p₁₋₂*(α₁*α₂ + α₁*α₄ + α₁*α₅) - p₁₋₄*(α₁*α₂ + α₁*α₃ + α₂*α₄ + α₂*α₅ + α₃*α₂ + α₃*α₄ + α₃*α₅) - p₂₋₃*(α₁*α₅ + α₁*α₆ + α₂*α₅ + α₂*α₆ + α₄*α₆ + α₅*α₄ + α₅*α₆) - p₃₋₄*(α₁*α₃ + α₁*α₄ + α₁*α₆ + α₂*α₄ + α₂*α₆ + α₃*α₂ + α₃*α₄ + α₃*α₅ + α₄*α₆ + α₅*α₄ + α₅*α₆) - (α₁ + α₂ + α₄ + α₅)*(α₁*mm₁ + α₂*mm₂ + α₃*mm₃ + α₄*mm₄ + α₅*mm₅ + α₆*mm₆ + α₇*mm₇) - (α₁*α₃ + α₁*α₄ + α₁*α₅ + α₂*α₄ + α₂*α₅ + α₃*α₂ + α₃*α₄ + α₃*α₅)*p₂₋₄ - (α₁*α₂ + α₁*α₄ + α₁*α₆ + α₂*α₅ + α₂*α₆ + α₄*α₆ + α₅*α₄ + α₅*α₆)*p₁₋₃"
      ]
     },
     "metadata": {},
     "output_type": "display_data"
    }
   ],
   "source": [
    "LE, α, p, mm = LandauEquations(edges, nodes);\n",
    "using HomotopyContinuation\n",
    "System(LE)"
   ]
  },
  {
   "cell_type": "markdown",
   "id": "7fda662a",
   "metadata": {},
   "source": [
    "Next we find the affine version of these equations"
   ]
  },
  {
   "cell_type": "code",
   "execution_count": 20,
   "id": "5b078979",
   "metadata": {},
   "outputs": [
    {
     "name": "stdout",
     "output_type": "stream",
     "text": [
      "variables: Variable[M₁, M₂, M₃, M₄, m₁, m₂, m₃, m₄, m₅, m₆, m₇, s, t, y, α₁, α₂, α₃, α₄, α₅, α₆]\n",
      "last eq.: -1 + y*α₁*α₃*α₂*α₅*α₄*α₆*(1.0*α₁ + 1.0*α₃ + 1.0*α₄ + 1.0*α₆ + α₁*α₂ + α₁*α₄ + α₁*α₅ + α₂*α₄ + α₂*α₆ + α₃*α₂ + α₃*α₄ + α₃*α₅ + α₄*α₆ + α₅*α₄ + α₅*α₆)\n"
     ]
    }
   ],
   "source": [
    "LE, y, α, p, mm = affineLandauEquations(edges,nodes);\n",
    "LE, s, t, M, m = substitute4legs(LE, p, mm); \n",
    "println(\"variables: $(variables(LE))\")\n",
    "println(\"last eq.: $(LE[end])\")\n"
   ]
  },
  {
   "cell_type": "markdown",
   "id": "78e0c715",
   "metadata": {},
   "source": []
  },
  {
   "cell_type": "code",
   "execution_count": 22,
   "id": "f2f5bbdb",
   "metadata": {},
   "outputs": [
    {
     "name": "stderr",
     "output_type": "stream",
     "text": [
      "\r\u001b[32mComputing mixed cells... 9    Time: 0:00:00\u001b[39m\u001b[K\r\n",
      "\u001b[34m  mixed_volume:  22\u001b[39m\u001b[K\r\u001b[A"
     ]
    },
    {
     "name": "stderr",
     "output_type": "stream",
     "text": [
      "\n",
      "\r\u001b[K\u001b[A\r\u001b[32mComputing mixed cells... 30    Time: 0:00:00\u001b[39m\u001b[K\r\n",
      "\u001b[34m  mixed_volume:  76\u001b[39m\u001b[K\r\u001b[A"
     ]
    },
    {
     "name": "stderr",
     "output_type": "stream",
     "text": [
      "\n",
      "\r\u001b[K\u001b[A\r\u001b[32mComputing mixed cells... 48    Time: 0:00:01\u001b[39m\u001b[K\r\n",
      "\u001b[34m  mixed_volume:  124\u001b[39m\u001b[K\r\u001b[A"
     ]
    },
    {
     "name": "stderr",
     "output_type": "stream",
     "text": [
      "\n",
      "\r\u001b[K\u001b[A\r\u001b[32mComputing mixed cells... 119    Time: 0:00:01\u001b[39m\u001b[K\r\n",
      "\u001b[34m  mixed_volume:  330\u001b[39m\u001b[K\r\u001b[A"
     ]
    },
    {
     "name": "stderr",
     "output_type": "stream",
     "text": [
      "\n",
      "\r\u001b[K\u001b[A\r\u001b[32mComputing mixed cells... 166    Time: 0:00:02\u001b[39m\u001b[K\r\n",
      "\u001b[34m  mixed_volume:  436\u001b[39m\u001b[K\n"
     ]
    },
    {
     "name": "stdout",
     "output_type": "stream",
     "text": [
      "\r\u001b[32mTracking 436 paths...   0%|█                            |  ETA: 1:14:45\u001b[39m\u001b[K\r\n",
      "\u001b[34m  # paths tracked:                  2\u001b[39m\u001b[K\r\n",
      "\u001b[34m  # non-singular solutions (real):  0 (0)\u001b[39m\u001b[K\r\n",
      "\u001b[34m  # singular endpoints (real):      0 (0)\u001b[39m\u001b[K\r\n",
      "\u001b[34m  # total solutions (real):         0 (0)\u001b[39m\u001b[K\r\u001b[A\r\u001b[A\r\u001b[A\r\u001b[A"
     ]
    },
    {
     "name": "stdout",
     "output_type": "stream",
     "text": [
      "\n",
      "\n",
      "\n",
      "\n",
      "\r\u001b[K\u001b[A\r\u001b[K\u001b[A\r\u001b[K\u001b[A\r\u001b[K\u001b[A\r\u001b[32mTracking 436 paths...   3%|█                            |  ETA: 0:11:44\u001b[39m\u001b[K\r\n",
      "\u001b[34m  # paths tracked:                  13\u001b[39m\u001b[K\r\n",
      "\u001b[34m  # non-singular solutions (real):  0 (0)\u001b[39m\u001b[K\r\n",
      "\u001b[34m  # singular endpoints (real):      0 (0)\u001b[39m\u001b[K\r\n",
      "\u001b[34m  # total solutions (real):         0 (0)\u001b[39m\u001b[K\r\u001b[A\r\u001b[A\r\u001b[A\r\u001b[A"
     ]
    },
    {
     "name": "stdout",
     "output_type": "stream",
     "text": [
      "\n",
      "\n",
      "\n",
      "\n",
      "\r\u001b[K\u001b[A\r\u001b[K\u001b[A\r\u001b[K\u001b[A\r\u001b[K\u001b[A\r\u001b[32mTracking 436 paths...   4%|██                           |  ETA: 0:09:33\u001b[39m\u001b[K\r\n",
      "\u001b[34m  # paths tracked:                  16\u001b[39m\u001b[K\r\n",
      "\u001b[34m  # non-singular solutions (real):  0 (0)\u001b[39m\u001b[K\r\n",
      "\u001b[34m  # singular endpoints (real):      0 (0)\u001b[39m\u001b[K\r\n",
      "\u001b[34m  # total solutions (real):         0 (0)\u001b[39m\u001b[K\r\u001b[A\r\u001b[A\r\u001b[A\r\u001b[A"
     ]
    },
    {
     "name": "stdout",
     "output_type": "stream",
     "text": [
      "\n",
      "\n",
      "\n",
      "\n",
      "\r\u001b[K\u001b[A\r\u001b[K\u001b[A\r\u001b[K\u001b[A\r\u001b[K\u001b[A\r\u001b[32mTracking 436 paths...   5%|██                           |  ETA: 0:07:39\u001b[39m\u001b[K\r\n",
      "\u001b[34m  # paths tracked:                  20\u001b[39m\u001b[K\r\n",
      "\u001b[34m  # non-singular solutions (real):  0 (0)\u001b[39m\u001b[K\r\n",
      "\u001b[34m  # singular endpoints (real):      0 (0)\u001b[39m\u001b[K\r\n",
      "\u001b[34m  # total solutions (real):         0 (0)\u001b[39m\u001b[K\r\u001b[A\r\u001b[A\r\u001b[A\r\u001b[A"
     ]
    },
    {
     "name": "stdout",
     "output_type": "stream",
     "text": [
      "\n",
      "\n",
      "\n",
      "\n",
      "\r\u001b[K\u001b[A\r\u001b[K\u001b[A\r\u001b[K\u001b[A\r\u001b[K\u001b[A\r\u001b[32mTracking 436 paths...   6%|██                           |  ETA: 0:06:23\u001b[39m\u001b[K\r\n",
      "\u001b[34m  # paths tracked:                  24\u001b[39m\u001b[K\r\n",
      "\u001b[34m  # non-singular solutions (real):  0 (0)\u001b[39m\u001b[K\r\n",
      "\u001b[34m  # singular endpoints (real):      0 (0)\u001b[39m\u001b[K\r\n",
      "\u001b[34m  # total solutions (real):         0 (0)\u001b[39m\u001b[K\r\u001b[A\r\u001b[A\r\u001b[A\r\u001b[A"
     ]
    },
    {
     "name": "stdout",
     "output_type": "stream",
     "text": [
      "\n",
      "\n",
      "\n",
      "\n",
      "\r\u001b[K\u001b[A\r\u001b[K\u001b[A\r\u001b[K\u001b[A\r\u001b[K\u001b[A\r\u001b[32mTracking 436 paths...   7%|██                           |  ETA: 0:05:07\u001b[39m\u001b[K\r\n",
      "\u001b[34m  # paths tracked:                  30\u001b[39m\u001b[K\r\n",
      "\u001b[34m  # non-singular solutions (real):  0 (0)\u001b[39m\u001b[K\r\n",
      "\u001b[34m  # singular endpoints (real):      0 (0)\u001b[39m\u001b[K\r\n",
      "\u001b[34m  # total solutions (real):         0 (0)\u001b[39m\u001b[K\r\u001b[A\r\u001b[A\r\u001b[A\r\u001b[A"
     ]
    },
    {
     "name": "stdout",
     "output_type": "stream",
     "text": [
      "\n",
      "\n",
      "\n",
      "\n",
      "\r\u001b[K\u001b[A\r\u001b[K\u001b[A\r\u001b[K\u001b[A\r\u001b[K\u001b[A\r\u001b[32mTracking 436 paths...   8%|███                          |  ETA: 0:04:15\u001b[39m\u001b[K\r\n",
      "\u001b[34m  # paths tracked:                  36\u001b[39m\u001b[K\r\n",
      "\u001b[34m  # non-singular solutions (real):  0 (0)\u001b[39m\u001b[K\r\n",
      "\u001b[34m  # singular endpoints (real):      0 (0)\u001b[39m\u001b[K\r\n",
      "\u001b[34m  # total solutions (real):         0 (0)\u001b[39m\u001b[K\r\u001b[A\r\u001b[A\r\u001b[A\r\u001b[A"
     ]
    },
    {
     "name": "stdout",
     "output_type": "stream",
     "text": [
      "\n",
      "\n",
      "\n",
      "\n",
      "\r\u001b[K\u001b[A\r\u001b[K\u001b[A\r\u001b[K\u001b[A\r\u001b[K\u001b[A\r\u001b[32mTracking 436 paths...   9%|███                          |  ETA: 0:03:49\u001b[39m\u001b[K\r\n",
      "\u001b[34m  # paths tracked:                  40\u001b[39m\u001b[K\r\n",
      "\u001b[34m  # non-singular solutions (real):  0 (0)\u001b[39m\u001b[K\r\n",
      "\u001b[34m  # singular endpoints (real):      0 (0)\u001b[39m\u001b[K\r\n",
      "\u001b[34m  # total solutions (real):         0 (0)\u001b[39m\u001b[K\r\u001b[A\r\u001b[A\r\u001b[A\r\u001b[A"
     ]
    },
    {
     "name": "stdout",
     "output_type": "stream",
     "text": [
      "\n",
      "\n",
      "\n",
      "\n",
      "\r\u001b[K\u001b[A\r\u001b[K\u001b[A\r\u001b[K\u001b[A\r\u001b[K\u001b[A\r\u001b[32mTracking 436 paths...  10%|███                          |  ETA: 0:03:28\u001b[39m\u001b[K\r\n",
      "\u001b[34m  # paths tracked:                  44\u001b[39m\u001b[K\r\n",
      "\u001b[34m  # non-singular solutions (real):  0 (0)\u001b[39m\u001b[K\r\n",
      "\u001b[34m  # singular endpoints (real):      0 (0)\u001b[39m\u001b[K\r\n",
      "\u001b[34m  # total solutions (real):         0 (0)\u001b[39m\u001b[K\r\u001b[A\r\u001b[A\r\u001b[A\r\u001b[A"
     ]
    },
    {
     "name": "stdout",
     "output_type": "stream",
     "text": [
      "\n",
      "\n",
      "\n",
      "\n",
      "\r\u001b[K\u001b[A\r\u001b[K\u001b[A\r\u001b[K\u001b[A\r\u001b[K\u001b[A\r\u001b[32mTracking 436 paths...  11%|████                         |  ETA: 0:03:06\u001b[39m\u001b[K\r\n",
      "\u001b[34m  # paths tracked:                  49\u001b[39m\u001b[K\r\n",
      "\u001b[34m  # non-singular solutions (real):  0 (0)\u001b[39m\u001b[K\r\n",
      "\u001b[34m  # singular endpoints (real):      0 (0)\u001b[39m\u001b[K\r\n",
      "\u001b[34m  # total solutions (real):         0 (0)\u001b[39m\u001b[K\r\u001b[A\r\u001b[A\r\u001b[A\r\u001b[A"
     ]
    },
    {
     "name": "stdout",
     "output_type": "stream",
     "text": [
      "\n",
      "\n",
      "\n",
      "\n",
      "\r\u001b[K\u001b[A\r\u001b[K\u001b[A\r\u001b[K\u001b[A\r\u001b[K\u001b[A\r\u001b[32mTracking 436 paths...  13%|████                         |  ETA: 0:02:46\u001b[39m\u001b[K\r\n",
      "\u001b[34m  # paths tracked:                  55\u001b[39m\u001b[K\r\n",
      "\u001b[34m  # non-singular solutions (real):  0 (0)\u001b[39m\u001b[K\r\n",
      "\u001b[34m  # singular endpoints (real):      0 (0)\u001b[39m\u001b[K\r\n",
      "\u001b[34m  # total solutions (real):         0 (0)\u001b[39m\u001b[K"
     ]
    },
    {
     "name": "stdout",
     "output_type": "stream",
     "text": [
      "\r\u001b[A\r\u001b[A\r\u001b[A\r\u001b[A\n",
      "\n",
      "\n",
      "\n",
      "\r\u001b[K\u001b[A\r\u001b[K\u001b[A\r\u001b[K\u001b[A\r\u001b[K\u001b[A\r\u001b[32mTracking 436 paths...  14%|████                         |  ETA: 0:02:31\u001b[39m\u001b[K\r\n",
      "\u001b[34m  # paths tracked:                  60\u001b[39m\u001b[K\r\n",
      "\u001b[34m  # non-singular solutions (real):  0 (0)\u001b[39m\u001b[K\r\n",
      "\u001b[34m  # singular endpoints (real):      0 (0)\u001b[39m\u001b[K\r\n",
      "\u001b[34m  # total solutions (real):         0 (0)\u001b[39m\u001b[K\r\u001b[A\r\u001b[A\r\u001b[A\r\u001b[A"
     ]
    },
    {
     "name": "stdout",
     "output_type": "stream",
     "text": [
      "\n",
      "\n",
      "\n",
      "\n",
      "\r\u001b[K\u001b[A\r\u001b[K\u001b[A\r\u001b[K\u001b[A\r\u001b[K\u001b[A\r\u001b[32mTracking 436 paths...  15%|█████                        |  ETA: 0:02:17\u001b[39m\u001b[K\r\n",
      "\u001b[34m  # paths tracked:                  66\u001b[39m\u001b[K\r\n",
      "\u001b[34m  # non-singular solutions (real):  0 (0)\u001b[39m\u001b[K\r\n",
      "\u001b[34m  # singular endpoints (real):      0 (0)\u001b[39m\u001b[K\r\n",
      "\u001b[34m  # total solutions (real):         0 (0)\u001b[39m\u001b[K\r\u001b[A\r\u001b[A\r\u001b[A\r\u001b[A"
     ]
    },
    {
     "name": "stdout",
     "output_type": "stream",
     "text": [
      "\n",
      "\n",
      "\n",
      "\n",
      "\r\u001b[K\u001b[A\r\u001b[K\u001b[A\r\u001b[K\u001b[A\r\u001b[K\u001b[A\r\u001b[32mTracking 436 paths...  16%|█████                        |  ETA: 0:02:07\u001b[39m\u001b[K\r\n",
      "\u001b[34m  # paths tracked:                  71\u001b[39m\u001b[K\r\n",
      "\u001b[34m  # non-singular solutions (real):  1 (0)\u001b[39m\u001b[K\r\n",
      "\u001b[34m  # singular endpoints (real):      0 (0)\u001b[39m\u001b[K\r\n",
      "\u001b[34m  # total solutions (real):         1 (0)\u001b[39m\u001b[K\r\u001b[A\r\u001b[A\r\u001b[A\r\u001b[A"
     ]
    },
    {
     "name": "stdout",
     "output_type": "stream",
     "text": [
      "\n",
      "\n",
      "\n",
      "\n",
      "\r\u001b[K\u001b[A\r\u001b[K\u001b[A\r\u001b[K\u001b[A\r\u001b[K\u001b[A\r\u001b[32mTracking 436 paths...  17%|█████                        |  ETA: 0:02:00\u001b[39m\u001b[K\r\n",
      "\u001b[34m  # paths tracked:                  75\u001b[39m\u001b[K\r\n",
      "\u001b[34m  # non-singular solutions (real):  1 (0)\u001b[39m\u001b[K\r\n",
      "\u001b[34m  # singular endpoints (real):      0 (0)\u001b[39m\u001b[K\r\n",
      "\u001b[34m  # total solutions (real):         1 (0)\u001b[39m\u001b[K\r\u001b[A\r\u001b[A\r\u001b[A\r\u001b[A"
     ]
    },
    {
     "name": "stdout",
     "output_type": "stream",
     "text": [
      "\n",
      "\n",
      "\n",
      "\n",
      "\r\u001b[K\u001b[A\r\u001b[K\u001b[A\r\u001b[K\u001b[A\r\u001b[K\u001b[A\r\u001b[32mTracking 436 paths...  18%|██████                       |  ETA: 0:01:56\u001b[39m\u001b[K\r\n",
      "\u001b[34m  # paths tracked:                  78\u001b[39m\u001b[K\r\n",
      "\u001b[34m  # non-singular solutions (real):  2 (0)\u001b[39m\u001b[K\r\n",
      "\u001b[34m  # singular endpoints (real):      0 (0)\u001b[39m\u001b[K\r\n",
      "\u001b[34m  # total solutions (real):         2 (0)\u001b[39m\u001b[K\r\u001b[A\r\u001b[A\r\u001b[A\r\u001b[A"
     ]
    },
    {
     "name": "stdout",
     "output_type": "stream",
     "text": [
      "\n",
      "\n",
      "\n",
      "\n",
      "\r\u001b[K\u001b[A\r\u001b[K\u001b[A\r\u001b[K\u001b[A\r\u001b[K\u001b[A\r\u001b[32mTracking 436 paths...  19%|██████                       |  ETA: 0:01:47\u001b[39m\u001b[K\r\n",
      "\u001b[34m  # paths tracked:                  84\u001b[39m\u001b[K\r\n",
      "\u001b[34m  # non-singular solutions (real):  2 (0)\u001b[39m\u001b[K\r\n",
      "\u001b[34m  # singular endpoints (real):      0 (0)\u001b[39m\u001b[K\r\n",
      "\u001b[34m  # total solutions (real):         2 (0)\u001b[39m\u001b[K\r\u001b[A\r\u001b[A\r\u001b[A\r\u001b[A"
     ]
    },
    {
     "name": "stdout",
     "output_type": "stream",
     "text": [
      "\n",
      "\n",
      "\n",
      "\n",
      "\r\u001b[K\u001b[A\r\u001b[K\u001b[A\r\u001b[K\u001b[A\r\u001b[K\u001b[A\r\u001b[32mTracking 436 paths...  21%|██████                       |  ETA: 0:01:39\u001b[39m\u001b[K\r\n",
      "\u001b[34m  # paths tracked:                  90\u001b[39m\u001b[K\r\n",
      "\u001b[34m  # non-singular solutions (real):  2 (0)\u001b[39m\u001b[K\r\n",
      "\u001b[34m  # singular endpoints (real):      0 (0)\u001b[39m\u001b[K\r\n",
      "\u001b[34m  # total solutions (real):         2 (0)\u001b[39m\u001b[K\r\u001b[A\r\u001b[A\r\u001b[A\r\u001b[A"
     ]
    },
    {
     "name": "stdout",
     "output_type": "stream",
     "text": [
      "\n",
      "\n",
      "\n",
      "\n",
      "\r\u001b[K\u001b[A\r\u001b[K\u001b[A\r\u001b[K\u001b[A\r\u001b[K\u001b[A\r\u001b[32mTracking 436 paths...  22%|███████                      |  ETA: 0:01:33\u001b[39m\u001b[K\r\n",
      "\u001b[34m  # paths tracked:                  95\u001b[39m\u001b[K\r\n",
      "\u001b[34m  # non-singular solutions (real):  3 (0)\u001b[39m\u001b[K\r\n",
      "\u001b[34m  # singular endpoints (real):      0 (0)\u001b[39m\u001b[K\r\n",
      "\u001b[34m  # total solutions (real):         3 (0)\u001b[39m\u001b[K\r\u001b[A\r\u001b[A\r\u001b[A\r\u001b[A"
     ]
    },
    {
     "name": "stdout",
     "output_type": "stream",
     "text": [
      "\n",
      "\n",
      "\n",
      "\n",
      "\r\u001b[K\u001b[A\r\u001b[K\u001b[A\r\u001b[K\u001b[A\r\u001b[K\u001b[A\r\u001b[32mTracking 436 paths...  23%|███████                      |  ETA: 0:01:26\u001b[39m\u001b[K\r\n",
      "\u001b[34m  # paths tracked:                  102\u001b[39m\u001b[K\r\n",
      "\u001b[34m  # non-singular solutions (real):  4 (0)\u001b[39m\u001b[K\r\n",
      "\u001b[34m  # singular endpoints (real):      0 (0)\u001b[39m\u001b[K\r\n",
      "\u001b[34m  # total solutions (real):         4 (0)\u001b[39m\u001b[K\r\u001b[A\r\u001b[A\r\u001b[A\r\u001b[A"
     ]
    },
    {
     "name": "stdout",
     "output_type": "stream",
     "text": [
      "\n",
      "\n",
      "\n",
      "\n",
      "\r\u001b[K\u001b[A\r\u001b[K\u001b[A\r\u001b[K\u001b[A\r\u001b[K\u001b[A\r\u001b[32mTracking 436 paths...  25%|████████                     |  ETA: 0:01:22\u001b[39m\u001b[K\r\n",
      "\u001b[34m  # paths tracked:                  107\u001b[39m\u001b[K\r\n",
      "\u001b[34m  # non-singular solutions (real):  4 (0)\u001b[39m\u001b[K\r\n",
      "\u001b[34m  # singular endpoints (real):      0 (0)\u001b[39m\u001b[K\r\n",
      "\u001b[34m  # total solutions (real):         4 (0)\u001b[39m\u001b[K\r\u001b[A\r\u001b[A\r\u001b[A\r\u001b[A"
     ]
    },
    {
     "name": "stdout",
     "output_type": "stream",
     "text": [
      "\n",
      "\n",
      "\n",
      "\n",
      "\r\u001b[K\u001b[A\r\u001b[K\u001b[A\r\u001b[K\u001b[A\r\u001b[K\u001b[A\r\u001b[32mTracking 436 paths...  26%|████████                     |  ETA: 0:01:17\u001b[39m\u001b[K\r\n",
      "\u001b[34m  # paths tracked:                  112\u001b[39m\u001b[K\r\n",
      "\u001b[34m  # non-singular solutions (real):  4 (0)\u001b[39m\u001b[K\r\n",
      "\u001b[34m  # singular endpoints (real):      0 (0)\u001b[39m\u001b[K\r\n",
      "\u001b[34m  # total solutions (real):         4 (0)\u001b[39m\u001b[K\r\u001b[A\r\u001b[A\r\u001b[A\r\u001b[A"
     ]
    },
    {
     "name": "stdout",
     "output_type": "stream",
     "text": [
      "\n",
      "\n",
      "\n",
      "\n",
      "\r\u001b[K\u001b[A\r\u001b[K\u001b[A\r\u001b[K\u001b[A\r\u001b[K\u001b[A\r\u001b[32mTracking 436 paths...  27%|████████                     |  ETA: 0:01:15\u001b[39m\u001b[K\r\n",
      "\u001b[34m  # paths tracked:                  116\u001b[39m\u001b[K\r\n",
      "\u001b[34m  # non-singular solutions (real):  4 (0)\u001b[39m\u001b[K\r\n",
      "\u001b[34m  # singular endpoints (real):      0 (0)\u001b[39m\u001b[K\r\n",
      "\u001b[34m  # total solutions (real):         4 (0)\u001b[39m\u001b[K\r\u001b[A\r\u001b[A\r\u001b[A\r\u001b[A"
     ]
    },
    {
     "name": "stdout",
     "output_type": "stream",
     "text": [
      "\n",
      "\n",
      "\n",
      "\n",
      "\r\u001b[K\u001b[A\r\u001b[K\u001b[A\r\u001b[K\u001b[A\r\u001b[K\u001b[A\r\u001b[32mTracking 436 paths...  28%|█████████                    |  ETA: 0:01:11\u001b[39m\u001b[K\r\n",
      "\u001b[34m  # paths tracked:                  121\u001b[39m\u001b[K\r\n",
      "\u001b[34m  # non-singular solutions (real):  4 (0)\u001b[39m\u001b[K\r\n",
      "\u001b[34m  # singular endpoints (real):      0 (0)\u001b[39m\u001b[K\r\n",
      "\u001b[34m  # total solutions (real):         4 (0)\u001b[39m\u001b[K\r\u001b[A\r\u001b[A\r\u001b[A\r\u001b[A"
     ]
    },
    {
     "name": "stdout",
     "output_type": "stream",
     "text": [
      "\n",
      "\n",
      "\n",
      "\n",
      "\r\u001b[K\u001b[A\r\u001b[K\u001b[A\r\u001b[K\u001b[A\r\u001b[K\u001b[A\r\u001b[32mTracking 436 paths...  29%|█████████                    |  ETA: 0:01:07\u001b[39m\u001b[K\r\n",
      "\u001b[34m  # paths tracked:                  128\u001b[39m\u001b[K\r\n",
      "\u001b[34m  # non-singular solutions (real):  4 (0)\u001b[39m\u001b[K\r\n",
      "\u001b[34m  # singular endpoints (real):      0 (0)\u001b[39m\u001b[K\r\n",
      "\u001b[34m  # total solutions (real):         4 (0)\u001b[39m\u001b[K\r\u001b[A\r\u001b[A\r\u001b[A\r\u001b[A"
     ]
    },
    {
     "name": "stdout",
     "output_type": "stream",
     "text": [
      "\n",
      "\n",
      "\n",
      "\n",
      "\r\u001b[K\u001b[A\r\u001b[K\u001b[A\r\u001b[K\u001b[A\r\u001b[K\u001b[A\r\u001b[32mTracking 436 paths...  31%|█████████                    |  ETA: 0:01:03\u001b[39m\u001b[K\r\n",
      "\u001b[34m  # paths tracked:                  134\u001b[39m\u001b[K\r\n",
      "\u001b[34m  # non-singular solutions (real):  5 (0)\u001b[39m\u001b[K\r\n",
      "\u001b[34m  # singular endpoints (real):      0 (0)\u001b[39m\u001b[K\r\n",
      "\u001b[34m  # total solutions (real):         5 (0)\u001b[39m\u001b[K\r\u001b[A\r\u001b[A\r\u001b[A\r\u001b[A"
     ]
    },
    {
     "name": "stdout",
     "output_type": "stream",
     "text": [
      "\n",
      "\n",
      "\n",
      "\n",
      "\r\u001b[K\u001b[A\r\u001b[K\u001b[A\r\u001b[K\u001b[A\r\u001b[K\u001b[A\r\u001b[32mTracking 436 paths...  32%|██████████                   |  ETA: 0:01:00\u001b[39m\u001b[K\r\n",
      "\u001b[34m  # paths tracked:                  140\u001b[39m\u001b[K\r\n",
      "\u001b[34m  # non-singular solutions (real):  5 (0)\u001b[39m\u001b[K\r\n",
      "\u001b[34m  # singular endpoints (real):      0 (0)\u001b[39m\u001b[K\r\n",
      "\u001b[34m  # total solutions (real):         5 (0)\u001b[39m\u001b[K\r\u001b[A\r\u001b[A\r\u001b[A\r\u001b[A"
     ]
    },
    {
     "name": "stdout",
     "output_type": "stream",
     "text": [
      "\n",
      "\n",
      "\n",
      "\n",
      "\r\u001b[K\u001b[A\r\u001b[K\u001b[A\r\u001b[K\u001b[A\r\u001b[K\u001b[A\r\u001b[32mTracking 436 paths...  33%|██████████                   |  ETA: 0:00:57\u001b[39m\u001b[K\r\n",
      "\u001b[34m  # paths tracked:                  145\u001b[39m\u001b[K\r\n",
      "\u001b[34m  # non-singular solutions (real):  5 (0)\u001b[39m\u001b[K\r\n",
      "\u001b[34m  # singular endpoints (real):      0 (0)\u001b[39m\u001b[K\r\n",
      "\u001b[34m  # total solutions (real):         5 (0)\u001b[39m\u001b[K\r\u001b[A\r\u001b[A\r\u001b[A\r\u001b[A"
     ]
    },
    {
     "name": "stdout",
     "output_type": "stream",
     "text": [
      "\n",
      "\n",
      "\n",
      "\n",
      "\r\u001b[K\u001b[A\r\u001b[K\u001b[A\r\u001b[K\u001b[A\r\u001b[K\u001b[A\r\u001b[32mTracking 436 paths...  35%|███████████                  |  ETA: 0:00:54\u001b[39m\u001b[K\r\n",
      "\u001b[34m  # paths tracked:                  151\u001b[39m\u001b[K\r\n",
      "\u001b[34m  # non-singular solutions (real):  5 (0)\u001b[39m\u001b[K\r\n",
      "\u001b[34m  # singular endpoints (real):      0 (0)\u001b[39m\u001b[K\r\n",
      "\u001b[34m  # total solutions (real):         5 (0)\u001b[39m\u001b[K\r\u001b[A\r\u001b[A\r\u001b[A\r\u001b[A"
     ]
    },
    {
     "name": "stdout",
     "output_type": "stream",
     "text": [
      "\n",
      "\n",
      "\n",
      "\n",
      "\r\u001b[K\u001b[A\r\u001b[K\u001b[A\r\u001b[K\u001b[A\r\u001b[K\u001b[A\r\u001b[32mTracking 436 paths...  36%|███████████                  |  ETA: 0:00:52\u001b[39m\u001b[K\r\n",
      "\u001b[34m  # paths tracked:                  156\u001b[39m\u001b[K\r\n",
      "\u001b[34m  # non-singular solutions (real):  5 (0)\u001b[39m\u001b[K\r\n",
      "\u001b[34m  # singular endpoints (real):      0 (0)\u001b[39m\u001b[K\r\n",
      "\u001b[34m  # total solutions (real):         5 (0)\u001b[39m\u001b[K\r\u001b[A\r\u001b[A\r\u001b[A\r\u001b[A"
     ]
    },
    {
     "name": "stdout",
     "output_type": "stream",
     "text": [
      "\n",
      "\n",
      "\n",
      "\n",
      "\r\u001b[K\u001b[A\r\u001b[K\u001b[A\r\u001b[K\u001b[A\r\u001b[K\u001b[A\r\u001b[32mTracking 436 paths...  37%|███████████                  |  ETA: 0:00:49\u001b[39m\u001b[K\r\n",
      "\u001b[34m  # paths tracked:                  162\u001b[39m\u001b[K\r\n",
      "\u001b[34m  # non-singular solutions (real):  5 (0)\u001b[39m\u001b[K\r\n",
      "\u001b[34m  # singular endpoints (real):      0 (0)\u001b[39m\u001b[K\r\n",
      "\u001b[34m  # total solutions (real):         5 (0)\u001b[39m\u001b[K\r\u001b[A\r\u001b[A\r\u001b[A\r\u001b[A"
     ]
    },
    {
     "name": "stdout",
     "output_type": "stream",
     "text": [
      "\n",
      "\n",
      "\n",
      "\n",
      "\r\u001b[K\u001b[A\r\u001b[K\u001b[A\r\u001b[K\u001b[A\r\u001b[K\u001b[A\r\u001b[32mTracking 436 paths...  38%|████████████                 |  ETA: 0:00:47\u001b[39m\u001b[K\r\n",
      "\u001b[34m  # paths tracked:                  167\u001b[39m\u001b[K\r\n",
      "\u001b[34m  # non-singular solutions (real):  5 (0)\u001b[39m\u001b[K\r\n",
      "\u001b[34m  # singular endpoints (real):      0 (0)\u001b[39m\u001b[K\r\n",
      "\u001b[34m  # total solutions (real):         5 (0)\u001b[39m\u001b[K\r\u001b[A\r\u001b[A\r\u001b[A\r\u001b[A"
     ]
    },
    {
     "name": "stdout",
     "output_type": "stream",
     "text": [
      "\n",
      "\n",
      "\n",
      "\n",
      "\r\u001b[K\u001b[A\r\u001b[K\u001b[A\r\u001b[K\u001b[A\r\u001b[K\u001b[A\r\u001b[32mTracking 436 paths...  39%|████████████                 |  ETA: 0:00:46\u001b[39m\u001b[K\r\n",
      "\u001b[34m  # paths tracked:                  172\u001b[39m\u001b[K\r\n",
      "\u001b[34m  # non-singular solutions (real):  6 (0)\u001b[39m\u001b[K\r\n",
      "\u001b[34m  # singular endpoints (real):      0 (0)\u001b[39m\u001b[K\r\n",
      "\u001b[34m  # total solutions (real):         6 (0)\u001b[39m\u001b[K\r\u001b[A\r\u001b[A\r\u001b[A\r\u001b[A"
     ]
    },
    {
     "name": "stdout",
     "output_type": "stream",
     "text": [
      "\n",
      "\n",
      "\n",
      "\n",
      "\r\u001b[K\u001b[A\r\u001b[K\u001b[A\r\u001b[K\u001b[A\r\u001b[K\u001b[A\r\u001b[32mTracking 436 paths...  41%|████████████                 |  ETA: 0:00:44\u001b[39m\u001b[K\r\n",
      "\u001b[34m  # paths tracked:                  177\u001b[39m\u001b[K\r\n",
      "\u001b[34m  # non-singular solutions (real):  6 (0)\u001b[39m\u001b[K\r\n",
      "\u001b[34m  # singular endpoints (real):      0 (0)\u001b[39m\u001b[K\r\n",
      "\u001b[34m  # total solutions (real):         6 (0)\u001b[39m\u001b[K\r\u001b[A\r\u001b[A\r\u001b[A\r\u001b[A"
     ]
    },
    {
     "name": "stdout",
     "output_type": "stream",
     "text": [
      "\n",
      "\n",
      "\n",
      "\n",
      "\r\u001b[K\u001b[A\r\u001b[K\u001b[A\r\u001b[K\u001b[A\r\u001b[K\u001b[A\r\u001b[32mTracking 436 paths...  42%|█████████████                |  ETA: 0:00:42\u001b[39m\u001b[K\r\n",
      "\u001b[34m  # paths tracked:                  184\u001b[39m\u001b[K\r\n",
      "\u001b[34m  # non-singular solutions (real):  6 (0)\u001b[39m\u001b[K\r\n",
      "\u001b[34m  # singular endpoints (real):      0 (0)\u001b[39m\u001b[K\r\n",
      "\u001b[34m  # total solutions (real):         6 (0)\u001b[39m\u001b[K\r\u001b[A\r\u001b[A\r\u001b[A\r\u001b[A"
     ]
    },
    {
     "name": "stdout",
     "output_type": "stream",
     "text": [
      "\n",
      "\n",
      "\n",
      "\n",
      "\r\u001b[K\u001b[A\r\u001b[K\u001b[A\r\u001b[K\u001b[A\r\u001b[K\u001b[A\r\u001b[32mTracking 436 paths...  44%|█████████████                |  ETA: 0:00:40\u001b[39m\u001b[K\r\n",
      "\u001b[34m  # paths tracked:                  190\u001b[39m\u001b[K\r\n",
      "\u001b[34m  # non-singular solutions (real):  6 (0)\u001b[39m\u001b[K\r\n",
      "\u001b[34m  # singular endpoints (real):      0 (0)\u001b[39m\u001b[K\r\n",
      "\u001b[34m  # total solutions (real):         6 (0)\u001b[39m\u001b[K\r\u001b[A\r\u001b[A\r\u001b[A\r\u001b[A"
     ]
    },
    {
     "name": "stdout",
     "output_type": "stream",
     "text": [
      "\n",
      "\n",
      "\n",
      "\n",
      "\r\u001b[K\u001b[A\r\u001b[K\u001b[A\r\u001b[K\u001b[A\r\u001b[K\u001b[A\r\u001b[32mTracking 436 paths...  45%|█████████████                |  ETA: 0:00:38\u001b[39m\u001b[K\r\n",
      "\u001b[34m  # paths tracked:                  195\u001b[39m\u001b[K\r\n",
      "\u001b[34m  # non-singular solutions (real):  6 (0)\u001b[39m\u001b[K\r\n",
      "\u001b[34m  # singular endpoints (real):      0 (0)\u001b[39m\u001b[K\r\n",
      "\u001b[34m  # total solutions (real):         6 (0)\u001b[39m\u001b[K\r\u001b[A\r\u001b[A\r\u001b[A\r\u001b[A"
     ]
    },
    {
     "name": "stdout",
     "output_type": "stream",
     "text": [
      "\n",
      "\n",
      "\n",
      "\n",
      "\r\u001b[K\u001b[A\r\u001b[K\u001b[A\r\u001b[K\u001b[A\r\u001b[K\u001b[A\r\u001b[32mTracking 436 paths...  46%|██████████████               |  ETA: 0:00:37\u001b[39m\u001b[K\r\n",
      "\u001b[34m  # paths tracked:                  200\u001b[39m\u001b[K\r\n",
      "\u001b[34m  # non-singular solutions (real):  8 (0)\u001b[39m\u001b[K\r\n",
      "\u001b[34m  # singular endpoints (real):      0 (0)\u001b[39m\u001b[K\r\n",
      "\u001b[34m  # total solutions (real):         8 (0)\u001b[39m\u001b[K\r\u001b[A\r\u001b[A\r\u001b[A\r\u001b[A"
     ]
    },
    {
     "name": "stdout",
     "output_type": "stream",
     "text": [
      "\n",
      "\n",
      "\n",
      "\n",
      "\r\u001b[K\u001b[A\r\u001b[K\u001b[A\r\u001b[K\u001b[A\r\u001b[K\u001b[A\r\u001b[32mTracking 436 paths...  47%|██████████████               |  ETA: 0:00:35\u001b[39m\u001b[K\r\n",
      "\u001b[34m  # paths tracked:                  206\u001b[39m\u001b[K\r\n",
      "\u001b[34m  # non-singular solutions (real):  8 (0)\u001b[39m\u001b[K\r\n",
      "\u001b[34m  # singular endpoints (real):      0 (0)\u001b[39m\u001b[K\r\n",
      "\u001b[34m  # total solutions (real):         8 (0)\u001b[39m\u001b[K\r\u001b[A\r\u001b[A\r\u001b[A\r\u001b[A"
     ]
    },
    {
     "name": "stdout",
     "output_type": "stream",
     "text": [
      "\n",
      "\n",
      "\n",
      "\n",
      "\r\u001b[K\u001b[A\r\u001b[K\u001b[A\r\u001b[K\u001b[A\r\u001b[K\u001b[A\r\u001b[32mTracking 436 paths...  48%|██████████████               |  ETA: 0:00:34\u001b[39m\u001b[K\r\n",
      "\u001b[34m  # paths tracked:                  210\u001b[39m\u001b[K\r\n",
      "\u001b[34m  # non-singular solutions (real):  8 (0)\u001b[39m\u001b[K\r\n",
      "\u001b[34m  # singular endpoints (real):      0 (0)\u001b[39m\u001b[K\r\n",
      "\u001b[34m  # total solutions (real):         8 (0)\u001b[39m\u001b[K\r\u001b[A\r\u001b[A\r\u001b[A\r\u001b[A"
     ]
    },
    {
     "name": "stdout",
     "output_type": "stream",
     "text": [
      "\n",
      "\n",
      "\n",
      "\n",
      "\r\u001b[K\u001b[A\r\u001b[K\u001b[A\r\u001b[K\u001b[A\r\u001b[K\u001b[A\r\u001b[32mTracking 436 paths...  49%|███████████████              |  ETA: 0:00:33\u001b[39m\u001b[K\r\n",
      "\u001b[34m  # paths tracked:                  215\u001b[39m\u001b[K\r\n",
      "\u001b[34m  # non-singular solutions (real):  8 (0)\u001b[39m\u001b[K\r\n",
      "\u001b[34m  # singular endpoints (real):      0 (0)\u001b[39m\u001b[K\r\n",
      "\u001b[34m  # total solutions (real):         8 (0)\u001b[39m\u001b[K\r\u001b[A\r\u001b[A\r\u001b[A\r\u001b[A"
     ]
    },
    {
     "name": "stdout",
     "output_type": "stream",
     "text": [
      "\n",
      "\n",
      "\n",
      "\n",
      "\r\u001b[K\u001b[A\r\u001b[K\u001b[A\r\u001b[K\u001b[A\r\u001b[K\u001b[A\r\u001b[32mTracking 436 paths...  50%|███████████████              |  ETA: 0:00:32\u001b[39m\u001b[K\r\n",
      "\u001b[34m  # paths tracked:                  220\u001b[39m\u001b[K\r\n",
      "\u001b[34m  # non-singular solutions (real):  8 (0)\u001b[39m\u001b[K\r\n",
      "\u001b[34m  # singular endpoints (real):      0 (0)\u001b[39m\u001b[K\r\n",
      "\u001b[34m  # total solutions (real):         8 (0)\u001b[39m\u001b[K\r\u001b[A\r\u001b[A\r\u001b[A\r\u001b[A"
     ]
    },
    {
     "name": "stdout",
     "output_type": "stream",
     "text": [
      "\n",
      "\n",
      "\n",
      "\n",
      "\r\u001b[K\u001b[A\r\u001b[K\u001b[A\r\u001b[K\u001b[A\r\u001b[K\u001b[A\r\u001b[32mTracking 436 paths...  52%|███████████████              |  ETA: 0:00:30\u001b[39m\u001b[K\r\n",
      "\u001b[34m  # paths tracked:                  225\u001b[39m\u001b[K\r\n",
      "\u001b[34m  # non-singular solutions (real):  8 (0)\u001b[39m\u001b[K\r\n",
      "\u001b[34m  # singular endpoints (real):      0 (0)\u001b[39m\u001b[K\r\n",
      "\u001b[34m  # total solutions (real):         8 (0)\u001b[39m\u001b[K\r\u001b[A\r\u001b[A\r\u001b[A\r\u001b[A"
     ]
    },
    {
     "name": "stdout",
     "output_type": "stream",
     "text": [
      "\n",
      "\n",
      "\n",
      "\n",
      "\r\u001b[K\u001b[A\r\u001b[K\u001b[A\r\u001b[K\u001b[A\r\u001b[K\u001b[A\r\u001b[32mTracking 436 paths...  53%|████████████████             |  ETA: 0:00:29\u001b[39m\u001b[K\r\n",
      "\u001b[34m  # paths tracked:                  230\u001b[39m\u001b[K\r\n",
      "\u001b[34m  # non-singular solutions (real):  8 (0)\u001b[39m\u001b[K\r\n",
      "\u001b[34m  # singular endpoints (real):      0 (0)\u001b[39m\u001b[K\r\n",
      "\u001b[34m  # total solutions (real):         8 (0)\u001b[39m\u001b[K\r\u001b[A\r\u001b[A\r\u001b[A\r\u001b[A"
     ]
    },
    {
     "name": "stdout",
     "output_type": "stream",
     "text": [
      "\n",
      "\n",
      "\n",
      "\n",
      "\r\u001b[K\u001b[A\r\u001b[K\u001b[A\r\u001b[K\u001b[A\r\u001b[K\u001b[A\r\u001b[32mTracking 436 paths...  53%|████████████████             |  ETA: 0:00:29\u001b[39m\u001b[K\r\n",
      "\u001b[34m  # paths tracked:                  233\u001b[39m\u001b[K\r\n",
      "\u001b[34m  # non-singular solutions (real):  8 (0)\u001b[39m\u001b[K\r\n",
      "\u001b[34m  # singular endpoints (real):      0 (0)\u001b[39m\u001b[K\r\n",
      "\u001b[34m  # total solutions (real):         8 (0)\u001b[39m\u001b[K\r\u001b[A\r\u001b[A\r\u001b[A\r\u001b[A"
     ]
    },
    {
     "name": "stdout",
     "output_type": "stream",
     "text": [
      "\n",
      "\n",
      "\n",
      "\n",
      "\r\u001b[K\u001b[A\r\u001b[K\u001b[A\r\u001b[K\u001b[A\r\u001b[K\u001b[A\r\u001b[32mTracking 436 paths...  54%|████████████████             |  ETA: 0:00:28\u001b[39m\u001b[K\r\n",
      "\u001b[34m  # paths tracked:                  236\u001b[39m\u001b[K\r\n",
      "\u001b[34m  # non-singular solutions (real):  8 (0)\u001b[39m\u001b[K\r\n",
      "\u001b[34m  # singular endpoints (real):      0 (0)\u001b[39m\u001b[K\r\n",
      "\u001b[34m  # total solutions (real):         8 (0)\u001b[39m\u001b[K\r\u001b[A\r\u001b[A\r\u001b[A\r\u001b[A"
     ]
    },
    {
     "name": "stdout",
     "output_type": "stream",
     "text": [
      "\n",
      "\n",
      "\n",
      "\n",
      "\r\u001b[K\u001b[A\r\u001b[K\u001b[A\r\u001b[K\u001b[A\r\u001b[K\u001b[A\r\u001b[32mTracking 436 paths...  55%|████████████████             |  ETA: 0:00:27\u001b[39m\u001b[K\r\n",
      "\u001b[34m  # paths tracked:                  240\u001b[39m\u001b[K\r\n",
      "\u001b[34m  # non-singular solutions (real):  8 (0)\u001b[39m\u001b[K\r\n",
      "\u001b[34m  # singular endpoints (real):      0 (0)\u001b[39m\u001b[K\r\n",
      "\u001b[34m  # total solutions (real):         8 (0)\u001b[39m\u001b[K\r\u001b[A\r\u001b[A\r\u001b[A\r\u001b[A"
     ]
    },
    {
     "name": "stdout",
     "output_type": "stream",
     "text": [
      "\n",
      "\n",
      "\n",
      "\n",
      "\r\u001b[K\u001b[A\r\u001b[K\u001b[A\r\u001b[K\u001b[A\r\u001b[K\u001b[A\r\u001b[32mTracking 436 paths...  56%|█████████████████            |  ETA: 0:00:26\u001b[39m\u001b[K\r\n",
      "\u001b[34m  # paths tracked:                  246\u001b[39m\u001b[K\r\n",
      "\u001b[34m  # non-singular solutions (real):  8 (0)\u001b[39m\u001b[K\r\n",
      "\u001b[34m  # singular endpoints (real):      0 (0)\u001b[39m\u001b[K\r\n",
      "\u001b[34m  # total solutions (real):         8 (0)\u001b[39m\u001b[K\r\u001b[A\r\u001b[A\r\u001b[A\r\u001b[A"
     ]
    },
    {
     "name": "stdout",
     "output_type": "stream",
     "text": [
      "\n",
      "\n",
      "\n",
      "\n",
      "\r\u001b[K\u001b[A\r\u001b[K\u001b[A\r\u001b[K\u001b[A\r\u001b[K\u001b[A\r\u001b[32mTracking 436 paths...  58%|█████████████████            |  ETA: 0:00:25\u001b[39m\u001b[K\r\n",
      "\u001b[34m  # paths tracked:                  251\u001b[39m\u001b[K\r\n",
      "\u001b[34m  # non-singular solutions (real):  8 (0)\u001b[39m\u001b[K\r\n",
      "\u001b[34m  # singular endpoints (real):      0 (0)\u001b[39m\u001b[K\r\n",
      "\u001b[34m  # total solutions (real):         8 (0)\u001b[39m\u001b[K\r\u001b[A\r\u001b[A\r\u001b[A\r\u001b[A"
     ]
    },
    {
     "name": "stdout",
     "output_type": "stream",
     "text": [
      "\n",
      "\n",
      "\n",
      "\n",
      "\r\u001b[K\u001b[A\r\u001b[K\u001b[A\r\u001b[K\u001b[A\r\u001b[K\u001b[A\r\u001b[32mTracking 436 paths...  59%|██████████████████           |  ETA: 0:00:24\u001b[39m\u001b[K\r\n",
      "\u001b[34m  # paths tracked:                  256\u001b[39m\u001b[K\r\n",
      "\u001b[34m  # non-singular solutions (real):  8 (0)\u001b[39m\u001b[K\r\n",
      "\u001b[34m  # singular endpoints (real):      0 (0)\u001b[39m\u001b[K\r\n",
      "\u001b[34m  # total solutions (real):         8 (0)\u001b[39m\u001b[K\r\u001b[A\r\u001b[A\r\u001b[A\r\u001b[A"
     ]
    },
    {
     "name": "stdout",
     "output_type": "stream",
     "text": [
      "\n",
      "\n",
      "\n",
      "\n",
      "\r\u001b[K\u001b[A\r\u001b[K\u001b[A\r\u001b[K\u001b[A\r\u001b[K\u001b[A\r\u001b[32mTracking 436 paths...  60%|██████████████████           |  ETA: 0:00:23\u001b[39m\u001b[K\r\n",
      "\u001b[34m  # paths tracked:                  261\u001b[39m\u001b[K\r\n",
      "\u001b[34m  # non-singular solutions (real):  8 (0)\u001b[39m\u001b[K\r\n",
      "\u001b[34m  # singular endpoints (real):      0 (0)\u001b[39m\u001b[K\r\n",
      "\u001b[34m  # total solutions (real):         8 (0)\u001b[39m\u001b[K\r\u001b[A\r\u001b[A\r\u001b[A\r\u001b[A"
     ]
    },
    {
     "name": "stdout",
     "output_type": "stream",
     "text": [
      "\n",
      "\n",
      "\n",
      "\n",
      "\r\u001b[K\u001b[A\r\u001b[K\u001b[A\r\u001b[K\u001b[A\r\u001b[K\u001b[A\r\u001b[32mTracking 436 paths...  61%|██████████████████           |  ETA: 0:00:22\u001b[39m\u001b[K\r\n",
      "\u001b[34m  # paths tracked:                  267\u001b[39m\u001b[K\r\n",
      "\u001b[34m  # non-singular solutions (real):  9 (0)\u001b[39m\u001b[K\r\n",
      "\u001b[34m  # singular endpoints (real):      0 (0)\u001b[39m\u001b[K\r\n",
      "\u001b[34m  # total solutions (real):         9 (0)\u001b[39m\u001b[K\r\u001b[A\r\u001b[A\r\u001b[A\r\u001b[A"
     ]
    },
    {
     "name": "stdout",
     "output_type": "stream",
     "text": [
      "\n",
      "\n",
      "\n",
      "\n",
      "\r\u001b[K\u001b[A\r\u001b[K\u001b[A\r\u001b[K\u001b[A\r\u001b[K\u001b[A\r\u001b[32mTracking 436 paths...  62%|███████████████████          |  ETA: 0:00:21\u001b[39m\u001b[K\r\n",
      "\u001b[34m  # paths tracked:                  272\u001b[39m\u001b[K\r\n",
      "\u001b[34m  # non-singular solutions (real):  9 (0)\u001b[39m\u001b[K\r\n",
      "\u001b[34m  # singular endpoints (real):      0 (0)\u001b[39m\u001b[K\r\n",
      "\u001b[34m  # total solutions (real):         9 (0)\u001b[39m\u001b[K\r\u001b[A\r\u001b[A\r\u001b[A\r\u001b[A"
     ]
    },
    {
     "name": "stdout",
     "output_type": "stream",
     "text": [
      "\n",
      "\n",
      "\n",
      "\n",
      "\r\u001b[K\u001b[A\r\u001b[K\u001b[A\r\u001b[K\u001b[A\r\u001b[K\u001b[A\r\u001b[32mTracking 436 paths...  64%|███████████████████          |  ETA: 0:00:20\u001b[39m\u001b[K\r\n",
      "\u001b[34m  # paths tracked:                  278\u001b[39m\u001b[K\r\n",
      "\u001b[34m  # non-singular solutions (real):  9 (0)\u001b[39m\u001b[K\r\n",
      "\u001b[34m  # singular endpoints (real):      0 (0)\u001b[39m\u001b[K\r\n",
      "\u001b[34m  # total solutions (real):         9 (0)\u001b[39m\u001b[K\r\u001b[A\r\u001b[A\r\u001b[A\r\u001b[A"
     ]
    },
    {
     "name": "stdout",
     "output_type": "stream",
     "text": [
      "\n",
      "\n",
      "\n",
      "\n",
      "\r\u001b[K\u001b[A\r\u001b[K\u001b[A\r\u001b[K\u001b[A\r\u001b[K\u001b[A\r\u001b[32mTracking 436 paths...  65%|███████████████████          |  ETA: 0:00:19\u001b[39m\u001b[K\r\n",
      "\u001b[34m  # paths tracked:                  284\u001b[39m\u001b[K\r\n",
      "\u001b[34m  # non-singular solutions (real):  9 (0)\u001b[39m\u001b[K\r\n",
      "\u001b[34m  # singular endpoints (real):      0 (0)\u001b[39m\u001b[K\r\n",
      "\u001b[34m  # total solutions (real):         9 (0)\u001b[39m\u001b[K\r\u001b[A\r\u001b[A\r\u001b[A\r\u001b[A"
     ]
    },
    {
     "name": "stdout",
     "output_type": "stream",
     "text": [
      "\n",
      "\n",
      "\n",
      "\n",
      "\r\u001b[K\u001b[A\r\u001b[K\u001b[A\r\u001b[K\u001b[A\r\u001b[K\u001b[A\r\u001b[32mTracking 436 paths...  66%|████████████████████         |  ETA: 0:00:18\u001b[39m\u001b[K\r\n",
      "\u001b[34m  # paths tracked:                  289\u001b[39m\u001b[K\r\n",
      "\u001b[34m  # non-singular solutions (real):  9 (0)\u001b[39m\u001b[K\r\n",
      "\u001b[34m  # singular endpoints (real):      0 (0)\u001b[39m\u001b[K\r\n",
      "\u001b[34m  # total solutions (real):         9 (0)\u001b[39m\u001b[K\r\u001b[A\r\u001b[A\r\u001b[A\r\u001b[A"
     ]
    },
    {
     "name": "stdout",
     "output_type": "stream",
     "text": [
      "\n",
      "\n",
      "\n",
      "\n",
      "\r\u001b[K\u001b[A\r\u001b[K\u001b[A\r\u001b[K\u001b[A\r\u001b[K\u001b[A\r\u001b[32mTracking 436 paths...  67%|████████████████████         |  ETA: 0:00:17\u001b[39m\u001b[K\r\n",
      "\u001b[34m  # paths tracked:                  294\u001b[39m\u001b[K\r\n",
      "\u001b[34m  # non-singular solutions (real):  9 (0)\u001b[39m\u001b[K\r\n",
      "\u001b[34m  # singular endpoints (real):      0 (0)\u001b[39m\u001b[K\r\n",
      "\u001b[34m  # total solutions (real):         9 (0)\u001b[39m\u001b[K\r\u001b[A\r\u001b[A\r\u001b[A\r\u001b[A"
     ]
    },
    {
     "name": "stdout",
     "output_type": "stream",
     "text": [
      "\n",
      "\n",
      "\n",
      "\n",
      "\r\u001b[K\u001b[A\r\u001b[K\u001b[A\r\u001b[K\u001b[A\r\u001b[K\u001b[A\r\u001b[32mTracking 436 paths...  69%|████████████████████         |  ETA: 0:00:17\u001b[39m\u001b[K\r\n",
      "\u001b[34m  # paths tracked:                  300\u001b[39m\u001b[K\r\n",
      "\u001b[34m  # non-singular solutions (real):  9 (0)\u001b[39m\u001b[K\r\n",
      "\u001b[34m  # singular endpoints (real):      0 (0)\u001b[39m\u001b[K\r\n",
      "\u001b[34m  # total solutions (real):         9 (0)\u001b[39m\u001b[K\r\u001b[A\r\u001b[A\r\u001b[A\r\u001b[A"
     ]
    },
    {
     "name": "stdout",
     "output_type": "stream",
     "text": [
      "\n",
      "\n",
      "\n",
      "\n",
      "\r\u001b[K\u001b[A\r\u001b[K\u001b[A\r\u001b[K\u001b[A\r\u001b[K\u001b[A\r\u001b[32mTracking 436 paths...  70%|█████████████████████        |  ETA: 0:00:16\u001b[39m\u001b[K\r\n",
      "\u001b[34m  # paths tracked:                  305\u001b[39m\u001b[K\r\n",
      "\u001b[34m  # non-singular solutions (real):  9 (0)\u001b[39m\u001b[K\r\n",
      "\u001b[34m  # singular endpoints (real):      0 (0)\u001b[39m\u001b[K\r\n",
      "\u001b[34m  # total solutions (real):         9 (0)\u001b[39m\u001b[K\r\u001b[A\r\u001b[A\r\u001b[A\r\u001b[A"
     ]
    },
    {
     "name": "stdout",
     "output_type": "stream",
     "text": [
      "\n",
      "\n",
      "\n",
      "\n",
      "\r\u001b[K\u001b[A\r\u001b[K\u001b[A\r\u001b[K\u001b[A\r\u001b[K\u001b[A\r\u001b[32mTracking 436 paths...  71%|█████████████████████        |  ETA: 0:00:15\u001b[39m\u001b[K\r\n",
      "\u001b[34m  # paths tracked:                  311\u001b[39m\u001b[K\r\n",
      "\u001b[34m  # non-singular solutions (real):  9 (0)\u001b[39m\u001b[K\r\n",
      "\u001b[34m  # singular endpoints (real):      0 (0)\u001b[39m\u001b[K\r\n",
      "\u001b[34m  # total solutions (real):         9 (0)\u001b[39m\u001b[K\r\u001b[A\r\u001b[A\r\u001b[A\r\u001b[A"
     ]
    },
    {
     "name": "stdout",
     "output_type": "stream",
     "text": [
      "\n",
      "\n",
      "\n",
      "\n",
      "\r\u001b[K\u001b[A\r\u001b[K\u001b[A\r\u001b[K\u001b[A\r\u001b[K\u001b[A\r\u001b[32mTracking 436 paths...  72%|██████████████████████       |  ETA: 0:00:14\u001b[39m\u001b[K\r\n",
      "\u001b[34m  # paths tracked:                  316\u001b[39m\u001b[K\r\n",
      "\u001b[34m  # non-singular solutions (real):  9 (0)\u001b[39m\u001b[K\r\n",
      "\u001b[34m  # singular endpoints (real):      0 (0)\u001b[39m\u001b[K\r\n",
      "\u001b[34m  # total solutions (real):         9 (0)\u001b[39m\u001b[K\r\u001b[A\r\u001b[A\r\u001b[A\r\u001b[A"
     ]
    },
    {
     "name": "stdout",
     "output_type": "stream",
     "text": [
      "\n",
      "\n",
      "\n",
      "\n",
      "\r\u001b[K\u001b[A\r\u001b[K\u001b[A\r\u001b[K\u001b[A\r\u001b[K\u001b[A\r\u001b[32mTracking 436 paths...  74%|██████████████████████       |  ETA: 0:00:13\u001b[39m\u001b[K\r\n",
      "\u001b[34m  # paths tracked:                  323\u001b[39m\u001b[K\r\n",
      "\u001b[34m  # non-singular solutions (real):  9 (0)\u001b[39m\u001b[K\r\n",
      "\u001b[34m  # singular endpoints (real):      0 (0)\u001b[39m\u001b[K\r\n",
      "\u001b[34m  # total solutions (real):         9 (0)\u001b[39m\u001b[K\r\u001b[A\r\u001b[A\r\u001b[A\r\u001b[A"
     ]
    },
    {
     "name": "stdout",
     "output_type": "stream",
     "text": [
      "\n",
      "\n",
      "\n",
      "\n",
      "\r\u001b[K\u001b[A\r\u001b[K\u001b[A\r\u001b[K\u001b[A\r\u001b[K\u001b[A\r\u001b[32mTracking 436 paths...  75%|██████████████████████       |  ETA: 0:00:12\u001b[39m\u001b[K\r\n",
      "\u001b[34m  # paths tracked:                  328\u001b[39m\u001b[K\r\n",
      "\u001b[34m  # non-singular solutions (real):  9 (0)\u001b[39m\u001b[K\r\n",
      "\u001b[34m  # singular endpoints (real):      0 (0)\u001b[39m\u001b[K\r\n",
      "\u001b[34m  # total solutions (real):         9 (0)\u001b[39m\u001b[K\r\u001b[A\r\u001b[A\r\u001b[A\r\u001b[A"
     ]
    },
    {
     "name": "stdout",
     "output_type": "stream",
     "text": [
      "\n",
      "\n",
      "\n",
      "\n",
      "\r\u001b[K\u001b[A\r\u001b[K\u001b[A\r\u001b[K\u001b[A\r\u001b[K\u001b[A\r\u001b[32mTracking 436 paths...  76%|███████████████████████      |  ETA: 0:00:12\u001b[39m\u001b[K\r\n",
      "\u001b[34m  # paths tracked:                  333\u001b[39m\u001b[K\r\n",
      "\u001b[34m  # non-singular solutions (real):  9 (0)\u001b[39m\u001b[K\r\n",
      "\u001b[34m  # singular endpoints (real):      0 (0)\u001b[39m\u001b[K\r\n",
      "\u001b[34m  # total solutions (real):         9 (0)\u001b[39m\u001b[K\r\u001b[A\r\u001b[A\r\u001b[A\r\u001b[A"
     ]
    },
    {
     "name": "stdout",
     "output_type": "stream",
     "text": [
      "\n",
      "\n",
      "\n",
      "\n",
      "\r\u001b[K\u001b[A\r\u001b[K\u001b[A\r\u001b[K\u001b[A\r\u001b[K\u001b[A\r\u001b[32mTracking 436 paths...  78%|███████████████████████      |  ETA: 0:00:11\u001b[39m\u001b[K\r\n",
      "\u001b[34m  # paths tracked:                  338\u001b[39m\u001b[K\r\n",
      "\u001b[34m  # non-singular solutions (real):  9 (0)\u001b[39m\u001b[K\r\n",
      "\u001b[34m  # singular endpoints (real):      0 (0)\u001b[39m\u001b[K\r\n",
      "\u001b[34m  # total solutions (real):         9 (0)\u001b[39m\u001b[K\r\u001b[A\r\u001b[A\r\u001b[A\r\u001b[A"
     ]
    },
    {
     "name": "stdout",
     "output_type": "stream",
     "text": [
      "\n",
      "\n",
      "\n",
      "\n",
      "\r\u001b[K\u001b[A\r\u001b[K\u001b[A\r\u001b[K\u001b[A\r\u001b[K\u001b[A\r\u001b[32mTracking 436 paths...  79%|███████████████████████      |  ETA: 0:00:10\u001b[39m\u001b[K\r\n",
      "\u001b[34m  # paths tracked:                  343\u001b[39m\u001b[K\r\n",
      "\u001b[34m  # non-singular solutions (real):  10 (0)\u001b[39m\u001b[K\r\n",
      "\u001b[34m  # singular endpoints (real):      0 (0)\u001b[39m\u001b[K\r\n",
      "\u001b[34m  # total solutions (real):         10 (0)\u001b[39m\u001b[K\r\u001b[A\r\u001b[A\r\u001b[A\r\u001b[A"
     ]
    },
    {
     "name": "stdout",
     "output_type": "stream",
     "text": [
      "\n",
      "\n",
      "\n",
      "\n",
      "\r\u001b[K\u001b[A\r\u001b[K\u001b[A\r\u001b[K\u001b[A\r\u001b[K\u001b[A\r\u001b[32mTracking 436 paths...  80%|████████████████████████     |  ETA: 0:00:10\u001b[39m\u001b[K\r\n",
      "\u001b[34m  # paths tracked:                  348\u001b[39m\u001b[K\r\n",
      "\u001b[34m  # non-singular solutions (real):  10 (0)\u001b[39m\u001b[K\r\n",
      "\u001b[34m  # singular endpoints (real):      0 (0)\u001b[39m\u001b[K\r\n",
      "\u001b[34m  # total solutions (real):         10 (0)\u001b[39m\u001b[K\r\u001b[A\r\u001b[A\r\u001b[A\r\u001b[A"
     ]
    },
    {
     "name": "stdout",
     "output_type": "stream",
     "text": [
      "\n",
      "\n",
      "\n",
      "\n",
      "\r\u001b[K\u001b[A\r\u001b[K\u001b[A\r\u001b[K\u001b[A\r\u001b[K\u001b[A\r\u001b[32mTracking 436 paths...  81%|████████████████████████     |  ETA: 0:00:09\u001b[39m\u001b[K\r\n",
      "\u001b[34m  # paths tracked:                  353\u001b[39m\u001b[K\r\n",
      "\u001b[34m  # non-singular solutions (real):  10 (0)\u001b[39m\u001b[K\r\n",
      "\u001b[34m  # singular endpoints (real):      0 (0)\u001b[39m\u001b[K\r\n",
      "\u001b[34m  # total solutions (real):         10 (0)\u001b[39m\u001b[K\r\u001b[A\r\u001b[A\r\u001b[A\r\u001b[A"
     ]
    },
    {
     "name": "stdout",
     "output_type": "stream",
     "text": [
      "\n",
      "\n",
      "\n",
      "\n",
      "\r\u001b[K\u001b[A\r\u001b[K\u001b[A\r\u001b[K\u001b[A\r\u001b[K\u001b[A\r\u001b[32mTracking 436 paths...  82%|████████████████████████     |  ETA: 0:00:09\u001b[39m\u001b[K\r\n",
      "\u001b[34m  # paths tracked:                  357\u001b[39m\u001b[K\r\n",
      "\u001b[34m  # non-singular solutions (real):  10 (0)\u001b[39m\u001b[K\r\n",
      "\u001b[34m  # singular endpoints (real):      0 (0)\u001b[39m\u001b[K\r\n",
      "\u001b[34m  # total solutions (real):         10 (0)\u001b[39m\u001b[K\r\u001b[A\r\u001b[A\r\u001b[A\r\u001b[A"
     ]
    },
    {
     "name": "stdout",
     "output_type": "stream",
     "text": [
      "\n",
      "\n",
      "\n",
      "\n",
      "\r\u001b[K\u001b[A\r\u001b[K\u001b[A\r\u001b[K\u001b[A\r\u001b[K\u001b[A\r\u001b[32mTracking 436 paths...  83%|█████████████████████████    |  ETA: 0:00:08\u001b[39m\u001b[K\r\n",
      "\u001b[34m  # paths tracked:                  362\u001b[39m\u001b[K\r\n",
      "\u001b[34m  # non-singular solutions (real):  10 (0)\u001b[39m\u001b[K\r\n",
      "\u001b[34m  # singular endpoints (real):      0 (0)\u001b[39m\u001b[K\r\n",
      "\u001b[34m  # total solutions (real):         10 (0)\u001b[39m\u001b[K\r\u001b[A\r\u001b[A\r\u001b[A\r\u001b[A"
     ]
    },
    {
     "name": "stdout",
     "output_type": "stream",
     "text": [
      "\n",
      "\n",
      "\n",
      "\n",
      "\r\u001b[K\u001b[A\r\u001b[K\u001b[A\r\u001b[K\u001b[A\r\u001b[K\u001b[A\r\u001b[32mTracking 436 paths...  84%|█████████████████████████    |  ETA: 0:00:07\u001b[39m\u001b[K\r\n",
      "\u001b[34m  # paths tracked:                  367\u001b[39m\u001b[K\r\n",
      "\u001b[34m  # non-singular solutions (real):  10 (0)\u001b[39m\u001b[K\r\n",
      "\u001b[34m  # singular endpoints (real):      0 (0)\u001b[39m\u001b[K\r\n",
      "\u001b[34m  # total solutions (real):         10 (0)\u001b[39m\u001b[K\r\u001b[A\r\u001b[A\r\u001b[A\r\u001b[A"
     ]
    },
    {
     "name": "stdout",
     "output_type": "stream",
     "text": [
      "\n",
      "\n",
      "\n",
      "\n",
      "\r\u001b[K\u001b[A\r\u001b[K\u001b[A\r\u001b[K\u001b[A\r\u001b[K\u001b[A\r\u001b[32mTracking 436 paths...  85%|█████████████████████████    |  ETA: 0:00:07\u001b[39m\u001b[K\r\n",
      "\u001b[34m  # paths tracked:                  372\u001b[39m\u001b[K\r\n",
      "\u001b[34m  # non-singular solutions (real):  11 (0)\u001b[39m\u001b[K\r\n",
      "\u001b[34m  # singular endpoints (real):      0 (0)\u001b[39m\u001b[K\r\n",
      "\u001b[34m  # total solutions (real):         11 (0)\u001b[39m\u001b[K\r\u001b[A\r\u001b[A\r\u001b[A\r\u001b[A"
     ]
    },
    {
     "name": "stdout",
     "output_type": "stream",
     "text": [
      "\n",
      "\n",
      "\n",
      "\n",
      "\r\u001b[K\u001b[A\r\u001b[K\u001b[A\r\u001b[K\u001b[A\r\u001b[K\u001b[A\r\u001b[32mTracking 436 paths...  86%|██████████████████████████   |  ETA: 0:00:06\u001b[39m\u001b[K\r\n",
      "\u001b[34m  # paths tracked:                  377\u001b[39m\u001b[K\r\n",
      "\u001b[34m  # non-singular solutions (real):  11 (0)\u001b[39m\u001b[K\r\n",
      "\u001b[34m  # singular endpoints (real):      0 (0)\u001b[39m\u001b[K\r\n",
      "\u001b[34m  # total solutions (real):         11 (0)\u001b[39m\u001b[K\r\u001b[A\r\u001b[A\r\u001b[A\r\u001b[A"
     ]
    },
    {
     "name": "stdout",
     "output_type": "stream",
     "text": [
      "\n",
      "\n",
      "\n",
      "\n",
      "\r\u001b[K\u001b[A\r\u001b[K\u001b[A\r\u001b[K\u001b[A\r\u001b[K\u001b[A\r\u001b[32mTracking 436 paths...  88%|██████████████████████████   |  ETA: 0:00:06\u001b[39m\u001b[K\r\n",
      "\u001b[34m  # paths tracked:                  383\u001b[39m\u001b[K\r\n",
      "\u001b[34m  # non-singular solutions (real):  11 (0)\u001b[39m\u001b[K\r\n",
      "\u001b[34m  # singular endpoints (real):      0 (0)\u001b[39m\u001b[K\r\n",
      "\u001b[34m  # total solutions (real):         11 (0)\u001b[39m\u001b[K\r\u001b[A\r\u001b[A\r\u001b[A\r\u001b[A"
     ]
    },
    {
     "name": "stdout",
     "output_type": "stream",
     "text": [
      "\n",
      "\n",
      "\n",
      "\n",
      "\r\u001b[K\u001b[A\r\u001b[K\u001b[A\r\u001b[K\u001b[A\r\u001b[K\u001b[A\r\u001b[32mTracking 436 paths...  89%|██████████████████████████   |  ETA: 0:00:05\u001b[39m\u001b[K\r\n",
      "\u001b[34m  # paths tracked:                  388\u001b[39m\u001b[K\r\n",
      "\u001b[34m  # non-singular solutions (real):  11 (0)\u001b[39m\u001b[K\r\n",
      "\u001b[34m  # singular endpoints (real):      0 (0)\u001b[39m\u001b[K\r\n",
      "\u001b[34m  # total solutions (real):         11 (0)\u001b[39m\u001b[K\r\u001b[A\r\u001b[A\r\u001b[A\r\u001b[A"
     ]
    },
    {
     "name": "stdout",
     "output_type": "stream",
     "text": [
      "\n",
      "\n",
      "\n",
      "\n",
      "\r\u001b[K\u001b[A\r\u001b[K\u001b[A\r\u001b[K\u001b[A\r\u001b[K\u001b[A\r\u001b[32mTracking 436 paths...  91%|███████████████████████████  |  ETA: 0:00:04\u001b[39m\u001b[K\r\n",
      "\u001b[34m  # paths tracked:                  396\u001b[39m\u001b[K\r\n",
      "\u001b[34m  # non-singular solutions (real):  11 (0)\u001b[39m\u001b[K\r\n",
      "\u001b[34m  # singular endpoints (real):      0 (0)\u001b[39m\u001b[K\r\n",
      "\u001b[34m  # total solutions (real):         11 (0)\u001b[39m\u001b[K\r\u001b[A\r\u001b[A\r\u001b[A\r\u001b[A"
     ]
    },
    {
     "name": "stdout",
     "output_type": "stream",
     "text": [
      "\n",
      "\n",
      "\n",
      "\n",
      "\r\u001b[K\u001b[A\r\u001b[K\u001b[A\r\u001b[K\u001b[A\r\u001b[K\u001b[A\r\u001b[32mTracking 436 paths...  92%|███████████████████████████  |  ETA: 0:00:04\u001b[39m\u001b[K\r\n",
      "\u001b[34m  # paths tracked:                  401\u001b[39m\u001b[K\r\n",
      "\u001b[34m  # non-singular solutions (real):  11 (0)\u001b[39m\u001b[K\r\n",
      "\u001b[34m  # singular endpoints (real):      0 (0)\u001b[39m\u001b[K\r\n",
      "\u001b[34m  # total solutions (real):         11 (0)\u001b[39m\u001b[K\r\u001b[A\r\u001b[A\r\u001b[A\r\u001b[A"
     ]
    },
    {
     "name": "stdout",
     "output_type": "stream",
     "text": [
      "\n",
      "\n",
      "\n",
      "\n",
      "\r\u001b[K\u001b[A\r\u001b[K\u001b[A\r\u001b[K\u001b[A\r\u001b[K\u001b[A\r\u001b[32mTracking 436 paths...  94%|████████████████████████████ |  ETA: 0:00:03\u001b[39m\u001b[K\r\n",
      "\u001b[34m  # paths tracked:                  408\u001b[39m\u001b[K\r\n",
      "\u001b[34m  # non-singular solutions (real):  11 (0)\u001b[39m\u001b[K\r\n",
      "\u001b[34m  # singular endpoints (real):      0 (0)\u001b[39m\u001b[K\r\n",
      "\u001b[34m  # total solutions (real):         11 (0)\u001b[39m\u001b[K\r\u001b[A\r\u001b[A\r\u001b[A\r\u001b[A"
     ]
    },
    {
     "name": "stdout",
     "output_type": "stream",
     "text": [
      "\n",
      "\n",
      "\n",
      "\n",
      "\r\u001b[K\u001b[A\r\u001b[K\u001b[A\r\u001b[K\u001b[A\r\u001b[K\u001b[A\r\u001b[32mTracking 436 paths...  95%|████████████████████████████ |  ETA: 0:00:02\u001b[39m\u001b[K\r\n",
      "\u001b[34m  # paths tracked:                  413\u001b[39m\u001b[K\r\n",
      "\u001b[34m  # non-singular solutions (real):  12 (0)\u001b[39m\u001b[K\r\n",
      "\u001b[34m  # singular endpoints (real):      0 (0)\u001b[39m\u001b[K\r\n",
      "\u001b[34m  # total solutions (real):         12 (0)\u001b[39m\u001b[K\r\u001b[A\r\u001b[A\r\u001b[A\r\u001b[A"
     ]
    },
    {
     "name": "stdout",
     "output_type": "stream",
     "text": [
      "\n",
      "\n",
      "\n",
      "\n",
      "\r\u001b[K\u001b[A\r\u001b[K\u001b[A\r\u001b[K\u001b[A\r\u001b[K\u001b[A\r\u001b[32mTracking 436 paths...  96%|████████████████████████████ |  ETA: 0:00:02\u001b[39m\u001b[K\r\n",
      "\u001b[34m  # paths tracked:                  418\u001b[39m\u001b[K\r\n",
      "\u001b[34m  # non-singular solutions (real):  12 (0)\u001b[39m\u001b[K\r\n",
      "\u001b[34m  # singular endpoints (real):      0 (0)\u001b[39m\u001b[K\r\n",
      "\u001b[34m  # total solutions (real):         12 (0)\u001b[39m\u001b[K\r\u001b[A\r\u001b[A\r\u001b[A\r\u001b[A"
     ]
    },
    {
     "name": "stdout",
     "output_type": "stream",
     "text": [
      "\n",
      "\n",
      "\n",
      "\n",
      "\r\u001b[K\u001b[A\r\u001b[K\u001b[A\r\u001b[K\u001b[A\r\u001b[K\u001b[A\r\u001b[32mTracking 436 paths...  97%|█████████████████████████████|  ETA: 0:00:01\u001b[39m\u001b[K\r\n",
      "\u001b[34m  # paths tracked:                  424\u001b[39m\u001b[K\r\n",
      "\u001b[34m  # non-singular solutions (real):  12 (0)\u001b[39m\u001b[K\r\n",
      "\u001b[34m  # singular endpoints (real):      0 (0)\u001b[39m\u001b[K\r\n",
      "\u001b[34m  # total solutions (real):         12 (0)\u001b[39m\u001b[K\r\u001b[A\r\u001b[A\r\u001b[A\r\u001b[A"
     ]
    },
    {
     "name": "stdout",
     "output_type": "stream",
     "text": [
      "\n",
      "\n",
      "\n",
      "\n",
      "\r\u001b[K\u001b[A\r\u001b[K\u001b[A\r\u001b[K\u001b[A\r\u001b[K\u001b[A\r\u001b[32mTracking 436 paths...  99%|█████████████████████████████|  ETA: 0:00:01\u001b[39m\u001b[K\r\n",
      "\u001b[34m  # paths tracked:                  430\u001b[39m\u001b[K\r\n",
      "\u001b[34m  # non-singular solutions (real):  12 (0)\u001b[39m\u001b[K\r\n",
      "\u001b[34m  # singular endpoints (real):      0 (0)\u001b[39m\u001b[K\r\n",
      "\u001b[34m  # total solutions (real):         12 (0)\u001b[39m\u001b[K\r\u001b[A\r\u001b[A\r\u001b[A\r\u001b[A"
     ]
    },
    {
     "name": "stdout",
     "output_type": "stream",
     "text": [
      "\n",
      "\n",
      "\n",
      "\n",
      "\r\u001b[K\u001b[A\r\u001b[K\u001b[A\r\u001b[K\u001b[A\r\u001b[K\u001b[A\r\u001b[32mTracking 436 paths... 100%|█████████████████████████████|  ETA: 0:00:00\u001b[39m\u001b[K\r\n",
      "\u001b[34m  # paths tracked:                  435\u001b[39m\u001b[K\r\n",
      "\u001b[34m  # non-singular solutions (real):  12 (0)\u001b[39m\u001b[K\r\n",
      "\u001b[34m  # singular endpoints (real):      0 (0)\u001b[39m\u001b[K\r\n",
      "\u001b[34m  # total solutions (real):         12 (0)\u001b[39m\u001b[K\r\u001b[A\r\u001b[A\r\u001b[A\r\u001b[A"
     ]
    },
    {
     "name": "stdout",
     "output_type": "stream",
     "text": [
      "\n",
      "\n",
      "\n",
      "\n",
      "\r\u001b[K\u001b[A\r\u001b[K\u001b[A\r\u001b[K\u001b[A\r\u001b[K\u001b[A\r\u001b[32mTracking 436 paths... 100%|█████████████████████████████| Time: 0:00:43\u001b[39m\u001b[K\r\n",
      "\u001b[34m  # paths tracked:                  436\u001b[39m\u001b[K\r\n",
      "\u001b[34m  # non-singular solutions (real):  12 (0)\u001b[39m\u001b[K\r\n",
      "\u001b[34m  # singular endpoints (real):      0 (0)\u001b[39m\u001b[K\r\n",
      "\u001b[34m  # total solutions (real):         12 (0)\u001b[39m\u001b[K\n"
     ]
    },
    {
     "name": "stdout",
     "output_type": "stream",
     "text": [
      "degree = 12\n"
     ]
    }
   ],
   "source": [
    "dproj = degreeProjection(LE, [α[1:end-1];y], [s;t;M;m]);\n",
    "println(\"degree = $dproj\")"
   ]
  },
  {
   "cell_type": "markdown",
   "id": "2119d23b",
   "metadata": {},
   "source": [
    "One can check this is the projection "
   ]
  },
  {
   "cell_type": "code",
   "execution_count": 23,
   "id": "7a7d2c11",
   "metadata": {},
   "outputs": [
    {
     "name": "stdout",
     "output_type": "stream",
     "text": [
      "\r\u001b[32mSolutions found: 154    Time: 0:00:00\u001b[39m\u001b[K\r\n",
      "\u001b[34m  tracked loops (queued):            193 (115)\u001b[39m\u001b[K\r\n",
      "\u001b[34m  solutions in current (last) loop:  117 (36)\u001b[39m\u001b[K\r\n",
      "\u001b[34m  generated loops (no change):       2 (0)\u001b[39m\u001b[K\r\u001b[A\r\u001b[A\r\u001b[A"
     ]
    },
    {
     "name": "stdout",
     "output_type": "stream",
     "text": [
      "\n",
      "\n",
      "\n",
      "\r\u001b[K\u001b[A\r\u001b[K\u001b[A\r\u001b[K\u001b[A\r\u001b[32mSolutions found: 212    Time: 0:00:01\u001b[39m\u001b[K\r\n",
      "\u001b[34m  tracked loops (queued):            333 (91)\u001b[39m\u001b[K\r\n",
      "\u001b[34m  solutions in current (last) loop:  175 (36)\u001b[39m\u001b[K\r\n",
      "\u001b[34m  generated loops (no change):       2 (0)\u001b[39m\u001b[K\r\u001b[A\r\u001b[A\r\u001b[A"
     ]
    },
    {
     "name": "stdout",
     "output_type": "stream",
     "text": [
      "\n",
      "\n",
      "\n",
      "\r\u001b[K\u001b[A\r\u001b[K\u001b[A\r\u001b[K\u001b[A\r\u001b[32mSolutions found: 227    Time: 0:00:01\u001b[39m\u001b[K\r\n",
      "\u001b[34m  tracked loops (queued):            479 (202)\u001b[39m\u001b[K\r\n",
      "\u001b[34m  solutions in current (last) loop:  0 (190)\u001b[39m\u001b[K\r\n",
      "\u001b[34m  generated loops (no change):       3 (0)\u001b[39m\u001b[K\r\u001b[A\r\u001b[A\r\u001b[A"
     ]
    },
    {
     "name": "stdout",
     "output_type": "stream",
     "text": [
      "\n",
      "\n",
      "\n",
      "\r\u001b[K\u001b[A\r\u001b[K\u001b[A\r\u001b[K\u001b[A\r\u001b[32mSolutions found: 227    Time: 0:00:01\u001b[39m\u001b[K\r\n",
      "\u001b[34m  tracked loops (queued):            628 (53)\u001b[39m\u001b[K\r\n",
      "\u001b[34m  solutions in current (last) loop:  0 (190)\u001b[39m\u001b[K\r\n",
      "\u001b[34m  generated loops (no change):       3 (0)\u001b[39m\u001b[K\r\u001b[A\r\u001b[A\r\u001b[A"
     ]
    },
    {
     "name": "stdout",
     "output_type": "stream",
     "text": [
      "\n",
      "\n",
      "\n",
      "\r\u001b[K\u001b[A\r\u001b[K\u001b[A\r\u001b[K\u001b[A\r\u001b[32mSolutions found: 227    Time: 0:00:02\u001b[39m\u001b[K\r\n",
      "\u001b[34m  tracked loops (queued):            798 (110)\u001b[39m\u001b[K\r\n",
      "\u001b[34m  solutions in current (last) loop:  0 (0)\u001b[39m\u001b[K\r\n",
      "\u001b[34m  generated loops (no change):       4 (1)\u001b[39m\u001b[K\r\u001b[A\r\u001b[A\r\u001b[A"
     ]
    },
    {
     "name": "stdout",
     "output_type": "stream",
     "text": [
      "\n",
      "\n",
      "\n",
      "\r\u001b[K\u001b[A\r\u001b[K\u001b[A\r\u001b[K\u001b[A\r\u001b[32mSolutions found: 227    Time: 0:00:03\u001b[39m\u001b[K\r\n",
      "\u001b[34m  tracked loops (queued):            917 (217)\u001b[39m\u001b[K\r\n",
      "\u001b[34m  solutions in current (last) loop:  0 (0)\u001b[39m\u001b[K\r\n",
      "\u001b[34m  generated loops (no change):       5 (2)\u001b[39m\u001b[K\r\u001b[A\r\u001b[A\r\u001b[A"
     ]
    },
    {
     "name": "stdout",
     "output_type": "stream",
     "text": [
      "\n",
      "\n",
      "\n",
      "\r\u001b[K\u001b[A\r\u001b[K\u001b[A\r\u001b[K\u001b[A\r\u001b[32mSolutions found: 227    Time: 0:00:03\u001b[39m\u001b[K\r\n",
      "\u001b[34m  tracked loops (queued):            1049 (84)\u001b[39m\u001b[K\r\n",
      "\u001b[34m  solutions in current (last) loop:  0 (0)\u001b[39m\u001b[K\r\n",
      "\u001b[34m  generated loops (no change):       5 (2)\u001b[39m\u001b[K\r\u001b[A\r\u001b[A\r\u001b[A"
     ]
    },
    {
     "name": "stdout",
     "output_type": "stream",
     "text": [
      "\n",
      "\n",
      "\n",
      "\r\u001b[K\u001b[A\r\u001b[K\u001b[A\r\u001b[K\u001b[A\r\u001b[32mSolutions found: 227    Time: 0:00:04\u001b[39m\u001b[K\r\n",
      "\u001b[34m  tracked loops (queued):            1169 (191)\u001b[39m\u001b[K\r\n",
      "\u001b[34m  solutions in current (last) loop:  0 (0)\u001b[39m\u001b[K\r\n",
      "\u001b[34m  generated loops (no change):       6 (3)\u001b[39m\u001b[K\r\u001b[A\r\u001b[A\r\u001b[A"
     ]
    },
    {
     "name": "stdout",
     "output_type": "stream",
     "text": [
      "\n",
      "\n",
      "\n",
      "\r\u001b[K\u001b[A\r\u001b[K\u001b[A\r\u001b[K\u001b[A\r\u001b[32mSolutions found: 227    Time: 0:00:04\u001b[39m\u001b[K\r\n",
      "\u001b[34m  tracked loops (queued):            1295 (65)\u001b[39m\u001b[K\r\n",
      "\u001b[34m  solutions in current (last) loop:  0 (0)\u001b[39m\u001b[K\r\n",
      "\u001b[34m  generated loops (no change):       6 (3)\u001b[39m\u001b[K\r\u001b[A\r\u001b[A\r\u001b[A"
     ]
    },
    {
     "name": "stdout",
     "output_type": "stream",
     "text": [
      "\n",
      "\n",
      "\n",
      "\r\u001b[K\u001b[A\r\u001b[K\u001b[A\r\u001b[K\u001b[A\r\u001b[32mSolutions found: 227    Time: 0:00:04\u001b[39m\u001b[K\r\n",
      "\u001b[34m  tracked loops (queued):            1388 (199)\u001b[39m\u001b[K\r\n",
      "\u001b[34m  solutions in current (last) loop:  0 (0)\u001b[39m\u001b[K\r\n",
      "\u001b[34m  generated loops (no change):       7 (4)\u001b[39m\u001b[K\r\u001b[A\r\u001b[A\r\u001b[A"
     ]
    },
    {
     "name": "stdout",
     "output_type": "stream",
     "text": [
      "\n",
      "\n",
      "\n",
      "\r\u001b[K\u001b[A\r\u001b[K\u001b[A\r\u001b[K\u001b[A\r\u001b[32mSolutions found: 227    Time: 0:00:05\u001b[39m\u001b[K\r\n",
      "\u001b[34m  tracked loops (queued):            1539 (48)\u001b[39m\u001b[K\r\n",
      "\u001b[34m  solutions in current (last) loop:  0 (0)\u001b[39m\u001b[K\r\n",
      "\u001b[34m  generated loops (no change):       7 (4)\u001b[39m\u001b[K\r\u001b[A\r\u001b[A\r\u001b[A"
     ]
    },
    {
     "name": "stdout",
     "output_type": "stream",
     "text": [
      "\n",
      "\n",
      "\n",
      "\r\u001b[K\u001b[A\r\u001b[K\u001b[A\r\u001b[K\u001b[A\r\u001b[32mSolutions found: 227    Time: 0:00:05\u001b[39m\u001b[K\r\n",
      "\u001b[34m  tracked loops (queued):            1587 (0)\u001b[39m\u001b[K\r\n",
      "\u001b[34m  solutions in current (last) loop:  0 (0)\u001b[39m\u001b[K\r\n",
      "\u001b[34m  generated loops (no change):       7 (5)\u001b[39m\u001b[K\n"
     ]
    },
    {
     "name": "stdout",
     "output_type": "stream",
     "text": [
      "\r\u001b[32mCertifying 227 solutions...   1%|█                      |  ETA: 0:02:12\u001b[39m\u001b[K\r\n",
      "\u001b[34m  # processed:         2\u001b[39m\u001b[K\r\n",
      "\u001b[34m  # certified (real):  2 (0)\u001b[39m\u001b[K\r\n",
      "\u001b[34m  # distinct (real):   2 (0)\u001b[39m\u001b[K\r\u001b[A\r\u001b[A\r\u001b[A"
     ]
    },
    {
     "name": "stdout",
     "output_type": "stream",
     "text": [
      "\n",
      "\n",
      "\n",
      "\r\u001b[K\u001b[A\r\u001b[K\u001b[A\r\u001b[K\u001b[A\r\u001b[32mCertifying 227 solutions... 100%|███████████████████████| Time: 0:00:01\u001b[39m\u001b[K\r\n",
      "\u001b[34m  # processed:         227\u001b[39m\u001b[K\r\n",
      "\u001b[34m  # certified (real):  227 (0)\u001b[39m\u001b[K\r\n",
      "\u001b[34m  # distinct (real):   227 (0)\u001b[39m\u001b[K\n"
     ]
    },
    {
     "data": {
      "text/plain": [
       "227"
      ]
     },
     "metadata": {},
     "output_type": "display_data"
    }
   ],
   "source": [
    "Landau.χ(edges,nodes)"
   ]
  },
  {
   "cell_type": "markdown",
   "id": "c2f75139",
   "metadata": {},
   "source": [
    "Using PLD to look at bhabba dbox"
   ]
  },
  {
   "cell_type": "code",
   "execution_count": 1,
   "id": "af54de32",
   "metadata": {},
   "outputs": [],
   "source": [
    "push!(LOAD_PATH,string(pwd() * \"/src\"))\n",
    "using Pkg; Pkg.activate()\n",
    "Pkg.status()"
   ]
  },
  {
   "cell_type": "markdown",
   "id": "7c94d125",
   "metadata": {},
   "source": []
  },
  {
   "cell_type": "code",
   "execution_count": 3,
   "id": "082ef378",
   "metadata": {},
   "outputs": [
    {
     "name": "stderr",
     "output_type": "stream",
     "text": [
      "\u001b[36m\u001b[1m[ \u001b[22m\u001b[39m\u001b[36m\u001b[1mInfo: \u001b[22m\u001b[39mPrecompiling HomotopyContinuation [f213a82b-91d6-5c5d-acf7-10f1c761b327]\n"
     ]
    }
   ],
   "source": [
    "using Oscar\n",
    "using HomotopyContinuation"
   ]
  },
  {
   "cell_type": "code",
   "execution_count": 2,
   "id": "ae13da23",
   "metadata": {},
   "outputs": [
    {
     "name": "stderr",
     "output_type": "stream",
     "text": [
      "\u001b[33m\u001b[1m┌ \u001b[22m\u001b[39m\u001b[33m\u001b[1mWarning: \u001b[22m\u001b[39mattempting to remove probably stale pidfile\n",
      "\u001b[33m\u001b[1m│ \u001b[22m\u001b[39m  path = \"/home/tristan/.julia/compiled/v1.10/PLD.ji.pidfile\"\n",
      "\u001b[33m\u001b[1m└ \u001b[22m\u001b[39m\u001b[90m@ FileWatching.Pidfile ~/.julia/juliaup/julia-1.10.1+0.x64.linux.gnu/share/julia/stdlib/v1.10/FileWatching/src/pidfile.jl:244\u001b[39m\n",
      "\u001b[36m\u001b[1m[ \u001b[22m\u001b[39m\u001b[36m\u001b[1mInfo: \u001b[22m\u001b[39mPrecompiling PLD [top-level]\n"
     ]
    }
   ],
   "source": [
    "using PLD\n",
    "edges = [[[1,2],[2,3],[3,4],[4,1]]];\n",
    "nodes = [[1,2,3,4]];\n",
    "@var m1\n",
    "@var m2\n",
    "@var m3\n",
    "@var m4\n",
    "@var m5\n",
    "internal_masses = [[0,0,0,0]];\n",
    "external_masses = [[m1, m2, m3, m4]];\n",
    "diagramNames = [\"Squaretest\"]\n",
    "test = \"num\"\n",
    "methodchoice = Symbol(test)\n",
    "\n",
    "println(\"edges: $edges\")\n",
    "println(\"nodes: $nodes\")\n",
    "println(\"internal_masses: $internal_masses\")\n",
    "println(\"external_masses: $external_masses\")\n",
    "println(\"diagramNames: $diagramNames\")\n",
    "\n",
    "# # Initialize empty arrays for outputs\n",
    "# PrincipleLandauDet = []\n",
    "# pars = []\n",
    "# vars = []\n",
    "# U = []\n",
    "# F = []\n",
    "\n",
    "# Assuming edges, nodes, internal_masses, external_masses, and diagramNames are defined\n",
    "\n",
    "for i in 1:length(edges)\n",
    "    PrincipleLandauDet_i, pars_i, vars_i, U_i, F_i = getPLD(edges[i], nodes[i], internal_masses=internal_masses[i], external_masses=external_masses[i], save_output=string(diagramNames[i], \".dat\"), codim_start = 0, face_start = 1, method = methodchoice)\n",
    "\n",
    "    # push!(PrincipleLandauDet, PrincipleLandauDet_i)\n",
    "    # push!(pars, pars_i)\n",
    "    # push!(vars, vars_i)\n",
    "    # push!(U, U_i)\n",
    "    # push!(F, F_i)\n",
    "\n",
    "    # Open and write to file\n",
    "    open(string(diagramNames[i], \".txt\"), \"w\") do file\n",
    "        write(file, string(diagramNames[i], \"\\n\\n\"))\n",
    "        write(file, \"edges: $(edges[i])\\n\")\n",
    "        write(file, \"internal_masses: $(internal_masses[i])\\n\")\n",
    "        write(file, \"external_masses: $(external_masses[i])\\n\\n\")\n",
    "        write(file, \"schwinger parameters: $(pars_i)\\n\")\n",
    "        write(file, \"kinematic variables: $(vars_i)\\n\\n\")\n",
    "        write(file, \"U: $(U_i)\\n\")\n",
    "        write(file, \"F: $(F_i)\\n\\n\")\n",
    "        write(file, \"discriminants: $(PrincipleLandauDet_i)\\n\")\n",
    "    end\n",
    "end\n"
   ]
  },
  {
   "cell_type": "markdown",
   "id": "b05fbc62",
   "metadata": {},
   "source": []
  },
  {
   "cell_type": "code",
   "execution_count": 1,
   "id": "467dada1",
   "metadata": {},
   "outputs": [
    {
     "name": "stderr",
     "output_type": "stream",
     "text": [
      "\u001b[33m\u001b[1m┌ \u001b[22m\u001b[39m\u001b[33m\u001b[1mWarning: \u001b[22m\u001b[39mThe active manifest file has dependencies that were resolved with a different julia version (1.8.5). Unexpected behavior may occur.\n",
      "\u001b[33m\u001b[1m└ \u001b[22m\u001b[39m\u001b[90m@ ~/Documents/PLD-Project/PLD Project Linux Only Files/Manifest.toml:0\u001b[39m\n",
      "\u001b[32m\u001b[1mPrecompiling\u001b[22m\u001b[39m PLD\n",
      "\u001b[91m  ✗ \u001b[39m\u001b[90mGAP\u001b[39m\n",
      "\u001b[91m  ✗ \u001b[39m\u001b[90mCxxWrap\u001b[39m\n",
      "\u001b[91m  ✗ \u001b[39m\u001b[90mSparseArrays\u001b[39m\n",
      "\u001b[91m  ✗ \u001b[39m\u001b[90mMutableArithmetics\u001b[39m\n",
      "\u001b[91m  ✗ \u001b[39m\u001b[90mRandomExtensions\u001b[39m\n",
      "\u001b[91m  ✗ \u001b[39m\u001b[90mPolymake\u001b[39m\n",
      "\u001b[91m  ✗ \u001b[39m\u001b[90mSuiteSparse\u001b[39m\n",
      "\u001b[33m\u001b[1m┌ \u001b[22m\u001b[39m\u001b[33m\u001b[1mWarning: \u001b[22m\u001b[39mattempting to remove probably stale pidfile\n",
      "\u001b[33m\u001b[1m│ \u001b[22m\u001b[39m  path = \"/home/tristan/.julia/compiled/v1.10/ArrayInterface/7bROb_caaGZ.ji.pidfile\"\n",
      "\u001b[33m\u001b[1m└ \u001b[22m\u001b[39m\u001b[90m@ FileWatching.Pidfile ~/.julia/juliaup/julia-1.10.0+0.x64.linux.gnu/share/julia/stdlib/v1.10/FileWatching/src/pidfile.jl:244\u001b[39m\n",
      "\u001b[91m  ✗ \u001b[39m\u001b[90mAbstractAlgebra\u001b[39m\n",
      "\u001b[91m  ✗ \u001b[39m\u001b[90mArrayInterfaceCore\u001b[39m\n",
      "\u001b[91m  ✗ \u001b[39m\u001b[90mChainRulesCore\u001b[39m\n",
      "\u001b[91m  ✗ \u001b[39m\u001b[90mNemo\u001b[39m\n",
      "\u001b[91m  ✗ \u001b[39m\u001b[90mMultivariatePolynomials\u001b[39m\n",
      "\u001b[91m  ✗ \u001b[39m\u001b[90mHecke\u001b[39m\n",
      "\u001b[91m  ✗ \u001b[39m\u001b[90mStatistics\u001b[39m\n",
      "\u001b[91m  ✗ \u001b[39m\u001b[90mSemialgebraicSets\u001b[39m\n",
      "\u001b[91m  ✗ \u001b[39m\u001b[90mSingular\u001b[39m\n",
      "\u001b[91m  ✗ \u001b[39m\u001b[90mDynamicPolynomials\u001b[39m\n",
      "\u001b[91m  ✗ \u001b[39m\u001b[90mArrayInterface\u001b[39m\n"
     ]
    }
   ],
   "source": [
    "using PLD\n",
    "\n",
    "inputfile = \"PLDinputs.txt\";\n",
    "\n",
    "args = []\n",
    "\n",
    "function convertStringToArray(str)\n",
    "    # Parse the string as Julia code\n",
    "    parsed_array = Meta.parse(str)\n",
    "\n",
    "    # Evaluate the parsed expression\n",
    "    result_array = eval(parsed_array)\n",
    "\n",
    "    return result_array\n",
    "\n",
    "end\n",
    "\n",
    "open(inputfile) do file\n",
    "    for line in eachline(file)\n",
    "        push!(args, line)\n",
    "    end\n",
    "end\n",
    "\n",
    "edges = convertStringToArray(args[1]);\n",
    "nodes = convertStringToArray(args[2]);\n",
    "\n",
    "for i in 1:parse(Int,args[3])   \n",
    "    var_name = Symbol(\"m\", i)\n",
    "    @eval @var $var_name\n",
    "end\n",
    "\n",
    "internal_masses = convertStringToArray(args[4]);\n",
    "external_masses = convertStringToArray(args[5]);\n",
    "diagramNames = args[6];\n",
    "restart = false\n",
    "\n",
    "# If this is the restart, we expect 3 more inputs\n",
    "if length(args) == 9\n",
    "    codimStart = parse(Int, args[7]);\n",
    "    faceStart = parse(Int, args[8]);\n",
    "    method = Symbol(args[9]);\n",
    "    restart = true;\n",
    "end\n",
    "\n",
    "println(\"edges: $edges\")\n",
    "println(\"nodes: $nodes\")\n",
    "println(\"internal_masses: $internal_masses\")\n",
    "println(\"external_masses: $external_masses\")\n",
    "println(\"diagramNames: $diagramNames\")\n",
    "\n",
    "if restart == false\n",
    "    PrincipleLandauDet, pars, vars, U, F = getPLD(edges, nodes, internal_masses=internal_masses, external_masses=external_masses, save_output=string(diagramNames, \".dat\"))\n",
    "else\n",
    "    PrincipleLandauDet, pars, vars, U, F = getPLD(edges, nodes, internal_masses=internal_masses, external_masses=external_masses, save_output=string(diagramNames, \".dat\"), codim_start = codimStart, face_start = faceStart, method = method)\n",
    "end "
   ]
  }
 ],
 "metadata": {
  "kernelspec": {
   "display_name": "Julia 1.10.1",
   "language": "julia",
   "name": "julia-1.10"
  },
  "language_info": {
   "file_extension": ".jl",
   "mimetype": "application/julia",
   "name": "julia",
   "version": "1.10.1"
  }
 },
 "nbformat": 4,
 "nbformat_minor": 5
}
