{
 "cells": [
  {
   "cell_type": "markdown",
   "id": "ae120ec0",
   "metadata": {},
   "source": [
    "**Self Teaching how to use PLD/Landau**\n",
    "\n",
    "Will test my understanding by trying to reproduce the results in the paper for Fig 1.(d). "
   ]
  },
  {
   "cell_type": "markdown",
   "id": "470fafe0",
   "metadata": {},
   "source": [
    "**IMPORTANT NOTE TO SELF: To my understanding, PLD.jl has much more utility when looking at specific processes (where we know certain internal or external masses), whilst Landau.jl has more utility when trying to analyse a more general *class* of diagrams**\n",
    "\n",
    "PLD use case: looking at particular diagrams, e.g. dbox with outer massive loop.\n",
    "\n",
    "Landau use case: looking at a class of diagrams e.g all dbox diagrams "
   ]
  },
  {
   "cell_type": "markdown",
   "id": "23465270",
   "metadata": {},
   "source": [
    "This activates the environment and makes sure we are using the most recent versions of packages"
   ]
  },
  {
   "cell_type": "code",
   "execution_count": 1,
   "id": "914479ad",
   "metadata": {},
   "outputs": [
    {
     "name": "stderr",
     "output_type": "stream",
     "text": [
      "\u001b[32m\u001b[1m  Activating\u001b[22m\u001b[39m project at `~/.julia/environments/v1.10`\n"
     ]
    }
   ],
   "source": [
    "push!(LOAD_PATH,string(pwd() * \"/src\"))\n",
    "using Pkg; Pkg.activate()"
   ]
  },
  {
   "cell_type": "markdown",
   "id": "3b64f0ef",
   "metadata": {},
   "source": [
    "Now we import the Landau.jl package"
   ]
  },
  {
   "cell_type": "code",
   "execution_count": 2,
   "id": "85611c3e",
   "metadata": {},
   "outputs": [
    {
     "name": "stderr",
     "output_type": "stream",
     "text": [
      "\u001b[36m\u001b[1m[ \u001b[22m\u001b[39m\u001b[36m\u001b[1mInfo: \u001b[22m\u001b[39mPrecompiling Landau [top-level]\n"
     ]
    }
   ],
   "source": [
    "using Landau"
   ]
  },
  {
   "cell_type": "markdown",
   "id": "64495d0c",
   "metadata": {},
   "source": [
    "Now we define the edges and nodes of the Feynman diagram. Each edge is a 2-tuple, whilst the list of nodes is a list of which vertices have external legs attached (repeated if multiple legs are attached)"
   ]
  },
  {
   "cell_type": "code",
   "execution_count": 3,
   "id": "156d87a0-2a89-4efc-9d75-695aa0dce35c",
   "metadata": {},
   "outputs": [],
   "source": [
    "edges = [[1,2],[1,5], [5,4], [6,5], [2,6], [6,3], [3,4]];\n",
    "nodes = [1,2,3,4];"
   ]
  },
  {
   "cell_type": "markdown",
   "id": "b229fb55",
   "metadata": {},
   "source": [
    "Now compute the Symanzik polynomials"
   ]
  },
  {
   "cell_type": "code",
   "execution_count": 4,
   "id": "a953b5a0",
   "metadata": {},
   "outputs": [
    {
     "name": "stdout",
     "output_type": "stream",
     "text": [
      "F = -(α₁*mm₁ + α₂*mm₂ + α₃*mm₃ + α₄*mm₄ + α₅*mm₅ + α₆*mm₆ + α₇*mm₇)*(α₁*α₃ + α₁*α₄ + α₁*α₆ + α₁*α₇ + α₂*α₄ + α₂*α₆ + α₂*α₇ + α₃*α₂ + α₃*α₄ + α₃*α₅ + α₄*α₆ + α₄*α₇ + α₅*α₄ + α₅*α₆ + α₅*α₇) - (α₁*α₂*α₄ + α₁*α₂*α₆ + α₁*α₂*α₇ + α₁*α₃*α₂ + α₁*α₃*α₄ + α₁*α₃*α₅ + α₁*α₄*α₆ + α₁*α₄*α₇ + α₁*α₅*α₄ + α₁*α₅*α₆ + α₁*α₅*α₇)*p₁₋₂ - (α₁*α₃*α₇ + α₁*α₄*α₇ + α₁*α₇*α₆ + α₂*α₄*α₇ + α₂*α₇*α₆ + α₃*α₂*α₇ + α₃*α₄*α₇ + α₃*α₅*α₇ + α₄*α₇*α₆ + α₅*α₄*α₇ + α₅*α₇*α₆)*p₃₋₄ - (α₁*α₂*α₄ + α₁*α₂*α₆ + α₁*α₂*α₇ + α₁*α₃*α₂ + α₁*α₃*α₄ + α₁*α₃*α₆ + α₁*α₃*α₇ + α₂*α₄*α₆ + α₂*α₄*α₇ + α₂*α₅*α₄ + α₂*α₅*α₆ + α₂*α₅*α₇ + α₃*α₂*α₅ + α₃*α₂*α₆ + α₃*α₂*α₇ + α₃*α₄*α₆ + α₃*α₄*α₇ + α₃*α₅*α₄ + α₃*α₅*α₆ + α₃*α₅*α₇)*p₁₋₄ - (α₁*α₃*α₅ + α₁*α₃*α₆ + α₁*α₄*α₆ + α₁*α₅*α₄ + α₁*α₅*α₆ + α₁*α₅*α₇ + α₁*α₇*α₆ + α₂*α₄*α₆ + α₂*α₅*α₄ + α₂*α₅*α₆ + α₂*α₅*α₇ + α₂*α₇*α₆ + α₃*α₂*α₅ + α₃*α₂*α₆ + α₃*α₄*α₆ + α₃*α₅*α₄ + α₃*α₅*α₆ + α₄*α₇*α₆ + α₅*α₄*α₇ + α₅*α₇*α₆)*p₂₋₃ - (α₁*α₃*α₅ + α₁*α₃*α₆ + α₁*α₃*α₇ + α₁*α₄*α₆ + α₁*α₄*α₇ + α₁*α₅*α₄ + α₁*α₅*α₆ + α₁*α₅*α₇ + α₂*α₄*α₆ + α₂*α₄*α₇ + α₂*α₅*α₄ + α₂*α₅*α₆ + α₂*α₅*α₇ + α₃*α₂*α₅ + α₃*α₂*α₆ + α₃*α₂*α₇ + α₃*α₄*α₆ + α₃*α₄*α₇ + α₃*α₅*α₄ + α₃*α₅*α₆ + α₃*α₅*α₇)*p₂₋₄ - (α₁*α₂*α₄ + α₁*α₂*α₆ + α₁*α₂*α₇ + α₁*α₃*α₂ + α₁*α₃*α₄ + α₁*α₃*α₆ + α₁*α₄*α₇ + α₁*α₇*α₆ + α₂*α₄*α₆ + α₂*α₅*α₄ + α₂*α₅*α₆ + α₂*α₅*α₇ + α₂*α₇*α₆ + α₃*α₂*α₅ + α₃*α₂*α₆ + α₃*α₄*α₆ + α₃*α₅*α₄ + α₃*α₅*α₆ + α₄*α₇*α₆ + α₅*α₄*α₇ + α₅*α₇*α₆)*p₁₋₃\n",
      "--------------\n",
      "U = α₁*α₃ + α₁*α₄ + α₁*α₆ + α₁*α₇ + α₂*α₄ + α₂*α₆ + α₂*α₇ + α₃*α₂ + α₃*α₄ + α₃*α₅ + α₄*α₆ + α₄*α₇ + α₅*α₄ + α₅*α₆ + α₅*α₇\n",
      "--------------\n",
      "mm = HomotopyContinuation.ModelKit.Variable[mm₁, mm₂, mm₃, mm₄, mm₅, mm₆, mm₇]\n",
      "pp = HomotopyContinuation.ModelKit.Variable[p₁₋₁ p₁₋₂ p₁₋₃ p₁₋₄; p₂₋₁ p₂₋₂ p₂₋₃ p₂₋₄; p₃₋₁ p₃₋₂ p₃₋₃ p₃₋₄; p₄₋₁ p₄₋₂ p₄₋₃ p₄₋₄]\n"
     ]
    }
   ],
   "source": [
    "F, U, α, p, mm = getF(edges, nodes);\n",
    "println(\"F = $F\")\n",
    "println(\"--------------\")\n",
    "println(\"U = $U\")\n",
    "println(\"--------------\")\n",
    "\n",
    "println(\"mm = $mm\")\n",
    "println(\"pp = $p\")"
   ]
  },
  {
   "cell_type": "markdown",
   "id": "5706f505",
   "metadata": {},
   "source": [
    "Next, use the appropriate substitute function to get this in terms of the masses and Mandelstam invariants"
   ]
  },
  {
   "cell_type": "code",
   "execution_count": 18,
   "id": "af8db7d2",
   "metadata": {},
   "outputs": [
    {
     "name": "stdout",
     "output_type": "stream",
     "text": [
      "F_genericmass = (-1/2)*(-M₁ - M₂ + s)*(α₁*α₃*α₂ + α₁*α₃*α₄ + α₁*α₃*α₅ + α₁*α₃*α₇ + α₃*α₂*α₄ + α₃*α₂*α₆ + α₃*α₄*α₆ + α₃*α₄*α₇ + α₃*α₅*α₄ + α₃*α₅*α₆ + α₃*α₇*α₆) + (-1/2)*(-M₃ - M₄ + s)*(α₁*α₂*α₅ + α₁*α₅*α₄ + α₁*α₅*α₇ + α₂*α₅*α₄ + α₂*α₅*α₆ + α₃*α₂*α₅ + α₃*α₅*α₄ + α₃*α₅*α₇ + α₅*α₄*α₆ + α₅*α₄*α₇ + α₅*α₇*α₆) + (-1/2)*(-M₂ - M₃ + t)*(α₁*α₂*α₆ + α₁*α₂*α₇ + α₁*α₄*α₆ + α₁*α₄*α₇ + α₁*α₅*α₆ + α₁*α₅*α₇ + α₁*α₇*α₆ + α₂*α₄*α₆ + α₂*α₄*α₇ + α₂*α₇*α₆ + α₃*α₂*α₆ + α₃*α₂*α₇ + α₃*α₄*α₆ + α₃*α₄*α₇ + α₃*α₅*α₆ + α₃*α₅*α₇ + α₃*α₇*α₆ + α₅*α₄*α₆ + α₅*α₄*α₇ + α₅*α₇*α₆) + (-1/2)*(-M₁ - M₄ + t)*(α₁*α₂*α₅ + α₁*α₂*α₆ + α₁*α₂*α₇ + α₁*α₃*α₂ + α₁*α₃*α₄ + α₁*α₃*α₅ + α₁*α₃*α₇ + α₁*α₄*α₆ + α₁*α₄*α₇ + α₁*α₅*α₄ + α₁*α₅*α₆ + α₁*α₇*α₆ + α₂*α₄*α₆ + α₂*α₄*α₇ + α₂*α₅*α₄ + α₂*α₅*α₆ + α₂*α₇*α₆ + α₃*α₂*α₄ + α₃*α₂*α₅ + α₃*α₂*α₇) + (-1/2)*(M₁ + M₃ - s - t)*(α₁*α₂*α₅ + α₁*α₂*α₆ + α₁*α₂*α₇ + α₁*α₄*α₆ + α₁*α₄*α₇ + α₁*α₅*α₄ + α₁*α₅*α₆ + α₁*α₇*α₆ + α₂*α₄*α₆ + α₂*α₄*α₇ + α₂*α₅*α₄ + α₂*α₅*α₆ + α₂*α₇*α₆ + α₃*α₂*α₅ + α₃*α₂*α₆ + α₃*α₂*α₇ + α₃*α₄*α₆ + α₃*α₄*α₇ + α₃*α₅*α₄ + α₃*α₅*α₆ + α₃*α₇*α₆) + (-1/2)*(M₂ + M₄ - s - t)*(α₁*α₂*α₆ + α₁*α₂*α₇ + α₁*α₃*α₂ + α₁*α₃*α₄ + α₁*α₃*α₅ + α₁*α₃*α₇ + α₁*α₄*α₆ + α₁*α₄*α₇ + α₁*α₅*α₆ + α₁*α₅*α₇ + α₁*α₇*α₆ + α₂*α₄*α₆ + α₂*α₄*α₇ + α₂*α₇*α₆ + α₃*α₂*α₄ + α₃*α₂*α₇ + α₃*α₅*α₄ + α₃*α₅*α₇ + α₅*α₄*α₆ + α₅*α₄*α₇ + α₅*α₇*α₆) - (m₁*α₁ + m₂*α₂ + m₃*α₃ + m₄*α₄ + m₅*α₅ + m₆*α₆ + m₇*α₇)*(α₁*α₂ + α₁*α₄ + α₁*α₅ + α₁*α₇ + α₂*α₄ + α₂*α₆ + α₃*α₂ + α₃*α₄ + α₃*α₅ + α₃*α₇ + α₄*α₆ + α₄*α₇ + α₅*α₄ + α₅*α₆ + α₇*α₆)\n",
      "-----------------------\n",
      "F_equalmass = -(-M + (1/2)*s)*(α₁*α₃*α₂ + α₁*α₃*α₄ + α₁*α₃*α₅ + α₁*α₃*α₇ + α₃*α₂*α₄ + α₃*α₂*α₆ + α₃*α₄*α₆ + α₃*α₄*α₇ + α₃*α₅*α₄ + α₃*α₅*α₆ + α₃*α₇*α₆) - (-M + (1/2)*s)*(α₁*α₂*α₅ + α₁*α₅*α₄ + α₁*α₅*α₇ + α₂*α₅*α₄ + α₂*α₅*α₆ + α₃*α₂*α₅ + α₃*α₅*α₄ + α₃*α₅*α₇ + α₅*α₄*α₆ + α₅*α₄*α₇ + α₅*α₇*α₆) - (-M + (1/2)*t)*(α₁*α₂*α₅ + α₁*α₂*α₆ + α₁*α₂*α₇ + α₁*α₃*α₂ + α₁*α₃*α₄ + α₁*α₃*α₅ + α₁*α₃*α₇ + α₁*α₄*α₆ + α₁*α₄*α₇ + α₁*α₅*α₄ + α₁*α₅*α₆ + α₁*α₇*α₆ + α₂*α₄*α₆ + α₂*α₄*α₇ + α₂*α₅*α₄ + α₂*α₅*α₆ + α₂*α₇*α₆ + α₃*α₂*α₄ + α₃*α₂*α₅ + α₃*α₂*α₇) - (-M + (1/2)*t)*(α₁*α₂*α₆ + α₁*α₂*α₇ + α₁*α₄*α₆ + α₁*α₄*α₇ + α₁*α₅*α₆ + α₁*α₅*α₇ + α₁*α₇*α₆ + α₂*α₄*α₆ + α₂*α₄*α₇ + α₂*α₇*α₆ + α₃*α₂*α₆ + α₃*α₂*α₇ + α₃*α₄*α₆ + α₃*α₄*α₇ + α₃*α₅*α₆ + α₃*α₅*α₇ + α₃*α₇*α₆ + α₅*α₄*α₆ + α₅*α₄*α₇ + α₅*α₇*α₆) - (-M + (1/2)*(4*M - s - t))*(α₁*α₂*α₅ + α₁*α₂*α₆ + α₁*α₂*α₇ + α₁*α₄*α₆ + α₁*α₄*α₇ + α₁*α₅*α₄ + α₁*α₅*α₆ + α₁*α₇*α₆ + α₂*α₄*α₆ + α₂*α₄*α₇ + α₂*α₅*α₄ + α₂*α₅*α₆ + α₂*α₇*α₆ + α₃*α₂*α₅ + α₃*α₂*α₆ + α₃*α₂*α₇ + α₃*α₄*α₆ + α₃*α₄*α₇ + α₃*α₅*α₄ + α₃*α₅*α₆ + α₃*α₇*α₆) - (-M + (1/2)*(4*M - s - t))*(α₁*α₂*α₆ + α₁*α₂*α₇ + α₁*α₃*α₂ + α₁*α₃*α₄ + α₁*α₃*α₅ + α₁*α₃*α₇ + α₁*α₄*α₆ + α₁*α₄*α₇ + α₁*α₅*α₆ + α₁*α₅*α₇ + α₁*α₇*α₆ + α₂*α₄*α₆ + α₂*α₄*α₇ + α₂*α₇*α₆ + α₃*α₂*α₄ + α₃*α₂*α₇ + α₃*α₅*α₄ + α₃*α₅*α₇ + α₅*α₄*α₆ + α₅*α₄*α₇ + α₅*α₇*α₆) - (m*α₁ + m*α₂ + m*α₃ + m*α₄ + m*α₅ + m*α₆ + m*α₇)*(α₁*α₂ + α₁*α₄ + α₁*α₅ + α₁*α₇ + α₂*α₄ + α₂*α₆ + α₃*α₂ + α₃*α₄ + α₃*α₅ + α₃*α₇ + α₄*α₆ + α₄*α₇ + α₅*α₄ + α₅*α₆ + α₇*α₆)\n"
     ]
    }
   ],
   "source": [
    "F_genericmass, s, t, M, m = substitute4legs(F, p, mm);\n",
    "println(\"F_genericmass = $(F_genericmass)\")\n",
    "println(\"-----------------------\")\n",
    "F_equalmass, s, t, M, m = substitute4legs(F, p, mm; equalM = true, equalm = true);\n",
    "println(\"F_equalmass = $(F_equalmass)\")"
   ]
  },
  {
   "cell_type": "markdown",
   "id": "64658831",
   "metadata": {},
   "source": [
    "Load and use the package HomotopyContinuation.jl to represent the critical point equations of F_G as a system"
   ]
  },
  {
   "cell_type": "code",
   "execution_count": 30,
   "id": "8092c74d",
   "metadata": {},
   "outputs": [
    {
     "data": {
      "text/plain": [
       "System of length 7\n",
       " 20 variables: mm₁, mm₂, mm₃, mm₄, mm₅, mm₆, mm₇, p₁₋₂, p₁₋₃, p₂₋₃, p₁₋₄, p₂₋₄, p₃₋₄, α₁, α₂, α₃, α₄, α₅, α₆, α₇\n",
       "\n",
       " -mm₁*(α₁*α₃ + α₁*α₄ + α₁*α₆ + α₁*α₇ + α₂*α₄ + α₂*α₆ + α₂*α₇ + α₃*α₂ + α₃*α₄ + α₃*α₅ + α₄*α₆ + α₄*α₇ + α₅*α₄ + α₅*α₆ + α₅*α₇) - p₁₋₂*(α₂*α₄ + α₂*α₆ + α₂*α₇ + α₃*α₂ + α₃*α₄ + α₃*α₅ + α₄*α₆ + α₄*α₇ + α₅*α₄ + α₅*α₆ + α₅*α₇) - p₁₋₄*(α₂*α₄ + α₂*α₆ + α₂*α₇ + α₃*α₂ + α₃*α₄ + α₃*α₆ + α₃*α₇) - p₂₋₃*(α₃*α₅ + α₃*α₆ + α₄*α₆ + α₅*α₄ + α₅*α₆ + α₅*α₇ + α₇*α₆) - p₃₋₄*(α₃*α₇ + α₄*α₇ + α₇*α₆) - (α₃ + α₄ + α₆ + α₇)*(α₁*mm₁ + α₂*mm₂ + α₃*mm₃ + α₄*mm₄ + α₅*mm₅ + α₆*mm₆ + α₇*mm₇) - (α₃*α₅ + α₃*α₆ + α₃*α₇ + α₄*α₆ + α₄*α₇ + α₅*α₄ + α₅*α₆ + α₅*α₇)*p₂₋₄ - (α₂*α₄ + α₂*α₆ + α₂*α₇ + α₃*α₂ + α₃*α₄ + α₃*α₆ + α₄*α₇ + α₇*α₆)*p₁₋₃\n",
       " -mm₂*(α₁*α₃ + α₁*α₄ + α₁*α₆ + α₁*α₇ + α₂*α₄ + α₂*α₆ + α₂*α₇ + α₃*α₂ + α₃*α₄ + α₃*α₅ + α₄*α₆ + α₄*α₇ + α₅*α₄ + α₅*α₆ + α₅*α₇) - p₁₋₃*(α₁*α₃ + α₁*α₄ + α₁*α₆ + α₁*α₇ + α₃*α₅ + α₃*α₆ + α₄*α₆ + α₅*α₄ + α₅*α₆ + α₅*α₇ + α₇*α₆) - p₂₋₃*(α₃*α₅ + α₃*α₆ + α₄*α₆ + α₅*α₄ + α₅*α₆ + α₅*α₇ + α₇*α₆) - p₃₋₄*(α₃*α₇ + α₄*α₇ + α₇*α₆) - (α₃ + α₄ + α₆ + α₇)*(α₁*mm₁ + α₂*mm₂ + α₃*mm₃ + α₄*mm₄ + α₅*mm₅ + α₆*mm₆ + α₇*mm₇) - (α₁*α₃ + α₁*α₄ + α₁*α₆ + α₁*α₇)*p₁₋₂ - (α₃*α₅ + α₃*α₆ + α₃*α₇ + α₄*α₆ + α₄*α₇ + α₅*α₄ + α₅*α₆ + α₅*α₇)*p₂₋₄ - (α₁*α₃ + α₁*α₄ + α₁*α₆ + α₁*α₇ + α₃*α₅ + α₃*α₆ + α₃*α₇ + α₄*α₆ + α₄*α₇ + α₅*α₄ + α₅*α₆ + α₅*α₇)*p₁₋₄\n",
       " -mm₃*(α₁*α₃ + α₁*α₄ + α₁*α₆ + α₁*α₇ + α₂*α₄ + α₂*α₆ + α₂*α₇ + α₃*α₂ + α₃*α₄ + α₃*α₅ + α₄*α₆ + α₄*α₇ + α₅*α₄ + α₅*α₆ + α₅*α₇) - p₁₋₂*(α₁*α₂ + α₁*α₄ + α₁*α₅) - p₂₋₃*(α₁*α₅ + α₁*α₆ + α₂*α₅ + α₂*α₆ + α₄*α₆ + α₅*α₄ + α₅*α₆) - p₂₋₄*(α₁*α₅ + α₁*α₆ + α₁*α₇ + α₂*α₅ + α₂*α₆ + α₂*α₇ + α₄*α₆ + α₄*α₇ + α₅*α₄ + α₅*α₆ + α₅*α₇) - (α₁ + α₂ + α₄ + α₅)*(α₁*mm₁ + α₂*mm₂ + α₃*mm₃ + α₄*mm₄ + α₅*mm₅ + α₆*mm₆ + α₇*mm₇) - (α₁*α₇ + α₂*α₇ + α₄*α₇ + α₅*α₇)*p₃₋₄ - (α₁*α₂ + α₁*α₄ + α₁*α₆ + α₂*α₅ + α₂*α₆ + α₄*α₆ + α₅*α₄ + α₅*α₆)*p₁₋₃ - (α₁*α₂ + α₁*α₄ + α₁*α₆ + α₁*α₇ + α₂*α₅ + α₂*α₆ + α₂*α₇ + α₄*α₆ + α₄*α₇ + α₅*α₄ + α₅*α₆ + α₅*α₇)*p₁₋₄\n",
       " -mm₄*(α₁*α₃ + α₁*α₄ + α₁*α₆ + α₁*α₇ + α₂*α₄ + α₂*α₆ + α₂*α₇ + α₃*α₂ + α₃*α₄ + α₃*α₅ + α₄*α₆ + α₄*α₇ + α₅*α₄ + α₅*α₆ + α₅*α₇) - p₁₋₂*(α₁*α₂ + α₁*α₃ + α₁*α₅ + α₁*α₆ + α₁*α₇) - p₁₋₃*(α₁*α₂ + α₁*α₃ + α₁*α₇ + α₂*α₅ + α₂*α₆ + α₃*α₅ + α₃*α₆ + α₅*α₇ + α₇*α₆) - p₂₋₄*(α₁*α₅ + α₁*α₆ + α₁*α₇ + α₂*α₅ + α₂*α₆ + α₂*α₇ + α₃*α₅ + α₃*α₆ + α₃*α₇) - p₃₋₄*(α₁*α₇ + α₂*α₇ + α₃*α₇ + α₅*α₇ + α₇*α₆) - (α₁ + α₂ + α₃ + α₅ + α₆ + α₇)*(α₁*mm₁ + α₂*mm₂ + α₃*mm₃ + α₄*mm₄ + α₅*mm₅ + α₆*mm₆ + α₇*mm₇) - (α₁*α₂ + α₁*α₃ + α₂*α₅ + α₂*α₆ + α₂*α₇ + α₃*α₅ + α₃*α₆ + α₃*α₇)*p₁₋₄ - (α₁*α₅ + α₁*α₆ + α₂*α₅ + α₂*α₆ + α₃*α₅ + α₃*α₆ + α₅*α₇ + α₇*α₆)*p₂₋₃\n",
       " -mm₅*(α₁*α₃ + α₁*α₄ + α₁*α₆ + α₁*α₇ + α₂*α₄ + α₂*α₆ + α₂*α₇ + α₃*α₂ + α₃*α₄ + α₃*α₅ + α₄*α₆ + α₄*α₇ + α₅*α₄ + α₅*α₆ + α₅*α₇) - p₁₋₄*(α₂*α₄ + α₂*α₆ + α₂*α₇ + α₃*α₂ + α₃*α₄ + α₃*α₆ + α₃*α₇) - p₂₋₄*(α₁*α₃ + α₁*α₄ + α₁*α₆ + α₁*α₇ + α₂*α₄ + α₂*α₆ + α₂*α₇ + α₃*α₂ + α₃*α₄ + α₃*α₆ + α₃*α₇) - p₃₋₄*(α₃*α₇ + α₄*α₇ + α₇*α₆) - (α₃ + α₄ + α₆ + α₇)*(α₁*mm₁ + α₂*mm₂ + α₃*mm₃ + α₄*mm₄ + α₅*mm₅ + α₆*mm₆ + α₇*mm₇) - (α₁*α₃ + α₁*α₄ + α₁*α₆ + α₁*α₇)*p₁₋₂ - (α₂*α₄ + α₂*α₆ + α₂*α₇ + α₃*α₂ + α₃*α₄ + α₃*α₆ + α₄*α₇ + α₇*α₆)*p₁₋₃ - (α₁*α₃ + α₁*α₄ + α₁*α₆ + α₁*α₇ + α₂*α₄ + α₂*α₆ + α₂*α₇ + α₃*α₂ + α₃*α₄ + α₃*α₆ + α₄*α₇ + α₇*α₆)*p₂₋₃\n",
       " -mm₆*(α₁*α₃ + α₁*α₄ + α₁*α₆ + α₁*α₇ + α₂*α₄ + α₂*α₆ + α₂*α₇ + α₃*α₂ + α₃*α₄ + α₃*α₅ + α₄*α₆ + α₄*α₇ + α₅*α₄ + α₅*α₆ + α₅*α₇) - p₁₋₂*(α₁*α₂ + α₁*α₄ + α₁*α₅) - p₁₋₃*(α₁*α₂ + α₁*α₃ + α₁*α₇ + α₂*α₄ + α₂*α₅ + α₂*α₇ + α₃*α₂ + α₃*α₄ + α₃*α₅ + α₄*α₇ + α₅*α₇) - p₁₋₄*(α₁*α₂ + α₁*α₃ + α₂*α₄ + α₂*α₅ + α₃*α₂ + α₃*α₄ + α₃*α₅) - (α₁ + α₂ + α₄ + α₅)*(α₁*mm₁ + α₂*mm₂ + α₃*mm₃ + α₄*mm₄ + α₅*mm₅ + α₆*mm₆ + α₇*mm₇) - (α₁*α₇ + α₂*α₇ + α₄*α₇ + α₅*α₇)*p₃₋₄ - (α₁*α₃ + α₁*α₄ + α₁*α₅ + α₂*α₄ + α₂*α₅ + α₃*α₂ + α₃*α₄ + α₃*α₅)*p₂₋₄ - (α₁*α₃ + α₁*α₄ + α₁*α₅ + α₁*α₇ + α₂*α₄ + α₂*α₅ + α₂*α₇ + α₃*α₂ + α₃*α₄ + α₃*α₅ + α₄*α₇ + α₅*α₇)*p₂₋₃\n",
       " -mm₇*(α₁*α₃ + α₁*α₄ + α₁*α₆ + α₁*α₇ + α₂*α₄ + α₂*α₆ + α₂*α₇ + α₃*α₂ + α₃*α₄ + α₃*α₅ + α₄*α₆ + α₄*α₇ + α₅*α₄ + α₅*α₆ + α₅*α₇) - p₁₋₂*(α₁*α₂ + α₁*α₄ + α₁*α₅) - p₁₋₄*(α₁*α₂ + α₁*α₃ + α₂*α₄ + α₂*α₅ + α₃*α₂ + α₃*α₄ + α₃*α₅) - p₂₋₃*(α₁*α₅ + α₁*α₆ + α₂*α₅ + α₂*α₆ + α₄*α₆ + α₅*α₄ + α₅*α₆) - p₃₋₄*(α₁*α₃ + α₁*α₄ + α₁*α₆ + α₂*α₄ + α₂*α₆ + α₃*α₂ + α₃*α₄ + α₃*α₅ + α₄*α₆ + α₅*α₄ + α₅*α₆) - (α₁ + α₂ + α₄ + α₅)*(α₁*mm₁ + α₂*mm₂ + α₃*mm₃ + α₄*mm₄ + α₅*mm₅ + α₆*mm₆ + α₇*mm₇) - (α₁*α₃ + α₁*α₄ + α₁*α₅ + α₂*α₄ + α₂*α₅ + α₃*α₂ + α₃*α₄ + α₃*α₅)*p₂₋₄ - (α₁*α₂ + α₁*α₄ + α₁*α₆ + α₂*α₅ + α₂*α₆ + α₄*α₆ + α₅*α₄ + α₅*α₆)*p₁₋₃"
      ]
     },
     "metadata": {},
     "output_type": "display_data"
    }
   ],
   "source": [
    "LE, α, p, mm = LandauEquations(edges, nodes);\n",
    "using HomotopyContinuation\n",
    "System(LE)"
   ]
  },
  {
   "cell_type": "markdown",
   "id": "7fda662a",
   "metadata": {},
   "source": [
    "Next we find the affine version of these equations"
   ]
  },
  {
   "cell_type": "code",
   "execution_count": 20,
   "id": "5b078979",
   "metadata": {},
   "outputs": [
    {
     "name": "stdout",
     "output_type": "stream",
     "text": [
      "variables: Variable[M₁, M₂, M₃, M₄, m₁, m₂, m₃, m₄, m₅, m₆, m₇, s, t, y, α₁, α₂, α₃, α₄, α₅, α₆]\n",
      "last eq.: -1 + y*α₁*α₃*α₂*α₅*α₄*α₆*(1.0*α₁ + 1.0*α₃ + 1.0*α₄ + 1.0*α₆ + α₁*α₂ + α₁*α₄ + α₁*α₅ + α₂*α₄ + α₂*α₆ + α₃*α₂ + α₃*α₄ + α₃*α₅ + α₄*α₆ + α₅*α₄ + α₅*α₆)\n"
     ]
    }
   ],
   "source": [
    "LE, y, α, p, mm = affineLandauEquations(edges,nodes);\n",
    "LE, s, t, M, m = substitute4legs(LE, p, mm); \n",
    "println(\"variables: $(variables(LE))\")\n",
    "println(\"last eq.: $(LE[end])\")\n"
   ]
  },
  {
   "cell_type": "markdown",
   "id": "78e0c715",
   "metadata": {},
   "source": []
  },
  {
   "cell_type": "code",
   "execution_count": 22,
   "id": "f2f5bbdb",
   "metadata": {},
   "outputs": [
    {
     "name": "stderr",
     "output_type": "stream",
     "text": [
      "\r\u001b[32mComputing mixed cells... 9    Time: 0:00:00\u001b[39m\u001b[K\r\n",
      "\u001b[34m  mixed_volume:  22\u001b[39m\u001b[K\r\u001b[A"
     ]
    },
    {
     "name": "stderr",
     "output_type": "stream",
     "text": [
      "\n",
      "\r\u001b[K\u001b[A\r\u001b[32mComputing mixed cells... 30    Time: 0:00:00\u001b[39m\u001b[K\r\n",
      "\u001b[34m  mixed_volume:  76\u001b[39m\u001b[K\r\u001b[A"
     ]
    },
    {
     "name": "stderr",
     "output_type": "stream",
     "text": [
      "\n",
      "\r\u001b[K\u001b[A\r\u001b[32mComputing mixed cells... 48    Time: 0:00:01\u001b[39m\u001b[K\r\n",
      "\u001b[34m  mixed_volume:  124\u001b[39m\u001b[K\r\u001b[A"
     ]
    },
    {
     "name": "stderr",
     "output_type": "stream",
     "text": [
      "\n",
      "\r\u001b[K\u001b[A\r\u001b[32mComputing mixed cells... 119    Time: 0:00:01\u001b[39m\u001b[K\r\n",
      "\u001b[34m  mixed_volume:  330\u001b[39m\u001b[K\r\u001b[A"
     ]
    },
    {
     "name": "stderr",
     "output_type": "stream",
     "text": [
      "\n",
      "\r\u001b[K\u001b[A\r\u001b[32mComputing mixed cells... 166    Time: 0:00:02\u001b[39m\u001b[K\r\n",
      "\u001b[34m  mixed_volume:  436\u001b[39m\u001b[K\n"
     ]
    },
    {
     "name": "stdout",
     "output_type": "stream",
     "text": [
      "\r\u001b[32mTracking 436 paths...   0%|█                            |  ETA: 1:14:45\u001b[39m\u001b[K\r\n",
      "\u001b[34m  # paths tracked:                  2\u001b[39m\u001b[K\r\n",
      "\u001b[34m  # non-singular solutions (real):  0 (0)\u001b[39m\u001b[K\r\n",
      "\u001b[34m  # singular endpoints (real):      0 (0)\u001b[39m\u001b[K\r\n",
      "\u001b[34m  # total solutions (real):         0 (0)\u001b[39m\u001b[K\r\u001b[A\r\u001b[A\r\u001b[A\r\u001b[A"
     ]
    },
    {
     "name": "stdout",
     "output_type": "stream",
     "text": [
      "\n",
      "\n",
      "\n",
      "\n",
      "\r\u001b[K\u001b[A\r\u001b[K\u001b[A\r\u001b[K\u001b[A\r\u001b[K\u001b[A\r\u001b[32mTracking 436 paths...   3%|█                            |  ETA: 0:11:44\u001b[39m\u001b[K\r\n",
      "\u001b[34m  # paths tracked:                  13\u001b[39m\u001b[K\r\n",
      "\u001b[34m  # non-singular solutions (real):  0 (0)\u001b[39m\u001b[K\r\n",
      "\u001b[34m  # singular endpoints (real):      0 (0)\u001b[39m\u001b[K\r\n",
      "\u001b[34m  # total solutions (real):         0 (0)\u001b[39m\u001b[K\r\u001b[A\r\u001b[A\r\u001b[A\r\u001b[A"
     ]
    },
    {
     "name": "stdout",
     "output_type": "stream",
     "text": [
      "\n",
      "\n",
      "\n",
      "\n",
      "\r\u001b[K\u001b[A\r\u001b[K\u001b[A\r\u001b[K\u001b[A\r\u001b[K\u001b[A\r\u001b[32mTracking 436 paths...   4%|██                           |  ETA: 0:09:33\u001b[39m\u001b[K\r\n",
      "\u001b[34m  # paths tracked:                  16\u001b[39m\u001b[K\r\n",
      "\u001b[34m  # non-singular solutions (real):  0 (0)\u001b[39m\u001b[K\r\n",
      "\u001b[34m  # singular endpoints (real):      0 (0)\u001b[39m\u001b[K\r\n",
      "\u001b[34m  # total solutions (real):         0 (0)\u001b[39m\u001b[K\r\u001b[A\r\u001b[A\r\u001b[A\r\u001b[A"
     ]
    },
    {
     "name": "stdout",
     "output_type": "stream",
     "text": [
      "\n",
      "\n",
      "\n",
      "\n",
      "\r\u001b[K\u001b[A\r\u001b[K\u001b[A\r\u001b[K\u001b[A\r\u001b[K\u001b[A\r\u001b[32mTracking 436 paths...   5%|██                           |  ETA: 0:07:39\u001b[39m\u001b[K\r\n",
      "\u001b[34m  # paths tracked:                  20\u001b[39m\u001b[K\r\n",
      "\u001b[34m  # non-singular solutions (real):  0 (0)\u001b[39m\u001b[K\r\n",
      "\u001b[34m  # singular endpoints (real):      0 (0)\u001b[39m\u001b[K\r\n",
      "\u001b[34m  # total solutions (real):         0 (0)\u001b[39m\u001b[K\r\u001b[A\r\u001b[A\r\u001b[A\r\u001b[A"
     ]
    },
    {
     "name": "stdout",
     "output_type": "stream",
     "text": [
      "\n",
      "\n",
      "\n",
      "\n",
      "\r\u001b[K\u001b[A\r\u001b[K\u001b[A\r\u001b[K\u001b[A\r\u001b[K\u001b[A\r\u001b[32mTracking 436 paths...   6%|██                           |  ETA: 0:06:23\u001b[39m\u001b[K\r\n",
      "\u001b[34m  # paths tracked:                  24\u001b[39m\u001b[K\r\n",
      "\u001b[34m  # non-singular solutions (real):  0 (0)\u001b[39m\u001b[K\r\n",
      "\u001b[34m  # singular endpoints (real):      0 (0)\u001b[39m\u001b[K\r\n",
      "\u001b[34m  # total solutions (real):         0 (0)\u001b[39m\u001b[K\r\u001b[A\r\u001b[A\r\u001b[A\r\u001b[A"
     ]
    },
    {
     "name": "stdout",
     "output_type": "stream",
     "text": [
      "\n",
      "\n",
      "\n",
      "\n",
      "\r\u001b[K\u001b[A\r\u001b[K\u001b[A\r\u001b[K\u001b[A\r\u001b[K\u001b[A\r\u001b[32mTracking 436 paths...   7%|██                           |  ETA: 0:05:07\u001b[39m\u001b[K\r\n",
      "\u001b[34m  # paths tracked:                  30\u001b[39m\u001b[K\r\n",
      "\u001b[34m  # non-singular solutions (real):  0 (0)\u001b[39m\u001b[K\r\n",
      "\u001b[34m  # singular endpoints (real):      0 (0)\u001b[39m\u001b[K\r\n",
      "\u001b[34m  # total solutions (real):         0 (0)\u001b[39m\u001b[K\r\u001b[A\r\u001b[A\r\u001b[A\r\u001b[A"
     ]
    },
    {
     "name": "stdout",
     "output_type": "stream",
     "text": [
      "\n",
      "\n",
      "\n",
      "\n",
      "\r\u001b[K\u001b[A\r\u001b[K\u001b[A\r\u001b[K\u001b[A\r\u001b[K\u001b[A\r\u001b[32mTracking 436 paths...   8%|███                          |  ETA: 0:04:15\u001b[39m\u001b[K\r\n",
      "\u001b[34m  # paths tracked:                  36\u001b[39m\u001b[K\r\n",
      "\u001b[34m  # non-singular solutions (real):  0 (0)\u001b[39m\u001b[K\r\n",
      "\u001b[34m  # singular endpoints (real):      0 (0)\u001b[39m\u001b[K\r\n",
      "\u001b[34m  # total solutions (real):         0 (0)\u001b[39m\u001b[K\r\u001b[A\r\u001b[A\r\u001b[A\r\u001b[A"
     ]
    },
    {
     "name": "stdout",
     "output_type": "stream",
     "text": [
      "\n",
      "\n",
      "\n",
      "\n",
      "\r\u001b[K\u001b[A\r\u001b[K\u001b[A\r\u001b[K\u001b[A\r\u001b[K\u001b[A\r\u001b[32mTracking 436 paths...   9%|███                          |  ETA: 0:03:49\u001b[39m\u001b[K\r\n",
      "\u001b[34m  # paths tracked:                  40\u001b[39m\u001b[K\r\n",
      "\u001b[34m  # non-singular solutions (real):  0 (0)\u001b[39m\u001b[K\r\n",
      "\u001b[34m  # singular endpoints (real):      0 (0)\u001b[39m\u001b[K\r\n",
      "\u001b[34m  # total solutions (real):         0 (0)\u001b[39m\u001b[K\r\u001b[A\r\u001b[A\r\u001b[A\r\u001b[A"
     ]
    },
    {
     "name": "stdout",
     "output_type": "stream",
     "text": [
      "\n",
      "\n",
      "\n",
      "\n",
      "\r\u001b[K\u001b[A\r\u001b[K\u001b[A\r\u001b[K\u001b[A\r\u001b[K\u001b[A\r\u001b[32mTracking 436 paths...  10%|███                          |  ETA: 0:03:28\u001b[39m\u001b[K\r\n",
      "\u001b[34m  # paths tracked:                  44\u001b[39m\u001b[K\r\n",
      "\u001b[34m  # non-singular solutions (real):  0 (0)\u001b[39m\u001b[K\r\n",
      "\u001b[34m  # singular endpoints (real):      0 (0)\u001b[39m\u001b[K\r\n",
      "\u001b[34m  # total solutions (real):         0 (0)\u001b[39m\u001b[K\r\u001b[A\r\u001b[A\r\u001b[A\r\u001b[A"
     ]
    },
    {
     "name": "stdout",
     "output_type": "stream",
     "text": [
      "\n",
      "\n",
      "\n",
      "\n",
      "\r\u001b[K\u001b[A\r\u001b[K\u001b[A\r\u001b[K\u001b[A\r\u001b[K\u001b[A\r\u001b[32mTracking 436 paths...  11%|████                         |  ETA: 0:03:06\u001b[39m\u001b[K\r\n",
      "\u001b[34m  # paths tracked:                  49\u001b[39m\u001b[K\r\n",
      "\u001b[34m  # non-singular solutions (real):  0 (0)\u001b[39m\u001b[K\r\n",
      "\u001b[34m  # singular endpoints (real):      0 (0)\u001b[39m\u001b[K\r\n",
      "\u001b[34m  # total solutions (real):         0 (0)\u001b[39m\u001b[K\r\u001b[A\r\u001b[A\r\u001b[A\r\u001b[A"
     ]
    },
    {
     "name": "stdout",
     "output_type": "stream",
     "text": [
      "\n",
      "\n",
      "\n",
      "\n",
      "\r\u001b[K\u001b[A\r\u001b[K\u001b[A\r\u001b[K\u001b[A\r\u001b[K\u001b[A\r\u001b[32mTracking 436 paths...  13%|████                         |  ETA: 0:02:46\u001b[39m\u001b[K\r\n",
      "\u001b[34m  # paths tracked:                  55\u001b[39m\u001b[K\r\n",
      "\u001b[34m  # non-singular solutions (real):  0 (0)\u001b[39m\u001b[K\r\n",
      "\u001b[34m  # singular endpoints (real):      0 (0)\u001b[39m\u001b[K\r\n",
      "\u001b[34m  # total solutions (real):         0 (0)\u001b[39m\u001b[K"
     ]
    },
    {
     "name": "stdout",
     "output_type": "stream",
     "text": [
      "\r\u001b[A\r\u001b[A\r\u001b[A\r\u001b[A\n",
      "\n",
      "\n",
      "\n",
      "\r\u001b[K\u001b[A\r\u001b[K\u001b[A\r\u001b[K\u001b[A\r\u001b[K\u001b[A\r\u001b[32mTracking 436 paths...  14%|████                         |  ETA: 0:02:31\u001b[39m\u001b[K\r\n",
      "\u001b[34m  # paths tracked:                  60\u001b[39m\u001b[K\r\n",
      "\u001b[34m  # non-singular solutions (real):  0 (0)\u001b[39m\u001b[K\r\n",
      "\u001b[34m  # singular endpoints (real):      0 (0)\u001b[39m\u001b[K\r\n",
      "\u001b[34m  # total solutions (real):         0 (0)\u001b[39m\u001b[K\r\u001b[A\r\u001b[A\r\u001b[A\r\u001b[A"
     ]
    },
    {
     "name": "stdout",
     "output_type": "stream",
     "text": [
      "\n",
      "\n",
      "\n",
      "\n",
      "\r\u001b[K\u001b[A\r\u001b[K\u001b[A\r\u001b[K\u001b[A\r\u001b[K\u001b[A\r\u001b[32mTracking 436 paths...  15%|█████                        |  ETA: 0:02:17\u001b[39m\u001b[K\r\n",
      "\u001b[34m  # paths tracked:                  66\u001b[39m\u001b[K\r\n",
      "\u001b[34m  # non-singular solutions (real):  0 (0)\u001b[39m\u001b[K\r\n",
      "\u001b[34m  # singular endpoints (real):      0 (0)\u001b[39m\u001b[K\r\n",
      "\u001b[34m  # total solutions (real):         0 (0)\u001b[39m\u001b[K\r\u001b[A\r\u001b[A\r\u001b[A\r\u001b[A"
     ]
    },
    {
     "name": "stdout",
     "output_type": "stream",
     "text": [
      "\n",
      "\n",
      "\n",
      "\n",
      "\r\u001b[K\u001b[A\r\u001b[K\u001b[A\r\u001b[K\u001b[A\r\u001b[K\u001b[A\r\u001b[32mTracking 436 paths...  16%|█████                        |  ETA: 0:02:07\u001b[39m\u001b[K\r\n",
      "\u001b[34m  # paths tracked:                  71\u001b[39m\u001b[K\r\n",
      "\u001b[34m  # non-singular solutions (real):  1 (0)\u001b[39m\u001b[K\r\n",
      "\u001b[34m  # singular endpoints (real):      0 (0)\u001b[39m\u001b[K\r\n",
      "\u001b[34m  # total solutions (real):         1 (0)\u001b[39m\u001b[K\r\u001b[A\r\u001b[A\r\u001b[A\r\u001b[A"
     ]
    },
    {
     "name": "stdout",
     "output_type": "stream",
     "text": [
      "\n",
      "\n",
      "\n",
      "\n",
      "\r\u001b[K\u001b[A\r\u001b[K\u001b[A\r\u001b[K\u001b[A\r\u001b[K\u001b[A\r\u001b[32mTracking 436 paths...  17%|█████                        |  ETA: 0:02:00\u001b[39m\u001b[K\r\n",
      "\u001b[34m  # paths tracked:                  75\u001b[39m\u001b[K\r\n",
      "\u001b[34m  # non-singular solutions (real):  1 (0)\u001b[39m\u001b[K\r\n",
      "\u001b[34m  # singular endpoints (real):      0 (0)\u001b[39m\u001b[K\r\n",
      "\u001b[34m  # total solutions (real):         1 (0)\u001b[39m\u001b[K\r\u001b[A\r\u001b[A\r\u001b[A\r\u001b[A"
     ]
    },
    {
     "name": "stdout",
     "output_type": "stream",
     "text": [
      "\n",
      "\n",
      "\n",
      "\n",
      "\r\u001b[K\u001b[A\r\u001b[K\u001b[A\r\u001b[K\u001b[A\r\u001b[K\u001b[A\r\u001b[32mTracking 436 paths...  18%|██████                       |  ETA: 0:01:56\u001b[39m\u001b[K\r\n",
      "\u001b[34m  # paths tracked:                  78\u001b[39m\u001b[K\r\n",
      "\u001b[34m  # non-singular solutions (real):  2 (0)\u001b[39m\u001b[K\r\n",
      "\u001b[34m  # singular endpoints (real):      0 (0)\u001b[39m\u001b[K\r\n",
      "\u001b[34m  # total solutions (real):         2 (0)\u001b[39m\u001b[K\r\u001b[A\r\u001b[A\r\u001b[A\r\u001b[A"
     ]
    },
    {
     "name": "stdout",
     "output_type": "stream",
     "text": [
      "\n",
      "\n",
      "\n",
      "\n",
      "\r\u001b[K\u001b[A\r\u001b[K\u001b[A\r\u001b[K\u001b[A\r\u001b[K\u001b[A\r\u001b[32mTracking 436 paths...  19%|██████                       |  ETA: 0:01:47\u001b[39m\u001b[K\r\n",
      "\u001b[34m  # paths tracked:                  84\u001b[39m\u001b[K\r\n",
      "\u001b[34m  # non-singular solutions (real):  2 (0)\u001b[39m\u001b[K\r\n",
      "\u001b[34m  # singular endpoints (real):      0 (0)\u001b[39m\u001b[K\r\n",
      "\u001b[34m  # total solutions (real):         2 (0)\u001b[39m\u001b[K\r\u001b[A\r\u001b[A\r\u001b[A\r\u001b[A"
     ]
    },
    {
     "name": "stdout",
     "output_type": "stream",
     "text": [
      "\n",
      "\n",
      "\n",
      "\n",
      "\r\u001b[K\u001b[A\r\u001b[K\u001b[A\r\u001b[K\u001b[A\r\u001b[K\u001b[A\r\u001b[32mTracking 436 paths...  21%|██████                       |  ETA: 0:01:39\u001b[39m\u001b[K\r\n",
      "\u001b[34m  # paths tracked:                  90\u001b[39m\u001b[K\r\n",
      "\u001b[34m  # non-singular solutions (real):  2 (0)\u001b[39m\u001b[K\r\n",
      "\u001b[34m  # singular endpoints (real):      0 (0)\u001b[39m\u001b[K\r\n",
      "\u001b[34m  # total solutions (real):         2 (0)\u001b[39m\u001b[K\r\u001b[A\r\u001b[A\r\u001b[A\r\u001b[A"
     ]
    },
    {
     "name": "stdout",
     "output_type": "stream",
     "text": [
      "\n",
      "\n",
      "\n",
      "\n",
      "\r\u001b[K\u001b[A\r\u001b[K\u001b[A\r\u001b[K\u001b[A\r\u001b[K\u001b[A\r\u001b[32mTracking 436 paths...  22%|███████                      |  ETA: 0:01:33\u001b[39m\u001b[K\r\n",
      "\u001b[34m  # paths tracked:                  95\u001b[39m\u001b[K\r\n",
      "\u001b[34m  # non-singular solutions (real):  3 (0)\u001b[39m\u001b[K\r\n",
      "\u001b[34m  # singular endpoints (real):      0 (0)\u001b[39m\u001b[K\r\n",
      "\u001b[34m  # total solutions (real):         3 (0)\u001b[39m\u001b[K\r\u001b[A\r\u001b[A\r\u001b[A\r\u001b[A"
     ]
    },
    {
     "name": "stdout",
     "output_type": "stream",
     "text": [
      "\n",
      "\n",
      "\n",
      "\n",
      "\r\u001b[K\u001b[A\r\u001b[K\u001b[A\r\u001b[K\u001b[A\r\u001b[K\u001b[A\r\u001b[32mTracking 436 paths...  23%|███████                      |  ETA: 0:01:26\u001b[39m\u001b[K\r\n",
      "\u001b[34m  # paths tracked:                  102\u001b[39m\u001b[K\r\n",
      "\u001b[34m  # non-singular solutions (real):  4 (0)\u001b[39m\u001b[K\r\n",
      "\u001b[34m  # singular endpoints (real):      0 (0)\u001b[39m\u001b[K\r\n",
      "\u001b[34m  # total solutions (real):         4 (0)\u001b[39m\u001b[K\r\u001b[A\r\u001b[A\r\u001b[A\r\u001b[A"
     ]
    },
    {
     "name": "stdout",
     "output_type": "stream",
     "text": [
      "\n",
      "\n",
      "\n",
      "\n",
      "\r\u001b[K\u001b[A\r\u001b[K\u001b[A\r\u001b[K\u001b[A\r\u001b[K\u001b[A\r\u001b[32mTracking 436 paths...  25%|████████                     |  ETA: 0:01:22\u001b[39m\u001b[K\r\n",
      "\u001b[34m  # paths tracked:                  107\u001b[39m\u001b[K\r\n",
      "\u001b[34m  # non-singular solutions (real):  4 (0)\u001b[39m\u001b[K\r\n",
      "\u001b[34m  # singular endpoints (real):      0 (0)\u001b[39m\u001b[K\r\n",
      "\u001b[34m  # total solutions (real):         4 (0)\u001b[39m\u001b[K\r\u001b[A\r\u001b[A\r\u001b[A\r\u001b[A"
     ]
    },
    {
     "name": "stdout",
     "output_type": "stream",
     "text": [
      "\n",
      "\n",
      "\n",
      "\n",
      "\r\u001b[K\u001b[A\r\u001b[K\u001b[A\r\u001b[K\u001b[A\r\u001b[K\u001b[A\r\u001b[32mTracking 436 paths...  26%|████████                     |  ETA: 0:01:17\u001b[39m\u001b[K\r\n",
      "\u001b[34m  # paths tracked:                  112\u001b[39m\u001b[K\r\n",
      "\u001b[34m  # non-singular solutions (real):  4 (0)\u001b[39m\u001b[K\r\n",
      "\u001b[34m  # singular endpoints (real):      0 (0)\u001b[39m\u001b[K\r\n",
      "\u001b[34m  # total solutions (real):         4 (0)\u001b[39m\u001b[K\r\u001b[A\r\u001b[A\r\u001b[A\r\u001b[A"
     ]
    },
    {
     "name": "stdout",
     "output_type": "stream",
     "text": [
      "\n",
      "\n",
      "\n",
      "\n",
      "\r\u001b[K\u001b[A\r\u001b[K\u001b[A\r\u001b[K\u001b[A\r\u001b[K\u001b[A\r\u001b[32mTracking 436 paths...  27%|████████                     |  ETA: 0:01:15\u001b[39m\u001b[K\r\n",
      "\u001b[34m  # paths tracked:                  116\u001b[39m\u001b[K\r\n",
      "\u001b[34m  # non-singular solutions (real):  4 (0)\u001b[39m\u001b[K\r\n",
      "\u001b[34m  # singular endpoints (real):      0 (0)\u001b[39m\u001b[K\r\n",
      "\u001b[34m  # total solutions (real):         4 (0)\u001b[39m\u001b[K\r\u001b[A\r\u001b[A\r\u001b[A\r\u001b[A"
     ]
    },
    {
     "name": "stdout",
     "output_type": "stream",
     "text": [
      "\n",
      "\n",
      "\n",
      "\n",
      "\r\u001b[K\u001b[A\r\u001b[K\u001b[A\r\u001b[K\u001b[A\r\u001b[K\u001b[A\r\u001b[32mTracking 436 paths...  28%|█████████                    |  ETA: 0:01:11\u001b[39m\u001b[K\r\n",
      "\u001b[34m  # paths tracked:                  121\u001b[39m\u001b[K\r\n",
      "\u001b[34m  # non-singular solutions (real):  4 (0)\u001b[39m\u001b[K\r\n",
      "\u001b[34m  # singular endpoints (real):      0 (0)\u001b[39m\u001b[K\r\n",
      "\u001b[34m  # total solutions (real):         4 (0)\u001b[39m\u001b[K\r\u001b[A\r\u001b[A\r\u001b[A\r\u001b[A"
     ]
    },
    {
     "name": "stdout",
     "output_type": "stream",
     "text": [
      "\n",
      "\n",
      "\n",
      "\n",
      "\r\u001b[K\u001b[A\r\u001b[K\u001b[A\r\u001b[K\u001b[A\r\u001b[K\u001b[A\r\u001b[32mTracking 436 paths...  29%|█████████                    |  ETA: 0:01:07\u001b[39m\u001b[K\r\n",
      "\u001b[34m  # paths tracked:                  128\u001b[39m\u001b[K\r\n",
      "\u001b[34m  # non-singular solutions (real):  4 (0)\u001b[39m\u001b[K\r\n",
      "\u001b[34m  # singular endpoints (real):      0 (0)\u001b[39m\u001b[K\r\n",
      "\u001b[34m  # total solutions (real):         4 (0)\u001b[39m\u001b[K\r\u001b[A\r\u001b[A\r\u001b[A\r\u001b[A"
     ]
    },
    {
     "name": "stdout",
     "output_type": "stream",
     "text": [
      "\n",
      "\n",
      "\n",
      "\n",
      "\r\u001b[K\u001b[A\r\u001b[K\u001b[A\r\u001b[K\u001b[A\r\u001b[K\u001b[A\r\u001b[32mTracking 436 paths...  31%|█████████                    |  ETA: 0:01:03\u001b[39m\u001b[K\r\n",
      "\u001b[34m  # paths tracked:                  134\u001b[39m\u001b[K\r\n",
      "\u001b[34m  # non-singular solutions (real):  5 (0)\u001b[39m\u001b[K\r\n",
      "\u001b[34m  # singular endpoints (real):      0 (0)\u001b[39m\u001b[K\r\n",
      "\u001b[34m  # total solutions (real):         5 (0)\u001b[39m\u001b[K\r\u001b[A\r\u001b[A\r\u001b[A\r\u001b[A"
     ]
    },
    {
     "name": "stdout",
     "output_type": "stream",
     "text": [
      "\n",
      "\n",
      "\n",
      "\n",
      "\r\u001b[K\u001b[A\r\u001b[K\u001b[A\r\u001b[K\u001b[A\r\u001b[K\u001b[A\r\u001b[32mTracking 436 paths...  32%|██████████                   |  ETA: 0:01:00\u001b[39m\u001b[K\r\n",
      "\u001b[34m  # paths tracked:                  140\u001b[39m\u001b[K\r\n",
      "\u001b[34m  # non-singular solutions (real):  5 (0)\u001b[39m\u001b[K\r\n",
      "\u001b[34m  # singular endpoints (real):      0 (0)\u001b[39m\u001b[K\r\n",
      "\u001b[34m  # total solutions (real):         5 (0)\u001b[39m\u001b[K\r\u001b[A\r\u001b[A\r\u001b[A\r\u001b[A"
     ]
    },
    {
     "name": "stdout",
     "output_type": "stream",
     "text": [
      "\n",
      "\n",
      "\n",
      "\n",
      "\r\u001b[K\u001b[A\r\u001b[K\u001b[A\r\u001b[K\u001b[A\r\u001b[K\u001b[A\r\u001b[32mTracking 436 paths...  33%|██████████                   |  ETA: 0:00:57\u001b[39m\u001b[K\r\n",
      "\u001b[34m  # paths tracked:                  145\u001b[39m\u001b[K\r\n",
      "\u001b[34m  # non-singular solutions (real):  5 (0)\u001b[39m\u001b[K\r\n",
      "\u001b[34m  # singular endpoints (real):      0 (0)\u001b[39m\u001b[K\r\n",
      "\u001b[34m  # total solutions (real):         5 (0)\u001b[39m\u001b[K\r\u001b[A\r\u001b[A\r\u001b[A\r\u001b[A"
     ]
    },
    {
     "name": "stdout",
     "output_type": "stream",
     "text": [
      "\n",
      "\n",
      "\n",
      "\n",
      "\r\u001b[K\u001b[A\r\u001b[K\u001b[A\r\u001b[K\u001b[A\r\u001b[K\u001b[A\r\u001b[32mTracking 436 paths...  35%|███████████                  |  ETA: 0:00:54\u001b[39m\u001b[K\r\n",
      "\u001b[34m  # paths tracked:                  151\u001b[39m\u001b[K\r\n",
      "\u001b[34m  # non-singular solutions (real):  5 (0)\u001b[39m\u001b[K\r\n",
      "\u001b[34m  # singular endpoints (real):      0 (0)\u001b[39m\u001b[K\r\n",
      "\u001b[34m  # total solutions (real):         5 (0)\u001b[39m\u001b[K\r\u001b[A\r\u001b[A\r\u001b[A\r\u001b[A"
     ]
    },
    {
     "name": "stdout",
     "output_type": "stream",
     "text": [
      "\n",
      "\n",
      "\n",
      "\n",
      "\r\u001b[K\u001b[A\r\u001b[K\u001b[A\r\u001b[K\u001b[A\r\u001b[K\u001b[A\r\u001b[32mTracking 436 paths...  36%|███████████                  |  ETA: 0:00:52\u001b[39m\u001b[K\r\n",
      "\u001b[34m  # paths tracked:                  156\u001b[39m\u001b[K\r\n",
      "\u001b[34m  # non-singular solutions (real):  5 (0)\u001b[39m\u001b[K\r\n",
      "\u001b[34m  # singular endpoints (real):      0 (0)\u001b[39m\u001b[K\r\n",
      "\u001b[34m  # total solutions (real):         5 (0)\u001b[39m\u001b[K\r\u001b[A\r\u001b[A\r\u001b[A\r\u001b[A"
     ]
    },
    {
     "name": "stdout",
     "output_type": "stream",
     "text": [
      "\n",
      "\n",
      "\n",
      "\n",
      "\r\u001b[K\u001b[A\r\u001b[K\u001b[A\r\u001b[K\u001b[A\r\u001b[K\u001b[A\r\u001b[32mTracking 436 paths...  37%|███████████                  |  ETA: 0:00:49\u001b[39m\u001b[K\r\n",
      "\u001b[34m  # paths tracked:                  162\u001b[39m\u001b[K\r\n",
      "\u001b[34m  # non-singular solutions (real):  5 (0)\u001b[39m\u001b[K\r\n",
      "\u001b[34m  # singular endpoints (real):      0 (0)\u001b[39m\u001b[K\r\n",
      "\u001b[34m  # total solutions (real):         5 (0)\u001b[39m\u001b[K\r\u001b[A\r\u001b[A\r\u001b[A\r\u001b[A"
     ]
    },
    {
     "name": "stdout",
     "output_type": "stream",
     "text": [
      "\n",
      "\n",
      "\n",
      "\n",
      "\r\u001b[K\u001b[A\r\u001b[K\u001b[A\r\u001b[K\u001b[A\r\u001b[K\u001b[A\r\u001b[32mTracking 436 paths...  38%|████████████                 |  ETA: 0:00:47\u001b[39m\u001b[K\r\n",
      "\u001b[34m  # paths tracked:                  167\u001b[39m\u001b[K\r\n",
      "\u001b[34m  # non-singular solutions (real):  5 (0)\u001b[39m\u001b[K\r\n",
      "\u001b[34m  # singular endpoints (real):      0 (0)\u001b[39m\u001b[K\r\n",
      "\u001b[34m  # total solutions (real):         5 (0)\u001b[39m\u001b[K\r\u001b[A\r\u001b[A\r\u001b[A\r\u001b[A"
     ]
    },
    {
     "name": "stdout",
     "output_type": "stream",
     "text": [
      "\n",
      "\n",
      "\n",
      "\n",
      "\r\u001b[K\u001b[A\r\u001b[K\u001b[A\r\u001b[K\u001b[A\r\u001b[K\u001b[A\r\u001b[32mTracking 436 paths...  39%|████████████                 |  ETA: 0:00:46\u001b[39m\u001b[K\r\n",
      "\u001b[34m  # paths tracked:                  172\u001b[39m\u001b[K\r\n",
      "\u001b[34m  # non-singular solutions (real):  6 (0)\u001b[39m\u001b[K\r\n",
      "\u001b[34m  # singular endpoints (real):      0 (0)\u001b[39m\u001b[K\r\n",
      "\u001b[34m  # total solutions (real):         6 (0)\u001b[39m\u001b[K\r\u001b[A\r\u001b[A\r\u001b[A\r\u001b[A"
     ]
    },
    {
     "name": "stdout",
     "output_type": "stream",
     "text": [
      "\n",
      "\n",
      "\n",
      "\n",
      "\r\u001b[K\u001b[A\r\u001b[K\u001b[A\r\u001b[K\u001b[A\r\u001b[K\u001b[A\r\u001b[32mTracking 436 paths...  41%|████████████                 |  ETA: 0:00:44\u001b[39m\u001b[K\r\n",
      "\u001b[34m  # paths tracked:                  177\u001b[39m\u001b[K\r\n",
      "\u001b[34m  # non-singular solutions (real):  6 (0)\u001b[39m\u001b[K\r\n",
      "\u001b[34m  # singular endpoints (real):      0 (0)\u001b[39m\u001b[K\r\n",
      "\u001b[34m  # total solutions (real):         6 (0)\u001b[39m\u001b[K\r\u001b[A\r\u001b[A\r\u001b[A\r\u001b[A"
     ]
    },
    {
     "name": "stdout",
     "output_type": "stream",
     "text": [
      "\n",
      "\n",
      "\n",
      "\n",
      "\r\u001b[K\u001b[A\r\u001b[K\u001b[A\r\u001b[K\u001b[A\r\u001b[K\u001b[A\r\u001b[32mTracking 436 paths...  42%|█████████████                |  ETA: 0:00:42\u001b[39m\u001b[K\r\n",
      "\u001b[34m  # paths tracked:                  184\u001b[39m\u001b[K\r\n",
      "\u001b[34m  # non-singular solutions (real):  6 (0)\u001b[39m\u001b[K\r\n",
      "\u001b[34m  # singular endpoints (real):      0 (0)\u001b[39m\u001b[K\r\n",
      "\u001b[34m  # total solutions (real):         6 (0)\u001b[39m\u001b[K\r\u001b[A\r\u001b[A\r\u001b[A\r\u001b[A"
     ]
    },
    {
     "name": "stdout",
     "output_type": "stream",
     "text": [
      "\n",
      "\n",
      "\n",
      "\n",
      "\r\u001b[K\u001b[A\r\u001b[K\u001b[A\r\u001b[K\u001b[A\r\u001b[K\u001b[A\r\u001b[32mTracking 436 paths...  44%|█████████████                |  ETA: 0:00:40\u001b[39m\u001b[K\r\n",
      "\u001b[34m  # paths tracked:                  190\u001b[39m\u001b[K\r\n",
      "\u001b[34m  # non-singular solutions (real):  6 (0)\u001b[39m\u001b[K\r\n",
      "\u001b[34m  # singular endpoints (real):      0 (0)\u001b[39m\u001b[K\r\n",
      "\u001b[34m  # total solutions (real):         6 (0)\u001b[39m\u001b[K\r\u001b[A\r\u001b[A\r\u001b[A\r\u001b[A"
     ]
    },
    {
     "name": "stdout",
     "output_type": "stream",
     "text": [
      "\n",
      "\n",
      "\n",
      "\n",
      "\r\u001b[K\u001b[A\r\u001b[K\u001b[A\r\u001b[K\u001b[A\r\u001b[K\u001b[A\r\u001b[32mTracking 436 paths...  45%|█████████████                |  ETA: 0:00:38\u001b[39m\u001b[K\r\n",
      "\u001b[34m  # paths tracked:                  195\u001b[39m\u001b[K\r\n",
      "\u001b[34m  # non-singular solutions (real):  6 (0)\u001b[39m\u001b[K\r\n",
      "\u001b[34m  # singular endpoints (real):      0 (0)\u001b[39m\u001b[K\r\n",
      "\u001b[34m  # total solutions (real):         6 (0)\u001b[39m\u001b[K\r\u001b[A\r\u001b[A\r\u001b[A\r\u001b[A"
     ]
    },
    {
     "name": "stdout",
     "output_type": "stream",
     "text": [
      "\n",
      "\n",
      "\n",
      "\n",
      "\r\u001b[K\u001b[A\r\u001b[K\u001b[A\r\u001b[K\u001b[A\r\u001b[K\u001b[A\r\u001b[32mTracking 436 paths...  46%|██████████████               |  ETA: 0:00:37\u001b[39m\u001b[K\r\n",
      "\u001b[34m  # paths tracked:                  200\u001b[39m\u001b[K\r\n",
      "\u001b[34m  # non-singular solutions (real):  8 (0)\u001b[39m\u001b[K\r\n",
      "\u001b[34m  # singular endpoints (real):      0 (0)\u001b[39m\u001b[K\r\n",
      "\u001b[34m  # total solutions (real):         8 (0)\u001b[39m\u001b[K\r\u001b[A\r\u001b[A\r\u001b[A\r\u001b[A"
     ]
    },
    {
     "name": "stdout",
     "output_type": "stream",
     "text": [
      "\n",
      "\n",
      "\n",
      "\n",
      "\r\u001b[K\u001b[A\r\u001b[K\u001b[A\r\u001b[K\u001b[A\r\u001b[K\u001b[A\r\u001b[32mTracking 436 paths...  47%|██████████████               |  ETA: 0:00:35\u001b[39m\u001b[K\r\n",
      "\u001b[34m  # paths tracked:                  206\u001b[39m\u001b[K\r\n",
      "\u001b[34m  # non-singular solutions (real):  8 (0)\u001b[39m\u001b[K\r\n",
      "\u001b[34m  # singular endpoints (real):      0 (0)\u001b[39m\u001b[K\r\n",
      "\u001b[34m  # total solutions (real):         8 (0)\u001b[39m\u001b[K\r\u001b[A\r\u001b[A\r\u001b[A\r\u001b[A"
     ]
    },
    {
     "name": "stdout",
     "output_type": "stream",
     "text": [
      "\n",
      "\n",
      "\n",
      "\n",
      "\r\u001b[K\u001b[A\r\u001b[K\u001b[A\r\u001b[K\u001b[A\r\u001b[K\u001b[A\r\u001b[32mTracking 436 paths...  48%|██████████████               |  ETA: 0:00:34\u001b[39m\u001b[K\r\n",
      "\u001b[34m  # paths tracked:                  210\u001b[39m\u001b[K\r\n",
      "\u001b[34m  # non-singular solutions (real):  8 (0)\u001b[39m\u001b[K\r\n",
      "\u001b[34m  # singular endpoints (real):      0 (0)\u001b[39m\u001b[K\r\n",
      "\u001b[34m  # total solutions (real):         8 (0)\u001b[39m\u001b[K\r\u001b[A\r\u001b[A\r\u001b[A\r\u001b[A"
     ]
    },
    {
     "name": "stdout",
     "output_type": "stream",
     "text": [
      "\n",
      "\n",
      "\n",
      "\n",
      "\r\u001b[K\u001b[A\r\u001b[K\u001b[A\r\u001b[K\u001b[A\r\u001b[K\u001b[A\r\u001b[32mTracking 436 paths...  49%|███████████████              |  ETA: 0:00:33\u001b[39m\u001b[K\r\n",
      "\u001b[34m  # paths tracked:                  215\u001b[39m\u001b[K\r\n",
      "\u001b[34m  # non-singular solutions (real):  8 (0)\u001b[39m\u001b[K\r\n",
      "\u001b[34m  # singular endpoints (real):      0 (0)\u001b[39m\u001b[K\r\n",
      "\u001b[34m  # total solutions (real):         8 (0)\u001b[39m\u001b[K\r\u001b[A\r\u001b[A\r\u001b[A\r\u001b[A"
     ]
    },
    {
     "name": "stdout",
     "output_type": "stream",
     "text": [
      "\n",
      "\n",
      "\n",
      "\n",
      "\r\u001b[K\u001b[A\r\u001b[K\u001b[A\r\u001b[K\u001b[A\r\u001b[K\u001b[A\r\u001b[32mTracking 436 paths...  50%|███████████████              |  ETA: 0:00:32\u001b[39m\u001b[K\r\n",
      "\u001b[34m  # paths tracked:                  220\u001b[39m\u001b[K\r\n",
      "\u001b[34m  # non-singular solutions (real):  8 (0)\u001b[39m\u001b[K\r\n",
      "\u001b[34m  # singular endpoints (real):      0 (0)\u001b[39m\u001b[K\r\n",
      "\u001b[34m  # total solutions (real):         8 (0)\u001b[39m\u001b[K\r\u001b[A\r\u001b[A\r\u001b[A\r\u001b[A"
     ]
    },
    {
     "name": "stdout",
     "output_type": "stream",
     "text": [
      "\n",
      "\n",
      "\n",
      "\n",
      "\r\u001b[K\u001b[A\r\u001b[K\u001b[A\r\u001b[K\u001b[A\r\u001b[K\u001b[A\r\u001b[32mTracking 436 paths...  52%|███████████████              |  ETA: 0:00:30\u001b[39m\u001b[K\r\n",
      "\u001b[34m  # paths tracked:                  225\u001b[39m\u001b[K\r\n",
      "\u001b[34m  # non-singular solutions (real):  8 (0)\u001b[39m\u001b[K\r\n",
      "\u001b[34m  # singular endpoints (real):      0 (0)\u001b[39m\u001b[K\r\n",
      "\u001b[34m  # total solutions (real):         8 (0)\u001b[39m\u001b[K\r\u001b[A\r\u001b[A\r\u001b[A\r\u001b[A"
     ]
    },
    {
     "name": "stdout",
     "output_type": "stream",
     "text": [
      "\n",
      "\n",
      "\n",
      "\n",
      "\r\u001b[K\u001b[A\r\u001b[K\u001b[A\r\u001b[K\u001b[A\r\u001b[K\u001b[A\r\u001b[32mTracking 436 paths...  53%|████████████████             |  ETA: 0:00:29\u001b[39m\u001b[K\r\n",
      "\u001b[34m  # paths tracked:                  230\u001b[39m\u001b[K\r\n",
      "\u001b[34m  # non-singular solutions (real):  8 (0)\u001b[39m\u001b[K\r\n",
      "\u001b[34m  # singular endpoints (real):      0 (0)\u001b[39m\u001b[K\r\n",
      "\u001b[34m  # total solutions (real):         8 (0)\u001b[39m\u001b[K\r\u001b[A\r\u001b[A\r\u001b[A\r\u001b[A"
     ]
    },
    {
     "name": "stdout",
     "output_type": "stream",
     "text": [
      "\n",
      "\n",
      "\n",
      "\n",
      "\r\u001b[K\u001b[A\r\u001b[K\u001b[A\r\u001b[K\u001b[A\r\u001b[K\u001b[A\r\u001b[32mTracking 436 paths...  53%|████████████████             |  ETA: 0:00:29\u001b[39m\u001b[K\r\n",
      "\u001b[34m  # paths tracked:                  233\u001b[39m\u001b[K\r\n",
      "\u001b[34m  # non-singular solutions (real):  8 (0)\u001b[39m\u001b[K\r\n",
      "\u001b[34m  # singular endpoints (real):      0 (0)\u001b[39m\u001b[K\r\n",
      "\u001b[34m  # total solutions (real):         8 (0)\u001b[39m\u001b[K\r\u001b[A\r\u001b[A\r\u001b[A\r\u001b[A"
     ]
    },
    {
     "name": "stdout",
     "output_type": "stream",
     "text": [
      "\n",
      "\n",
      "\n",
      "\n",
      "\r\u001b[K\u001b[A\r\u001b[K\u001b[A\r\u001b[K\u001b[A\r\u001b[K\u001b[A\r\u001b[32mTracking 436 paths...  54%|████████████████             |  ETA: 0:00:28\u001b[39m\u001b[K\r\n",
      "\u001b[34m  # paths tracked:                  236\u001b[39m\u001b[K\r\n",
      "\u001b[34m  # non-singular solutions (real):  8 (0)\u001b[39m\u001b[K\r\n",
      "\u001b[34m  # singular endpoints (real):      0 (0)\u001b[39m\u001b[K\r\n",
      "\u001b[34m  # total solutions (real):         8 (0)\u001b[39m\u001b[K\r\u001b[A\r\u001b[A\r\u001b[A\r\u001b[A"
     ]
    },
    {
     "name": "stdout",
     "output_type": "stream",
     "text": [
      "\n",
      "\n",
      "\n",
      "\n",
      "\r\u001b[K\u001b[A\r\u001b[K\u001b[A\r\u001b[K\u001b[A\r\u001b[K\u001b[A\r\u001b[32mTracking 436 paths...  55%|████████████████             |  ETA: 0:00:27\u001b[39m\u001b[K\r\n",
      "\u001b[34m  # paths tracked:                  240\u001b[39m\u001b[K\r\n",
      "\u001b[34m  # non-singular solutions (real):  8 (0)\u001b[39m\u001b[K\r\n",
      "\u001b[34m  # singular endpoints (real):      0 (0)\u001b[39m\u001b[K\r\n",
      "\u001b[34m  # total solutions (real):         8 (0)\u001b[39m\u001b[K\r\u001b[A\r\u001b[A\r\u001b[A\r\u001b[A"
     ]
    },
    {
     "name": "stdout",
     "output_type": "stream",
     "text": [
      "\n",
      "\n",
      "\n",
      "\n",
      "\r\u001b[K\u001b[A\r\u001b[K\u001b[A\r\u001b[K\u001b[A\r\u001b[K\u001b[A\r\u001b[32mTracking 436 paths...  56%|█████████████████            |  ETA: 0:00:26\u001b[39m\u001b[K\r\n",
      "\u001b[34m  # paths tracked:                  246\u001b[39m\u001b[K\r\n",
      "\u001b[34m  # non-singular solutions (real):  8 (0)\u001b[39m\u001b[K\r\n",
      "\u001b[34m  # singular endpoints (real):      0 (0)\u001b[39m\u001b[K\r\n",
      "\u001b[34m  # total solutions (real):         8 (0)\u001b[39m\u001b[K\r\u001b[A\r\u001b[A\r\u001b[A\r\u001b[A"
     ]
    },
    {
     "name": "stdout",
     "output_type": "stream",
     "text": [
      "\n",
      "\n",
      "\n",
      "\n",
      "\r\u001b[K\u001b[A\r\u001b[K\u001b[A\r\u001b[K\u001b[A\r\u001b[K\u001b[A\r\u001b[32mTracking 436 paths...  58%|█████████████████            |  ETA: 0:00:25\u001b[39m\u001b[K\r\n",
      "\u001b[34m  # paths tracked:                  251\u001b[39m\u001b[K\r\n",
      "\u001b[34m  # non-singular solutions (real):  8 (0)\u001b[39m\u001b[K\r\n",
      "\u001b[34m  # singular endpoints (real):      0 (0)\u001b[39m\u001b[K\r\n",
      "\u001b[34m  # total solutions (real):         8 (0)\u001b[39m\u001b[K\r\u001b[A\r\u001b[A\r\u001b[A\r\u001b[A"
     ]
    },
    {
     "name": "stdout",
     "output_type": "stream",
     "text": [
      "\n",
      "\n",
      "\n",
      "\n",
      "\r\u001b[K\u001b[A\r\u001b[K\u001b[A\r\u001b[K\u001b[A\r\u001b[K\u001b[A\r\u001b[32mTracking 436 paths...  59%|██████████████████           |  ETA: 0:00:24\u001b[39m\u001b[K\r\n",
      "\u001b[34m  # paths tracked:                  256\u001b[39m\u001b[K\r\n",
      "\u001b[34m  # non-singular solutions (real):  8 (0)\u001b[39m\u001b[K\r\n",
      "\u001b[34m  # singular endpoints (real):      0 (0)\u001b[39m\u001b[K\r\n",
      "\u001b[34m  # total solutions (real):         8 (0)\u001b[39m\u001b[K\r\u001b[A\r\u001b[A\r\u001b[A\r\u001b[A"
     ]
    },
    {
     "name": "stdout",
     "output_type": "stream",
     "text": [
      "\n",
      "\n",
      "\n",
      "\n",
      "\r\u001b[K\u001b[A\r\u001b[K\u001b[A\r\u001b[K\u001b[A\r\u001b[K\u001b[A\r\u001b[32mTracking 436 paths...  60%|██████████████████           |  ETA: 0:00:23\u001b[39m\u001b[K\r\n",
      "\u001b[34m  # paths tracked:                  261\u001b[39m\u001b[K\r\n",
      "\u001b[34m  # non-singular solutions (real):  8 (0)\u001b[39m\u001b[K\r\n",
      "\u001b[34m  # singular endpoints (real):      0 (0)\u001b[39m\u001b[K\r\n",
      "\u001b[34m  # total solutions (real):         8 (0)\u001b[39m\u001b[K\r\u001b[A\r\u001b[A\r\u001b[A\r\u001b[A"
     ]
    },
    {
     "name": "stdout",
     "output_type": "stream",
     "text": [
      "\n",
      "\n",
      "\n",
      "\n",
      "\r\u001b[K\u001b[A\r\u001b[K\u001b[A\r\u001b[K\u001b[A\r\u001b[K\u001b[A\r\u001b[32mTracking 436 paths...  61%|██████████████████           |  ETA: 0:00:22\u001b[39m\u001b[K\r\n",
      "\u001b[34m  # paths tracked:                  267\u001b[39m\u001b[K\r\n",
      "\u001b[34m  # non-singular solutions (real):  9 (0)\u001b[39m\u001b[K\r\n",
      "\u001b[34m  # singular endpoints (real):      0 (0)\u001b[39m\u001b[K\r\n",
      "\u001b[34m  # total solutions (real):         9 (0)\u001b[39m\u001b[K\r\u001b[A\r\u001b[A\r\u001b[A\r\u001b[A"
     ]
    },
    {
     "name": "stdout",
     "output_type": "stream",
     "text": [
      "\n",
      "\n",
      "\n",
      "\n",
      "\r\u001b[K\u001b[A\r\u001b[K\u001b[A\r\u001b[K\u001b[A\r\u001b[K\u001b[A\r\u001b[32mTracking 436 paths...  62%|███████████████████          |  ETA: 0:00:21\u001b[39m\u001b[K\r\n",
      "\u001b[34m  # paths tracked:                  272\u001b[39m\u001b[K\r\n",
      "\u001b[34m  # non-singular solutions (real):  9 (0)\u001b[39m\u001b[K\r\n",
      "\u001b[34m  # singular endpoints (real):      0 (0)\u001b[39m\u001b[K\r\n",
      "\u001b[34m  # total solutions (real):         9 (0)\u001b[39m\u001b[K\r\u001b[A\r\u001b[A\r\u001b[A\r\u001b[A"
     ]
    },
    {
     "name": "stdout",
     "output_type": "stream",
     "text": [
      "\n",
      "\n",
      "\n",
      "\n",
      "\r\u001b[K\u001b[A\r\u001b[K\u001b[A\r\u001b[K\u001b[A\r\u001b[K\u001b[A\r\u001b[32mTracking 436 paths...  64%|███████████████████          |  ETA: 0:00:20\u001b[39m\u001b[K\r\n",
      "\u001b[34m  # paths tracked:                  278\u001b[39m\u001b[K\r\n",
      "\u001b[34m  # non-singular solutions (real):  9 (0)\u001b[39m\u001b[K\r\n",
      "\u001b[34m  # singular endpoints (real):      0 (0)\u001b[39m\u001b[K\r\n",
      "\u001b[34m  # total solutions (real):         9 (0)\u001b[39m\u001b[K\r\u001b[A\r\u001b[A\r\u001b[A\r\u001b[A"
     ]
    },
    {
     "name": "stdout",
     "output_type": "stream",
     "text": [
      "\n",
      "\n",
      "\n",
      "\n",
      "\r\u001b[K\u001b[A\r\u001b[K\u001b[A\r\u001b[K\u001b[A\r\u001b[K\u001b[A\r\u001b[32mTracking 436 paths...  65%|███████████████████          |  ETA: 0:00:19\u001b[39m\u001b[K\r\n",
      "\u001b[34m  # paths tracked:                  284\u001b[39m\u001b[K\r\n",
      "\u001b[34m  # non-singular solutions (real):  9 (0)\u001b[39m\u001b[K\r\n",
      "\u001b[34m  # singular endpoints (real):      0 (0)\u001b[39m\u001b[K\r\n",
      "\u001b[34m  # total solutions (real):         9 (0)\u001b[39m\u001b[K\r\u001b[A\r\u001b[A\r\u001b[A\r\u001b[A"
     ]
    },
    {
     "name": "stdout",
     "output_type": "stream",
     "text": [
      "\n",
      "\n",
      "\n",
      "\n",
      "\r\u001b[K\u001b[A\r\u001b[K\u001b[A\r\u001b[K\u001b[A\r\u001b[K\u001b[A\r\u001b[32mTracking 436 paths...  66%|████████████████████         |  ETA: 0:00:18\u001b[39m\u001b[K\r\n",
      "\u001b[34m  # paths tracked:                  289\u001b[39m\u001b[K\r\n",
      "\u001b[34m  # non-singular solutions (real):  9 (0)\u001b[39m\u001b[K\r\n",
      "\u001b[34m  # singular endpoints (real):      0 (0)\u001b[39m\u001b[K\r\n",
      "\u001b[34m  # total solutions (real):         9 (0)\u001b[39m\u001b[K\r\u001b[A\r\u001b[A\r\u001b[A\r\u001b[A"
     ]
    },
    {
     "name": "stdout",
     "output_type": "stream",
     "text": [
      "\n",
      "\n",
      "\n",
      "\n",
      "\r\u001b[K\u001b[A\r\u001b[K\u001b[A\r\u001b[K\u001b[A\r\u001b[K\u001b[A\r\u001b[32mTracking 436 paths...  67%|████████████████████         |  ETA: 0:00:17\u001b[39m\u001b[K\r\n",
      "\u001b[34m  # paths tracked:                  294\u001b[39m\u001b[K\r\n",
      "\u001b[34m  # non-singular solutions (real):  9 (0)\u001b[39m\u001b[K\r\n",
      "\u001b[34m  # singular endpoints (real):      0 (0)\u001b[39m\u001b[K\r\n",
      "\u001b[34m  # total solutions (real):         9 (0)\u001b[39m\u001b[K\r\u001b[A\r\u001b[A\r\u001b[A\r\u001b[A"
     ]
    },
    {
     "name": "stdout",
     "output_type": "stream",
     "text": [
      "\n",
      "\n",
      "\n",
      "\n",
      "\r\u001b[K\u001b[A\r\u001b[K\u001b[A\r\u001b[K\u001b[A\r\u001b[K\u001b[A\r\u001b[32mTracking 436 paths...  69%|████████████████████         |  ETA: 0:00:17\u001b[39m\u001b[K\r\n",
      "\u001b[34m  # paths tracked:                  300\u001b[39m\u001b[K\r\n",
      "\u001b[34m  # non-singular solutions (real):  9 (0)\u001b[39m\u001b[K\r\n",
      "\u001b[34m  # singular endpoints (real):      0 (0)\u001b[39m\u001b[K\r\n",
      "\u001b[34m  # total solutions (real):         9 (0)\u001b[39m\u001b[K\r\u001b[A\r\u001b[A\r\u001b[A\r\u001b[A"
     ]
    },
    {
     "name": "stdout",
     "output_type": "stream",
     "text": [
      "\n",
      "\n",
      "\n",
      "\n",
      "\r\u001b[K\u001b[A\r\u001b[K\u001b[A\r\u001b[K\u001b[A\r\u001b[K\u001b[A\r\u001b[32mTracking 436 paths...  70%|█████████████████████        |  ETA: 0:00:16\u001b[39m\u001b[K\r\n",
      "\u001b[34m  # paths tracked:                  305\u001b[39m\u001b[K\r\n",
      "\u001b[34m  # non-singular solutions (real):  9 (0)\u001b[39m\u001b[K\r\n",
      "\u001b[34m  # singular endpoints (real):      0 (0)\u001b[39m\u001b[K\r\n",
      "\u001b[34m  # total solutions (real):         9 (0)\u001b[39m\u001b[K\r\u001b[A\r\u001b[A\r\u001b[A\r\u001b[A"
     ]
    },
    {
     "name": "stdout",
     "output_type": "stream",
     "text": [
      "\n",
      "\n",
      "\n",
      "\n",
      "\r\u001b[K\u001b[A\r\u001b[K\u001b[A\r\u001b[K\u001b[A\r\u001b[K\u001b[A\r\u001b[32mTracking 436 paths...  71%|█████████████████████        |  ETA: 0:00:15\u001b[39m\u001b[K\r\n",
      "\u001b[34m  # paths tracked:                  311\u001b[39m\u001b[K\r\n",
      "\u001b[34m  # non-singular solutions (real):  9 (0)\u001b[39m\u001b[K\r\n",
      "\u001b[34m  # singular endpoints (real):      0 (0)\u001b[39m\u001b[K\r\n",
      "\u001b[34m  # total solutions (real):         9 (0)\u001b[39m\u001b[K\r\u001b[A\r\u001b[A\r\u001b[A\r\u001b[A"
     ]
    },
    {
     "name": "stdout",
     "output_type": "stream",
     "text": [
      "\n",
      "\n",
      "\n",
      "\n",
      "\r\u001b[K\u001b[A\r\u001b[K\u001b[A\r\u001b[K\u001b[A\r\u001b[K\u001b[A\r\u001b[32mTracking 436 paths...  72%|██████████████████████       |  ETA: 0:00:14\u001b[39m\u001b[K\r\n",
      "\u001b[34m  # paths tracked:                  316\u001b[39m\u001b[K\r\n",
      "\u001b[34m  # non-singular solutions (real):  9 (0)\u001b[39m\u001b[K\r\n",
      "\u001b[34m  # singular endpoints (real):      0 (0)\u001b[39m\u001b[K\r\n",
      "\u001b[34m  # total solutions (real):         9 (0)\u001b[39m\u001b[K\r\u001b[A\r\u001b[A\r\u001b[A\r\u001b[A"
     ]
    },
    {
     "name": "stdout",
     "output_type": "stream",
     "text": [
      "\n",
      "\n",
      "\n",
      "\n",
      "\r\u001b[K\u001b[A\r\u001b[K\u001b[A\r\u001b[K\u001b[A\r\u001b[K\u001b[A\r\u001b[32mTracking 436 paths...  74%|██████████████████████       |  ETA: 0:00:13\u001b[39m\u001b[K\r\n",
      "\u001b[34m  # paths tracked:                  323\u001b[39m\u001b[K\r\n",
      "\u001b[34m  # non-singular solutions (real):  9 (0)\u001b[39m\u001b[K\r\n",
      "\u001b[34m  # singular endpoints (real):      0 (0)\u001b[39m\u001b[K\r\n",
      "\u001b[34m  # total solutions (real):         9 (0)\u001b[39m\u001b[K\r\u001b[A\r\u001b[A\r\u001b[A\r\u001b[A"
     ]
    },
    {
     "name": "stdout",
     "output_type": "stream",
     "text": [
      "\n",
      "\n",
      "\n",
      "\n",
      "\r\u001b[K\u001b[A\r\u001b[K\u001b[A\r\u001b[K\u001b[A\r\u001b[K\u001b[A\r\u001b[32mTracking 436 paths...  75%|██████████████████████       |  ETA: 0:00:12\u001b[39m\u001b[K\r\n",
      "\u001b[34m  # paths tracked:                  328\u001b[39m\u001b[K\r\n",
      "\u001b[34m  # non-singular solutions (real):  9 (0)\u001b[39m\u001b[K\r\n",
      "\u001b[34m  # singular endpoints (real):      0 (0)\u001b[39m\u001b[K\r\n",
      "\u001b[34m  # total solutions (real):         9 (0)\u001b[39m\u001b[K\r\u001b[A\r\u001b[A\r\u001b[A\r\u001b[A"
     ]
    },
    {
     "name": "stdout",
     "output_type": "stream",
     "text": [
      "\n",
      "\n",
      "\n",
      "\n",
      "\r\u001b[K\u001b[A\r\u001b[K\u001b[A\r\u001b[K\u001b[A\r\u001b[K\u001b[A\r\u001b[32mTracking 436 paths...  76%|███████████████████████      |  ETA: 0:00:12\u001b[39m\u001b[K\r\n",
      "\u001b[34m  # paths tracked:                  333\u001b[39m\u001b[K\r\n",
      "\u001b[34m  # non-singular solutions (real):  9 (0)\u001b[39m\u001b[K\r\n",
      "\u001b[34m  # singular endpoints (real):      0 (0)\u001b[39m\u001b[K\r\n",
      "\u001b[34m  # total solutions (real):         9 (0)\u001b[39m\u001b[K\r\u001b[A\r\u001b[A\r\u001b[A\r\u001b[A"
     ]
    },
    {
     "name": "stdout",
     "output_type": "stream",
     "text": [
      "\n",
      "\n",
      "\n",
      "\n",
      "\r\u001b[K\u001b[A\r\u001b[K\u001b[A\r\u001b[K\u001b[A\r\u001b[K\u001b[A\r\u001b[32mTracking 436 paths...  78%|███████████████████████      |  ETA: 0:00:11\u001b[39m\u001b[K\r\n",
      "\u001b[34m  # paths tracked:                  338\u001b[39m\u001b[K\r\n",
      "\u001b[34m  # non-singular solutions (real):  9 (0)\u001b[39m\u001b[K\r\n",
      "\u001b[34m  # singular endpoints (real):      0 (0)\u001b[39m\u001b[K\r\n",
      "\u001b[34m  # total solutions (real):         9 (0)\u001b[39m\u001b[K\r\u001b[A\r\u001b[A\r\u001b[A\r\u001b[A"
     ]
    },
    {
     "name": "stdout",
     "output_type": "stream",
     "text": [
      "\n",
      "\n",
      "\n",
      "\n",
      "\r\u001b[K\u001b[A\r\u001b[K\u001b[A\r\u001b[K\u001b[A\r\u001b[K\u001b[A\r\u001b[32mTracking 436 paths...  79%|███████████████████████      |  ETA: 0:00:10\u001b[39m\u001b[K\r\n",
      "\u001b[34m  # paths tracked:                  343\u001b[39m\u001b[K\r\n",
      "\u001b[34m  # non-singular solutions (real):  10 (0)\u001b[39m\u001b[K\r\n",
      "\u001b[34m  # singular endpoints (real):      0 (0)\u001b[39m\u001b[K\r\n",
      "\u001b[34m  # total solutions (real):         10 (0)\u001b[39m\u001b[K\r\u001b[A\r\u001b[A\r\u001b[A\r\u001b[A"
     ]
    },
    {
     "name": "stdout",
     "output_type": "stream",
     "text": [
      "\n",
      "\n",
      "\n",
      "\n",
      "\r\u001b[K\u001b[A\r\u001b[K\u001b[A\r\u001b[K\u001b[A\r\u001b[K\u001b[A\r\u001b[32mTracking 436 paths...  80%|████████████████████████     |  ETA: 0:00:10\u001b[39m\u001b[K\r\n",
      "\u001b[34m  # paths tracked:                  348\u001b[39m\u001b[K\r\n",
      "\u001b[34m  # non-singular solutions (real):  10 (0)\u001b[39m\u001b[K\r\n",
      "\u001b[34m  # singular endpoints (real):      0 (0)\u001b[39m\u001b[K\r\n",
      "\u001b[34m  # total solutions (real):         10 (0)\u001b[39m\u001b[K\r\u001b[A\r\u001b[A\r\u001b[A\r\u001b[A"
     ]
    },
    {
     "name": "stdout",
     "output_type": "stream",
     "text": [
      "\n",
      "\n",
      "\n",
      "\n",
      "\r\u001b[K\u001b[A\r\u001b[K\u001b[A\r\u001b[K\u001b[A\r\u001b[K\u001b[A\r\u001b[32mTracking 436 paths...  81%|████████████████████████     |  ETA: 0:00:09\u001b[39m\u001b[K\r\n",
      "\u001b[34m  # paths tracked:                  353\u001b[39m\u001b[K\r\n",
      "\u001b[34m  # non-singular solutions (real):  10 (0)\u001b[39m\u001b[K\r\n",
      "\u001b[34m  # singular endpoints (real):      0 (0)\u001b[39m\u001b[K\r\n",
      "\u001b[34m  # total solutions (real):         10 (0)\u001b[39m\u001b[K\r\u001b[A\r\u001b[A\r\u001b[A\r\u001b[A"
     ]
    },
    {
     "name": "stdout",
     "output_type": "stream",
     "text": [
      "\n",
      "\n",
      "\n",
      "\n",
      "\r\u001b[K\u001b[A\r\u001b[K\u001b[A\r\u001b[K\u001b[A\r\u001b[K\u001b[A\r\u001b[32mTracking 436 paths...  82%|████████████████████████     |  ETA: 0:00:09\u001b[39m\u001b[K\r\n",
      "\u001b[34m  # paths tracked:                  357\u001b[39m\u001b[K\r\n",
      "\u001b[34m  # non-singular solutions (real):  10 (0)\u001b[39m\u001b[K\r\n",
      "\u001b[34m  # singular endpoints (real):      0 (0)\u001b[39m\u001b[K\r\n",
      "\u001b[34m  # total solutions (real):         10 (0)\u001b[39m\u001b[K\r\u001b[A\r\u001b[A\r\u001b[A\r\u001b[A"
     ]
    },
    {
     "name": "stdout",
     "output_type": "stream",
     "text": [
      "\n",
      "\n",
      "\n",
      "\n",
      "\r\u001b[K\u001b[A\r\u001b[K\u001b[A\r\u001b[K\u001b[A\r\u001b[K\u001b[A\r\u001b[32mTracking 436 paths...  83%|█████████████████████████    |  ETA: 0:00:08\u001b[39m\u001b[K\r\n",
      "\u001b[34m  # paths tracked:                  362\u001b[39m\u001b[K\r\n",
      "\u001b[34m  # non-singular solutions (real):  10 (0)\u001b[39m\u001b[K\r\n",
      "\u001b[34m  # singular endpoints (real):      0 (0)\u001b[39m\u001b[K\r\n",
      "\u001b[34m  # total solutions (real):         10 (0)\u001b[39m\u001b[K\r\u001b[A\r\u001b[A\r\u001b[A\r\u001b[A"
     ]
    },
    {
     "name": "stdout",
     "output_type": "stream",
     "text": [
      "\n",
      "\n",
      "\n",
      "\n",
      "\r\u001b[K\u001b[A\r\u001b[K\u001b[A\r\u001b[K\u001b[A\r\u001b[K\u001b[A\r\u001b[32mTracking 436 paths...  84%|█████████████████████████    |  ETA: 0:00:07\u001b[39m\u001b[K\r\n",
      "\u001b[34m  # paths tracked:                  367\u001b[39m\u001b[K\r\n",
      "\u001b[34m  # non-singular solutions (real):  10 (0)\u001b[39m\u001b[K\r\n",
      "\u001b[34m  # singular endpoints (real):      0 (0)\u001b[39m\u001b[K\r\n",
      "\u001b[34m  # total solutions (real):         10 (0)\u001b[39m\u001b[K\r\u001b[A\r\u001b[A\r\u001b[A\r\u001b[A"
     ]
    },
    {
     "name": "stdout",
     "output_type": "stream",
     "text": [
      "\n",
      "\n",
      "\n",
      "\n",
      "\r\u001b[K\u001b[A\r\u001b[K\u001b[A\r\u001b[K\u001b[A\r\u001b[K\u001b[A\r\u001b[32mTracking 436 paths...  85%|█████████████████████████    |  ETA: 0:00:07\u001b[39m\u001b[K\r\n",
      "\u001b[34m  # paths tracked:                  372\u001b[39m\u001b[K\r\n",
      "\u001b[34m  # non-singular solutions (real):  11 (0)\u001b[39m\u001b[K\r\n",
      "\u001b[34m  # singular endpoints (real):      0 (0)\u001b[39m\u001b[K\r\n",
      "\u001b[34m  # total solutions (real):         11 (0)\u001b[39m\u001b[K\r\u001b[A\r\u001b[A\r\u001b[A\r\u001b[A"
     ]
    },
    {
     "name": "stdout",
     "output_type": "stream",
     "text": [
      "\n",
      "\n",
      "\n",
      "\n",
      "\r\u001b[K\u001b[A\r\u001b[K\u001b[A\r\u001b[K\u001b[A\r\u001b[K\u001b[A\r\u001b[32mTracking 436 paths...  86%|██████████████████████████   |  ETA: 0:00:06\u001b[39m\u001b[K\r\n",
      "\u001b[34m  # paths tracked:                  377\u001b[39m\u001b[K\r\n",
      "\u001b[34m  # non-singular solutions (real):  11 (0)\u001b[39m\u001b[K\r\n",
      "\u001b[34m  # singular endpoints (real):      0 (0)\u001b[39m\u001b[K\r\n",
      "\u001b[34m  # total solutions (real):         11 (0)\u001b[39m\u001b[K\r\u001b[A\r\u001b[A\r\u001b[A\r\u001b[A"
     ]
    },
    {
     "name": "stdout",
     "output_type": "stream",
     "text": [
      "\n",
      "\n",
      "\n",
      "\n",
      "\r\u001b[K\u001b[A\r\u001b[K\u001b[A\r\u001b[K\u001b[A\r\u001b[K\u001b[A\r\u001b[32mTracking 436 paths...  88%|██████████████████████████   |  ETA: 0:00:06\u001b[39m\u001b[K\r\n",
      "\u001b[34m  # paths tracked:                  383\u001b[39m\u001b[K\r\n",
      "\u001b[34m  # non-singular solutions (real):  11 (0)\u001b[39m\u001b[K\r\n",
      "\u001b[34m  # singular endpoints (real):      0 (0)\u001b[39m\u001b[K\r\n",
      "\u001b[34m  # total solutions (real):         11 (0)\u001b[39m\u001b[K\r\u001b[A\r\u001b[A\r\u001b[A\r\u001b[A"
     ]
    },
    {
     "name": "stdout",
     "output_type": "stream",
     "text": [
      "\n",
      "\n",
      "\n",
      "\n",
      "\r\u001b[K\u001b[A\r\u001b[K\u001b[A\r\u001b[K\u001b[A\r\u001b[K\u001b[A\r\u001b[32mTracking 436 paths...  89%|██████████████████████████   |  ETA: 0:00:05\u001b[39m\u001b[K\r\n",
      "\u001b[34m  # paths tracked:                  388\u001b[39m\u001b[K\r\n",
      "\u001b[34m  # non-singular solutions (real):  11 (0)\u001b[39m\u001b[K\r\n",
      "\u001b[34m  # singular endpoints (real):      0 (0)\u001b[39m\u001b[K\r\n",
      "\u001b[34m  # total solutions (real):         11 (0)\u001b[39m\u001b[K\r\u001b[A\r\u001b[A\r\u001b[A\r\u001b[A"
     ]
    },
    {
     "name": "stdout",
     "output_type": "stream",
     "text": [
      "\n",
      "\n",
      "\n",
      "\n",
      "\r\u001b[K\u001b[A\r\u001b[K\u001b[A\r\u001b[K\u001b[A\r\u001b[K\u001b[A\r\u001b[32mTracking 436 paths...  91%|███████████████████████████  |  ETA: 0:00:04\u001b[39m\u001b[K\r\n",
      "\u001b[34m  # paths tracked:                  396\u001b[39m\u001b[K\r\n",
      "\u001b[34m  # non-singular solutions (real):  11 (0)\u001b[39m\u001b[K\r\n",
      "\u001b[34m  # singular endpoints (real):      0 (0)\u001b[39m\u001b[K\r\n",
      "\u001b[34m  # total solutions (real):         11 (0)\u001b[39m\u001b[K\r\u001b[A\r\u001b[A\r\u001b[A\r\u001b[A"
     ]
    },
    {
     "name": "stdout",
     "output_type": "stream",
     "text": [
      "\n",
      "\n",
      "\n",
      "\n",
      "\r\u001b[K\u001b[A\r\u001b[K\u001b[A\r\u001b[K\u001b[A\r\u001b[K\u001b[A\r\u001b[32mTracking 436 paths...  92%|███████████████████████████  |  ETA: 0:00:04\u001b[39m\u001b[K\r\n",
      "\u001b[34m  # paths tracked:                  401\u001b[39m\u001b[K\r\n",
      "\u001b[34m  # non-singular solutions (real):  11 (0)\u001b[39m\u001b[K\r\n",
      "\u001b[34m  # singular endpoints (real):      0 (0)\u001b[39m\u001b[K\r\n",
      "\u001b[34m  # total solutions (real):         11 (0)\u001b[39m\u001b[K\r\u001b[A\r\u001b[A\r\u001b[A\r\u001b[A"
     ]
    },
    {
     "name": "stdout",
     "output_type": "stream",
     "text": [
      "\n",
      "\n",
      "\n",
      "\n",
      "\r\u001b[K\u001b[A\r\u001b[K\u001b[A\r\u001b[K\u001b[A\r\u001b[K\u001b[A\r\u001b[32mTracking 436 paths...  94%|████████████████████████████ |  ETA: 0:00:03\u001b[39m\u001b[K\r\n",
      "\u001b[34m  # paths tracked:                  408\u001b[39m\u001b[K\r\n",
      "\u001b[34m  # non-singular solutions (real):  11 (0)\u001b[39m\u001b[K\r\n",
      "\u001b[34m  # singular endpoints (real):      0 (0)\u001b[39m\u001b[K\r\n",
      "\u001b[34m  # total solutions (real):         11 (0)\u001b[39m\u001b[K\r\u001b[A\r\u001b[A\r\u001b[A\r\u001b[A"
     ]
    },
    {
     "name": "stdout",
     "output_type": "stream",
     "text": [
      "\n",
      "\n",
      "\n",
      "\n",
      "\r\u001b[K\u001b[A\r\u001b[K\u001b[A\r\u001b[K\u001b[A\r\u001b[K\u001b[A\r\u001b[32mTracking 436 paths...  95%|████████████████████████████ |  ETA: 0:00:02\u001b[39m\u001b[K\r\n",
      "\u001b[34m  # paths tracked:                  413\u001b[39m\u001b[K\r\n",
      "\u001b[34m  # non-singular solutions (real):  12 (0)\u001b[39m\u001b[K\r\n",
      "\u001b[34m  # singular endpoints (real):      0 (0)\u001b[39m\u001b[K\r\n",
      "\u001b[34m  # total solutions (real):         12 (0)\u001b[39m\u001b[K\r\u001b[A\r\u001b[A\r\u001b[A\r\u001b[A"
     ]
    },
    {
     "name": "stdout",
     "output_type": "stream",
     "text": [
      "\n",
      "\n",
      "\n",
      "\n",
      "\r\u001b[K\u001b[A\r\u001b[K\u001b[A\r\u001b[K\u001b[A\r\u001b[K\u001b[A\r\u001b[32mTracking 436 paths...  96%|████████████████████████████ |  ETA: 0:00:02\u001b[39m\u001b[K\r\n",
      "\u001b[34m  # paths tracked:                  418\u001b[39m\u001b[K\r\n",
      "\u001b[34m  # non-singular solutions (real):  12 (0)\u001b[39m\u001b[K\r\n",
      "\u001b[34m  # singular endpoints (real):      0 (0)\u001b[39m\u001b[K\r\n",
      "\u001b[34m  # total solutions (real):         12 (0)\u001b[39m\u001b[K\r\u001b[A\r\u001b[A\r\u001b[A\r\u001b[A"
     ]
    },
    {
     "name": "stdout",
     "output_type": "stream",
     "text": [
      "\n",
      "\n",
      "\n",
      "\n",
      "\r\u001b[K\u001b[A\r\u001b[K\u001b[A\r\u001b[K\u001b[A\r\u001b[K\u001b[A\r\u001b[32mTracking 436 paths...  97%|█████████████████████████████|  ETA: 0:00:01\u001b[39m\u001b[K\r\n",
      "\u001b[34m  # paths tracked:                  424\u001b[39m\u001b[K\r\n",
      "\u001b[34m  # non-singular solutions (real):  12 (0)\u001b[39m\u001b[K\r\n",
      "\u001b[34m  # singular endpoints (real):      0 (0)\u001b[39m\u001b[K\r\n",
      "\u001b[34m  # total solutions (real):         12 (0)\u001b[39m\u001b[K\r\u001b[A\r\u001b[A\r\u001b[A\r\u001b[A"
     ]
    },
    {
     "name": "stdout",
     "output_type": "stream",
     "text": [
      "\n",
      "\n",
      "\n",
      "\n",
      "\r\u001b[K\u001b[A\r\u001b[K\u001b[A\r\u001b[K\u001b[A\r\u001b[K\u001b[A\r\u001b[32mTracking 436 paths...  99%|█████████████████████████████|  ETA: 0:00:01\u001b[39m\u001b[K\r\n",
      "\u001b[34m  # paths tracked:                  430\u001b[39m\u001b[K\r\n",
      "\u001b[34m  # non-singular solutions (real):  12 (0)\u001b[39m\u001b[K\r\n",
      "\u001b[34m  # singular endpoints (real):      0 (0)\u001b[39m\u001b[K\r\n",
      "\u001b[34m  # total solutions (real):         12 (0)\u001b[39m\u001b[K\r\u001b[A\r\u001b[A\r\u001b[A\r\u001b[A"
     ]
    },
    {
     "name": "stdout",
     "output_type": "stream",
     "text": [
      "\n",
      "\n",
      "\n",
      "\n",
      "\r\u001b[K\u001b[A\r\u001b[K\u001b[A\r\u001b[K\u001b[A\r\u001b[K\u001b[A\r\u001b[32mTracking 436 paths... 100%|█████████████████████████████|  ETA: 0:00:00\u001b[39m\u001b[K\r\n",
      "\u001b[34m  # paths tracked:                  435\u001b[39m\u001b[K\r\n",
      "\u001b[34m  # non-singular solutions (real):  12 (0)\u001b[39m\u001b[K\r\n",
      "\u001b[34m  # singular endpoints (real):      0 (0)\u001b[39m\u001b[K\r\n",
      "\u001b[34m  # total solutions (real):         12 (0)\u001b[39m\u001b[K\r\u001b[A\r\u001b[A\r\u001b[A\r\u001b[A"
     ]
    },
    {
     "name": "stdout",
     "output_type": "stream",
     "text": [
      "\n",
      "\n",
      "\n",
      "\n",
      "\r\u001b[K\u001b[A\r\u001b[K\u001b[A\r\u001b[K\u001b[A\r\u001b[K\u001b[A\r\u001b[32mTracking 436 paths... 100%|█████████████████████████████| Time: 0:00:43\u001b[39m\u001b[K\r\n",
      "\u001b[34m  # paths tracked:                  436\u001b[39m\u001b[K\r\n",
      "\u001b[34m  # non-singular solutions (real):  12 (0)\u001b[39m\u001b[K\r\n",
      "\u001b[34m  # singular endpoints (real):      0 (0)\u001b[39m\u001b[K\r\n",
      "\u001b[34m  # total solutions (real):         12 (0)\u001b[39m\u001b[K\n"
     ]
    },
    {
     "name": "stdout",
     "output_type": "stream",
     "text": [
      "degree = 12\n"
     ]
    }
   ],
   "source": [
    "dproj = degreeProjection(LE, [α[1:end-1];y], [s;t;M;m]);\n",
    "println(\"degree = $dproj\")"
   ]
  },
  {
   "cell_type": "markdown",
   "id": "2119d23b",
   "metadata": {},
   "source": [
    "One can check this is the projection "
   ]
  },
  {
   "cell_type": "code",
   "execution_count": 23,
   "id": "7a7d2c11",
   "metadata": {},
   "outputs": [
    {
     "name": "stdout",
     "output_type": "stream",
     "text": [
      "\r\u001b[32mSolutions found: 154    Time: 0:00:00\u001b[39m\u001b[K\r\n",
      "\u001b[34m  tracked loops (queued):            193 (115)\u001b[39m\u001b[K\r\n",
      "\u001b[34m  solutions in current (last) loop:  117 (36)\u001b[39m\u001b[K\r\n",
      "\u001b[34m  generated loops (no change):       2 (0)\u001b[39m\u001b[K\r\u001b[A\r\u001b[A\r\u001b[A"
     ]
    },
    {
     "name": "stdout",
     "output_type": "stream",
     "text": [
      "\n",
      "\n",
      "\n",
      "\r\u001b[K\u001b[A\r\u001b[K\u001b[A\r\u001b[K\u001b[A\r\u001b[32mSolutions found: 212    Time: 0:00:01\u001b[39m\u001b[K\r\n",
      "\u001b[34m  tracked loops (queued):            333 (91)\u001b[39m\u001b[K\r\n",
      "\u001b[34m  solutions in current (last) loop:  175 (36)\u001b[39m\u001b[K\r\n",
      "\u001b[34m  generated loops (no change):       2 (0)\u001b[39m\u001b[K\r\u001b[A\r\u001b[A\r\u001b[A"
     ]
    },
    {
     "name": "stdout",
     "output_type": "stream",
     "text": [
      "\n",
      "\n",
      "\n",
      "\r\u001b[K\u001b[A\r\u001b[K\u001b[A\r\u001b[K\u001b[A\r\u001b[32mSolutions found: 227    Time: 0:00:01\u001b[39m\u001b[K\r\n",
      "\u001b[34m  tracked loops (queued):            479 (202)\u001b[39m\u001b[K\r\n",
      "\u001b[34m  solutions in current (last) loop:  0 (190)\u001b[39m\u001b[K\r\n",
      "\u001b[34m  generated loops (no change):       3 (0)\u001b[39m\u001b[K\r\u001b[A\r\u001b[A\r\u001b[A"
     ]
    },
    {
     "name": "stdout",
     "output_type": "stream",
     "text": [
      "\n",
      "\n",
      "\n",
      "\r\u001b[K\u001b[A\r\u001b[K\u001b[A\r\u001b[K\u001b[A\r\u001b[32mSolutions found: 227    Time: 0:00:01\u001b[39m\u001b[K\r\n",
      "\u001b[34m  tracked loops (queued):            628 (53)\u001b[39m\u001b[K\r\n",
      "\u001b[34m  solutions in current (last) loop:  0 (190)\u001b[39m\u001b[K\r\n",
      "\u001b[34m  generated loops (no change):       3 (0)\u001b[39m\u001b[K\r\u001b[A\r\u001b[A\r\u001b[A"
     ]
    },
    {
     "name": "stdout",
     "output_type": "stream",
     "text": [
      "\n",
      "\n",
      "\n",
      "\r\u001b[K\u001b[A\r\u001b[K\u001b[A\r\u001b[K\u001b[A\r\u001b[32mSolutions found: 227    Time: 0:00:02\u001b[39m\u001b[K\r\n",
      "\u001b[34m  tracked loops (queued):            798 (110)\u001b[39m\u001b[K\r\n",
      "\u001b[34m  solutions in current (last) loop:  0 (0)\u001b[39m\u001b[K\r\n",
      "\u001b[34m  generated loops (no change):       4 (1)\u001b[39m\u001b[K\r\u001b[A\r\u001b[A\r\u001b[A"
     ]
    },
    {
     "name": "stdout",
     "output_type": "stream",
     "text": [
      "\n",
      "\n",
      "\n",
      "\r\u001b[K\u001b[A\r\u001b[K\u001b[A\r\u001b[K\u001b[A\r\u001b[32mSolutions found: 227    Time: 0:00:03\u001b[39m\u001b[K\r\n",
      "\u001b[34m  tracked loops (queued):            917 (217)\u001b[39m\u001b[K\r\n",
      "\u001b[34m  solutions in current (last) loop:  0 (0)\u001b[39m\u001b[K\r\n",
      "\u001b[34m  generated loops (no change):       5 (2)\u001b[39m\u001b[K\r\u001b[A\r\u001b[A\r\u001b[A"
     ]
    },
    {
     "name": "stdout",
     "output_type": "stream",
     "text": [
      "\n",
      "\n",
      "\n",
      "\r\u001b[K\u001b[A\r\u001b[K\u001b[A\r\u001b[K\u001b[A\r\u001b[32mSolutions found: 227    Time: 0:00:03\u001b[39m\u001b[K\r\n",
      "\u001b[34m  tracked loops (queued):            1049 (84)\u001b[39m\u001b[K\r\n",
      "\u001b[34m  solutions in current (last) loop:  0 (0)\u001b[39m\u001b[K\r\n",
      "\u001b[34m  generated loops (no change):       5 (2)\u001b[39m\u001b[K\r\u001b[A\r\u001b[A\r\u001b[A"
     ]
    },
    {
     "name": "stdout",
     "output_type": "stream",
     "text": [
      "\n",
      "\n",
      "\n",
      "\r\u001b[K\u001b[A\r\u001b[K\u001b[A\r\u001b[K\u001b[A\r\u001b[32mSolutions found: 227    Time: 0:00:04\u001b[39m\u001b[K\r\n",
      "\u001b[34m  tracked loops (queued):            1169 (191)\u001b[39m\u001b[K\r\n",
      "\u001b[34m  solutions in current (last) loop:  0 (0)\u001b[39m\u001b[K\r\n",
      "\u001b[34m  generated loops (no change):       6 (3)\u001b[39m\u001b[K\r\u001b[A\r\u001b[A\r\u001b[A"
     ]
    },
    {
     "name": "stdout",
     "output_type": "stream",
     "text": [
      "\n",
      "\n",
      "\n",
      "\r\u001b[K\u001b[A\r\u001b[K\u001b[A\r\u001b[K\u001b[A\r\u001b[32mSolutions found: 227    Time: 0:00:04\u001b[39m\u001b[K\r\n",
      "\u001b[34m  tracked loops (queued):            1295 (65)\u001b[39m\u001b[K\r\n",
      "\u001b[34m  solutions in current (last) loop:  0 (0)\u001b[39m\u001b[K\r\n",
      "\u001b[34m  generated loops (no change):       6 (3)\u001b[39m\u001b[K\r\u001b[A\r\u001b[A\r\u001b[A"
     ]
    },
    {
     "name": "stdout",
     "output_type": "stream",
     "text": [
      "\n",
      "\n",
      "\n",
      "\r\u001b[K\u001b[A\r\u001b[K\u001b[A\r\u001b[K\u001b[A\r\u001b[32mSolutions found: 227    Time: 0:00:04\u001b[39m\u001b[K\r\n",
      "\u001b[34m  tracked loops (queued):            1388 (199)\u001b[39m\u001b[K\r\n",
      "\u001b[34m  solutions in current (last) loop:  0 (0)\u001b[39m\u001b[K\r\n",
      "\u001b[34m  generated loops (no change):       7 (4)\u001b[39m\u001b[K\r\u001b[A\r\u001b[A\r\u001b[A"
     ]
    },
    {
     "name": "stdout",
     "output_type": "stream",
     "text": [
      "\n",
      "\n",
      "\n",
      "\r\u001b[K\u001b[A\r\u001b[K\u001b[A\r\u001b[K\u001b[A\r\u001b[32mSolutions found: 227    Time: 0:00:05\u001b[39m\u001b[K\r\n",
      "\u001b[34m  tracked loops (queued):            1539 (48)\u001b[39m\u001b[K\r\n",
      "\u001b[34m  solutions in current (last) loop:  0 (0)\u001b[39m\u001b[K\r\n",
      "\u001b[34m  generated loops (no change):       7 (4)\u001b[39m\u001b[K\r\u001b[A\r\u001b[A\r\u001b[A"
     ]
    },
    {
     "name": "stdout",
     "output_type": "stream",
     "text": [
      "\n",
      "\n",
      "\n",
      "\r\u001b[K\u001b[A\r\u001b[K\u001b[A\r\u001b[K\u001b[A\r\u001b[32mSolutions found: 227    Time: 0:00:05\u001b[39m\u001b[K\r\n",
      "\u001b[34m  tracked loops (queued):            1587 (0)\u001b[39m\u001b[K\r\n",
      "\u001b[34m  solutions in current (last) loop:  0 (0)\u001b[39m\u001b[K\r\n",
      "\u001b[34m  generated loops (no change):       7 (5)\u001b[39m\u001b[K\n"
     ]
    },
    {
     "name": "stdout",
     "output_type": "stream",
     "text": [
      "\r\u001b[32mCertifying 227 solutions...   1%|█                      |  ETA: 0:02:12\u001b[39m\u001b[K\r\n",
      "\u001b[34m  # processed:         2\u001b[39m\u001b[K\r\n",
      "\u001b[34m  # certified (real):  2 (0)\u001b[39m\u001b[K\r\n",
      "\u001b[34m  # distinct (real):   2 (0)\u001b[39m\u001b[K\r\u001b[A\r\u001b[A\r\u001b[A"
     ]
    },
    {
     "name": "stdout",
     "output_type": "stream",
     "text": [
      "\n",
      "\n",
      "\n",
      "\r\u001b[K\u001b[A\r\u001b[K\u001b[A\r\u001b[K\u001b[A\r\u001b[32mCertifying 227 solutions... 100%|███████████████████████| Time: 0:00:01\u001b[39m\u001b[K\r\n",
      "\u001b[34m  # processed:         227\u001b[39m\u001b[K\r\n",
      "\u001b[34m  # certified (real):  227 (0)\u001b[39m\u001b[K\r\n",
      "\u001b[34m  # distinct (real):   227 (0)\u001b[39m\u001b[K\n"
     ]
    },
    {
     "data": {
      "text/plain": [
       "227"
      ]
     },
     "metadata": {},
     "output_type": "display_data"
    }
   ],
   "source": [
    "Landau.χ(edges,nodes)"
   ]
  },
  {
   "cell_type": "markdown",
   "id": "c2f75139",
   "metadata": {},
   "source": [
    "Using PLD to look at bhabba dbox"
   ]
  },
  {
   "cell_type": "code",
   "execution_count": 2,
   "id": "af54de32",
   "metadata": {},
   "outputs": [
    {
     "name": "stderr",
     "output_type": "stream",
     "text": [
      "\u001b[32m\u001b[1m  Activating\u001b[22m\u001b[39m project at `~/.julia/environments/v1.10`\n"
     ]
    },
    {
     "name": "stdout",
     "output_type": "stream",
     "text": [
      "\u001b[32m\u001b[1mStatus\u001b[22m\u001b[39m `~/.julia/environments/v1.10/Project.toml`\n",
      "\u001b[33m⌅\u001b[39m \u001b[90m[c3fe647b] \u001b[39mAbstractAlgebra v0.35.3\n",
      "\u001b[33m⌅\u001b[39m \u001b[90m[fb37089c] \u001b[39mArblib v0.8.1\n",
      "  \u001b[90m[7d9fca2a] \u001b[39mArpack v0.5.4\n",
      "  \u001b[90m[01680d73] \u001b[39mGenericSVD v0.3.0\n",
      "  \u001b[90m[f213a82b] \u001b[39mHomotopyContinuation v2.9.3\n",
      "  \u001b[90m[7073ff75] \u001b[39mIJulia v1.24.2\n",
      "  \u001b[90m[51095b67] \u001b[39mOpenBLAS32 v0.1.0\n",
      "  \u001b[90m[f1435218] \u001b[39mOscar v0.14.0\n",
      "  \u001b[90m[37e2e46d] \u001b[39mLinearAlgebra\n",
      "  \u001b[90m[de0858da] \u001b[39mPrintf\n",
      "\u001b[36m\u001b[1mInfo\u001b[22m\u001b[39m Packages marked with \u001b[33m⌅\u001b[39m have new versions available but compatibility constraints restrict them from upgrading. To see why use `status --outdated`\n"
     ]
    }
   ],
   "source": [
    "push!(LOAD_PATH,string(pwd() * \"/src\"))\n",
    "using Pkg; Pkg.activate()\n",
    "Pkg.status()"
   ]
  },
  {
   "cell_type": "markdown",
   "id": "7c94d125",
   "metadata": {},
   "source": []
  },
  {
   "cell_type": "code",
   "execution_count": 3,
   "id": "082ef378",
   "metadata": {},
   "outputs": [
    {
     "name": "stderr",
     "output_type": "stream",
     "text": [
      "\u001b[32m\u001b[1mPrecompiling\u001b[22m\u001b[39m Oscar\n",
      "\u001b[32m  ✓ \u001b[39m\u001b[90mSingular_jll\u001b[39m\n",
      "\u001b[32m  ✓ \u001b[39m\u001b[90mlibsingular_julia_jll\u001b[39m\n",
      "\u001b[32m  ✓ \u001b[39m\u001b[90mSingular\u001b[39m\n",
      "\u001b[32m  ✓ \u001b[39m\u001b[90mLoopVectorization → SpecialFunctionsExt\u001b[39m\n",
      "\u001b[32m  ✓ \u001b[39m\u001b[90mLoopVectorization → ForwardDiffExt\u001b[39m\n",
      "\u001b[32m  ✓ \u001b[39m\u001b[90mPolymake\u001b[39m\n",
      "\u001b[32m  ✓ \u001b[39m\u001b[90mAlgebraicSolving\u001b[39m\n",
      "\u001b[32m  ✓ \u001b[39m\u001b[90mHecke\u001b[39m\n",
      "\u001b[32m  ✓ \u001b[39m\u001b[90mHecke → PolymakeExt\u001b[39m\n",
      "\u001b[32m  ✓ \u001b[39m\u001b[90mHecke → GAPExt\u001b[39m\n",
      "\u001b[32m  ✓ \u001b[39mOscar\n",
      "  11 dependencies successfully precompiled in 175 seconds. 123 already precompiled.\n",
      "\u001b[36m\u001b[1m[ \u001b[22m\u001b[39m\u001b[36m\u001b[1mInfo: \u001b[22m\u001b[39mPrecompiling Oscar [f1435218-dba5-11e9-1e4d-f1a5fab5fc13]\n"
     ]
    },
    {
     "name": "stdout",
     "output_type": "stream",
     "text": [
      " -----    -----    -----      -      -----   \n",
      "|     |  |     |  |     |    | |    |     |  \n",
      "|     |  |        |         |   |   |     |  \n",
      "|     |   -----   |        |     |  |-----   \n",
      "|     |        |  |        |-----|  |   |    \n",
      "|     |  |     |  |     |  |     |  |    |   \n",
      " -----    -----    -----   -     -  -     -  \n",
      "\n",
      "...combining (and extending) ANTIC, GAP, Polymake and Singular\n",
      "Version\u001b[32m 0.14.0 \u001b[39m... \n",
      " ... which comes with absolutely no warranty whatsoever\n",
      "Type: '?Oscar' for more information\n",
      "(c) 2019-2024 by The OSCAR Development Team\n"
     ]
    },
    {
     "name": "stderr",
     "output_type": "stream",
     "text": [
      "\u001b[32m\u001b[1mPrecompiling\u001b[22m\u001b[39m HomotopyContinuation\n",
      "\u001b[32m  ✓ \u001b[39m\u001b[90mSpecialFunctions → SpecialFunctionsChainRulesCoreExt\u001b[39m\n",
      "\u001b[32m  ✓ \u001b[39m\u001b[90mDualNumbers\u001b[39m\n",
      "\u001b[32m  ✓ \u001b[39m\u001b[90mHypergeometricFunctions\u001b[39m\n",
      "\u001b[32m  ✓ \u001b[39m\u001b[90mStatsFuns\u001b[39m\n",
      "\u001b[32m  ✓ \u001b[39m\u001b[90mForwardDiff\u001b[39m\n",
      "\u001b[32m  ✓ \u001b[39m\u001b[90mForwardDiff → ForwardDiffStaticArraysExt\u001b[39m\n",
      "\u001b[32m  ✓ \u001b[39m\u001b[90mStatsFuns → StatsFunsChainRulesCoreExt\u001b[39m\n",
      "\u001b[32m  ✓ \u001b[39m\u001b[90mNLSolversBase\u001b[39m\n",
      "\u001b[32m  ✓ \u001b[39m\u001b[90mLineSearches\u001b[39m\n",
      "\u001b[32m  ✓ \u001b[39m\u001b[90mDistributions\u001b[39m\n",
      "\u001b[32m  ✓ \u001b[39m\u001b[90mDistributions → DistributionsTestExt\u001b[39m\n",
      "\u001b[32m  ✓ \u001b[39m\u001b[90mDistributions → DistributionsChainRulesCoreExt\u001b[39m\n",
      "\u001b[32m  ✓ \u001b[39m\u001b[90mSimpleRandom\u001b[39m\n",
      "\u001b[32m  ✓ \u001b[39mArblib\n",
      "\u001b[32m  ✓ \u001b[39m\u001b[90mLoopVectorization → ForwardDiffExt\u001b[39m\n",
      "\u001b[32m  ✓ \u001b[39m\u001b[90mMathOptInterface\u001b[39m\n",
      "\u001b[32m  ✓ \u001b[39m\u001b[90mOptim\u001b[39m\n",
      "\u001b[32m  ✓ \u001b[39m\u001b[90mSimpleGraphs\u001b[39m\n",
      "\u001b[32m  ✓ \u001b[39mHomotopyContinuation\n",
      "  19 dependencies successfully precompiled in 79 seconds. 142 already precompiled.\n",
      "\u001b[36m\u001b[1m[ \u001b[22m\u001b[39m\u001b[36m\u001b[1mInfo: \u001b[22m\u001b[39mPrecompiling HomotopyContinuation [f213a82b-91d6-5c5d-acf7-10f1c761b327]\n",
      "\u001b[33m\u001b[1m┌ \u001b[22m\u001b[39m\u001b[33m\u001b[1mWarning: \u001b[22m\u001b[39mModule Arb_jll with build ID fafbfcfd-ece6-a551-0000-a254de2a7f7c is missing from the cache.\n",
      "\u001b[33m\u001b[1m│ \u001b[22m\u001b[39mThis may mean Arb_jll [d9960996-1013-53c9-9ba4-74a4155039c3] does not support precompilation but is imported by a module that does.\n",
      "\u001b[33m\u001b[1m└ \u001b[22m\u001b[39m\u001b[90m@ Base loading.jl:1942\u001b[39m\n",
      "\u001b[36m\u001b[1m[ \u001b[22m\u001b[39m\u001b[36m\u001b[1mInfo: \u001b[22m\u001b[39mSkipping precompilation since __precompile__(false). Importing HomotopyContinuation [f213a82b-91d6-5c5d-acf7-10f1c761b327].\n",
      "\u001b[36m\u001b[1m[ \u001b[22m\u001b[39m\u001b[36m\u001b[1mInfo: \u001b[22m\u001b[39mPrecompiling Arblib [fb37089c-8514-4489-9461-98f9c8763369]\n",
      "\u001b[33m\u001b[1m┌ \u001b[22m\u001b[39m\u001b[33m\u001b[1mWarning: \u001b[22m\u001b[39mModule Arb_jll with build ID fafbfcfd-ece6-a551-0000-a254de2a7f7c is missing from the cache.\n",
      "\u001b[33m\u001b[1m│ \u001b[22m\u001b[39mThis may mean Arb_jll [d9960996-1013-53c9-9ba4-74a4155039c3] does not support precompilation but is imported by a module that does.\n",
      "\u001b[33m\u001b[1m└ \u001b[22m\u001b[39m\u001b[90m@ Base loading.jl:1942\u001b[39m\n",
      "\u001b[36m\u001b[1m[ \u001b[22m\u001b[39m\u001b[36m\u001b[1mInfo: \u001b[22m\u001b[39mSkipping precompilation since __precompile__(false). Importing Arblib [fb37089c-8514-4489-9461-98f9c8763369].\n",
      "\u001b[36m\u001b[1m[ \u001b[22m\u001b[39m\u001b[36m\u001b[1mInfo: \u001b[22m\u001b[39mPrecompiling SpecialFunctionsChainRulesCoreExt [9eb7bdd4-e44c-55fc-b9cc-1a32cb715188]\n",
      "\u001b[33m\u001b[1m┌ \u001b[22m\u001b[39m\u001b[33m\u001b[1mWarning: \u001b[22m\u001b[39mModule SpecialFunctions with build ID fafbfcfd-5670-85b4-0000-a267b873fbd6 is missing from the cache.\n",
      "\u001b[33m\u001b[1m│ \u001b[22m\u001b[39mThis may mean SpecialFunctions [276daf66-3868-5448-9aa4-cd146d93841b] does not support precompilation but is imported by a module that does.\n",
      "\u001b[33m\u001b[1m└ \u001b[22m\u001b[39m\u001b[90m@ Base loading.jl:1942\u001b[39m\n",
      "\u001b[36m\u001b[1m[ \u001b[22m\u001b[39m\u001b[36m\u001b[1mInfo: \u001b[22m\u001b[39mSkipping precompilation since __precompile__(false). Importing SpecialFunctionsChainRulesCoreExt [9eb7bdd4-e44c-55fc-b9cc-1a32cb715188].\n",
      "\u001b[36m\u001b[1m[ \u001b[22m\u001b[39m\u001b[36m\u001b[1mInfo: \u001b[22m\u001b[39mPrecompiling FiniteDiffStaticArraysExt [75e56524-3a34-51de-85ea-03aa6eac4b64]\n",
      "\u001b[36m\u001b[1m[ \u001b[22m\u001b[39m\u001b[36m\u001b[1mInfo: \u001b[22m\u001b[39mPrecompiling SimpleGraphs [55797a34-41de-5266-9ec1-32ac4eb504d3]\n",
      "\u001b[33m\u001b[1m┌ \u001b[22m\u001b[39m\u001b[33m\u001b[1mWarning: \u001b[22m\u001b[39mModule SpecialFunctions with build ID fafbfcfd-5670-85b4-0000-a267b873fbd6 is missing from the cache.\n",
      "\u001b[33m\u001b[1m│ \u001b[22m\u001b[39mThis may mean SpecialFunctions [276daf66-3868-5448-9aa4-cd146d93841b] does not support precompilation but is imported by a module that does.\n",
      "\u001b[33m\u001b[1m└ \u001b[22m\u001b[39m\u001b[90m@ Base loading.jl:1942\u001b[39m\n",
      "\u001b[36m\u001b[1m[ \u001b[22m\u001b[39m\u001b[36m\u001b[1mInfo: \u001b[22m\u001b[39mSkipping precompilation since __precompile__(false). Importing SimpleGraphs [55797a34-41de-5266-9ec1-32ac4eb504d3].\n",
      "\u001b[36m\u001b[1m[ \u001b[22m\u001b[39m\u001b[36m\u001b[1mInfo: \u001b[22m\u001b[39mPrecompiling SimpleRandom [a6525b86-64cd-54fa-8f65-62fc48bdc0e8]\n",
      "\u001b[33m\u001b[1m┌ \u001b[22m\u001b[39m\u001b[33m\u001b[1mWarning: \u001b[22m\u001b[39mModule SpecialFunctions with build ID fafbfcfd-5670-85b4-0000-a267b873fbd6 is missing from the cache.\n",
      "\u001b[33m\u001b[1m│ \u001b[22m\u001b[39mThis may mean SpecialFunctions [276daf66-3868-5448-9aa4-cd146d93841b] does not support precompilation but is imported by a module that does.\n",
      "\u001b[33m\u001b[1m└ \u001b[22m\u001b[39m\u001b[90m@ Base loading.jl:1942\u001b[39m\n",
      "\u001b[36m\u001b[1m[ \u001b[22m\u001b[39m\u001b[36m\u001b[1mInfo: \u001b[22m\u001b[39mSkipping precompilation since __precompile__(false). Importing SimpleRandom [a6525b86-64cd-54fa-8f65-62fc48bdc0e8].\n",
      "\u001b[36m\u001b[1m[ \u001b[22m\u001b[39m\u001b[36m\u001b[1mInfo: \u001b[22m\u001b[39mPrecompiling Distributions [31c24e10-a181-5473-b8eb-7969acd0382f]\n",
      "\u001b[33m\u001b[1m┌ \u001b[22m\u001b[39m\u001b[33m\u001b[1mWarning: \u001b[22m\u001b[39mModule SpecialFunctions with build ID fafbfcfd-5670-85b4-0000-a267b873fbd6 is missing from the cache.\n",
      "\u001b[33m\u001b[1m│ \u001b[22m\u001b[39mThis may mean SpecialFunctions [276daf66-3868-5448-9aa4-cd146d93841b] does not support precompilation but is imported by a module that does.\n",
      "\u001b[33m\u001b[1m└ \u001b[22m\u001b[39m\u001b[90m@ Base loading.jl:1942\u001b[39m\n",
      "\u001b[36m\u001b[1m[ \u001b[22m\u001b[39m\u001b[36m\u001b[1mInfo: \u001b[22m\u001b[39mSkipping precompilation since __precompile__(false). Importing Distributions [31c24e10-a181-5473-b8eb-7969acd0382f].\n",
      "\u001b[36m\u001b[1m[ \u001b[22m\u001b[39m\u001b[36m\u001b[1mInfo: \u001b[22m\u001b[39mPrecompiling StatsFuns [4c63d2b9-4356-54db-8cca-17b64c39e42c]\n",
      "\u001b[33m\u001b[1m┌ \u001b[22m\u001b[39m\u001b[33m\u001b[1mWarning: \u001b[22m\u001b[39mModule SpecialFunctions with build ID fafbfcfd-5670-85b4-0000-a267b873fbd6 is missing from the cache.\n",
      "\u001b[33m\u001b[1m│ \u001b[22m\u001b[39mThis may mean SpecialFunctions [276daf66-3868-5448-9aa4-cd146d93841b] does not support precompilation but is imported by a module that does.\n",
      "\u001b[33m\u001b[1m└ \u001b[22m\u001b[39m\u001b[90m@ Base loading.jl:1942\u001b[39m\n",
      "\u001b[36m\u001b[1m[ \u001b[22m\u001b[39m\u001b[36m\u001b[1mInfo: \u001b[22m\u001b[39mSkipping precompilation since __precompile__(false). Importing StatsFuns [4c63d2b9-4356-54db-8cca-17b64c39e42c].\n",
      "\u001b[36m\u001b[1m[ \u001b[22m\u001b[39m\u001b[36m\u001b[1mInfo: \u001b[22m\u001b[39mPrecompiling HypergeometricFunctions [34004b35-14d8-5ef3-9330-4cdb6864b03a]\n",
      "\u001b[33m\u001b[1m┌ \u001b[22m\u001b[39m\u001b[33m\u001b[1mWarning: \u001b[22m\u001b[39mModule SpecialFunctions with build ID fafbfcfd-5670-85b4-0000-a267b873fbd6 is missing from the cache.\n",
      "\u001b[33m\u001b[1m│ \u001b[22m\u001b[39mThis may mean SpecialFunctions [276daf66-3868-5448-9aa4-cd146d93841b] does not support precompilation but is imported by a module that does.\n",
      "\u001b[33m\u001b[1m└ \u001b[22m\u001b[39m\u001b[90m@ Base loading.jl:1942\u001b[39m\n",
      "\u001b[36m\u001b[1m[ \u001b[22m\u001b[39m\u001b[36m\u001b[1mInfo: \u001b[22m\u001b[39mSkipping precompilation since __precompile__(false). Importing HypergeometricFunctions [34004b35-14d8-5ef3-9330-4cdb6864b03a].\n",
      "\u001b[36m\u001b[1m[ \u001b[22m\u001b[39m\u001b[36m\u001b[1mInfo: \u001b[22m\u001b[39mPrecompiling DualNumbers [fa6b7ba4-c1ee-5f82-b5fc-ecf0adba8f74]\n",
      "\u001b[33m\u001b[1m┌ \u001b[22m\u001b[39m\u001b[33m\u001b[1mWarning: \u001b[22m\u001b[39mModule SpecialFunctions with build ID fafbfcfd-5670-85b4-0000-a267b873fbd6 is missing from the cache.\n",
      "\u001b[33m\u001b[1m│ \u001b[22m\u001b[39mThis may mean SpecialFunctions [276daf66-3868-5448-9aa4-cd146d93841b] does not support precompilation but is imported by a module that does.\n",
      "\u001b[33m\u001b[1m└ \u001b[22m\u001b[39m\u001b[90m@ Base loading.jl:1942\u001b[39m\n",
      "\u001b[36m\u001b[1m[ \u001b[22m\u001b[39m\u001b[36m\u001b[1mInfo: \u001b[22m\u001b[39mSkipping precompilation since __precompile__(false). Importing DualNumbers [fa6b7ba4-c1ee-5f82-b5fc-ecf0adba8f74].\n",
      "\u001b[36m\u001b[1m[ \u001b[22m\u001b[39m\u001b[36m\u001b[1mInfo: \u001b[22m\u001b[39mPrecompiling StatsFunsChainRulesCoreExt [d41313fe-2684-5453-9fef-703f5fa397f4]\n",
      "\u001b[33m\u001b[1m┌ \u001b[22m\u001b[39m\u001b[33m\u001b[1mWarning: \u001b[22m\u001b[39mModule StatsFuns with build ID ffffffff-ffff-ffff-0000-a2ae629aaffe is missing from the cache.\n",
      "\u001b[33m\u001b[1m│ \u001b[22m\u001b[39mThis may mean StatsFuns [4c63d2b9-4356-54db-8cca-17b64c39e42c] does not support precompilation but is imported by a module that does.\n",
      "\u001b[33m\u001b[1m└ \u001b[22m\u001b[39m\u001b[90m@ Base loading.jl:1942\u001b[39m\n",
      "\u001b[36m\u001b[1m[ \u001b[22m\u001b[39m\u001b[36m\u001b[1mInfo: \u001b[22m\u001b[39mSkipping precompilation since __precompile__(false). Importing StatsFunsChainRulesCoreExt [d41313fe-2684-5453-9fef-703f5fa397f4].\n",
      "\u001b[36m\u001b[1m[ \u001b[22m\u001b[39m\u001b[36m\u001b[1mInfo: \u001b[22m\u001b[39mPrecompiling DistributionsTestExt [ffbe0ea5-a612-5ff7-aaf5-cac02eef3019]\n",
      "\u001b[33m\u001b[1m┌ \u001b[22m\u001b[39m\u001b[33m\u001b[1mWarning: \u001b[22m\u001b[39mModule Distributions with build ID ffffffff-ffff-ffff-0000-a2ae41210201 is missing from the cache.\n",
      "\u001b[33m\u001b[1m│ \u001b[22m\u001b[39mThis may mean Distributions [31c24e10-a181-5473-b8eb-7969acd0382f] does not support precompilation but is imported by a module that does.\n",
      "\u001b[33m\u001b[1m└ \u001b[22m\u001b[39m\u001b[90m@ Base loading.jl:1942\u001b[39m\n",
      "\u001b[36m\u001b[1m[ \u001b[22m\u001b[39m\u001b[36m\u001b[1mInfo: \u001b[22m\u001b[39mSkipping precompilation since __precompile__(false). Importing DistributionsTestExt [ffbe0ea5-a612-5ff7-aaf5-cac02eef3019].\n",
      "\u001b[36m\u001b[1m[ \u001b[22m\u001b[39m\u001b[36m\u001b[1mInfo: \u001b[22m\u001b[39mPrecompiling DistributionsChainRulesCoreExt [6db1f127-056a-568b-bd49-ae61d42389fa]\n",
      "\u001b[33m\u001b[1m┌ \u001b[22m\u001b[39m\u001b[33m\u001b[1mWarning: \u001b[22m\u001b[39mModule Distributions with build ID ffffffff-ffff-ffff-0000-a2ae41210201 is missing from the cache.\n",
      "\u001b[33m\u001b[1m│ \u001b[22m\u001b[39mThis may mean Distributions [31c24e10-a181-5473-b8eb-7969acd0382f] does not support precompilation but is imported by a module that does.\n",
      "\u001b[33m\u001b[1m└ \u001b[22m\u001b[39m\u001b[90m@ Base loading.jl:1942\u001b[39m\n",
      "\u001b[36m\u001b[1m[ \u001b[22m\u001b[39m\u001b[36m\u001b[1mInfo: \u001b[22m\u001b[39mSkipping precompilation since __precompile__(false). Importing DistributionsChainRulesCoreExt [6db1f127-056a-568b-bd49-ae61d42389fa].\n"
     ]
    }
   ],
   "source": [
    "using Oscar\n",
    "using HomotopyContinuation"
   ]
  },
  {
   "cell_type": "code",
   "execution_count": 45,
   "id": "ae13da23",
   "metadata": {},
   "outputs": [
    {
     "name": "stdout",
     "output_type": "stream",
     "text": [
      "edges: [[[1, 2], [2, 3], [3, 4], [4, 1]]]\n",
      "nodes: [[1, 2, 3, 4]]\n",
      "internal_masses: [[0, 0, 0, 0]]\n",
      "external_masses: Vector{Variable}[[m1, m2, m3, m4]]\n",
      "diagramNames: [\"Square\"]\n",
      "\u001b[34m------- codim = 0, 1 faces\u001b[39m\n",
      "\u001b[31mcodim: 0, face: 1/1, weights: [0, 0, 0, 0], discriminant: m1^2*m3 - m1*m2*m3 - m1*m2*m4 + m1*m2*s + m1*m3^2 - m1*m3*m4 - m1*m3*s - m1*m3*t + m1*m4*t - m1*s*t + m2^2*m4 - m2*m3*m4 + m2*m3*t + m2*m4^2 - m2*m4*s - m2*m4*t - m2*s*t + m3*m4*s - m3*s*t - m4*s*t + s^2*t + s*t^2\u001b[39m\n",
      "\u001b[33mNew discriminants after codim 0, face 1/1. The list is: m1^2*m3 - m1*m2*m3 - m1*m2*m4 + m1*m2*s + m1*m3^2 - m1*m3*m4 - m1*m3*s - m1*m3*t + m1*m4*t - m1*s*t + m2^2*m4 - m2*m3*m4 + m2*m3*t + m2*m4^2 - m2*m4*s - m2*m4*t - m2*s*t + m3*m4*s - m3*s*t - m4*s*t + s^2*t + s*t^2\u001b[39m\n",
      "\u001b[32mUnique discriminants after codim 0: m1^2*m3 - m1*m2*m3 - m1*m2*m4 + m1*m2*s + m1*m3^2 - m1*m3*m4 - m1*m3*s - m1*m3*t + m1*m4*t - m1*s*t + m2^2*m4 - m2*m3*m4 + m2*m3*t + m2*m4^2 - m2*m4*s - m2*m4*t - m2*s*t + m3*m4*s - m3*s*t - m4*s*t + s^2*t + s*t^2\u001b[39m\n"
     ]
    }
   ],
   "source": [
    "using PLD\n",
    "edges = [[[1,2],[2,3],[3,4],[4,1]]];\n",
    "nodes = [[1,2,3,4]];\n",
    "@var m1\n",
    "@var m2\n",
    "@var m3\n",
    "@var m4\n",
    "@var m5\n",
    "internal_masses = [[0,0,0,0]];\n",
    "external_masses = [[m1, m2, m3, m4]];\n",
    "diagramNames = [\"Square\"]\n",
    "test = \"num\"\n",
    "methodchoice = Symbol(test)\n",
    "\n",
    "println(\"edges: $edges\")\n",
    "println(\"nodes: $nodes\")\n",
    "println(\"internal_masses: $internal_masses\")\n",
    "println(\"external_masses: $external_masses\")\n",
    "println(\"diagramNames: $diagramNames\")\n",
    "\n",
    "# # Initialize empty arrays for outputs\n",
    "# PrincipleLandauDet = []\n",
    "# pars = []\n",
    "# vars = []\n",
    "# U = []\n",
    "# F = []\n",
    "\n",
    "# Assuming edges, nodes, internal_masses, external_masses, and diagramNames are defined\n",
    "\n",
    "for i in 1:length(edges)\n",
    "    PrincipleLandauDet_i, pars_i, vars_i, U_i, F_i = getPLD(edges[i], nodes[i], internal_masses=internal_masses[i], external_masses=external_masses[i], save_output=string(diagramNames[i], \".dat\"), codim_start = 0, face_start = 1, method = methodchoice)\n",
    "\n",
    "    # push!(PrincipleLandauDet, PrincipleLandauDet_i)\n",
    "    # push!(pars, pars_i)\n",
    "    # push!(vars, vars_i)\n",
    "    # push!(U, U_i)\n",
    "    # push!(F, F_i)\n",
    "\n",
    "    # Open and write to file\n",
    "    open(string(diagramNames[i], \".txt\"), \"w\") do file\n",
    "        write(file, string(diagramNames[i], \"\\n\\n\"))\n",
    "        write(file, \"edges: $(edges[i])\\n\")\n",
    "        write(file, \"internal_masses: $(internal_masses[i])\\n\")\n",
    "        write(file, \"external_masses: $(external_masses[i])\\n\\n\")\n",
    "        write(file, \"schwinger parameters: $(pars_i)\\n\")\n",
    "        write(file, \"kinematic variables: $(vars_i)\\n\\n\")\n",
    "        write(file, \"U: $(U_i)\\n\")\n",
    "        write(file, \"F: $(F_i)\\n\\n\")\n",
    "        write(file, \"discriminants: $(PrincipleLandauDet_i)\\n\")\n",
    "    end\n",
    "end\n"
   ]
  },
  {
   "cell_type": "code",
   "execution_count": 5,
   "id": "467dada1",
   "metadata": {},
   "outputs": [
    {
     "ename": "LoadError",
     "evalue": "UndefVarError: `int` not defined",
     "output_type": "error",
     "traceback": [
      "UndefVarError: `int` not defined",
      "",
      "Stacktrace:",
      " [1] top-level scope",
      "   @ In[5]:40"
     ]
    }
   ],
   "source": [
    "using PLD\n",
    "\n",
    "inputfile = \"PLDinputs.txt\";\n",
    "\n",
    "args = []\n",
    "\n",
    "function convertStringToArray(str)\n",
    "    # Parse the string as Julia code\n",
    "    parsed_array = Meta.parse(str)\n",
    "\n",
    "    # Evaluate the parsed expression\n",
    "    result_array = eval(parsed_array)\n",
    "\n",
    "    return result_array\n",
    "\n",
    "end\n",
    "\n",
    "open(inputfile) do file\n",
    "    for line in eachline(file)\n",
    "        push!(args, line)\n",
    "    end\n",
    "end\n",
    "\n",
    "edges = convertStringToArray(args[1]);\n",
    "nodes = convertStringToArray(args[2]);\n",
    "\n",
    "for i in 1:parse(Int,args[3])   \n",
    "    var_name = Symbol(\"m\", i)\n",
    "    @eval @var $var_name\n",
    "end\n",
    "\n",
    "internal_masses = convertStringToArray(args[4]);\n",
    "external_masses = convertStringToArray(args[5]);\n",
    "diagramNames = args[6];\n",
    "restart = false\n",
    "\n",
    "# If this is the restart, we expect 3 more inputs\n",
    "if length(args) == 9\n",
    "    codimStart = parse(Int, args[7]);\n",
    "    faceStart = parse(Int, args[8]);\n",
    "    method = Symbol(args[9]);\n",
    "    restart = true;\n",
    "end\n",
    "\n",
    "println(\"edges: $edges\")\n",
    "println(\"nodes: $nodes\")\n",
    "println(\"internal_masses: $internal_masses\")\n",
    "println(\"external_masses: $external_masses\")\n",
    "println(\"diagramNames: $diagramNames\")\n",
    "\n",
    "if restart == false\n",
    "    PrincipleLandauDet, pars, vars, U, F = getPLD(edges, nodes, internal_masses=internal_masses, external_masses=external_masses, save_output=string(diagramNames, \".dat\"))\n",
    "else\n",
    "    PrincipleLandauDet, pars, vars, U, F = getPLD(edges, nodes, internal_masses=internal_masses, external_masses=external_masses, save_output=string(diagramNames, \".dat\"), codim_start = codimStart, face_start = faceStart, method = method)\n",
    "end "
   ]
  }
 ],
 "metadata": {
  "kernelspec": {
   "display_name": "Julia 1.10.0",
   "language": "julia",
   "name": "julia-1.10"
  },
  "language_info": {
   "file_extension": ".jl",
   "mimetype": "application/julia",
   "name": "julia",
   "version": "1.10.0"
  }
 },
 "nbformat": 4,
 "nbformat_minor": 5
}
